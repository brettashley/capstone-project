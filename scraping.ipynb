{
 "cells": [
  {
   "cell_type": "code",
   "execution_count": 43,
   "metadata": {},
   "outputs": [],
   "source": [
    "import selenium\n",
    "from selenium.webdriver import Firefox, Chrome\n",
    "import time"
   ]
  },
  {
   "cell_type": "code",
   "execution_count": 3,
   "metadata": {},
   "outputs": [],
   "source": [
    "b = Firefox()"
   ]
  },
  {
   "cell_type": "code",
   "execution_count": 4,
   "metadata": {},
   "outputs": [],
   "source": [
    "# # = with id\n",
    "# . = with class"
   ]
  },
  {
   "cell_type": "code",
   "execution_count": 5,
   "metadata": {},
   "outputs": [],
   "source": [
    "sel = \"div#content div.divided-layout div.layout-container.leftContent div\""
   ]
  },
  {
   "cell_type": "code",
   "execution_count": 7,
   "metadata": {},
   "outputs": [],
   "source": [
    "b.get('https://www.whosampled.com/genre/Soul-Funk-Disco/')"
   ]
  },
  {
   "cell_type": "code",
   "execution_count": 11,
   "metadata": {},
   "outputs": [
    {
     "data": {
      "text/plain": [
       "selenium.common.exceptions.NoSuchElementException"
      ]
     },
     "execution_count": 11,
     "metadata": {},
     "output_type": "execute_result"
    }
   ],
   "source": [
    "selenium.common.exceptions.NoSuchElementException"
   ]
  },
  {
   "cell_type": "code",
   "execution_count": 12,
   "metadata": {},
   "outputs": [],
   "source": [
    "def accept_cookies():\n",
    "    try:\n",
    "        button = b.find_element_by_css_selector('button.qc-cmp-button')\n",
    "        button.click()\n",
    "    except selenium.common.exceptions.NoSuchElementException:\n",
    "        pass"
   ]
  },
  {
   "cell_type": "code",
   "execution_count": 14,
   "metadata": {},
   "outputs": [],
   "source": [
    "accept_cookies()"
   ]
  },
  {
   "cell_type": "code",
   "execution_count": 17,
   "metadata": {},
   "outputs": [],
   "source": [
    "desired_section = 'Most influential artists'"
   ]
  },
  {
   "cell_type": "code",
   "execution_count": 15,
   "metadata": {},
   "outputs": [],
   "source": [
    "sect_divs = b.find_elements_by_css_selector(sel)"
   ]
  },
  {
   "cell_type": "code",
   "execution_count": 19,
   "metadata": {},
   "outputs": [],
   "source": [
    "div = sect_divs[0]"
   ]
  },
  {
   "cell_type": "code",
   "execution_count": 21,
   "metadata": {},
   "outputs": [],
   "source": [
    "def find_desired_section(sect_divs, desired_section):\n",
    "    for i, div in enumerate(sect_divs):\n",
    "        if div.text.startswith(desired_section):\n",
    "            return sect_divs[i+1]\n",
    "            "
   ]
  },
  {
   "cell_type": "code",
   "execution_count": 47,
   "metadata": {},
   "outputs": [],
   "source": [
    "artists_section = find_desired_section(sect_divs, desired_section)"
   ]
  },
  {
   "cell_type": "code",
   "execution_count": 80,
   "metadata": {},
   "outputs": [],
   "source": [
    "def get_artist_urls(artist_section):\n",
    "    artist_tiles = artists_section.find_elements_by_css_selector('li')\n",
    "    artists = {}\n",
    "    for tile in artist_tiles:\n",
    "        tile.location_once_scrolled_into_view\n",
    "        time.sleep(2)\n",
    "        a = tile.find_element_by_css_selector('a')\n",
    "        artist_name = tile.text\n",
    "        yield {'name': artist_name,\n",
    "                'url': a.get_attribute('href')}"
   ]
  },
  {
   "cell_type": "code",
   "execution_count": 52,
   "metadata": {},
   "outputs": [
    {
     "data": {
      "text/plain": [
       "[{'name': 'James Brown', 'url': 'https://www.whosampled.com/James-Brown/'},\n",
       " {'name': 'Traditional Folk',\n",
       "  'url': 'https://www.whosampled.com/Traditional-Folk/'},\n",
       " {'name': 'Kool & the Gang',\n",
       "  'url': 'https://www.whosampled.com/Kool-%26-the-Gang/'},\n",
       " {'name': 'Funkadelic', 'url': 'https://www.whosampled.com/Funkadelic/'},\n",
       " {'name': 'The Beatles', 'url': 'https://www.whosampled.com/The-Beatles/'},\n",
       " {'name': 'Marvin Gaye', 'url': 'https://www.whosampled.com/Marvin-Gaye/'},\n",
       " {'name': 'Michael Jackson',\n",
       "  'url': 'https://www.whosampled.com/Michael-Jackson/'},\n",
       " {'name': 'Parliament', 'url': 'https://www.whosampled.com/Parliament/'},\n",
       " {'name': 'Prince', 'url': 'https://www.whosampled.com/Prince/'},\n",
       " {'name': \"The J.B.'s\", 'url': 'https://www.whosampled.com/The-J.B.%27s/'},\n",
       " {'name': 'Chic', 'url': 'https://www.whosampled.com/Chic/'},\n",
       " {'name': 'Lyn Collins', 'url': 'https://www.whosampled.com/Lyn-Collins/'},\n",
       " {'name': 'Isaac Hayes', 'url': 'https://www.whosampled.com/Isaac-Hayes/'},\n",
       " {'name': 'KC & the Sunshine Band',\n",
       "  'url': 'https://www.whosampled.com/KC-%26-the-Sunshine-Band/'},\n",
       " {'name': 'Stevie Wonder', 'url': 'https://www.whosampled.com/Stevie-Wonder/'},\n",
       " {'name': 'Earth, Wind & Fire',\n",
       "  'url': 'https://www.whosampled.com/Earth,-Wind-%26-Fire/'},\n",
       " {'name': 'Bee Gees', 'url': 'https://www.whosampled.com/Bee-Gees/'},\n",
       " {'name': 'George Benson', 'url': 'https://www.whosampled.com/George-Benson/'},\n",
       " {'name': 'Bobby Byrd', 'url': 'https://www.whosampled.com/Bobby-Byrd/'},\n",
       " {'name': 'Fred Wesley', 'url': 'https://www.whosampled.com/Fred-Wesley/'},\n",
       " {'name': 'The Temptations',\n",
       "  'url': 'https://www.whosampled.com/The-Temptations/'},\n",
       " {'name': 'Sly & the Family Stone',\n",
       "  'url': 'https://www.whosampled.com/Sly-%26-the-Family-Stone/'},\n",
       " {'name': 'Delegation', 'url': 'https://www.whosampled.com/Delegation/'},\n",
       " {'name': 'Dalida', 'url': 'https://www.whosampled.com/Dalida/'}]"
      ]
     },
     "execution_count": 52,
     "metadata": {},
     "output_type": "execute_result"
    }
   ],
   "source": [
    "list(get_artist_urls(artists_section))"
   ]
  },
  {
   "cell_type": "code",
   "execution_count": 53,
   "metadata": {},
   "outputs": [],
   "source": [
    "artist_urls = _"
   ]
  },
  {
   "cell_type": "code",
   "execution_count": 56,
   "metadata": {},
   "outputs": [],
   "source": [
    "# Setup MongoDB connection to MongoDB collection\n",
    "import pymongo\n",
    "mc = pymongo.MongoClient()\n",
    "db = mc['musicdb']\n",
    "artists = db['artists']"
   ]
  },
  {
   "cell_type": "code",
   "execution_count": 57,
   "metadata": {},
   "outputs": [
    {
     "data": {
      "text/plain": [
       "<pymongo.results.InsertManyResult at 0x1095cf4c8>"
      ]
     },
     "execution_count": 57,
     "metadata": {},
     "output_type": "execute_result"
    }
   ],
   "source": [
    "artists.insert_many(artist_urls)"
   ]
  },
  {
   "cell_type": "code",
   "execution_count": 62,
   "metadata": {},
   "outputs": [],
   "source": [
    "def insert_new_artists(artist_urls):\n",
    "    \"\"\"Insert artists only if their URLs aren't already in the DB\"\"\"\n",
    "    for artist in artist_urls:\n",
    "        if artists.count_documents({'url': artist['url']}) == 0:\n",
    "            artists.insert_one(artist)"
   ]
  },
  {
   "cell_type": "code",
   "execution_count": 63,
   "metadata": {
    "scrolled": true
   },
   "outputs": [
    {
     "data": {
      "text/plain": [
       "24"
      ]
     },
     "execution_count": 63,
     "metadata": {},
     "output_type": "execute_result"
    }
   ],
   "source": [
    "artists.count_documents({})"
   ]
  },
  {
   "cell_type": "code",
   "execution_count": 65,
   "metadata": {},
   "outputs": [],
   "source": [
    "insert_new_artists(artist_urls)"
   ]
  },
  {
   "cell_type": "code",
   "execution_count": 66,
   "metadata": {
    "scrolled": false
   },
   "outputs": [
    {
     "data": {
      "text/plain": [
       "24"
      ]
     },
     "execution_count": 66,
     "metadata": {},
     "output_type": "execute_result"
    }
   ],
   "source": [
    "artists.count_documents({})"
   ]
  },
  {
   "cell_type": "code",
   "execution_count": 67,
   "metadata": {},
   "outputs": [],
   "source": [
    "insert_new_artists([{'name': 'Test Artist', 'url': 'test'}])"
   ]
  },
  {
   "cell_type": "code",
   "execution_count": 68,
   "metadata": {
    "scrolled": false
   },
   "outputs": [
    {
     "data": {
      "text/plain": [
       "25"
      ]
     },
     "execution_count": 68,
     "metadata": {},
     "output_type": "execute_result"
    }
   ],
   "source": [
    "artists.count_documents({})"
   ]
  },
  {
   "cell_type": "code",
   "execution_count": 78,
   "metadata": {},
   "outputs": [],
   "source": [
    "# artists.delete({'url': 'test'})"
   ]
  },
  {
   "cell_type": "code",
   "execution_count": 79,
   "metadata": {},
   "outputs": [
    {
     "data": {
      "text/plain": [
       "[{'_id': ObjectId('5bf4a8f189fb7c3b11ce9cee'),\n",
       "  'name': 'James Brown',\n",
       "  'url': 'https://www.whosampled.com/James-Brown/'},\n",
       " {'_id': ObjectId('5bf4a8f189fb7c3b11ce9cef'),\n",
       "  'name': 'Traditional Folk',\n",
       "  'url': 'https://www.whosampled.com/Traditional-Folk/'},\n",
       " {'_id': ObjectId('5bf4a8f189fb7c3b11ce9cf0'),\n",
       "  'name': 'Kool & the Gang',\n",
       "  'url': 'https://www.whosampled.com/Kool-%26-the-Gang/'},\n",
       " {'_id': ObjectId('5bf4a8f189fb7c3b11ce9cf1'),\n",
       "  'name': 'Funkadelic',\n",
       "  'url': 'https://www.whosampled.com/Funkadelic/'},\n",
       " {'_id': ObjectId('5bf4a8f189fb7c3b11ce9cf2'),\n",
       "  'name': 'The Beatles',\n",
       "  'url': 'https://www.whosampled.com/The-Beatles/'},\n",
       " {'_id': ObjectId('5bf4a8f189fb7c3b11ce9cf3'),\n",
       "  'name': 'Marvin Gaye',\n",
       "  'url': 'https://www.whosampled.com/Marvin-Gaye/'},\n",
       " {'_id': ObjectId('5bf4a8f189fb7c3b11ce9cf4'),\n",
       "  'name': 'Michael Jackson',\n",
       "  'url': 'https://www.whosampled.com/Michael-Jackson/'},\n",
       " {'_id': ObjectId('5bf4a8f189fb7c3b11ce9cf5'),\n",
       "  'name': 'Parliament',\n",
       "  'url': 'https://www.whosampled.com/Parliament/'},\n",
       " {'_id': ObjectId('5bf4a8f189fb7c3b11ce9cf6'),\n",
       "  'name': 'Prince',\n",
       "  'url': 'https://www.whosampled.com/Prince/'},\n",
       " {'_id': ObjectId('5bf4a8f189fb7c3b11ce9cf7'),\n",
       "  'name': \"The J.B.'s\",\n",
       "  'url': 'https://www.whosampled.com/The-J.B.%27s/'},\n",
       " {'_id': ObjectId('5bf4a8f189fb7c3b11ce9cf8'),\n",
       "  'name': 'Chic',\n",
       "  'url': 'https://www.whosampled.com/Chic/'},\n",
       " {'_id': ObjectId('5bf4a8f189fb7c3b11ce9cf9'),\n",
       "  'name': 'Lyn Collins',\n",
       "  'url': 'https://www.whosampled.com/Lyn-Collins/'},\n",
       " {'_id': ObjectId('5bf4a8f189fb7c3b11ce9cfa'),\n",
       "  'name': 'Isaac Hayes',\n",
       "  'url': 'https://www.whosampled.com/Isaac-Hayes/'},\n",
       " {'_id': ObjectId('5bf4a8f189fb7c3b11ce9cfb'),\n",
       "  'name': 'KC & the Sunshine Band',\n",
       "  'url': 'https://www.whosampled.com/KC-%26-the-Sunshine-Band/'},\n",
       " {'_id': ObjectId('5bf4a8f189fb7c3b11ce9cfc'),\n",
       "  'name': 'Stevie Wonder',\n",
       "  'url': 'https://www.whosampled.com/Stevie-Wonder/'},\n",
       " {'_id': ObjectId('5bf4a8f189fb7c3b11ce9cfd'),\n",
       "  'name': 'Earth, Wind & Fire',\n",
       "  'url': 'https://www.whosampled.com/Earth,-Wind-%26-Fire/'},\n",
       " {'_id': ObjectId('5bf4a8f189fb7c3b11ce9cfe'),\n",
       "  'name': 'Bee Gees',\n",
       "  'url': 'https://www.whosampled.com/Bee-Gees/'},\n",
       " {'_id': ObjectId('5bf4a8f189fb7c3b11ce9cff'),\n",
       "  'name': 'George Benson',\n",
       "  'url': 'https://www.whosampled.com/George-Benson/'},\n",
       " {'_id': ObjectId('5bf4a8f189fb7c3b11ce9d00'),\n",
       "  'name': 'Bobby Byrd',\n",
       "  'url': 'https://www.whosampled.com/Bobby-Byrd/'},\n",
       " {'_id': ObjectId('5bf4a8f189fb7c3b11ce9d01'),\n",
       "  'name': 'Fred Wesley',\n",
       "  'url': 'https://www.whosampled.com/Fred-Wesley/'},\n",
       " {'_id': ObjectId('5bf4a8f189fb7c3b11ce9d02'),\n",
       "  'name': 'The Temptations',\n",
       "  'url': 'https://www.whosampled.com/The-Temptations/'},\n",
       " {'_id': ObjectId('5bf4a8f189fb7c3b11ce9d03'),\n",
       "  'name': 'Sly & the Family Stone',\n",
       "  'url': 'https://www.whosampled.com/Sly-%26-the-Family-Stone/'},\n",
       " {'_id': ObjectId('5bf4a8f189fb7c3b11ce9d04'),\n",
       "  'name': 'Delegation',\n",
       "  'url': 'https://www.whosampled.com/Delegation/'},\n",
       " {'_id': ObjectId('5bf4a8f189fb7c3b11ce9d05'),\n",
       "  'name': 'Dalida',\n",
       "  'url': 'https://www.whosampled.com/Dalida/'},\n",
       " {'_id': ObjectId('5bf4a9c189fb7c3b11ce9d06'),\n",
       "  'name': 'Test Artist',\n",
       "  'url': 'test'}]"
      ]
     },
     "execution_count": 79,
     "metadata": {},
     "output_type": "execute_result"
    }
   ],
   "source": [
    "list(artists.find())"
   ]
  },
  {
   "cell_type": "code",
   "execution_count": 70,
   "metadata": {},
   "outputs": [],
   "source": [
    "\n",
    "# insert many"
   ]
  },
  {
   "cell_type": "code",
   "execution_count": 71,
   "metadata": {},
   "outputs": [
    {
     "data": {
      "text/plain": [
       "''"
      ]
     },
     "execution_count": 71,
     "metadata": {},
     "output_type": "execute_result"
    }
   ],
   "source": [
    "tile.text"
   ]
  },
  {
   "cell_type": "code",
   "execution_count": 72,
   "metadata": {},
   "outputs": [],
   "source": [
    "# take each tile, scroll into view and get url for artist\n",
    "# wait between scrolling and getting txt\n",
    "artist_name = tile.text"
   ]
  },
  {
   "cell_type": "code",
   "execution_count": 73,
   "metadata": {},
   "outputs": [],
   "source": [
    "a = tile.find_element_by_css_selector('a')"
   ]
  },
  {
   "cell_type": "code",
   "execution_count": 74,
   "metadata": {},
   "outputs": [
    {
     "data": {
      "text/plain": [
       "'https://www.whosampled.com/Chic/'"
      ]
     },
     "execution_count": 74,
     "metadata": {},
     "output_type": "execute_result"
    }
   ],
   "source": [
    "a.get_attribute('href')"
   ]
  },
  {
   "cell_type": "code",
   "execution_count": 75,
   "metadata": {},
   "outputs": [],
   "source": [
    "artist_url = tile"
   ]
  },
  {
   "cell_type": "code",
   "execution_count": null,
   "metadata": {},
   "outputs": [],
   "source": [
    "{'us': ['185.205.204.58', '192.119.166.248'],\n",
    " 'uk': '192.119.166.31',\n",
    " ''}"
   ]
  }
 ],
 "metadata": {
  "kernelspec": {
   "display_name": "Python 3",
   "language": "python",
   "name": "python3"
  },
  "language_info": {
   "codemirror_mode": {
    "name": "ipython",
    "version": 3
   },
   "file_extension": ".py",
   "mimetype": "text/x-python",
   "name": "python",
   "nbconvert_exporter": "python",
   "pygments_lexer": "ipython3",
   "version": "3.6.4"
  }
 },
 "nbformat": 4,
 "nbformat_minor": 2
}
