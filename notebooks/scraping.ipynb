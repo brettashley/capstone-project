{
 "cells": [
  {
   "cell_type": "code",
   "execution_count": 1,
   "metadata": {},
   "outputs": [
    {
     "name": "stdout",
     "output_type": "stream",
     "text": [
      "The autoreload extension is already loaded. To reload it, use:\n",
      "  %reload_ext autoreload\n"
     ]
    }
   ],
   "source": [
    "import selenium\n",
    "from selenium.webdriver import Firefox, Chrome\n",
    "import time\n",
    "% load_ext autoreload\n",
    "% autoreload 2"
   ]
  },
  {
   "cell_type": "code",
   "execution_count": 2,
   "metadata": {},
   "outputs": [
    {
     "data": {
      "text/plain": [
       "'/Users/brettashley/galvanize/dsi/00-Capstone/mix-maker/notebooks'"
      ]
     },
     "execution_count": 2,
     "metadata": {},
     "output_type": "execute_result"
    }
   ],
   "source": [
    "pwd"
   ]
  },
  {
   "cell_type": "code",
   "execution_count": 3,
   "metadata": {},
   "outputs": [
    {
     "name": "stdout",
     "output_type": "stream",
     "text": [
      "/Users/brettashley/galvanize/dsi/00-Capstone/mix-maker/src\n"
     ]
    }
   ],
   "source": [
    "cd /Users/brettashley/galvanize/dsi/00-Capstone/mix-maker/src"
   ]
  },
  {
   "cell_type": "code",
   "execution_count": 4,
   "metadata": {},
   "outputs": [],
   "source": [
    "from scraper import Scraper"
   ]
  },
  {
   "cell_type": "code",
   "execution_count": 5,
   "metadata": {},
   "outputs": [],
   "source": [
    "s = Scraper()"
   ]
  },
  {
   "cell_type": "code",
   "execution_count": 5,
   "metadata": {},
   "outputs": [],
   "source": [
    "b = Firefox()"
   ]
  },
  {
   "cell_type": "code",
   "execution_count": 7,
   "metadata": {},
   "outputs": [],
   "source": [
    "# # = with id\n",
    "# . = with class"
   ]
  },
  {
   "cell_type": "code",
   "execution_count": 8,
   "metadata": {},
   "outputs": [],
   "source": [
    "sel = \"div#content div.divided-layout div.layout-container.leftContent div\""
   ]
  },
  {
   "cell_type": "code",
   "execution_count": 9,
   "metadata": {},
   "outputs": [],
   "source": [
    "b.get('https://www.whosampled.com/genre/Soul-Funk-Disco/')"
   ]
  },
  {
   "cell_type": "code",
   "execution_count": 10,
   "metadata": {},
   "outputs": [
    {
     "data": {
      "text/plain": [
       "selenium.common.exceptions.NoSuchElementException"
      ]
     },
     "execution_count": 10,
     "metadata": {},
     "output_type": "execute_result"
    }
   ],
   "source": [
    "selenium.common.exceptions.NoSuchElementException"
   ]
  },
  {
   "cell_type": "code",
   "execution_count": 11,
   "metadata": {},
   "outputs": [],
   "source": [
    "def accept_cookies():\n",
    "    try:\n",
    "        button = b.find_element_by_css_selector('button.qc-cmp-button')\n",
    "        button.click()\n",
    "    except selenium.common.exceptions.NoSuchElementException:\n",
    "        pass"
   ]
  },
  {
   "cell_type": "code",
   "execution_count": 12,
   "metadata": {},
   "outputs": [],
   "source": [
    "accept_cookies()"
   ]
  },
  {
   "cell_type": "code",
   "execution_count": 13,
   "metadata": {},
   "outputs": [],
   "source": [
    "desired_section = 'Most influential artists'"
   ]
  },
  {
   "cell_type": "code",
   "execution_count": 14,
   "metadata": {},
   "outputs": [],
   "source": [
    "sect_divs = b.find_elements_by_css_selector(sel)"
   ]
  },
  {
   "cell_type": "code",
   "execution_count": 15,
   "metadata": {},
   "outputs": [],
   "source": [
    "div = sect_divs[0]"
   ]
  },
  {
   "cell_type": "code",
   "execution_count": 16,
   "metadata": {},
   "outputs": [],
   "source": [
    "def find_desired_section(sect_divs, desired_section):\n",
    "    for i, div in enumerate(sect_divs):\n",
    "        if div.text.startswith(desired_section):\n",
    "            return sect_divs[i+1]\n",
    "            "
   ]
  },
  {
   "cell_type": "code",
   "execution_count": 17,
   "metadata": {},
   "outputs": [],
   "source": [
    "artists_section = find_desired_section(sect_divs, desired_section)"
   ]
  },
  {
   "cell_type": "code",
   "execution_count": 18,
   "metadata": {},
   "outputs": [],
   "source": [
    "def get_artist_urls(artist_section):\n",
    "    artist_tiles = artists_section.find_elements_by_css_selector('li')\n",
    "    artists = {}\n",
    "    for tile in artist_tiles:\n",
    "        tile.location_once_scrolled_into_view\n",
    "        time.sleep(2)\n",
    "        a = tile.find_element_by_css_selector('a')\n",
    "        artist_name = tile.text\n",
    "        yield {'name': artist_name,\n",
    "                'url': a.get_attribute('href')}"
   ]
  },
  {
   "cell_type": "code",
   "execution_count": 44,
   "metadata": {},
   "outputs": [
    {
     "ename": "StaleElementReferenceException",
     "evalue": "Message: The element reference of [object String] \"df2b90de-a6bc-dd4e-a7d3-6682cc3fd3b3\" is stale; either the element is no longer attached to the DOM, it is not in the current frame context, or the document has been refreshed\n",
     "output_type": "error",
     "traceback": [
      "\u001b[0;31m---------------------------------------------------------------------------\u001b[0m",
      "\u001b[0;31mStaleElementReferenceException\u001b[0m            Traceback (most recent call last)",
      "\u001b[0;32m<ipython-input-44-4cdb081849b8>\u001b[0m in \u001b[0;36m<module>\u001b[0;34m()\u001b[0m\n\u001b[0;32m----> 1\u001b[0;31m \u001b[0martist_urls\u001b[0m \u001b[0;34m=\u001b[0m \u001b[0mlist\u001b[0m\u001b[0;34m(\u001b[0m\u001b[0mget_artist_urls\u001b[0m\u001b[0;34m(\u001b[0m\u001b[0martists_section\u001b[0m\u001b[0;34m)\u001b[0m\u001b[0;34m)\u001b[0m\u001b[0;34m\u001b[0m\u001b[0m\n\u001b[0m",
      "\u001b[0;32m<ipython-input-18-e2b94cd9a8e9>\u001b[0m in \u001b[0;36mget_artist_urls\u001b[0;34m(artist_section)\u001b[0m\n\u001b[1;32m      1\u001b[0m \u001b[0;32mdef\u001b[0m \u001b[0mget_artist_urls\u001b[0m\u001b[0;34m(\u001b[0m\u001b[0martist_section\u001b[0m\u001b[0;34m)\u001b[0m\u001b[0;34m:\u001b[0m\u001b[0;34m\u001b[0m\u001b[0m\n\u001b[0;32m----> 2\u001b[0;31m     \u001b[0martist_tiles\u001b[0m \u001b[0;34m=\u001b[0m \u001b[0martists_section\u001b[0m\u001b[0;34m.\u001b[0m\u001b[0mfind_elements_by_css_selector\u001b[0m\u001b[0;34m(\u001b[0m\u001b[0;34m'li'\u001b[0m\u001b[0;34m)\u001b[0m\u001b[0;34m\u001b[0m\u001b[0m\n\u001b[0m\u001b[1;32m      3\u001b[0m     \u001b[0martists\u001b[0m \u001b[0;34m=\u001b[0m \u001b[0;34m{\u001b[0m\u001b[0;34m}\u001b[0m\u001b[0;34m\u001b[0m\u001b[0m\n\u001b[1;32m      4\u001b[0m     \u001b[0;32mfor\u001b[0m \u001b[0mtile\u001b[0m \u001b[0;32min\u001b[0m \u001b[0martist_tiles\u001b[0m\u001b[0;34m:\u001b[0m\u001b[0;34m\u001b[0m\u001b[0m\n\u001b[1;32m      5\u001b[0m         \u001b[0mtile\u001b[0m\u001b[0;34m.\u001b[0m\u001b[0mlocation_once_scrolled_into_view\u001b[0m\u001b[0;34m\u001b[0m\u001b[0m\n",
      "\u001b[0;32m/anaconda3/lib/python3.6/site-packages/selenium/webdriver/remote/webelement.py\u001b[0m in \u001b[0;36mfind_elements_by_css_selector\u001b[0;34m(self, css_selector)\u001b[0m\n\u001b[1;32m    443\u001b[0m             \u001b[0melements\u001b[0m \u001b[0;34m=\u001b[0m \u001b[0melement\u001b[0m\u001b[0;34m.\u001b[0m\u001b[0mfind_elements_by_css_selector\u001b[0m\u001b[0;34m(\u001b[0m\u001b[0;34m'.foo'\u001b[0m\u001b[0;34m)\u001b[0m\u001b[0;34m\u001b[0m\u001b[0m\n\u001b[1;32m    444\u001b[0m         \"\"\"\n\u001b[0;32m--> 445\u001b[0;31m         \u001b[0;32mreturn\u001b[0m \u001b[0mself\u001b[0m\u001b[0;34m.\u001b[0m\u001b[0mfind_elements\u001b[0m\u001b[0;34m(\u001b[0m\u001b[0mby\u001b[0m\u001b[0;34m=\u001b[0m\u001b[0mBy\u001b[0m\u001b[0;34m.\u001b[0m\u001b[0mCSS_SELECTOR\u001b[0m\u001b[0;34m,\u001b[0m \u001b[0mvalue\u001b[0m\u001b[0;34m=\u001b[0m\u001b[0mcss_selector\u001b[0m\u001b[0;34m)\u001b[0m\u001b[0;34m\u001b[0m\u001b[0m\n\u001b[0m\u001b[1;32m    446\u001b[0m \u001b[0;34m\u001b[0m\u001b[0m\n\u001b[1;32m    447\u001b[0m     \u001b[0;32mdef\u001b[0m \u001b[0msend_keys\u001b[0m\u001b[0;34m(\u001b[0m\u001b[0mself\u001b[0m\u001b[0;34m,\u001b[0m \u001b[0;34m*\u001b[0m\u001b[0mvalue\u001b[0m\u001b[0;34m)\u001b[0m\u001b[0;34m:\u001b[0m\u001b[0;34m\u001b[0m\u001b[0m\n",
      "\u001b[0;32m/anaconda3/lib/python3.6/site-packages/selenium/webdriver/remote/webelement.py\u001b[0m in \u001b[0;36mfind_elements\u001b[0;34m(self, by, value)\u001b[0m\n\u001b[1;32m    683\u001b[0m \u001b[0;34m\u001b[0m\u001b[0m\n\u001b[1;32m    684\u001b[0m         return self._execute(Command.FIND_CHILD_ELEMENTS,\n\u001b[0;32m--> 685\u001b[0;31m                              {\"using\": by, \"value\": value})['value']\n\u001b[0m\u001b[1;32m    686\u001b[0m \u001b[0;34m\u001b[0m\u001b[0m\n\u001b[1;32m    687\u001b[0m     \u001b[0;32mdef\u001b[0m \u001b[0m__hash__\u001b[0m\u001b[0;34m(\u001b[0m\u001b[0mself\u001b[0m\u001b[0;34m)\u001b[0m\u001b[0;34m:\u001b[0m\u001b[0;34m\u001b[0m\u001b[0m\n",
      "\u001b[0;32m/anaconda3/lib/python3.6/site-packages/selenium/webdriver/remote/webelement.py\u001b[0m in \u001b[0;36m_execute\u001b[0;34m(self, command, params)\u001b[0m\n\u001b[1;32m    631\u001b[0m             \u001b[0mparams\u001b[0m \u001b[0;34m=\u001b[0m \u001b[0;34m{\u001b[0m\u001b[0;34m}\u001b[0m\u001b[0;34m\u001b[0m\u001b[0m\n\u001b[1;32m    632\u001b[0m         \u001b[0mparams\u001b[0m\u001b[0;34m[\u001b[0m\u001b[0;34m'id'\u001b[0m\u001b[0;34m]\u001b[0m \u001b[0;34m=\u001b[0m \u001b[0mself\u001b[0m\u001b[0;34m.\u001b[0m\u001b[0m_id\u001b[0m\u001b[0;34m\u001b[0m\u001b[0m\n\u001b[0;32m--> 633\u001b[0;31m         \u001b[0;32mreturn\u001b[0m \u001b[0mself\u001b[0m\u001b[0;34m.\u001b[0m\u001b[0m_parent\u001b[0m\u001b[0;34m.\u001b[0m\u001b[0mexecute\u001b[0m\u001b[0;34m(\u001b[0m\u001b[0mcommand\u001b[0m\u001b[0;34m,\u001b[0m \u001b[0mparams\u001b[0m\u001b[0;34m)\u001b[0m\u001b[0;34m\u001b[0m\u001b[0m\n\u001b[0m\u001b[1;32m    634\u001b[0m \u001b[0;34m\u001b[0m\u001b[0m\n\u001b[1;32m    635\u001b[0m     \u001b[0;32mdef\u001b[0m \u001b[0mfind_element\u001b[0m\u001b[0;34m(\u001b[0m\u001b[0mself\u001b[0m\u001b[0;34m,\u001b[0m \u001b[0mby\u001b[0m\u001b[0;34m=\u001b[0m\u001b[0mBy\u001b[0m\u001b[0;34m.\u001b[0m\u001b[0mID\u001b[0m\u001b[0;34m,\u001b[0m \u001b[0mvalue\u001b[0m\u001b[0;34m=\u001b[0m\u001b[0;32mNone\u001b[0m\u001b[0;34m)\u001b[0m\u001b[0;34m:\u001b[0m\u001b[0;34m\u001b[0m\u001b[0m\n",
      "\u001b[0;32m/anaconda3/lib/python3.6/site-packages/selenium/webdriver/remote/webdriver.py\u001b[0m in \u001b[0;36mexecute\u001b[0;34m(self, driver_command, params)\u001b[0m\n\u001b[1;32m    319\u001b[0m         \u001b[0mresponse\u001b[0m \u001b[0;34m=\u001b[0m \u001b[0mself\u001b[0m\u001b[0;34m.\u001b[0m\u001b[0mcommand_executor\u001b[0m\u001b[0;34m.\u001b[0m\u001b[0mexecute\u001b[0m\u001b[0;34m(\u001b[0m\u001b[0mdriver_command\u001b[0m\u001b[0;34m,\u001b[0m \u001b[0mparams\u001b[0m\u001b[0;34m)\u001b[0m\u001b[0;34m\u001b[0m\u001b[0m\n\u001b[1;32m    320\u001b[0m         \u001b[0;32mif\u001b[0m \u001b[0mresponse\u001b[0m\u001b[0;34m:\u001b[0m\u001b[0;34m\u001b[0m\u001b[0m\n\u001b[0;32m--> 321\u001b[0;31m             \u001b[0mself\u001b[0m\u001b[0;34m.\u001b[0m\u001b[0merror_handler\u001b[0m\u001b[0;34m.\u001b[0m\u001b[0mcheck_response\u001b[0m\u001b[0;34m(\u001b[0m\u001b[0mresponse\u001b[0m\u001b[0;34m)\u001b[0m\u001b[0;34m\u001b[0m\u001b[0m\n\u001b[0m\u001b[1;32m    322\u001b[0m             response['value'] = self._unwrap_value(\n\u001b[1;32m    323\u001b[0m                 response.get('value', None))\n",
      "\u001b[0;32m/anaconda3/lib/python3.6/site-packages/selenium/webdriver/remote/errorhandler.py\u001b[0m in \u001b[0;36mcheck_response\u001b[0;34m(self, response)\u001b[0m\n\u001b[1;32m    240\u001b[0m                 \u001b[0malert_text\u001b[0m \u001b[0;34m=\u001b[0m \u001b[0mvalue\u001b[0m\u001b[0;34m[\u001b[0m\u001b[0;34m'alert'\u001b[0m\u001b[0;34m]\u001b[0m\u001b[0;34m.\u001b[0m\u001b[0mget\u001b[0m\u001b[0;34m(\u001b[0m\u001b[0;34m'text'\u001b[0m\u001b[0;34m)\u001b[0m\u001b[0;34m\u001b[0m\u001b[0m\n\u001b[1;32m    241\u001b[0m             \u001b[0;32mraise\u001b[0m \u001b[0mexception_class\u001b[0m\u001b[0;34m(\u001b[0m\u001b[0mmessage\u001b[0m\u001b[0;34m,\u001b[0m \u001b[0mscreen\u001b[0m\u001b[0;34m,\u001b[0m \u001b[0mstacktrace\u001b[0m\u001b[0;34m,\u001b[0m \u001b[0malert_text\u001b[0m\u001b[0;34m)\u001b[0m\u001b[0;34m\u001b[0m\u001b[0m\n\u001b[0;32m--> 242\u001b[0;31m         \u001b[0;32mraise\u001b[0m \u001b[0mexception_class\u001b[0m\u001b[0;34m(\u001b[0m\u001b[0mmessage\u001b[0m\u001b[0;34m,\u001b[0m \u001b[0mscreen\u001b[0m\u001b[0;34m,\u001b[0m \u001b[0mstacktrace\u001b[0m\u001b[0;34m)\u001b[0m\u001b[0;34m\u001b[0m\u001b[0m\n\u001b[0m\u001b[1;32m    243\u001b[0m \u001b[0;34m\u001b[0m\u001b[0m\n\u001b[1;32m    244\u001b[0m     \u001b[0;32mdef\u001b[0m \u001b[0m_value_or_default\u001b[0m\u001b[0;34m(\u001b[0m\u001b[0mself\u001b[0m\u001b[0;34m,\u001b[0m \u001b[0mobj\u001b[0m\u001b[0;34m,\u001b[0m \u001b[0mkey\u001b[0m\u001b[0;34m,\u001b[0m \u001b[0mdefault\u001b[0m\u001b[0;34m)\u001b[0m\u001b[0;34m:\u001b[0m\u001b[0;34m\u001b[0m\u001b[0m\n",
      "\u001b[0;31mStaleElementReferenceException\u001b[0m: Message: The element reference of [object String] \"df2b90de-a6bc-dd4e-a7d3-6682cc3fd3b3\" is stale; either the element is no longer attached to the DOM, it is not in the current frame context, or the document has been refreshed\n"
     ]
    }
   ],
   "source": [
    "artist_urls = list(get_artist_urls(artists_section))"
   ]
  },
  {
   "cell_type": "code",
   "execution_count": 24,
   "metadata": {},
   "outputs": [
    {
     "data": {
      "text/plain": [
       "[{'_id': ObjectId('5bfafe0689fb7c84aef03fa8'),\n",
       "  'name': 'James Brown',\n",
       "  'url': 'https://www.whosampled.com/James-Brown/'},\n",
       " {'_id': ObjectId('5bfafe0689fb7c84aef03fa9'),\n",
       "  'name': 'Traditional Folk',\n",
       "  'url': 'https://www.whosampled.com/Traditional-Folk/'},\n",
       " {'_id': ObjectId('5bfafe0689fb7c84aef03faa'),\n",
       "  'name': 'Kool & the Gang',\n",
       "  'url': 'https://www.whosampled.com/Kool-%26-the-Gang/'},\n",
       " {'_id': ObjectId('5bfafe0689fb7c84aef03fab'),\n",
       "  'name': 'Funkadelic',\n",
       "  'url': 'https://www.whosampled.com/Funkadelic/'},\n",
       " {'_id': ObjectId('5bfafe0689fb7c84aef03fac'),\n",
       "  'name': 'The Beatles',\n",
       "  'url': 'https://www.whosampled.com/The-Beatles/'},\n",
       " {'_id': ObjectId('5bfafe0689fb7c84aef03fad'),\n",
       "  'name': 'Marvin Gaye',\n",
       "  'url': 'https://www.whosampled.com/Marvin-Gaye/'},\n",
       " {'_id': ObjectId('5bfafe0689fb7c84aef03fae'),\n",
       "  'name': 'Michael Jackson',\n",
       "  'url': 'https://www.whosampled.com/Michael-Jackson/'},\n",
       " {'_id': ObjectId('5bfafe0689fb7c84aef03faf'),\n",
       "  'name': 'Parliament',\n",
       "  'url': 'https://www.whosampled.com/Parliament/'},\n",
       " {'_id': ObjectId('5bfafe0689fb7c84aef03fb0'),\n",
       "  'name': 'Prince',\n",
       "  'url': 'https://www.whosampled.com/Prince/'},\n",
       " {'_id': ObjectId('5bfafe0689fb7c84aef03fb1'),\n",
       "  'name': \"The J.B.'s\",\n",
       "  'url': 'https://www.whosampled.com/The-J.B.%27s/'},\n",
       " {'_id': ObjectId('5bfafe0689fb7c84aef03fb2'),\n",
       "  'name': 'Chic',\n",
       "  'url': 'https://www.whosampled.com/Chic/'},\n",
       " {'_id': ObjectId('5bfafe0689fb7c84aef03fb3'),\n",
       "  'name': 'Lyn Collins',\n",
       "  'url': 'https://www.whosampled.com/Lyn-Collins/'},\n",
       " {'_id': ObjectId('5bfafe0689fb7c84aef03fb4'),\n",
       "  'name': 'Isaac Hayes',\n",
       "  'url': 'https://www.whosampled.com/Isaac-Hayes/'},\n",
       " {'_id': ObjectId('5bfafe0689fb7c84aef03fb5'),\n",
       "  'name': 'KC & the Sunshine Band',\n",
       "  'url': 'https://www.whosampled.com/KC-%26-the-Sunshine-Band/'},\n",
       " {'_id': ObjectId('5bfafe0689fb7c84aef03fb6'),\n",
       "  'name': 'Stevie Wonder',\n",
       "  'url': 'https://www.whosampled.com/Stevie-Wonder/'},\n",
       " {'_id': ObjectId('5bfafe0689fb7c84aef03fb7'),\n",
       "  'name': 'Earth, Wind & Fire',\n",
       "  'url': 'https://www.whosampled.com/Earth,-Wind-%26-Fire/'},\n",
       " {'_id': ObjectId('5bfafe0689fb7c84aef03fb8'),\n",
       "  'name': 'Bee Gees',\n",
       "  'url': 'https://www.whosampled.com/Bee-Gees/'},\n",
       " {'_id': ObjectId('5bfafe0689fb7c84aef03fb9'),\n",
       "  'name': 'George Benson',\n",
       "  'url': 'https://www.whosampled.com/George-Benson/'},\n",
       " {'_id': ObjectId('5bfafe0689fb7c84aef03fba'),\n",
       "  'name': 'Bobby Byrd',\n",
       "  'url': 'https://www.whosampled.com/Bobby-Byrd/'},\n",
       " {'_id': ObjectId('5bfafe0689fb7c84aef03fbb'),\n",
       "  'name': 'Fred Wesley',\n",
       "  'url': 'https://www.whosampled.com/Fred-Wesley/'},\n",
       " {'_id': ObjectId('5bfafe0689fb7c84aef03fbc'),\n",
       "  'name': 'The Temptations',\n",
       "  'url': 'https://www.whosampled.com/The-Temptations/'},\n",
       " {'_id': ObjectId('5bfafe0689fb7c84aef03fbd'),\n",
       "  'name': 'Sly & the Family Stone',\n",
       "  'url': 'https://www.whosampled.com/Sly-%26-the-Family-Stone/'},\n",
       " {'_id': ObjectId('5bfafe0689fb7c84aef03fbe'),\n",
       "  'name': 'Delegation',\n",
       "  'url': 'https://www.whosampled.com/Delegation/'},\n",
       " {'_id': ObjectId('5bfafe0689fb7c84aef03fbf'),\n",
       "  'name': 'Dalida',\n",
       "  'url': 'https://www.whosampled.com/Dalida/'}]"
      ]
     },
     "execution_count": 24,
     "metadata": {},
     "output_type": "execute_result"
    }
   ],
   "source": [
    "artist_urls"
   ]
  },
  {
   "cell_type": "code",
   "execution_count": 27,
   "metadata": {},
   "outputs": [],
   "source": [
    "# Setup MongoDB connection to MongoDB collection\n",
    "import pymongo\n",
    "mc = pymongo.MongoClient()\n",
    "db = mc['musicdb']\n",
    "artists = db['artists']"
   ]
  },
  {
   "cell_type": "code",
   "execution_count": 33,
   "metadata": {},
   "outputs": [],
   "source": [
    "artists_test = db['artists_test']"
   ]
  },
  {
   "cell_type": "code",
   "execution_count": 29,
   "metadata": {},
   "outputs": [],
   "source": [
    "def insert_new_artists(artist_urls):\n",
    "    \"\"\"Insert artists only if their URLs aren't already in the DB\"\"\"\n",
    "    for artist in artist_urls:\n",
    "        if artists.count_documents({'url': artist['url']}) == 0:\n",
    "            artists.insert_one(artist)"
   ]
  },
  {
   "cell_type": "code",
   "execution_count": 31,
   "metadata": {
    "scrolled": true
   },
   "outputs": [
    {
     "data": {
      "text/plain": [
       "24"
      ]
     },
     "execution_count": 31,
     "metadata": {},
     "output_type": "execute_result"
    }
   ],
   "source": [
    "artists_test."
   ]
  },
  {
   "cell_type": "code",
   "execution_count": null,
   "metadata": {},
   "outputs": [],
   "source": [
    "b.fin"
   ]
  },
  {
   "cell_type": "code",
   "execution_count": 30,
   "metadata": {},
   "outputs": [],
   "source": [
    "insert_new_artists(artist_urls)"
   ]
  },
  {
   "cell_type": "code",
   "execution_count": 32,
   "metadata": {
    "scrolled": false
   },
   "outputs": [
    {
     "data": {
      "text/plain": [
       "24"
      ]
     },
     "execution_count": 32,
     "metadata": {},
     "output_type": "execute_result"
    }
   ],
   "source": [
    "artists.count_documents({})"
   ]
  },
  {
   "cell_type": "code",
   "execution_count": null,
   "metadata": {},
   "outputs": [],
   "source": [
    "insert_new_artists([{'name': 'Test Artist', 'url': 'test'}])"
   ]
  },
  {
   "cell_type": "code",
   "execution_count": null,
   "metadata": {
    "scrolled": false
   },
   "outputs": [],
   "source": [
    "artists.count_documents({})"
   ]
  },
  {
   "cell_type": "code",
   "execution_count": null,
   "metadata": {},
   "outputs": [],
   "source": [
    "# artists.delete({'url': 'test'})"
   ]
  },
  {
   "cell_type": "code",
   "execution_count": null,
   "metadata": {},
   "outputs": [],
   "source": [
    "list(artists.find())"
   ]
  },
  {
   "cell_type": "code",
   "execution_count": null,
   "metadata": {},
   "outputs": [],
   "source": [
    "\n",
    "# insert many"
   ]
  },
  {
   "cell_type": "code",
   "execution_count": null,
   "metadata": {},
   "outputs": [],
   "source": [
    "tile.text"
   ]
  },
  {
   "cell_type": "code",
   "execution_count": null,
   "metadata": {},
   "outputs": [],
   "source": [
    "# take each tile, scroll into view and get url for artist\n",
    "# wait between scrolling and getting txt\n",
    "artist_name = tile.text"
   ]
  },
  {
   "cell_type": "code",
   "execution_count": 34,
   "metadata": {},
   "outputs": [
    {
     "ename": "NameError",
     "evalue": "name 'tile' is not defined",
     "output_type": "error",
     "traceback": [
      "\u001b[0;31m---------------------------------------------------------------------------\u001b[0m",
      "\u001b[0;31mNameError\u001b[0m                                 Traceback (most recent call last)",
      "\u001b[0;32m<ipython-input-34-ae459ff09748>\u001b[0m in \u001b[0;36m<module>\u001b[0;34m()\u001b[0m\n\u001b[0;32m----> 1\u001b[0;31m \u001b[0ma\u001b[0m \u001b[0;34m=\u001b[0m \u001b[0mtile\u001b[0m\u001b[0;34m.\u001b[0m\u001b[0mfind_element_by_css_selector\u001b[0m\u001b[0;34m(\u001b[0m\u001b[0;34m'a'\u001b[0m\u001b[0;34m)\u001b[0m\u001b[0;34m\u001b[0m\u001b[0m\n\u001b[0m",
      "\u001b[0;31mNameError\u001b[0m: name 'tile' is not defined"
     ]
    }
   ],
   "source": [
    "a = tile.find_element_by_css_selector('a')"
   ]
  },
  {
   "cell_type": "code",
   "execution_count": null,
   "metadata": {},
   "outputs": [],
   "source": [
    "a.get_attribute('href')"
   ]
  },
  {
   "cell_type": "code",
   "execution_count": null,
   "metadata": {},
   "outputs": [],
   "source": [
    "artist_url = tile"
   ]
  },
  {
   "cell_type": "code",
   "execution_count": null,
   "metadata": {},
   "outputs": [],
   "source": [
    "{'us': ['185.205.204.58', '192.119.166.248'],\n",
    " 'uk': '192.119.166.31',\n",
    " ''}"
   ]
  },
  {
   "cell_type": "code",
   "execution_count": 35,
   "metadata": {},
   "outputs": [],
   "source": [
    "s = Scraper('https://www.whosampled.com/genre/Soul-Funk-Disco/')"
   ]
  },
  {
   "cell_type": "code",
   "execution_count": 36,
   "metadata": {},
   "outputs": [],
   "source": [
    "artists_section = s.find_desired_section(sel, desired_section)"
   ]
  },
  {
   "cell_type": "code",
   "execution_count": 37,
   "metadata": {},
   "outputs": [
    {
     "data": {
      "text/plain": [
       "<generator object Scraper.get_artist_urls at 0x107a65af0>"
      ]
     },
     "execution_count": 37,
     "metadata": {},
     "output_type": "execute_result"
    }
   ],
   "source": [
    "s.get_artist_urls(artists_section)"
   ]
  },
  {
   "cell_type": "code",
   "execution_count": null,
   "metadata": {},
   "outputs": [],
   "source": [
    "list(_)[0]"
   ]
  },
  {
   "cell_type": "code",
   "execution_count": 6,
   "metadata": {},
   "outputs": [],
   "source": [
    "jb = {'name': 'James Brown', 'url': 'https://www.whosampled.com/James-Brown/'}"
   ]
  },
  {
   "cell_type": "code",
   "execution_count": 7,
   "metadata": {},
   "outputs": [
    {
     "data": {
      "text/plain": [
       "{'name': 'James Brown', 'url': 'https://www.whosampled.com/James-Brown/'}"
      ]
     },
     "execution_count": 7,
     "metadata": {},
     "output_type": "execute_result"
    }
   ],
   "source": [
    "jb"
   ]
  },
  {
   "cell_type": "code",
   "execution_count": null,
   "metadata": {},
   "outputs": [],
   "source": [
    "b.get(artist_urls[0]['url'])"
   ]
  },
  {
   "cell_type": "code",
   "execution_count": null,
   "metadata": {},
   "outputs": [],
   "source": [
    "    def find_desired_section(self, sel, desired_section):\n",
    "        self._accept_cookies()\n",
    "        sect_divs = self.b.find_elements_by_css_selector(sel)\n",
    "        for i, div in enumerate(sect_divs):\n",
    "            if div.text.startswith(desired_section):\n",
    "                return sect_divs[i+1]"
   ]
  },
  {
   "cell_type": "code",
   "execution_count": 40,
   "metadata": {},
   "outputs": [],
   "source": [
    "sel = \"div#content div.divided-layout div.layout-container.leftContent div\""
   ]
  },
  {
   "cell_type": "code",
   "execution_count": 8,
   "metadata": {},
   "outputs": [],
   "source": [
    "sel = \"div#content div.artistContent\""
   ]
  },
  {
   "cell_type": "code",
   "execution_count": null,
   "metadata": {},
   "outputs": [],
   "source": [
    "section_divs = b.find_element_by_css_selector(sel)"
   ]
  },
  {
   "cell_type": "code",
   "execution_count": null,
   "metadata": {},
   "outputs": [],
   "source": [
    "h3 = section_divs.find_elements_by_css_selector('h3.trackName')"
   ]
  },
  {
   "cell_type": "code",
   "execution_count": null,
   "metadata": {},
   "outputs": [],
   "source": [
    "for x in h3:\n",
    "    print(x.text)"
   ]
  },
  {
   "cell_type": "code",
   "execution_count": null,
   "metadata": {},
   "outputs": [],
   "source": [
    "h3[0].get_attribute('href')"
   ]
  },
  {
   "cell_type": "code",
   "execution_count": null,
   "metadata": {},
   "outputs": [],
   "source": [
    "a = h3[0].find_element_by_css_selector('a')"
   ]
  },
  {
   "cell_type": "code",
   "execution_count": null,
   "metadata": {},
   "outputs": [],
   "source": [
    "a"
   ]
  },
  {
   "cell_type": "code",
   "execution_count": null,
   "metadata": {},
   "outputs": [],
   "source": [
    "a.get_attribute('href')"
   ]
  },
  {
   "cell_type": "code",
   "execution_count": null,
   "metadata": {},
   "outputs": [],
   "source": [
    "cd mix-maker/"
   ]
  },
  {
   "cell_type": "code",
   "execution_count": 5,
   "metadata": {},
   "outputs": [],
   "source": [
    "from src.scraper import Scraper"
   ]
  },
  {
   "cell_type": "code",
   "execution_count": null,
   "metadata": {},
   "outputs": [],
   "source": [
    "s.get_artist_songs(jb)"
   ]
  },
  {
   "cell_type": "code",
   "execution_count": 9,
   "metadata": {},
   "outputs": [],
   "source": [
    "s = Scraper('https://www.whosampled.com/James-Brown/')"
   ]
  },
  {
   "cell_type": "code",
   "execution_count": 10,
   "metadata": {},
   "outputs": [],
   "source": [
    "songs = list(s.get_artist_songs(jb))"
   ]
  },
  {
   "cell_type": "code",
   "execution_count": 11,
   "metadata": {},
   "outputs": [
    {
     "data": {
      "text/plain": [
       "[{'track_name': 'Get Up Offa That Thing (1976)',\n",
       "  'url': 'https://www.whosampled.com/James-Brown/Get-Up-Offa-That-Thing/'},\n",
       " {'track_name': \"Funky President (People It's Bad) (1974)\",\n",
       "  'url': 'https://www.whosampled.com/James-Brown/Funky-President-(People-It%27s-Bad)/'},\n",
       " {'track_name': 'Funky Drummer (1970)',\n",
       "  'url': 'https://www.whosampled.com/James-Brown/Funky-Drummer/'},\n",
       " {'track_name': \"Sho' Nuff (1973)\\nby Sly, Slick and Wicked\\nProducer credit: James Brown\",\n",
       "  'url': 'https://www.whosampled.com/Sly,-Slick-and-Wicked/Sho%27-Nuff/'},\n",
       " {'track_name': 'My Thang (1974)',\n",
       "  'url': 'https://www.whosampled.com/James-Brown/My-Thang/'},\n",
       " {'track_name': 'Think (About It) (1972)\\nby Lyn Collins\\nProducer credit: James Brown',\n",
       "  'url': 'https://www.whosampled.com/Lyn-Collins/Think-(About-It)/'},\n",
       " {'track_name': \"Don't Tell a Lie About Me and I Won't Tell the Truth on You (1974)\",\n",
       "  'url': 'https://www.whosampled.com/James-Brown/Don%27t-Tell-a-Lie-About-Me-and-I-Won%27t-Tell-the-Truth-on-You/'},\n",
       " {'track_name': 'The Payback (1973)',\n",
       "  'url': 'https://www.whosampled.com/James-Brown/The-Payback/'},\n",
       " {'track_name': \"Say It Loud, I'm Black and I'm Proud (1968)\",\n",
       "  'url': 'https://www.whosampled.com/James-Brown/Say-It-Loud,-I%27m-Black-and-I%27m-Proud/'},\n",
       " {'track_name': 'Licking Stick - Licking Stick (1968)',\n",
       "  'url': 'https://www.whosampled.com/James-Brown/Licking-Stick-Licking-Stick/'}]"
      ]
     },
     "execution_count": 11,
     "metadata": {},
     "output_type": "execute_result"
    }
   ],
   "source": [
    "songs"
   ]
  },
  {
   "cell_type": "code",
   "execution_count": 12,
   "metadata": {},
   "outputs": [],
   "source": [
    "s.get(songs[1]['url'])"
   ]
  },
  {
   "cell_type": "code",
   "execution_count": 14,
   "metadata": {},
   "outputs": [
    {
     "data": {
      "text/plain": [
       "'https://www.whosampled.com/James-Brown/Funky-President-(People-It%27s-Bad)/'"
      ]
     },
     "execution_count": 14,
     "metadata": {},
     "output_type": "execute_result"
    }
   ],
   "source": [
    "songs[1]['url']"
   ]
  },
  {
   "cell_type": "code",
   "execution_count": null,
   "metadata": {},
   "outputs": [],
   "source": [
    "# go to song page\n",
    "# find 'was sampled in'\n",
    "    # look for 'see all' button\n",
    "# find 'was covered in'\n",
    "# find 'was remixed in'\n",
    "# find 'was sampled in'\n",
    "    # look for 'see all' button"
   ]
  },
  {
   "cell_type": "code",
   "execution_count": 21,
   "metadata": {},
   "outputs": [],
   "source": [
    "sel = \"div#content\\\n",
    " div.divided-layout\\\n",
    " div.list-content-action-mobile\""
   ]
  },
  {
   "cell_type": "code",
   "execution_count": 44,
   "metadata": {},
   "outputs": [],
   "source": [
    "b = Firefox()"
   ]
  },
  {
   "cell_type": "code",
   "execution_count": 41,
   "metadata": {},
   "outputs": [],
   "source": [
    "url = 'https://www.whosampled.com/sample/61961/Kanye-West-Jay-Z-Swizz-Beatz-Power-(Remix)-Dr.-Dre-Snoop-Dogg-Nate-Dogg-Kurupt-The-Next-Episode/'"
   ]
  },
  {
   "cell_type": "code",
   "execution_count": 42,
   "metadata": {},
   "outputs": [],
   "source": [
    "b.get(url)"
   ]
  },
  {
   "cell_type": "code",
   "execution_count": 32,
   "metadata": {},
   "outputs": [
    {
     "ename": "NoSuchElementException",
     "evalue": "Message: Unable to locate element: div#content div.divided-layout div.list-content-action-mobile\n",
     "output_type": "error",
     "traceback": [
      "\u001b[0;31m---------------------------------------------------------------------------\u001b[0m",
      "\u001b[0;31mNoSuchElementException\u001b[0m                    Traceback (most recent call last)",
      "\u001b[0;32m<ipython-input-32-e539ee0185df>\u001b[0m in \u001b[0;36m<module>\u001b[0;34m()\u001b[0m\n\u001b[0;32m----> 1\u001b[0;31m \u001b[0mbutton\u001b[0m \u001b[0;34m=\u001b[0m \u001b[0mb\u001b[0m\u001b[0;34m.\u001b[0m\u001b[0mfind_element_by_css_selector\u001b[0m\u001b[0;34m(\u001b[0m\u001b[0msel\u001b[0m\u001b[0;34m)\u001b[0m\u001b[0;34m\u001b[0m\u001b[0m\n\u001b[0m\u001b[1;32m      2\u001b[0m \u001b[0;34m\u001b[0m\u001b[0m\n\u001b[1;32m      3\u001b[0m \u001b[0ma\u001b[0m \u001b[0;34m=\u001b[0m \u001b[0mbutton\u001b[0m\u001b[0;34m.\u001b[0m\u001b[0mfind_element_by_css_selector\u001b[0m\u001b[0;34m(\u001b[0m\u001b[0;34m'a'\u001b[0m\u001b[0;34m)\u001b[0m\u001b[0;34m\u001b[0m\u001b[0m\n\u001b[1;32m      4\u001b[0m \u001b[0;34m\u001b[0m\u001b[0m\n\u001b[1;32m      5\u001b[0m \u001b[0ma\u001b[0m\u001b[0;34m.\u001b[0m\u001b[0mget_attribute\u001b[0m\u001b[0;34m(\u001b[0m\u001b[0;34m'href'\u001b[0m\u001b[0;34m)\u001b[0m\u001b[0;34m\u001b[0m\u001b[0m\n",
      "\u001b[0;32m/anaconda3/lib/python3.6/site-packages/selenium/webdriver/remote/webdriver.py\u001b[0m in \u001b[0;36mfind_element_by_css_selector\u001b[0;34m(self, css_selector)\u001b[0m\n\u001b[1;32m    596\u001b[0m             \u001b[0melement\u001b[0m \u001b[0;34m=\u001b[0m \u001b[0mdriver\u001b[0m\u001b[0;34m.\u001b[0m\u001b[0mfind_element_by_css_selector\u001b[0m\u001b[0;34m(\u001b[0m\u001b[0;34m'#foo'\u001b[0m\u001b[0;34m)\u001b[0m\u001b[0;34m\u001b[0m\u001b[0m\n\u001b[1;32m    597\u001b[0m         \"\"\"\n\u001b[0;32m--> 598\u001b[0;31m         \u001b[0;32mreturn\u001b[0m \u001b[0mself\u001b[0m\u001b[0;34m.\u001b[0m\u001b[0mfind_element\u001b[0m\u001b[0;34m(\u001b[0m\u001b[0mby\u001b[0m\u001b[0;34m=\u001b[0m\u001b[0mBy\u001b[0m\u001b[0;34m.\u001b[0m\u001b[0mCSS_SELECTOR\u001b[0m\u001b[0;34m,\u001b[0m \u001b[0mvalue\u001b[0m\u001b[0;34m=\u001b[0m\u001b[0mcss_selector\u001b[0m\u001b[0;34m)\u001b[0m\u001b[0;34m\u001b[0m\u001b[0m\n\u001b[0m\u001b[1;32m    599\u001b[0m \u001b[0;34m\u001b[0m\u001b[0m\n\u001b[1;32m    600\u001b[0m     \u001b[0;32mdef\u001b[0m \u001b[0mfind_elements_by_css_selector\u001b[0m\u001b[0;34m(\u001b[0m\u001b[0mself\u001b[0m\u001b[0;34m,\u001b[0m \u001b[0mcss_selector\u001b[0m\u001b[0;34m)\u001b[0m\u001b[0;34m:\u001b[0m\u001b[0;34m\u001b[0m\u001b[0m\n",
      "\u001b[0;32m/anaconda3/lib/python3.6/site-packages/selenium/webdriver/remote/webdriver.py\u001b[0m in \u001b[0;36mfind_element\u001b[0;34m(self, by, value)\u001b[0m\n\u001b[1;32m    976\u001b[0m         return self.execute(Command.FIND_ELEMENT, {\n\u001b[1;32m    977\u001b[0m             \u001b[0;34m'using'\u001b[0m\u001b[0;34m:\u001b[0m \u001b[0mby\u001b[0m\u001b[0;34m,\u001b[0m\u001b[0;34m\u001b[0m\u001b[0m\n\u001b[0;32m--> 978\u001b[0;31m             'value': value})['value']\n\u001b[0m\u001b[1;32m    979\u001b[0m \u001b[0;34m\u001b[0m\u001b[0m\n\u001b[1;32m    980\u001b[0m     \u001b[0;32mdef\u001b[0m \u001b[0mfind_elements\u001b[0m\u001b[0;34m(\u001b[0m\u001b[0mself\u001b[0m\u001b[0;34m,\u001b[0m \u001b[0mby\u001b[0m\u001b[0;34m=\u001b[0m\u001b[0mBy\u001b[0m\u001b[0;34m.\u001b[0m\u001b[0mID\u001b[0m\u001b[0;34m,\u001b[0m \u001b[0mvalue\u001b[0m\u001b[0;34m=\u001b[0m\u001b[0;32mNone\u001b[0m\u001b[0;34m)\u001b[0m\u001b[0;34m:\u001b[0m\u001b[0;34m\u001b[0m\u001b[0m\n",
      "\u001b[0;32m/anaconda3/lib/python3.6/site-packages/selenium/webdriver/remote/webdriver.py\u001b[0m in \u001b[0;36mexecute\u001b[0;34m(self, driver_command, params)\u001b[0m\n\u001b[1;32m    319\u001b[0m         \u001b[0mresponse\u001b[0m \u001b[0;34m=\u001b[0m \u001b[0mself\u001b[0m\u001b[0;34m.\u001b[0m\u001b[0mcommand_executor\u001b[0m\u001b[0;34m.\u001b[0m\u001b[0mexecute\u001b[0m\u001b[0;34m(\u001b[0m\u001b[0mdriver_command\u001b[0m\u001b[0;34m,\u001b[0m \u001b[0mparams\u001b[0m\u001b[0;34m)\u001b[0m\u001b[0;34m\u001b[0m\u001b[0m\n\u001b[1;32m    320\u001b[0m         \u001b[0;32mif\u001b[0m \u001b[0mresponse\u001b[0m\u001b[0;34m:\u001b[0m\u001b[0;34m\u001b[0m\u001b[0m\n\u001b[0;32m--> 321\u001b[0;31m             \u001b[0mself\u001b[0m\u001b[0;34m.\u001b[0m\u001b[0merror_handler\u001b[0m\u001b[0;34m.\u001b[0m\u001b[0mcheck_response\u001b[0m\u001b[0;34m(\u001b[0m\u001b[0mresponse\u001b[0m\u001b[0;34m)\u001b[0m\u001b[0;34m\u001b[0m\u001b[0m\n\u001b[0m\u001b[1;32m    322\u001b[0m             response['value'] = self._unwrap_value(\n\u001b[1;32m    323\u001b[0m                 response.get('value', None))\n",
      "\u001b[0;32m/anaconda3/lib/python3.6/site-packages/selenium/webdriver/remote/errorhandler.py\u001b[0m in \u001b[0;36mcheck_response\u001b[0;34m(self, response)\u001b[0m\n\u001b[1;32m    240\u001b[0m                 \u001b[0malert_text\u001b[0m \u001b[0;34m=\u001b[0m \u001b[0mvalue\u001b[0m\u001b[0;34m[\u001b[0m\u001b[0;34m'alert'\u001b[0m\u001b[0;34m]\u001b[0m\u001b[0;34m.\u001b[0m\u001b[0mget\u001b[0m\u001b[0;34m(\u001b[0m\u001b[0;34m'text'\u001b[0m\u001b[0;34m)\u001b[0m\u001b[0;34m\u001b[0m\u001b[0m\n\u001b[1;32m    241\u001b[0m             \u001b[0;32mraise\u001b[0m \u001b[0mexception_class\u001b[0m\u001b[0;34m(\u001b[0m\u001b[0mmessage\u001b[0m\u001b[0;34m,\u001b[0m \u001b[0mscreen\u001b[0m\u001b[0;34m,\u001b[0m \u001b[0mstacktrace\u001b[0m\u001b[0;34m,\u001b[0m \u001b[0malert_text\u001b[0m\u001b[0;34m)\u001b[0m\u001b[0;34m\u001b[0m\u001b[0m\n\u001b[0;32m--> 242\u001b[0;31m         \u001b[0;32mraise\u001b[0m \u001b[0mexception_class\u001b[0m\u001b[0;34m(\u001b[0m\u001b[0mmessage\u001b[0m\u001b[0;34m,\u001b[0m \u001b[0mscreen\u001b[0m\u001b[0;34m,\u001b[0m \u001b[0mstacktrace\u001b[0m\u001b[0;34m)\u001b[0m\u001b[0;34m\u001b[0m\u001b[0m\n\u001b[0m\u001b[1;32m    243\u001b[0m \u001b[0;34m\u001b[0m\u001b[0m\n\u001b[1;32m    244\u001b[0m     \u001b[0;32mdef\u001b[0m \u001b[0m_value_or_default\u001b[0m\u001b[0;34m(\u001b[0m\u001b[0mself\u001b[0m\u001b[0;34m,\u001b[0m \u001b[0mobj\u001b[0m\u001b[0;34m,\u001b[0m \u001b[0mkey\u001b[0m\u001b[0;34m,\u001b[0m \u001b[0mdefault\u001b[0m\u001b[0;34m)\u001b[0m\u001b[0;34m:\u001b[0m\u001b[0;34m\u001b[0m\u001b[0m\n",
      "\u001b[0;31mNoSuchElementException\u001b[0m: Message: Unable to locate element: div#content div.divided-layout div.list-content-action-mobile\n"
     ]
    }
   ],
   "source": [
    "button = b.find_element_by_css_selector(sel)\n",
    "a = button.find_element_by_css_selector('a')\n",
    "a.get_attribute('href')"
   ]
  },
  {
   "cell_type": "code",
   "execution_count": null,
   "metadata": {},
   "outputs": [],
   "source": [
    "    try:\n",
    "        button = b.find_element_by_css_selector('button.qc-cmp-button')\n",
    "        button.click()\n",
    "    except selenium.common.exceptions.NoSuchElementException:\n",
    "        pass"
   ]
  },
  {
   "cell_type": "code",
   "execution_count": 3,
   "metadata": {},
   "outputs": [],
   "source": [
    "url = 'https://www.whosampled.com/Dr.-Dre/The-Next-Episode/sampled'\n",
    "b.get(url)"
   ]
  },
  {
   "cell_type": "code",
   "execution_count": 35,
   "metadata": {},
   "outputs": [
    {
     "data": {
      "text/plain": [
       "4"
      ]
     },
     "execution_count": 35,
     "metadata": {},
     "output_type": "execute_result"
    }
   ],
   "source": [
    "2+2"
   ]
  },
  {
   "cell_type": "code",
   "execution_count": 38,
   "metadata": {},
   "outputs": [],
   "source": [
    "next_button = b.find_element_by_css_selector('div.pagination span.next')"
   ]
  },
  {
   "cell_type": "code",
   "execution_count": 42,
   "metadata": {},
   "outputs": [
    {
     "data": {
      "text/plain": [
       "'https://www.whosampled.com/James-Brown/?sp=2'"
      ]
     },
     "execution_count": 42,
     "metadata": {},
     "output_type": "execute_result"
    }
   ],
   "source": [
    "next_button.find_element_by_css_selector('a').get_attribute('href')"
   ]
  },
  {
   "cell_type": "code",
   "execution_count": 78,
   "metadata": {},
   "outputs": [],
   "source": [
    "sel = \"div#content\\\n",
    "    div.divided-layout\\\n",
    "    header.sectionHeader\"\n",
    "button = b.find_elements_by_css_selector(sel)"
   ]
  },
  {
   "cell_type": "code",
   "execution_count": 79,
   "metadata": {},
   "outputs": [
    {
     "data": {
      "text/plain": [
       "[<selenium.webdriver.firefox.webelement.FirefoxWebElement (session=\"6eea4a8e-a568-cc4b-a4af-25f715e9f258\", element=\"ebd2bff8-e0cd-1d4b-83aa-ddc842aa6cfe\")>]"
      ]
     },
     "execution_count": 79,
     "metadata": {},
     "output_type": "execute_result"
    }
   ],
   "source": [
    "button"
   ]
  },
  {
   "cell_type": "code",
   "execution_count": 64,
   "metadata": {},
   "outputs": [],
   "source": [
    "for section in button:\n",
    "    if section.text.startswith('Was sampled'):\n",
    "        current_section = section"
   ]
  },
  {
   "cell_type": "code",
   "execution_count": 67,
   "metadata": {},
   "outputs": [],
   "source": [
    "a = current_section.find_element_by_css_selector('a')"
   ]
  },
  {
   "cell_type": "code",
   "execution_count": 68,
   "metadata": {},
   "outputs": [
    {
     "data": {
      "text/plain": [
       "'https://www.whosampled.com/Dr.-Dre/The-Next-Episode/sampled/'"
      ]
     },
     "execution_count": 68,
     "metadata": {},
     "output_type": "execute_result"
    }
   ],
   "source": [
    "a.get_attribute('href')"
   ]
  },
  {
   "cell_type": "code",
   "execution_count": 69,
   "metadata": {},
   "outputs": [],
   "source": [
    "from scipy import stats"
   ]
  },
  {
   "cell_type": "code",
   "execution_count": 76,
   "metadata": {},
   "outputs": [
    {
     "data": {
      "text/plain": [
       "4.15"
      ]
     },
     "execution_count": 76,
     "metadata": {},
     "output_type": "execute_result"
    }
   ],
   "source": [
    "round(stats.uniform(1,4).rvs(),2)"
   ]
  },
  {
   "cell_type": "code",
   "execution_count": 77,
   "metadata": {},
   "outputs": [
    {
     "data": {
      "text/plain": [
       "<selenium.webdriver.firefox.webelement.FirefoxWebElement (session=\"6eea4a8e-a568-cc4b-a4af-25f715e9f258\", element=\"a3331124-ddf2-7949-8d12-fbe6ae1a8346\")>"
      ]
     },
     "execution_count": 77,
     "metadata": {},
     "output_type": "execute_result"
    }
   ],
   "source": [
    "current_section"
   ]
  },
  {
   "cell_type": "code",
   "execution_count": 4,
   "metadata": {},
   "outputs": [],
   "source": [
    "sel = \"div#content\\\n",
    "       section\"\n",
    "sections = b.find_elements_by_css_selector(sel)"
   ]
  },
  {
   "cell_type": "code",
   "execution_count": 5,
   "metadata": {},
   "outputs": [
    {
     "data": {
      "text/plain": [
       "[<selenium.webdriver.firefox.webelement.FirefoxWebElement (session=\"7863bc09-e610-3e49-8d3e-7b072c829a38\", element=\"e603734c-6a68-4548-be4c-a497d221ed52\")>,\n",
       " <selenium.webdriver.firefox.webelement.FirefoxWebElement (session=\"7863bc09-e610-3e49-8d3e-7b072c829a38\", element=\"865835b8-e463-df42-b231-0de7a58e2090\")>]"
      ]
     },
     "execution_count": 5,
     "metadata": {},
     "output_type": "execute_result"
    }
   ],
   "source": [
    "sections"
   ]
  },
  {
   "cell_type": "code",
   "execution_count": 6,
   "metadata": {},
   "outputs": [],
   "source": [
    "for section in sections:\n",
    "    try:\n",
    "        header = section.find_element_by_css_selector('header')\n",
    "        if header.text.startswith('Was sampled'):\n",
    "            current_section = section\n",
    "    except selenium.common.exceptions.NoSuchElementException:\n",
    "        continue"
   ]
  },
  {
   "cell_type": "code",
   "execution_count": 7,
   "metadata": {},
   "outputs": [],
   "source": [
    "sel = \"div.listEntry.sampleEntry\"\n",
    "song_sections = current_section.find_elements_by_css_selector(sel)"
   ]
  },
  {
   "cell_type": "code",
   "execution_count": 8,
   "metadata": {},
   "outputs": [],
   "source": [
    "a = song_sections[0].find_element_by_css_selector('a')"
   ]
  },
  {
   "cell_type": "code",
   "execution_count": 9,
   "metadata": {},
   "outputs": [
    {
     "data": {
      "text/plain": [
       "'https://www.whosampled.com/sample/61961/Kanye-West-Jay-Z-Swizz-Beatz-Power-(Remix)-Dr.-Dre-Snoop-Dogg-Nate-Dogg-Kurupt-The-Next-Episode/'"
      ]
     },
     "execution_count": 9,
     "metadata": {},
     "output_type": "execute_result"
    }
   ],
   "source": [
    "a.get_attribute('href')"
   ]
  },
  {
   "cell_type": "code",
   "execution_count": 11,
   "metadata": {},
   "outputs": [],
   "source": [
    "b.get('https://www.whosampled.com/sample/424152/Beyonc%C3%A9-All-Night-OutKast-SpottieOttieDopaliscious/')"
   ]
  },
  {
   "cell_type": "code",
   "execution_count": 7,
   "metadata": {},
   "outputs": [],
   "source": [
    "sel = \"div#content\\\n",
    "       div.sampleTrackMetadata\"\n",
    "track_metadata = b.find_element_by_css_selector(sel)"
   ]
  },
  {
   "cell_type": "code",
   "execution_count": 8,
   "metadata": {},
   "outputs": [],
   "source": [
    "sel = \"div.sampleTrackArtists a\"\n",
    "artist_a = track_metadata.find_element_by_css_selector(sel)"
   ]
  },
  {
   "cell_type": "code",
   "execution_count": 10,
   "metadata": {},
   "outputs": [
    {
     "data": {
      "text/plain": [
       "'Childish Gambino'"
      ]
     },
     "execution_count": 10,
     "metadata": {},
     "output_type": "execute_result"
    }
   ],
   "source": [
    "artist_a.text"
   ]
  },
  {
   "cell_type": "code",
   "execution_count": null,
   "metadata": {},
   "outputs": [],
   "source": []
  },
  {
   "cell_type": "code",
   "execution_count": 9,
   "metadata": {},
   "outputs": [
    {
     "data": {
      "text/plain": [
       "'https://www.whosampled.com/Childish-Gambino/'"
      ]
     },
     "execution_count": 9,
     "metadata": {},
     "output_type": "execute_result"
    }
   ],
   "source": [
    "artist_a.get_attribute('href')"
   ]
  },
  {
   "cell_type": "code",
   "execution_count": 11,
   "metadata": {},
   "outputs": [],
   "source": [
    "sel = \"a.trackName\"\n",
    "track = track_metadata.find_element_by_css_selector(sel)"
   ]
  },
  {
   "cell_type": "code",
   "execution_count": 12,
   "metadata": {},
   "outputs": [
    {
     "data": {
      "text/plain": [
       "'3005'"
      ]
     },
     "execution_count": 12,
     "metadata": {},
     "output_type": "execute_result"
    }
   ],
   "source": [
    "track.text"
   ]
  },
  {
   "cell_type": "code",
   "execution_count": 31,
   "metadata": {},
   "outputs": [
    {
     "data": {
      "text/plain": [
       "'https://www.whosampled.com/Beyonc%C3%A9/All-Night/'"
      ]
     },
     "execution_count": 31,
     "metadata": {},
     "output_type": "execute_result"
    }
   ],
   "source": [
    "track.get_attribute('href')"
   ]
  },
  {
   "cell_type": "code",
   "execution_count": 5,
   "metadata": {},
   "outputs": [],
   "source": [
    "s = Scraper()"
   ]
  },
  {
   "cell_type": "code",
   "execution_count": 59,
   "metadata": {},
   "outputs": [],
   "source": [
    "s.get('https://www.whosampled.com/OutKast/SpottieOttieDopaliscious/')"
   ]
  },
  {
   "cell_type": "code",
   "execution_count": 11,
   "metadata": {},
   "outputs": [],
   "source": [
    "contains, sampled_in, new_artists = s.get_song_connections('https://www.whosampled.com/Beyonc%C3%A9/Upgrade-U/')"
   ]
  },
  {
   "cell_type": "code",
   "execution_count": 12,
   "metadata": {},
   "outputs": [
    {
     "data": {
      "text/plain": [
       "[{'name': 'Lil Wayne', 'url': 'https://www.whosampled.com/Lil-Wayne/'},\n",
       " {'name': 'M. Will the Shogun',\n",
       "  'url': 'https://www.whosampled.com/M.-Will-the-Shogun/'},\n",
       " {'name': 'Betty Wright', 'url': 'https://www.whosampled.com/Betty-Wright/'}]"
      ]
     },
     "execution_count": 12,
     "metadata": {},
     "output_type": "execute_result"
    }
   ],
   "source": [
    "new_artists"
   ]
  },
  {
   "cell_type": "code",
   "execution_count": null,
   "metadata": {},
   "outputs": [],
   "source": []
  },
  {
   "cell_type": "code",
   "execution_count": null,
   "metadata": {},
   "outputs": [],
   "source": []
  },
  {
   "cell_type": "code",
   "execution_count": null,
   "metadata": {},
   "outputs": [],
   "source": []
  },
  {
   "cell_type": "code",
   "execution_count": 36,
   "metadata": {},
   "outputs": [],
   "source": [
    "sel = \"div#content div.divided-layout\\\n",
    " div.layout-container.leftContent\\\n",
    " section\\\n",
    " header.sectionHeader\"\n",
    "sections = s.b.find_elements_by_css_selector(sel)"
   ]
  },
  {
   "cell_type": "code",
   "execution_count": 37,
   "metadata": {},
   "outputs": [
    {
     "data": {
      "text/plain": [
       "[<selenium.webdriver.firefox.webelement.FirefoxWebElement (session=\"35349d47-dbb2-2746-af5e-2653284844e1\", element=\"253b68ff-5245-cc41-9b05-9160db367313\")>,\n",
       " <selenium.webdriver.firefox.webelement.FirefoxWebElement (session=\"35349d47-dbb2-2746-af5e-2653284844e1\", element=\"a7bfdafa-e4b9-b241-ac5b-25185fcefede\")>,\n",
       " <selenium.webdriver.firefox.webelement.FirefoxWebElement (session=\"35349d47-dbb2-2746-af5e-2653284844e1\", element=\"8afc026c-d1ea-2d49-91c8-9c5fb42c9b42\")>,\n",
       " <selenium.webdriver.firefox.webelement.FirefoxWebElement (session=\"35349d47-dbb2-2746-af5e-2653284844e1\", element=\"0794ad5c-06f7-a745-a891-3551d27adb16\")>]"
      ]
     },
     "execution_count": 37,
     "metadata": {},
     "output_type": "execute_result"
    }
   ],
   "source": [
    "url = ''"
   ]
  },
  {
   "cell_type": "code",
   "execution_count": 39,
   "metadata": {},
   "outputs": [
    {
     "name": "stdout",
     "output_type": "stream",
     "text": [
      "Contains samples of 1 song\n",
      "Was sampled in 21 songs\n",
      "Was covered in 1 song\n",
      "Credits\n",
      "Beta\n"
     ]
    }
   ],
   "source": [
    "for section in sections:\n",
    "    print(section.text)"
   ]
  },
  {
   "cell_type": "code",
   "execution_count": null,
   "metadata": {},
   "outputs": [],
   "source": []
  },
  {
   "cell_type": "code",
   "execution_count": 42,
   "metadata": {},
   "outputs": [
    {
     "name": "stdout",
     "output_type": "stream",
     "text": [
      "https://www.whosampled.com/OutKast/SpottieOttieDopaliscious/sampled/\n"
     ]
    }
   ],
   "source": [
    "s._see_all('Was sampled in')"
   ]
  },
  {
   "cell_type": "code",
   "execution_count": 43,
   "metadata": {},
   "outputs": [],
   "source": [
    "sampled = []\n",
    "artists = []"
   ]
  },
  {
   "cell_type": "code",
   "execution_count": 44,
   "metadata": {},
   "outputs": [
    {
     "name": "stdout",
     "output_type": "stream",
     "text": [
      "https://www.whosampled.com/sample/289026/Beyonc%C3%A9-Nicki-Minaj-Flawless-(Remix)-OutKast-SpottieOttieDopaliscious/\n",
      "https://www.whosampled.com/sample/424152/Beyonc%C3%A9-All-Night-OutKast-SpottieOttieDopaliscious/\n",
      "https://www.whosampled.com/sample/68940/Lil-Wayne-Drake-Right-Above-It-OutKast-SpottieOttieDopaliscious/\n",
      "https://www.whosampled.com/sample/445059/Joey-Bada$$-Devastated-OutKast-SpottieOttieDopaliscious/\n",
      "https://www.whosampled.com/sample/58371/J.-Cole-Who-Dat-OutKast-SpottieOttieDopaliscious/\n",
      "https://www.whosampled.com/sample/303711/Childish-Gambino-Dream-Southern-Hospitality-Partna-Dem-OutKast-SpottieOttieDopaliscious/\n",
      "https://www.whosampled.com/sample/169431/Lil-Wayne-A-Dedication-OutKast-SpottieOttieDopaliscious/\n",
      "https://www.whosampled.com/sample/10945/Teedra-Moses-No-More-Tears-OutKast-SpottieOttieDopaliscious/\n",
      "https://www.whosampled.com/sample/145926/Smoke-DZA-Spottieottiedopajetshit-OutKast-SpottieOttieDopaliscious/\n",
      "https://www.whosampled.com/sample/149439/Jill-Scott-The-Real-Thing-OutKast-SpottieOttieDopaliscious/\n",
      "https://www.whosampled.com/sample/496883/Skeme-London-Jae-Red-Coupe-OutKast-SpottieOttieDopaliscious/\n",
      "https://www.whosampled.com/sample/501233/Buddy-Guillotine-OutKast-SpottieOttieDopaliscious/\n",
      "https://www.whosampled.com/sample/256812/Cyhi-Da-Prynce-Marian-Mereba-Good-Night-OutKast-SpottieOttieDopaliscious/\n",
      "https://www.whosampled.com/sample/459650/K.-Michelle-Got-Em-Like-OutKast-SpottieOttieDopaliscious/\n",
      "https://www.whosampled.com/sample/289379/DJ-Taso-DJ-Rashad-DJ-Spinn-SpottieOttie-VIP-OutKast-SpottieOttieDopaliscious/\n",
      "https://www.whosampled.com/sample/328468/J-Doe-2-Busta-Rhymes-You-Don%27t-Really-Know-OutKast-SpottieOttieDopaliscious/\n"
     ]
    }
   ],
   "source": [
    "s._get_was_sampled_in(sampled, artists)"
   ]
  },
  {
   "cell_type": "code",
   "execution_count": 45,
   "metadata": {},
   "outputs": [
    {
     "data": {
      "text/plain": [
       "[{'name': 'Beyoncé', 'url': 'https://www.whosampled.com/Beyonc%C3%A9/'},\n",
       " {'name': 'Beyoncé', 'url': 'https://www.whosampled.com/Beyonc%C3%A9/'},\n",
       " {'name': 'Lil Wayne', 'url': 'https://www.whosampled.com/Lil-Wayne/'},\n",
       " {'name': 'Joey Bada$$', 'url': 'https://www.whosampled.com/Joey-Bada$$/'},\n",
       " {'name': 'J. Cole', 'url': 'https://www.whosampled.com/J.-Cole/'},\n",
       " {'name': 'Childish Gambino',\n",
       "  'url': 'https://www.whosampled.com/Childish-Gambino/'},\n",
       " {'name': 'Lil Wayne', 'url': 'https://www.whosampled.com/Lil-Wayne/'},\n",
       " {'name': 'Teedra Moses', 'url': 'https://www.whosampled.com/Teedra-Moses/'},\n",
       " {'name': 'Smoke DZA', 'url': 'https://www.whosampled.com/Smoke-DZA/'},\n",
       " {'name': 'Jill Scott', 'url': 'https://www.whosampled.com/Jill-Scott/'},\n",
       " {'name': 'Skeme', 'url': 'https://www.whosampled.com/Skeme/'},\n",
       " {'name': 'Buddy', 'url': 'https://www.whosampled.com/Buddy/'},\n",
       " {'name': 'Cyhi Da Prynce',\n",
       "  'url': 'https://www.whosampled.com/Cyhi-Da-Prynce/'},\n",
       " {'name': 'K. Michelle', 'url': 'https://www.whosampled.com/K.-Michelle/'},\n",
       " {'name': 'DJ Taso', 'url': 'https://www.whosampled.com/DJ-Taso/'},\n",
       " {'name': 'J Doe', 'url': 'https://www.whosampled.com/J-Doe-2/'}]"
      ]
     },
     "execution_count": 45,
     "metadata": {},
     "output_type": "execute_result"
    }
   ],
   "source": [
    "artists"
   ]
  },
  {
   "cell_type": "code",
   "execution_count": 47,
   "metadata": {},
   "outputs": [
    {
     "data": {
      "text/plain": [
       "[{'name': 'Flawless (Remix)',\n",
       "  'url': 'https://www.whosampled.com/Beyonc%C3%A9/Flawless-(Remix)/'},\n",
       " {'name': 'All Night',\n",
       "  'url': 'https://www.whosampled.com/Beyonc%C3%A9/All-Night/'},\n",
       " {'name': 'Right Above It',\n",
       "  'url': 'https://www.whosampled.com/Lil-Wayne/Right-Above-It/'},\n",
       " {'name': 'Devastated',\n",
       "  'url': 'https://www.whosampled.com/Joey-Bada$$/Devastated/'},\n",
       " {'name': 'Who Dat', 'url': 'https://www.whosampled.com/J.-Cole/Who-Dat/'},\n",
       " {'name': 'Dream / Southern Hospitality / Partna Dem',\n",
       "  'url': 'https://www.whosampled.com/Childish-Gambino/Dream-Southern-Hospitality-Partna-Dem/'},\n",
       " {'name': 'A Dedication',\n",
       "  'url': 'https://www.whosampled.com/Lil-Wayne/A-Dedication/'},\n",
       " {'name': 'No More Tears',\n",
       "  'url': 'https://www.whosampled.com/Teedra-Moses/No-More-Tears/'},\n",
       " {'name': 'Spottieottiedopajetshit',\n",
       "  'url': 'https://www.whosampled.com/Smoke-DZA/Spottieottiedopajetshit/'},\n",
       " {'name': 'The Real Thing',\n",
       "  'url': 'https://www.whosampled.com/Jill-Scott/The-Real-Thing/'},\n",
       " {'name': 'Red Coupe', 'url': 'https://www.whosampled.com/Skeme/Red-Coupe/'},\n",
       " {'name': 'Guillotine', 'url': 'https://www.whosampled.com/Buddy/Guillotine/'},\n",
       " {'name': 'Good Night',\n",
       "  'url': 'https://www.whosampled.com/Cyhi-Da-Prynce/Good-Night/'},\n",
       " {'name': 'Got Em Like',\n",
       "  'url': 'https://www.whosampled.com/K.-Michelle/Got-Em-Like/'},\n",
       " {'name': 'SpottieOttie VIP',\n",
       "  'url': 'https://www.whosampled.com/DJ-Taso/SpottieOttie-VIP/'},\n",
       " {'name': \"You Don't Really Know\",\n",
       "  'url': 'https://www.whosampled.com/J-Doe-2/You-Don%27t-Really-Know/'}]"
      ]
     },
     "execution_count": 47,
     "metadata": {},
     "output_type": "execute_result"
    }
   ],
   "source": [
    "sampled"
   ]
  },
  {
   "cell_type": "code",
   "execution_count": 6,
   "metadata": {},
   "outputs": [],
   "source": [
    "b.get('https://www.whosampled.com/sample/244494/Childish-Gambino-3005-James-Brown-Funky-President-(People-It%27s-Bad)/')"
   ]
  },
  {
   "cell_type": "code",
   "execution_count": 62,
   "metadata": {},
   "outputs": [],
   "source": [
    "sel = \"div#content\\\n",
    "       section\"\n",
    "sections = b.find_elements_by_css_selector(sel)"
   ]
  },
  {
   "cell_type": "code",
   "execution_count": 63,
   "metadata": {},
   "outputs": [
    {
     "data": {
      "text/plain": [
       "[<selenium.webdriver.firefox.webelement.FirefoxWebElement (session=\"7863bc09-e610-3e49-8d3e-7b072c829a38\", element=\"b5a1cd80-8812-0549-9455-a72e6d280bd0\")>,\n",
       " <selenium.webdriver.firefox.webelement.FirefoxWebElement (session=\"7863bc09-e610-3e49-8d3e-7b072c829a38\", element=\"3a578bb0-9bb2-c444-a8b3-f0dadad1e683\")>]"
      ]
     },
     "execution_count": 63,
     "metadata": {},
     "output_type": "execute_result"
    }
   ],
   "source": [
    "sections"
   ]
  },
  {
   "cell_type": "code",
   "execution_count": 65,
   "metadata": {},
   "outputs": [
    {
     "name": "stdout",
     "output_type": "stream",
     "text": [
      "Was sampled in 58 songs\n"
     ]
    }
   ],
   "source": [
    "for section in sections:\n",
    "    try:\n",
    "        header = section.find_element_by_css_selector('header')\n",
    "        print(header.text)\n",
    "        if header.text.startswith('Was sampled'):\n",
    "            current_section = section\n",
    "    except selenium.common.exceptions.NoSuchElementException:\n",
    "        continue"
   ]
  },
  {
   "cell_type": "code",
   "execution_count": 66,
   "metadata": {},
   "outputs": [
    {
     "data": {
      "text/plain": [
       "<selenium.webdriver.firefox.webelement.FirefoxWebElement (session=\"7863bc09-e610-3e49-8d3e-7b072c829a38\", element=\"3a578bb0-9bb2-c444-a8b3-f0dadad1e683\")>"
      ]
     },
     "execution_count": 66,
     "metadata": {},
     "output_type": "execute_result"
    }
   ],
   "source": [
    "current_section"
   ]
  },
  {
   "cell_type": "code",
   "execution_count": 67,
   "metadata": {},
   "outputs": [],
   "source": [
    "sel = \"div.listEntry.sampleEntry\"\n",
    "songs = current_section.find_elements_by_css_selector(sel)"
   ]
  },
  {
   "cell_type": "code",
   "execution_count": 68,
   "metadata": {},
   "outputs": [
    {
     "data": {
      "text/plain": [
       "[<selenium.webdriver.firefox.webelement.FirefoxWebElement (session=\"7863bc09-e610-3e49-8d3e-7b072c829a38\", element=\"7e6f3315-a3b8-5148-9c23-513a22960bf8\")>,\n",
       " <selenium.webdriver.firefox.webelement.FirefoxWebElement (session=\"7863bc09-e610-3e49-8d3e-7b072c829a38\", element=\"4808248b-9d38-2a45-85f7-efc3c0384826\")>,\n",
       " <selenium.webdriver.firefox.webelement.FirefoxWebElement (session=\"7863bc09-e610-3e49-8d3e-7b072c829a38\", element=\"fc1ff36f-6914-0341-be79-0667728ed616\")>,\n",
       " <selenium.webdriver.firefox.webelement.FirefoxWebElement (session=\"7863bc09-e610-3e49-8d3e-7b072c829a38\", element=\"3f750eaa-9460-1b43-a129-a863ff399667\")>,\n",
       " <selenium.webdriver.firefox.webelement.FirefoxWebElement (session=\"7863bc09-e610-3e49-8d3e-7b072c829a38\", element=\"30df7882-8144-c845-b7df-0db5538df826\")>,\n",
       " <selenium.webdriver.firefox.webelement.FirefoxWebElement (session=\"7863bc09-e610-3e49-8d3e-7b072c829a38\", element=\"a63b10d6-83fa-5543-8209-36b8e4d6c126\")>,\n",
       " <selenium.webdriver.firefox.webelement.FirefoxWebElement (session=\"7863bc09-e610-3e49-8d3e-7b072c829a38\", element=\"1228a689-13b1-8943-a023-4dbf14646f95\")>,\n",
       " <selenium.webdriver.firefox.webelement.FirefoxWebElement (session=\"7863bc09-e610-3e49-8d3e-7b072c829a38\", element=\"88fb24eb-51da-634a-9c68-a39e67916114\")>,\n",
       " <selenium.webdriver.firefox.webelement.FirefoxWebElement (session=\"7863bc09-e610-3e49-8d3e-7b072c829a38\", element=\"31ce1360-801d-a940-ac5d-4c0ef0d10aef\")>,\n",
       " <selenium.webdriver.firefox.webelement.FirefoxWebElement (session=\"7863bc09-e610-3e49-8d3e-7b072c829a38\", element=\"6ac390d3-f216-0e41-a6bf-84de85aec738\")>,\n",
       " <selenium.webdriver.firefox.webelement.FirefoxWebElement (session=\"7863bc09-e610-3e49-8d3e-7b072c829a38\", element=\"e1639bc3-75c9-dc45-9b60-793092f4124d\")>,\n",
       " <selenium.webdriver.firefox.webelement.FirefoxWebElement (session=\"7863bc09-e610-3e49-8d3e-7b072c829a38\", element=\"d74eb11d-f792-a444-8645-ed90a6192c15\")>,\n",
       " <selenium.webdriver.firefox.webelement.FirefoxWebElement (session=\"7863bc09-e610-3e49-8d3e-7b072c829a38\", element=\"72766abc-c89e-8c4f-b110-5a528de1fee2\")>,\n",
       " <selenium.webdriver.firefox.webelement.FirefoxWebElement (session=\"7863bc09-e610-3e49-8d3e-7b072c829a38\", element=\"23f02cc3-6442-1944-a82b-0a34efb74609\")>,\n",
       " <selenium.webdriver.firefox.webelement.FirefoxWebElement (session=\"7863bc09-e610-3e49-8d3e-7b072c829a38\", element=\"507e43f5-65ec-0f4b-80c2-bc617a1bae8b\")>,\n",
       " <selenium.webdriver.firefox.webelement.FirefoxWebElement (session=\"7863bc09-e610-3e49-8d3e-7b072c829a38\", element=\"e90e85a2-d9c6-b040-bf60-1b47f117e7fa\")>]"
      ]
     },
     "execution_count": 68,
     "metadata": {},
     "output_type": "execute_result"
    }
   ],
   "source": [
    "for song in songs:\n",
    "    "
   ]
  },
  {
   "cell_type": "code",
   "execution_count": 13,
   "metadata": {},
   "outputs": [
    {
     "ename": "NameError",
     "evalue": "name 's' is not defined",
     "output_type": "error",
     "traceback": [
      "\u001b[0;31m---------------------------------------------------------------------------\u001b[0m",
      "\u001b[0;31mNameError\u001b[0m                                 Traceback (most recent call last)",
      "\u001b[0;32m<ipython-input-13-24fb5e832202>\u001b[0m in \u001b[0;36m<module>\u001b[0;34m()\u001b[0m\n\u001b[0;32m----> 1\u001b[0;31m \u001b[0ms\u001b[0m\u001b[0;34m.\u001b[0m\u001b[0mget\u001b[0m\u001b[0;34m(\u001b[0m\u001b[0;34m'https://www.whosampled.com/James-Brown/Funky-President-(People-It%27s-Bad)/sampled/'\u001b[0m\u001b[0;34m)\u001b[0m\u001b[0;34m\u001b[0m\u001b[0m\n\u001b[0m",
      "\u001b[0;31mNameError\u001b[0m: name 's' is not defined"
     ]
    }
   ],
   "source": [
    "s.get('https://www.whosampled.com/James-Brown/Funky-President-(People-It%27s-Bad)/sampled/')"
   ]
  },
  {
   "cell_type": "code",
   "execution_count": 15,
   "metadata": {},
   "outputs": [],
   "source": [
    "s._next_page()"
   ]
  },
  {
   "cell_type": "code",
   "execution_count": 18,
   "metadata": {},
   "outputs": [
    {
     "ename": "SyntaxError",
     "evalue": "unexpected EOF while parsing (<ipython-input-18-82f34e26a606>, line 4)",
     "output_type": "error",
     "traceback": [
      "\u001b[0;36m  File \u001b[0;32m\"<ipython-input-18-82f34e26a606>\"\u001b[0;36m, line \u001b[0;32m4\u001b[0m\n\u001b[0;31m    fjsoa\u001b[0m\n\u001b[0m         ^\u001b[0m\n\u001b[0;31mSyntaxError\u001b[0m\u001b[0;31m:\u001b[0m unexpected EOF while parsing\n"
     ]
    }
   ],
   "source": [
    "a = []\n",
    "try:\n",
    "    a.append(7,3,8)\n",
    "    fjsoa"
   ]
  },
  {
   "cell_type": "code",
   "execution_count": 17,
   "metadata": {},
   "outputs": [
    {
     "data": {
      "text/plain": [
       "[]"
      ]
     },
     "execution_count": 17,
     "metadata": {},
     "output_type": "execute_result"
    }
   ],
   "source": [
    "non"
   ]
  },
  {
   "cell_type": "code",
   "execution_count": 5,
   "metadata": {},
   "outputs": [],
   "source": [
    "s = Scraper()"
   ]
  },
  {
   "cell_type": "code",
   "execution_count": 19,
   "metadata": {},
   "outputs": [],
   "source": [
    "s.get('https://www.whosampled.com/Supreme-NYborn/Versatile-Extension-(Versatility-Remix)/sampled/')"
   ]
  },
  {
   "cell_type": "code",
   "execution_count": 6,
   "metadata": {},
   "outputs": [
    {
     "name": "stdout",
     "output_type": "stream",
     "text": [
      "https://www.whosampled.com/Supreme-NYborn/Versatile-Extension-(Versatility-Remix)/sampled/\n",
      "Was sampled in 62 songs\n",
      "['https://www.whosampled.com/sample/575625/Twenty-One-Pilots-Lane-Boy-Supreme-NYborn-Versatile-Extension-(Versatility-Remix)/']\n",
      "['https://www.whosampled.com/sample/575625/Twenty-One-Pilots-Lane-Boy-Supreme-NYborn-Versatile-Extension-(Versatility-Remix)/', 'https://www.whosampled.com/sample/314051/A-Tribe-Called-Quest-Bonita-Applebum-(Why%3F-Version)-Supreme-NYborn-Versatile-Extension-(Versatility-Remix)/']\n",
      "['https://www.whosampled.com/sample/575625/Twenty-One-Pilots-Lane-Boy-Supreme-NYborn-Versatile-Extension-(Versatility-Remix)/', 'https://www.whosampled.com/sample/314051/A-Tribe-Called-Quest-Bonita-Applebum-(Why%3F-Version)-Supreme-NYborn-Versatile-Extension-(Versatility-Remix)/', 'https://www.whosampled.com/sample/318041/Bad-Company-UK-DJ-Trace-Nitrous-Supreme-NYborn-Versatile-Extension-(Versatility-Remix)/']\n",
      "['https://www.whosampled.com/sample/575625/Twenty-One-Pilots-Lane-Boy-Supreme-NYborn-Versatile-Extension-(Versatility-Remix)/', 'https://www.whosampled.com/sample/314051/A-Tribe-Called-Quest-Bonita-Applebum-(Why%3F-Version)-Supreme-NYborn-Versatile-Extension-(Versatility-Remix)/', 'https://www.whosampled.com/sample/318041/Bad-Company-UK-DJ-Trace-Nitrous-Supreme-NYborn-Versatile-Extension-(Versatility-Remix)/', 'https://www.whosampled.com/sample/456624/Tribe-of-Issachar-Peter-Bouncer-Junglist-Supreme-NYborn-Versatile-Extension-(Versatility-Remix)/']\n",
      "['https://www.whosampled.com/sample/575625/Twenty-One-Pilots-Lane-Boy-Supreme-NYborn-Versatile-Extension-(Versatility-Remix)/', 'https://www.whosampled.com/sample/314051/A-Tribe-Called-Quest-Bonita-Applebum-(Why%3F-Version)-Supreme-NYborn-Versatile-Extension-(Versatility-Remix)/', 'https://www.whosampled.com/sample/318041/Bad-Company-UK-DJ-Trace-Nitrous-Supreme-NYborn-Versatile-Extension-(Versatility-Remix)/', 'https://www.whosampled.com/sample/456624/Tribe-of-Issachar-Peter-Bouncer-Junglist-Supreme-NYborn-Versatile-Extension-(Versatility-Remix)/', 'https://www.whosampled.com/sample/344859/Netsky-Pirate-Bay-Supreme-NYborn-Versatile-Extension-(Versatility-Remix)/']\n",
      "['https://www.whosampled.com/sample/575625/Twenty-One-Pilots-Lane-Boy-Supreme-NYborn-Versatile-Extension-(Versatility-Remix)/', 'https://www.whosampled.com/sample/314051/A-Tribe-Called-Quest-Bonita-Applebum-(Why%3F-Version)-Supreme-NYborn-Versatile-Extension-(Versatility-Remix)/', 'https://www.whosampled.com/sample/318041/Bad-Company-UK-DJ-Trace-Nitrous-Supreme-NYborn-Versatile-Extension-(Versatility-Remix)/', 'https://www.whosampled.com/sample/456624/Tribe-of-Issachar-Peter-Bouncer-Junglist-Supreme-NYborn-Versatile-Extension-(Versatility-Remix)/', 'https://www.whosampled.com/sample/344859/Netsky-Pirate-Bay-Supreme-NYborn-Versatile-Extension-(Versatility-Remix)/', 'https://www.whosampled.com/sample/368431/Calibre-No-Reply-Supreme-NYborn-Versatile-Extension-(Versatility-Remix)/']\n",
      "['https://www.whosampled.com/sample/575625/Twenty-One-Pilots-Lane-Boy-Supreme-NYborn-Versatile-Extension-(Versatility-Remix)/', 'https://www.whosampled.com/sample/314051/A-Tribe-Called-Quest-Bonita-Applebum-(Why%3F-Version)-Supreme-NYborn-Versatile-Extension-(Versatility-Remix)/', 'https://www.whosampled.com/sample/318041/Bad-Company-UK-DJ-Trace-Nitrous-Supreme-NYborn-Versatile-Extension-(Versatility-Remix)/', 'https://www.whosampled.com/sample/456624/Tribe-of-Issachar-Peter-Bouncer-Junglist-Supreme-NYborn-Versatile-Extension-(Versatility-Remix)/', 'https://www.whosampled.com/sample/344859/Netsky-Pirate-Bay-Supreme-NYborn-Versatile-Extension-(Versatility-Remix)/', 'https://www.whosampled.com/sample/368431/Calibre-No-Reply-Supreme-NYborn-Versatile-Extension-(Versatility-Remix)/', 'https://www.whosampled.com/sample/339238/The-Crystal-Method-Born-Too-Slow-Supreme-NYborn-Versatile-Extension-(Versatility-Remix)/']\n",
      "['https://www.whosampled.com/sample/575625/Twenty-One-Pilots-Lane-Boy-Supreme-NYborn-Versatile-Extension-(Versatility-Remix)/', 'https://www.whosampled.com/sample/314051/A-Tribe-Called-Quest-Bonita-Applebum-(Why%3F-Version)-Supreme-NYborn-Versatile-Extension-(Versatility-Remix)/', 'https://www.whosampled.com/sample/318041/Bad-Company-UK-DJ-Trace-Nitrous-Supreme-NYborn-Versatile-Extension-(Versatility-Remix)/', 'https://www.whosampled.com/sample/456624/Tribe-of-Issachar-Peter-Bouncer-Junglist-Supreme-NYborn-Versatile-Extension-(Versatility-Remix)/', 'https://www.whosampled.com/sample/344859/Netsky-Pirate-Bay-Supreme-NYborn-Versatile-Extension-(Versatility-Remix)/', 'https://www.whosampled.com/sample/368431/Calibre-No-Reply-Supreme-NYborn-Versatile-Extension-(Versatility-Remix)/', 'https://www.whosampled.com/sample/339238/The-Crystal-Method-Born-Too-Slow-Supreme-NYborn-Versatile-Extension-(Versatility-Remix)/', 'https://www.whosampled.com/sample/346669/Roni-Size-DJ-Die-Music-Box-Supreme-NYborn-Versatile-Extension-(Versatility-Remix)/']\n",
      "['https://www.whosampled.com/sample/575625/Twenty-One-Pilots-Lane-Boy-Supreme-NYborn-Versatile-Extension-(Versatility-Remix)/', 'https://www.whosampled.com/sample/314051/A-Tribe-Called-Quest-Bonita-Applebum-(Why%3F-Version)-Supreme-NYborn-Versatile-Extension-(Versatility-Remix)/', 'https://www.whosampled.com/sample/318041/Bad-Company-UK-DJ-Trace-Nitrous-Supreme-NYborn-Versatile-Extension-(Versatility-Remix)/', 'https://www.whosampled.com/sample/456624/Tribe-of-Issachar-Peter-Bouncer-Junglist-Supreme-NYborn-Versatile-Extension-(Versatility-Remix)/', 'https://www.whosampled.com/sample/344859/Netsky-Pirate-Bay-Supreme-NYborn-Versatile-Extension-(Versatility-Remix)/', 'https://www.whosampled.com/sample/368431/Calibre-No-Reply-Supreme-NYborn-Versatile-Extension-(Versatility-Remix)/', 'https://www.whosampled.com/sample/339238/The-Crystal-Method-Born-Too-Slow-Supreme-NYborn-Versatile-Extension-(Versatility-Remix)/', 'https://www.whosampled.com/sample/346669/Roni-Size-DJ-Die-Music-Box-Supreme-NYborn-Versatile-Extension-(Versatility-Remix)/', 'https://www.whosampled.com/sample/314001/DJ-Trace-After-Hours-Supreme-NYborn-Versatile-Extension-(Versatility-Remix)/']\n",
      "['https://www.whosampled.com/sample/575625/Twenty-One-Pilots-Lane-Boy-Supreme-NYborn-Versatile-Extension-(Versatility-Remix)/', 'https://www.whosampled.com/sample/314051/A-Tribe-Called-Quest-Bonita-Applebum-(Why%3F-Version)-Supreme-NYborn-Versatile-Extension-(Versatility-Remix)/', 'https://www.whosampled.com/sample/318041/Bad-Company-UK-DJ-Trace-Nitrous-Supreme-NYborn-Versatile-Extension-(Versatility-Remix)/', 'https://www.whosampled.com/sample/456624/Tribe-of-Issachar-Peter-Bouncer-Junglist-Supreme-NYborn-Versatile-Extension-(Versatility-Remix)/', 'https://www.whosampled.com/sample/344859/Netsky-Pirate-Bay-Supreme-NYborn-Versatile-Extension-(Versatility-Remix)/', 'https://www.whosampled.com/sample/368431/Calibre-No-Reply-Supreme-NYborn-Versatile-Extension-(Versatility-Remix)/', 'https://www.whosampled.com/sample/339238/The-Crystal-Method-Born-Too-Slow-Supreme-NYborn-Versatile-Extension-(Versatility-Remix)/', 'https://www.whosampled.com/sample/346669/Roni-Size-DJ-Die-Music-Box-Supreme-NYborn-Versatile-Extension-(Versatility-Remix)/', 'https://www.whosampled.com/sample/314001/DJ-Trace-After-Hours-Supreme-NYborn-Versatile-Extension-(Versatility-Remix)/', 'https://www.whosampled.com/sample/458161/Bomb-the-Bass-Winter-in-July-Supreme-NYborn-Versatile-Extension-(Versatility-Remix)/']\n",
      "['https://www.whosampled.com/sample/575625/Twenty-One-Pilots-Lane-Boy-Supreme-NYborn-Versatile-Extension-(Versatility-Remix)/', 'https://www.whosampled.com/sample/314051/A-Tribe-Called-Quest-Bonita-Applebum-(Why%3F-Version)-Supreme-NYborn-Versatile-Extension-(Versatility-Remix)/', 'https://www.whosampled.com/sample/318041/Bad-Company-UK-DJ-Trace-Nitrous-Supreme-NYborn-Versatile-Extension-(Versatility-Remix)/', 'https://www.whosampled.com/sample/456624/Tribe-of-Issachar-Peter-Bouncer-Junglist-Supreme-NYborn-Versatile-Extension-(Versatility-Remix)/', 'https://www.whosampled.com/sample/344859/Netsky-Pirate-Bay-Supreme-NYborn-Versatile-Extension-(Versatility-Remix)/', 'https://www.whosampled.com/sample/368431/Calibre-No-Reply-Supreme-NYborn-Versatile-Extension-(Versatility-Remix)/', 'https://www.whosampled.com/sample/339238/The-Crystal-Method-Born-Too-Slow-Supreme-NYborn-Versatile-Extension-(Versatility-Remix)/', 'https://www.whosampled.com/sample/346669/Roni-Size-DJ-Die-Music-Box-Supreme-NYborn-Versatile-Extension-(Versatility-Remix)/', 'https://www.whosampled.com/sample/314001/DJ-Trace-After-Hours-Supreme-NYborn-Versatile-Extension-(Versatility-Remix)/', 'https://www.whosampled.com/sample/458161/Bomb-the-Bass-Winter-in-July-Supreme-NYborn-Versatile-Extension-(Versatility-Remix)/', 'https://www.whosampled.com/sample/326878/Etherwood-Amen-Roadtrip-Supreme-NYborn-Versatile-Extension-(Versatility-Remix)/']\n",
      "['https://www.whosampled.com/sample/575625/Twenty-One-Pilots-Lane-Boy-Supreme-NYborn-Versatile-Extension-(Versatility-Remix)/', 'https://www.whosampled.com/sample/314051/A-Tribe-Called-Quest-Bonita-Applebum-(Why%3F-Version)-Supreme-NYborn-Versatile-Extension-(Versatility-Remix)/', 'https://www.whosampled.com/sample/318041/Bad-Company-UK-DJ-Trace-Nitrous-Supreme-NYborn-Versatile-Extension-(Versatility-Remix)/', 'https://www.whosampled.com/sample/456624/Tribe-of-Issachar-Peter-Bouncer-Junglist-Supreme-NYborn-Versatile-Extension-(Versatility-Remix)/', 'https://www.whosampled.com/sample/344859/Netsky-Pirate-Bay-Supreme-NYborn-Versatile-Extension-(Versatility-Remix)/', 'https://www.whosampled.com/sample/368431/Calibre-No-Reply-Supreme-NYborn-Versatile-Extension-(Versatility-Remix)/', 'https://www.whosampled.com/sample/339238/The-Crystal-Method-Born-Too-Slow-Supreme-NYborn-Versatile-Extension-(Versatility-Remix)/', 'https://www.whosampled.com/sample/346669/Roni-Size-DJ-Die-Music-Box-Supreme-NYborn-Versatile-Extension-(Versatility-Remix)/', 'https://www.whosampled.com/sample/314001/DJ-Trace-After-Hours-Supreme-NYborn-Versatile-Extension-(Versatility-Remix)/', 'https://www.whosampled.com/sample/458161/Bomb-the-Bass-Winter-in-July-Supreme-NYborn-Versatile-Extension-(Versatility-Remix)/', 'https://www.whosampled.com/sample/326878/Etherwood-Amen-Roadtrip-Supreme-NYborn-Versatile-Extension-(Versatility-Remix)/', 'https://www.whosampled.com/sample/372259/Calibre-Another-Supreme-NYborn-Versatile-Extension-(Versatility-Remix)/']\n",
      "['https://www.whosampled.com/sample/575625/Twenty-One-Pilots-Lane-Boy-Supreme-NYborn-Versatile-Extension-(Versatility-Remix)/', 'https://www.whosampled.com/sample/314051/A-Tribe-Called-Quest-Bonita-Applebum-(Why%3F-Version)-Supreme-NYborn-Versatile-Extension-(Versatility-Remix)/', 'https://www.whosampled.com/sample/318041/Bad-Company-UK-DJ-Trace-Nitrous-Supreme-NYborn-Versatile-Extension-(Versatility-Remix)/', 'https://www.whosampled.com/sample/456624/Tribe-of-Issachar-Peter-Bouncer-Junglist-Supreme-NYborn-Versatile-Extension-(Versatility-Remix)/', 'https://www.whosampled.com/sample/344859/Netsky-Pirate-Bay-Supreme-NYborn-Versatile-Extension-(Versatility-Remix)/', 'https://www.whosampled.com/sample/368431/Calibre-No-Reply-Supreme-NYborn-Versatile-Extension-(Versatility-Remix)/', 'https://www.whosampled.com/sample/339238/The-Crystal-Method-Born-Too-Slow-Supreme-NYborn-Versatile-Extension-(Versatility-Remix)/', 'https://www.whosampled.com/sample/346669/Roni-Size-DJ-Die-Music-Box-Supreme-NYborn-Versatile-Extension-(Versatility-Remix)/', 'https://www.whosampled.com/sample/314001/DJ-Trace-After-Hours-Supreme-NYborn-Versatile-Extension-(Versatility-Remix)/', 'https://www.whosampled.com/sample/458161/Bomb-the-Bass-Winter-in-July-Supreme-NYborn-Versatile-Extension-(Versatility-Remix)/', 'https://www.whosampled.com/sample/326878/Etherwood-Amen-Roadtrip-Supreme-NYborn-Versatile-Extension-(Versatility-Remix)/', 'https://www.whosampled.com/sample/372259/Calibre-Another-Supreme-NYborn-Versatile-Extension-(Versatility-Remix)/', 'https://www.whosampled.com/sample/197745/DJ-Shadow-The-Number-Song-(Cut-Chemist-Remix)-Supreme-NYborn-Versatile-Extension-(Versatility-Remix)/']\n",
      "['https://www.whosampled.com/sample/575625/Twenty-One-Pilots-Lane-Boy-Supreme-NYborn-Versatile-Extension-(Versatility-Remix)/', 'https://www.whosampled.com/sample/314051/A-Tribe-Called-Quest-Bonita-Applebum-(Why%3F-Version)-Supreme-NYborn-Versatile-Extension-(Versatility-Remix)/', 'https://www.whosampled.com/sample/318041/Bad-Company-UK-DJ-Trace-Nitrous-Supreme-NYborn-Versatile-Extension-(Versatility-Remix)/', 'https://www.whosampled.com/sample/456624/Tribe-of-Issachar-Peter-Bouncer-Junglist-Supreme-NYborn-Versatile-Extension-(Versatility-Remix)/', 'https://www.whosampled.com/sample/344859/Netsky-Pirate-Bay-Supreme-NYborn-Versatile-Extension-(Versatility-Remix)/', 'https://www.whosampled.com/sample/368431/Calibre-No-Reply-Supreme-NYborn-Versatile-Extension-(Versatility-Remix)/', 'https://www.whosampled.com/sample/339238/The-Crystal-Method-Born-Too-Slow-Supreme-NYborn-Versatile-Extension-(Versatility-Remix)/', 'https://www.whosampled.com/sample/346669/Roni-Size-DJ-Die-Music-Box-Supreme-NYborn-Versatile-Extension-(Versatility-Remix)/', 'https://www.whosampled.com/sample/314001/DJ-Trace-After-Hours-Supreme-NYborn-Versatile-Extension-(Versatility-Remix)/', 'https://www.whosampled.com/sample/458161/Bomb-the-Bass-Winter-in-July-Supreme-NYborn-Versatile-Extension-(Versatility-Remix)/', 'https://www.whosampled.com/sample/326878/Etherwood-Amen-Roadtrip-Supreme-NYborn-Versatile-Extension-(Versatility-Remix)/', 'https://www.whosampled.com/sample/372259/Calibre-Another-Supreme-NYborn-Versatile-Extension-(Versatility-Remix)/', 'https://www.whosampled.com/sample/197745/DJ-Shadow-The-Number-Song-(Cut-Chemist-Remix)-Supreme-NYborn-Versatile-Extension-(Versatility-Remix)/', 'https://www.whosampled.com/sample/567680/David-Bergeaud-Rilgar-Hovercon-Intergalactic-Hoverboarding-Competition-Supreme-NYborn-Versatile-Extension-(Versatility-Remix)/']\n"
     ]
    },
    {
     "name": "stdout",
     "output_type": "stream",
     "text": [
      "['https://www.whosampled.com/sample/575625/Twenty-One-Pilots-Lane-Boy-Supreme-NYborn-Versatile-Extension-(Versatility-Remix)/', 'https://www.whosampled.com/sample/314051/A-Tribe-Called-Quest-Bonita-Applebum-(Why%3F-Version)-Supreme-NYborn-Versatile-Extension-(Versatility-Remix)/', 'https://www.whosampled.com/sample/318041/Bad-Company-UK-DJ-Trace-Nitrous-Supreme-NYborn-Versatile-Extension-(Versatility-Remix)/', 'https://www.whosampled.com/sample/456624/Tribe-of-Issachar-Peter-Bouncer-Junglist-Supreme-NYborn-Versatile-Extension-(Versatility-Remix)/', 'https://www.whosampled.com/sample/344859/Netsky-Pirate-Bay-Supreme-NYborn-Versatile-Extension-(Versatility-Remix)/', 'https://www.whosampled.com/sample/368431/Calibre-No-Reply-Supreme-NYborn-Versatile-Extension-(Versatility-Remix)/', 'https://www.whosampled.com/sample/339238/The-Crystal-Method-Born-Too-Slow-Supreme-NYborn-Versatile-Extension-(Versatility-Remix)/', 'https://www.whosampled.com/sample/346669/Roni-Size-DJ-Die-Music-Box-Supreme-NYborn-Versatile-Extension-(Versatility-Remix)/', 'https://www.whosampled.com/sample/314001/DJ-Trace-After-Hours-Supreme-NYborn-Versatile-Extension-(Versatility-Remix)/', 'https://www.whosampled.com/sample/458161/Bomb-the-Bass-Winter-in-July-Supreme-NYborn-Versatile-Extension-(Versatility-Remix)/', 'https://www.whosampled.com/sample/326878/Etherwood-Amen-Roadtrip-Supreme-NYborn-Versatile-Extension-(Versatility-Remix)/', 'https://www.whosampled.com/sample/372259/Calibre-Another-Supreme-NYborn-Versatile-Extension-(Versatility-Remix)/', 'https://www.whosampled.com/sample/197745/DJ-Shadow-The-Number-Song-(Cut-Chemist-Remix)-Supreme-NYborn-Versatile-Extension-(Versatility-Remix)/', 'https://www.whosampled.com/sample/567680/David-Bergeaud-Rilgar-Hovercon-Intergalactic-Hoverboarding-Competition-Supreme-NYborn-Versatile-Extension-(Versatility-Remix)/', 'https://www.whosampled.com/sample/329759/DRS-Enei-Count-to-Ten-Supreme-NYborn-Versatile-Extension-(Versatility-Remix)/']\n",
      "['https://www.whosampled.com/sample/575625/Twenty-One-Pilots-Lane-Boy-Supreme-NYborn-Versatile-Extension-(Versatility-Remix)/', 'https://www.whosampled.com/sample/314051/A-Tribe-Called-Quest-Bonita-Applebum-(Why%3F-Version)-Supreme-NYborn-Versatile-Extension-(Versatility-Remix)/', 'https://www.whosampled.com/sample/318041/Bad-Company-UK-DJ-Trace-Nitrous-Supreme-NYborn-Versatile-Extension-(Versatility-Remix)/', 'https://www.whosampled.com/sample/456624/Tribe-of-Issachar-Peter-Bouncer-Junglist-Supreme-NYborn-Versatile-Extension-(Versatility-Remix)/', 'https://www.whosampled.com/sample/344859/Netsky-Pirate-Bay-Supreme-NYborn-Versatile-Extension-(Versatility-Remix)/', 'https://www.whosampled.com/sample/368431/Calibre-No-Reply-Supreme-NYborn-Versatile-Extension-(Versatility-Remix)/', 'https://www.whosampled.com/sample/339238/The-Crystal-Method-Born-Too-Slow-Supreme-NYborn-Versatile-Extension-(Versatility-Remix)/', 'https://www.whosampled.com/sample/346669/Roni-Size-DJ-Die-Music-Box-Supreme-NYborn-Versatile-Extension-(Versatility-Remix)/', 'https://www.whosampled.com/sample/314001/DJ-Trace-After-Hours-Supreme-NYborn-Versatile-Extension-(Versatility-Remix)/', 'https://www.whosampled.com/sample/458161/Bomb-the-Bass-Winter-in-July-Supreme-NYborn-Versatile-Extension-(Versatility-Remix)/', 'https://www.whosampled.com/sample/326878/Etherwood-Amen-Roadtrip-Supreme-NYborn-Versatile-Extension-(Versatility-Remix)/', 'https://www.whosampled.com/sample/372259/Calibre-Another-Supreme-NYborn-Versatile-Extension-(Versatility-Remix)/', 'https://www.whosampled.com/sample/197745/DJ-Shadow-The-Number-Song-(Cut-Chemist-Remix)-Supreme-NYborn-Versatile-Extension-(Versatility-Remix)/', 'https://www.whosampled.com/sample/567680/David-Bergeaud-Rilgar-Hovercon-Intergalactic-Hoverboarding-Competition-Supreme-NYborn-Versatile-Extension-(Versatility-Remix)/', 'https://www.whosampled.com/sample/329759/DRS-Enei-Count-to-Ten-Supreme-NYborn-Versatile-Extension-(Versatility-Remix)/', 'https://www.whosampled.com/sample/521105/DJ-Suv-Everybody-Plays-the-Same-Supreme-NYborn-Versatile-Extension-(Versatility-Remix)/']\n",
      "{'name': 'Lane Boy', 'url': 'https://www.whosampled.com/Twenty-One-Pilots/Lane-Boy/', 'artist_url': 'https://www.whosampled.com/Twenty-One-Pilots/', 'artist_id': None}\n",
      "{'name': 'Bonita Applebum (Why? Version)', 'url': 'https://www.whosampled.com/A-Tribe-Called-Quest/Bonita-Applebum-(Why%3F-Version)/', 'artist_url': 'https://www.whosampled.com/A-Tribe-Called-Quest/', 'artist_id': None}\n",
      "{'name': 'Nitrous', 'url': 'https://www.whosampled.com/Bad-Company-UK/Nitrous/', 'artist_url': 'https://www.whosampled.com/Bad-Company-UK/', 'artist_id': None}\n",
      "{'name': 'Junglist', 'url': 'https://www.whosampled.com/Tribe-of-Issachar/Junglist/', 'artist_url': 'https://www.whosampled.com/Tribe-of-Issachar/', 'artist_id': None}\n",
      "{'name': 'Pirate Bay', 'url': 'https://www.whosampled.com/Netsky/Pirate-Bay/', 'artist_url': 'https://www.whosampled.com/Netsky/', 'artist_id': None}\n",
      "{'name': 'No Reply', 'url': 'https://www.whosampled.com/Calibre/No-Reply/', 'artist_url': 'https://www.whosampled.com/Calibre/', 'artist_id': None}\n",
      "{'name': 'Born Too Slow', 'url': 'https://www.whosampled.com/The-Crystal-Method/Born-Too-Slow/', 'artist_url': 'https://www.whosampled.com/The-Crystal-Method/', 'artist_id': None}\n",
      "{'name': 'Music Box', 'url': 'https://www.whosampled.com/Roni-Size/Music-Box/', 'artist_url': 'https://www.whosampled.com/Roni-Size/', 'artist_id': None}\n",
      "{'name': 'After Hours', 'url': 'https://www.whosampled.com/DJ-Trace/After-Hours/', 'artist_url': 'https://www.whosampled.com/DJ-Trace/', 'artist_id': None}\n",
      "{'name': 'Winter in July', 'url': 'https://www.whosampled.com/Bomb-the-Bass/Winter-in-July/', 'artist_url': 'https://www.whosampled.com/Bomb-the-Bass/', 'artist_id': None}\n",
      "{'name': 'Amen Roadtrip', 'url': 'https://www.whosampled.com/Etherwood/Amen-Roadtrip/', 'artist_url': 'https://www.whosampled.com/Etherwood/', 'artist_id': None}\n",
      "{'name': 'Another', 'url': 'https://www.whosampled.com/Calibre/Another/', 'artist_url': 'https://www.whosampled.com/Calibre/', 'artist_id': None}\n",
      "{'name': 'The Number Song (Cut Chemist Remix)', 'url': 'https://www.whosampled.com/DJ-Shadow/The-Number-Song-(Cut-Chemist-Remix)/', 'artist_url': 'https://www.whosampled.com/DJ-Shadow/', 'artist_id': None}\n",
      "{'name': 'Rilgar - Hovercon Intergalactic Hoverboarding Competition', 'url': 'https://www.whosampled.com/David-Bergeaud/Rilgar-Hovercon-Intergalactic-Hoverboarding-Competition/', 'artist_url': 'https://www.whosampled.com/David-Bergeaud/', 'artist_id': None}\n",
      "{'name': 'Count to Ten', 'url': 'https://www.whosampled.com/DRS/Count-to-Ten/', 'artist_url': 'https://www.whosampled.com/DRS/', 'artist_id': None}\n",
      "{'name': 'Everybody Plays the Same', 'url': 'https://www.whosampled.com/DJ-Suv/Everybody-Plays-the-Same/', 'artist_url': 'https://www.whosampled.com/DJ-Suv/', 'artist_id': None}\n",
      "https://www.whosampled.com/Supreme-NYborn/Versatile-Extension-(Versatility-Remix)/sampled/\n",
      "Was sampled in 62 songs\n",
      "['https://www.whosampled.com/sample/368445/Shimon-Andy-C-Quest-Supreme-NYborn-Versatile-Extension-(Versatility-Remix)/']\n",
      "['https://www.whosampled.com/sample/368445/Shimon-Andy-C-Quest-Supreme-NYborn-Versatile-Extension-(Versatility-Remix)/', 'https://www.whosampled.com/sample/392111/DJ-Fresh-Heavyweight-Supreme-NYborn-Versatile-Extension-(Versatility-Remix)/']\n",
      "['https://www.whosampled.com/sample/368445/Shimon-Andy-C-Quest-Supreme-NYborn-Versatile-Extension-(Versatility-Remix)/', 'https://www.whosampled.com/sample/392111/DJ-Fresh-Heavyweight-Supreme-NYborn-Versatile-Extension-(Versatility-Remix)/', 'https://www.whosampled.com/sample/422795/Marvellous-Cain-Hitman-Supreme-NYborn-Versatile-Extension-(Versatility-Remix)/']\n",
      "['https://www.whosampled.com/sample/368445/Shimon-Andy-C-Quest-Supreme-NYborn-Versatile-Extension-(Versatility-Remix)/', 'https://www.whosampled.com/sample/392111/DJ-Fresh-Heavyweight-Supreme-NYborn-Versatile-Extension-(Versatility-Remix)/', 'https://www.whosampled.com/sample/422795/Marvellous-Cain-Hitman-Supreme-NYborn-Versatile-Extension-(Versatility-Remix)/', 'https://www.whosampled.com/sample/584503/Brookes-Brothers-Majesty-Jones-Good-to-Me-Supreme-NYborn-Versatile-Extension-(Versatility-Remix)/']\n",
      "['https://www.whosampled.com/sample/368445/Shimon-Andy-C-Quest-Supreme-NYborn-Versatile-Extension-(Versatility-Remix)/', 'https://www.whosampled.com/sample/392111/DJ-Fresh-Heavyweight-Supreme-NYborn-Versatile-Extension-(Versatility-Remix)/', 'https://www.whosampled.com/sample/422795/Marvellous-Cain-Hitman-Supreme-NYborn-Versatile-Extension-(Versatility-Remix)/', 'https://www.whosampled.com/sample/584503/Brookes-Brothers-Majesty-Jones-Good-to-Me-Supreme-NYborn-Versatile-Extension-(Versatility-Remix)/', 'https://www.whosampled.com/sample/372260/Calibre-Dreamz-Dub-Supreme-NYborn-Versatile-Extension-(Versatility-Remix)/']\n"
     ]
    },
    {
     "name": "stdout",
     "output_type": "stream",
     "text": [
      "['https://www.whosampled.com/sample/368445/Shimon-Andy-C-Quest-Supreme-NYborn-Versatile-Extension-(Versatility-Remix)/', 'https://www.whosampled.com/sample/392111/DJ-Fresh-Heavyweight-Supreme-NYborn-Versatile-Extension-(Versatility-Remix)/', 'https://www.whosampled.com/sample/422795/Marvellous-Cain-Hitman-Supreme-NYborn-Versatile-Extension-(Versatility-Remix)/', 'https://www.whosampled.com/sample/584503/Brookes-Brothers-Majesty-Jones-Good-to-Me-Supreme-NYborn-Versatile-Extension-(Versatility-Remix)/', 'https://www.whosampled.com/sample/372260/Calibre-Dreamz-Dub-Supreme-NYborn-Versatile-Extension-(Versatility-Remix)/', 'https://www.whosampled.com/sample/479618/Total-Science-S.P.Y-Gangsta-Supreme-NYborn-Versatile-Extension-(Versatility-Remix)/']\n",
      "['https://www.whosampled.com/sample/368445/Shimon-Andy-C-Quest-Supreme-NYborn-Versatile-Extension-(Versatility-Remix)/', 'https://www.whosampled.com/sample/392111/DJ-Fresh-Heavyweight-Supreme-NYborn-Versatile-Extension-(Versatility-Remix)/', 'https://www.whosampled.com/sample/422795/Marvellous-Cain-Hitman-Supreme-NYborn-Versatile-Extension-(Versatility-Remix)/', 'https://www.whosampled.com/sample/584503/Brookes-Brothers-Majesty-Jones-Good-to-Me-Supreme-NYborn-Versatile-Extension-(Versatility-Remix)/', 'https://www.whosampled.com/sample/372260/Calibre-Dreamz-Dub-Supreme-NYborn-Versatile-Extension-(Versatility-Remix)/', 'https://www.whosampled.com/sample/479618/Total-Science-S.P.Y-Gangsta-Supreme-NYborn-Versatile-Extension-(Versatility-Remix)/', 'https://www.whosampled.com/sample/321565/DJ-Trace-Miles-High-Supreme-NYborn-Versatile-Extension-(Versatility-Remix)/']\n",
      "['https://www.whosampled.com/sample/368445/Shimon-Andy-C-Quest-Supreme-NYborn-Versatile-Extension-(Versatility-Remix)/', 'https://www.whosampled.com/sample/392111/DJ-Fresh-Heavyweight-Supreme-NYborn-Versatile-Extension-(Versatility-Remix)/', 'https://www.whosampled.com/sample/422795/Marvellous-Cain-Hitman-Supreme-NYborn-Versatile-Extension-(Versatility-Remix)/', 'https://www.whosampled.com/sample/584503/Brookes-Brothers-Majesty-Jones-Good-to-Me-Supreme-NYborn-Versatile-Extension-(Versatility-Remix)/', 'https://www.whosampled.com/sample/372260/Calibre-Dreamz-Dub-Supreme-NYborn-Versatile-Extension-(Versatility-Remix)/', 'https://www.whosampled.com/sample/479618/Total-Science-S.P.Y-Gangsta-Supreme-NYborn-Versatile-Extension-(Versatility-Remix)/', 'https://www.whosampled.com/sample/321565/DJ-Trace-Miles-High-Supreme-NYborn-Versatile-Extension-(Versatility-Remix)/', 'https://www.whosampled.com/sample/268198/Loadstar-BLVD-Supreme-NYborn-Versatile-Extension-(Versatility-Remix)/']\n",
      "['https://www.whosampled.com/sample/368445/Shimon-Andy-C-Quest-Supreme-NYborn-Versatile-Extension-(Versatility-Remix)/', 'https://www.whosampled.com/sample/392111/DJ-Fresh-Heavyweight-Supreme-NYborn-Versatile-Extension-(Versatility-Remix)/', 'https://www.whosampled.com/sample/422795/Marvellous-Cain-Hitman-Supreme-NYborn-Versatile-Extension-(Versatility-Remix)/', 'https://www.whosampled.com/sample/584503/Brookes-Brothers-Majesty-Jones-Good-to-Me-Supreme-NYborn-Versatile-Extension-(Versatility-Remix)/', 'https://www.whosampled.com/sample/372260/Calibre-Dreamz-Dub-Supreme-NYborn-Versatile-Extension-(Versatility-Remix)/', 'https://www.whosampled.com/sample/479618/Total-Science-S.P.Y-Gangsta-Supreme-NYborn-Versatile-Extension-(Versatility-Remix)/', 'https://www.whosampled.com/sample/321565/DJ-Trace-Miles-High-Supreme-NYborn-Versatile-Extension-(Versatility-Remix)/', 'https://www.whosampled.com/sample/268198/Loadstar-BLVD-Supreme-NYborn-Versatile-Extension-(Versatility-Remix)/', 'https://www.whosampled.com/sample/338483/Just-Jungle-Sky-Supreme-NYborn-Versatile-Extension-(Versatility-Remix)/']\n",
      "['https://www.whosampled.com/sample/368445/Shimon-Andy-C-Quest-Supreme-NYborn-Versatile-Extension-(Versatility-Remix)/', 'https://www.whosampled.com/sample/392111/DJ-Fresh-Heavyweight-Supreme-NYborn-Versatile-Extension-(Versatility-Remix)/', 'https://www.whosampled.com/sample/422795/Marvellous-Cain-Hitman-Supreme-NYborn-Versatile-Extension-(Versatility-Remix)/', 'https://www.whosampled.com/sample/584503/Brookes-Brothers-Majesty-Jones-Good-to-Me-Supreme-NYborn-Versatile-Extension-(Versatility-Remix)/', 'https://www.whosampled.com/sample/372260/Calibre-Dreamz-Dub-Supreme-NYborn-Versatile-Extension-(Versatility-Remix)/', 'https://www.whosampled.com/sample/479618/Total-Science-S.P.Y-Gangsta-Supreme-NYborn-Versatile-Extension-(Versatility-Remix)/', 'https://www.whosampled.com/sample/321565/DJ-Trace-Miles-High-Supreme-NYborn-Versatile-Extension-(Versatility-Remix)/', 'https://www.whosampled.com/sample/268198/Loadstar-BLVD-Supreme-NYborn-Versatile-Extension-(Versatility-Remix)/', 'https://www.whosampled.com/sample/338483/Just-Jungle-Sky-Supreme-NYborn-Versatile-Extension-(Versatility-Remix)/', 'https://www.whosampled.com/sample/576906/Krome-%26-Time-The-Slammer-Supreme-NYborn-Versatile-Extension-(Versatility-Remix)/']\n",
      "['https://www.whosampled.com/sample/368445/Shimon-Andy-C-Quest-Supreme-NYborn-Versatile-Extension-(Versatility-Remix)/', 'https://www.whosampled.com/sample/392111/DJ-Fresh-Heavyweight-Supreme-NYborn-Versatile-Extension-(Versatility-Remix)/', 'https://www.whosampled.com/sample/422795/Marvellous-Cain-Hitman-Supreme-NYborn-Versatile-Extension-(Versatility-Remix)/', 'https://www.whosampled.com/sample/584503/Brookes-Brothers-Majesty-Jones-Good-to-Me-Supreme-NYborn-Versatile-Extension-(Versatility-Remix)/', 'https://www.whosampled.com/sample/372260/Calibre-Dreamz-Dub-Supreme-NYborn-Versatile-Extension-(Versatility-Remix)/', 'https://www.whosampled.com/sample/479618/Total-Science-S.P.Y-Gangsta-Supreme-NYborn-Versatile-Extension-(Versatility-Remix)/', 'https://www.whosampled.com/sample/321565/DJ-Trace-Miles-High-Supreme-NYborn-Versatile-Extension-(Versatility-Remix)/', 'https://www.whosampled.com/sample/268198/Loadstar-BLVD-Supreme-NYborn-Versatile-Extension-(Versatility-Remix)/', 'https://www.whosampled.com/sample/338483/Just-Jungle-Sky-Supreme-NYborn-Versatile-Extension-(Versatility-Remix)/', 'https://www.whosampled.com/sample/576906/Krome-%26-Time-The-Slammer-Supreme-NYborn-Versatile-Extension-(Versatility-Remix)/', 'https://www.whosampled.com/sample/602363/Rockwell-(Drum-%26-Bass)-User-Supreme-NYborn-Versatile-Extension-(Versatility-Remix)/']\n",
      "['https://www.whosampled.com/sample/368445/Shimon-Andy-C-Quest-Supreme-NYborn-Versatile-Extension-(Versatility-Remix)/', 'https://www.whosampled.com/sample/392111/DJ-Fresh-Heavyweight-Supreme-NYborn-Versatile-Extension-(Versatility-Remix)/', 'https://www.whosampled.com/sample/422795/Marvellous-Cain-Hitman-Supreme-NYborn-Versatile-Extension-(Versatility-Remix)/', 'https://www.whosampled.com/sample/584503/Brookes-Brothers-Majesty-Jones-Good-to-Me-Supreme-NYborn-Versatile-Extension-(Versatility-Remix)/', 'https://www.whosampled.com/sample/372260/Calibre-Dreamz-Dub-Supreme-NYborn-Versatile-Extension-(Versatility-Remix)/', 'https://www.whosampled.com/sample/479618/Total-Science-S.P.Y-Gangsta-Supreme-NYborn-Versatile-Extension-(Versatility-Remix)/', 'https://www.whosampled.com/sample/321565/DJ-Trace-Miles-High-Supreme-NYborn-Versatile-Extension-(Versatility-Remix)/', 'https://www.whosampled.com/sample/268198/Loadstar-BLVD-Supreme-NYborn-Versatile-Extension-(Versatility-Remix)/', 'https://www.whosampled.com/sample/338483/Just-Jungle-Sky-Supreme-NYborn-Versatile-Extension-(Versatility-Remix)/', 'https://www.whosampled.com/sample/576906/Krome-%26-Time-The-Slammer-Supreme-NYborn-Versatile-Extension-(Versatility-Remix)/', 'https://www.whosampled.com/sample/602363/Rockwell-(Drum-%26-Bass)-User-Supreme-NYborn-Versatile-Extension-(Versatility-Remix)/', 'https://www.whosampled.com/sample/319327/Freestylers-Spaced-Invader-Supreme-NYborn-Versatile-Extension-(Versatility-Remix)/']\n",
      "['https://www.whosampled.com/sample/368445/Shimon-Andy-C-Quest-Supreme-NYborn-Versatile-Extension-(Versatility-Remix)/', 'https://www.whosampled.com/sample/392111/DJ-Fresh-Heavyweight-Supreme-NYborn-Versatile-Extension-(Versatility-Remix)/', 'https://www.whosampled.com/sample/422795/Marvellous-Cain-Hitman-Supreme-NYborn-Versatile-Extension-(Versatility-Remix)/', 'https://www.whosampled.com/sample/584503/Brookes-Brothers-Majesty-Jones-Good-to-Me-Supreme-NYborn-Versatile-Extension-(Versatility-Remix)/', 'https://www.whosampled.com/sample/372260/Calibre-Dreamz-Dub-Supreme-NYborn-Versatile-Extension-(Versatility-Remix)/', 'https://www.whosampled.com/sample/479618/Total-Science-S.P.Y-Gangsta-Supreme-NYborn-Versatile-Extension-(Versatility-Remix)/', 'https://www.whosampled.com/sample/321565/DJ-Trace-Miles-High-Supreme-NYborn-Versatile-Extension-(Versatility-Remix)/', 'https://www.whosampled.com/sample/268198/Loadstar-BLVD-Supreme-NYborn-Versatile-Extension-(Versatility-Remix)/', 'https://www.whosampled.com/sample/338483/Just-Jungle-Sky-Supreme-NYborn-Versatile-Extension-(Versatility-Remix)/', 'https://www.whosampled.com/sample/576906/Krome-%26-Time-The-Slammer-Supreme-NYborn-Versatile-Extension-(Versatility-Remix)/', 'https://www.whosampled.com/sample/602363/Rockwell-(Drum-%26-Bass)-User-Supreme-NYborn-Versatile-Extension-(Versatility-Remix)/', 'https://www.whosampled.com/sample/319327/Freestylers-Spaced-Invader-Supreme-NYborn-Versatile-Extension-(Versatility-Remix)/', 'https://www.whosampled.com/sample/333001/Chase-%26-Status-Bo-Saris-Breathing-Supreme-NYborn-Versatile-Extension-(Versatility-Remix)/']\n"
     ]
    },
    {
     "name": "stdout",
     "output_type": "stream",
     "text": [
      "['https://www.whosampled.com/sample/368445/Shimon-Andy-C-Quest-Supreme-NYborn-Versatile-Extension-(Versatility-Remix)/', 'https://www.whosampled.com/sample/392111/DJ-Fresh-Heavyweight-Supreme-NYborn-Versatile-Extension-(Versatility-Remix)/', 'https://www.whosampled.com/sample/422795/Marvellous-Cain-Hitman-Supreme-NYborn-Versatile-Extension-(Versatility-Remix)/', 'https://www.whosampled.com/sample/584503/Brookes-Brothers-Majesty-Jones-Good-to-Me-Supreme-NYborn-Versatile-Extension-(Versatility-Remix)/', 'https://www.whosampled.com/sample/372260/Calibre-Dreamz-Dub-Supreme-NYborn-Versatile-Extension-(Versatility-Remix)/', 'https://www.whosampled.com/sample/479618/Total-Science-S.P.Y-Gangsta-Supreme-NYborn-Versatile-Extension-(Versatility-Remix)/', 'https://www.whosampled.com/sample/321565/DJ-Trace-Miles-High-Supreme-NYborn-Versatile-Extension-(Versatility-Remix)/', 'https://www.whosampled.com/sample/268198/Loadstar-BLVD-Supreme-NYborn-Versatile-Extension-(Versatility-Remix)/', 'https://www.whosampled.com/sample/338483/Just-Jungle-Sky-Supreme-NYborn-Versatile-Extension-(Versatility-Remix)/', 'https://www.whosampled.com/sample/576906/Krome-%26-Time-The-Slammer-Supreme-NYborn-Versatile-Extension-(Versatility-Remix)/', 'https://www.whosampled.com/sample/602363/Rockwell-(Drum-%26-Bass)-User-Supreme-NYborn-Versatile-Extension-(Versatility-Remix)/', 'https://www.whosampled.com/sample/319327/Freestylers-Spaced-Invader-Supreme-NYborn-Versatile-Extension-(Versatility-Remix)/', 'https://www.whosampled.com/sample/333001/Chase-%26-Status-Bo-Saris-Breathing-Supreme-NYborn-Versatile-Extension-(Versatility-Remix)/', 'https://www.whosampled.com/sample/572962/Co-Cain-Roll-Dat-Shit-Supreme-NYborn-Versatile-Extension-(Versatility-Remix)/']\n",
      "['https://www.whosampled.com/sample/368445/Shimon-Andy-C-Quest-Supreme-NYborn-Versatile-Extension-(Versatility-Remix)/', 'https://www.whosampled.com/sample/392111/DJ-Fresh-Heavyweight-Supreme-NYborn-Versatile-Extension-(Versatility-Remix)/', 'https://www.whosampled.com/sample/422795/Marvellous-Cain-Hitman-Supreme-NYborn-Versatile-Extension-(Versatility-Remix)/', 'https://www.whosampled.com/sample/584503/Brookes-Brothers-Majesty-Jones-Good-to-Me-Supreme-NYborn-Versatile-Extension-(Versatility-Remix)/', 'https://www.whosampled.com/sample/372260/Calibre-Dreamz-Dub-Supreme-NYborn-Versatile-Extension-(Versatility-Remix)/', 'https://www.whosampled.com/sample/479618/Total-Science-S.P.Y-Gangsta-Supreme-NYborn-Versatile-Extension-(Versatility-Remix)/', 'https://www.whosampled.com/sample/321565/DJ-Trace-Miles-High-Supreme-NYborn-Versatile-Extension-(Versatility-Remix)/', 'https://www.whosampled.com/sample/268198/Loadstar-BLVD-Supreme-NYborn-Versatile-Extension-(Versatility-Remix)/', 'https://www.whosampled.com/sample/338483/Just-Jungle-Sky-Supreme-NYborn-Versatile-Extension-(Versatility-Remix)/', 'https://www.whosampled.com/sample/576906/Krome-%26-Time-The-Slammer-Supreme-NYborn-Versatile-Extension-(Versatility-Remix)/', 'https://www.whosampled.com/sample/602363/Rockwell-(Drum-%26-Bass)-User-Supreme-NYborn-Versatile-Extension-(Versatility-Remix)/', 'https://www.whosampled.com/sample/319327/Freestylers-Spaced-Invader-Supreme-NYborn-Versatile-Extension-(Versatility-Remix)/', 'https://www.whosampled.com/sample/333001/Chase-%26-Status-Bo-Saris-Breathing-Supreme-NYborn-Versatile-Extension-(Versatility-Remix)/', 'https://www.whosampled.com/sample/572962/Co-Cain-Roll-Dat-Shit-Supreme-NYborn-Versatile-Extension-(Versatility-Remix)/', 'https://www.whosampled.com/sample/364130/Marvellous-Cain-Bizzy-B-Tempo-O%27Neil-Everyday-(Mix-1)-Supreme-NYborn-Versatile-Extension-(Versatility-Remix)/']\n",
      "['https://www.whosampled.com/sample/368445/Shimon-Andy-C-Quest-Supreme-NYborn-Versatile-Extension-(Versatility-Remix)/', 'https://www.whosampled.com/sample/392111/DJ-Fresh-Heavyweight-Supreme-NYborn-Versatile-Extension-(Versatility-Remix)/', 'https://www.whosampled.com/sample/422795/Marvellous-Cain-Hitman-Supreme-NYborn-Versatile-Extension-(Versatility-Remix)/', 'https://www.whosampled.com/sample/584503/Brookes-Brothers-Majesty-Jones-Good-to-Me-Supreme-NYborn-Versatile-Extension-(Versatility-Remix)/', 'https://www.whosampled.com/sample/372260/Calibre-Dreamz-Dub-Supreme-NYborn-Versatile-Extension-(Versatility-Remix)/', 'https://www.whosampled.com/sample/479618/Total-Science-S.P.Y-Gangsta-Supreme-NYborn-Versatile-Extension-(Versatility-Remix)/', 'https://www.whosampled.com/sample/321565/DJ-Trace-Miles-High-Supreme-NYborn-Versatile-Extension-(Versatility-Remix)/', 'https://www.whosampled.com/sample/268198/Loadstar-BLVD-Supreme-NYborn-Versatile-Extension-(Versatility-Remix)/', 'https://www.whosampled.com/sample/338483/Just-Jungle-Sky-Supreme-NYborn-Versatile-Extension-(Versatility-Remix)/', 'https://www.whosampled.com/sample/576906/Krome-%26-Time-The-Slammer-Supreme-NYborn-Versatile-Extension-(Versatility-Remix)/', 'https://www.whosampled.com/sample/602363/Rockwell-(Drum-%26-Bass)-User-Supreme-NYborn-Versatile-Extension-(Versatility-Remix)/', 'https://www.whosampled.com/sample/319327/Freestylers-Spaced-Invader-Supreme-NYborn-Versatile-Extension-(Versatility-Remix)/', 'https://www.whosampled.com/sample/333001/Chase-%26-Status-Bo-Saris-Breathing-Supreme-NYborn-Versatile-Extension-(Versatility-Remix)/', 'https://www.whosampled.com/sample/572962/Co-Cain-Roll-Dat-Shit-Supreme-NYborn-Versatile-Extension-(Versatility-Remix)/', 'https://www.whosampled.com/sample/364130/Marvellous-Cain-Bizzy-B-Tempo-O%27Neil-Everyday-(Mix-1)-Supreme-NYborn-Versatile-Extension-(Versatility-Remix)/', 'https://www.whosampled.com/sample/393947/Three-Times-Dope-Mr.-Sandman-(Extended-Club-Mix)-Supreme-NYborn-Versatile-Extension-(Versatility-Remix)/']\n",
      "{'name': 'Quest', 'url': 'https://www.whosampled.com/Shimon/Quest/', 'artist_url': 'https://www.whosampled.com/Shimon/', 'artist_id': None}\n",
      "{'name': 'Heavyweight', 'url': 'https://www.whosampled.com/DJ-Fresh/Heavyweight/', 'artist_url': 'https://www.whosampled.com/DJ-Fresh/', 'artist_id': None}\n",
      "{'name': 'Hitman', 'url': 'https://www.whosampled.com/Marvellous-Cain/Hitman/', 'artist_url': 'https://www.whosampled.com/Marvellous-Cain/', 'artist_id': None}\n",
      "{'name': 'Good to Me', 'url': 'https://www.whosampled.com/Brookes-Brothers/Good-to-Me/', 'artist_url': 'https://www.whosampled.com/Brookes-Brothers/', 'artist_id': None}\n",
      "{'name': 'Dreamz Dub', 'url': 'https://www.whosampled.com/Calibre/Dreamz-Dub/', 'artist_url': 'https://www.whosampled.com/Calibre/', 'artist_id': None}\n",
      "{'name': 'Gangsta', 'url': 'https://www.whosampled.com/Total-Science/Gangsta/', 'artist_url': 'https://www.whosampled.com/Total-Science/', 'artist_id': None}\n",
      "{'name': 'Miles High', 'url': 'https://www.whosampled.com/DJ-Trace/Miles-High/', 'artist_url': 'https://www.whosampled.com/DJ-Trace/', 'artist_id': None}\n",
      "{'name': 'BLVD', 'url': 'https://www.whosampled.com/Loadstar/BLVD/', 'artist_url': 'https://www.whosampled.com/Loadstar/', 'artist_id': None}\n",
      "{'name': 'Sky', 'url': 'https://www.whosampled.com/Just-Jungle/Sky/', 'artist_url': 'https://www.whosampled.com/Just-Jungle/', 'artist_id': None}\n",
      "{'name': 'The Slammer', 'url': 'https://www.whosampled.com/Krome-%26-Time/The-Slammer/', 'artist_url': 'https://www.whosampled.com/Krome-%26-Time/', 'artist_id': None}\n",
      "{'name': 'User', 'url': 'https://www.whosampled.com/Rockwell-(Drum-%26-Bass)/User/', 'artist_url': 'https://www.whosampled.com/Rockwell-(Drum-%26-Bass)/', 'artist_id': None}\n",
      "{'name': 'Spaced Invader', 'url': 'https://www.whosampled.com/Freestylers/Spaced-Invader/', 'artist_url': 'https://www.whosampled.com/Freestylers/', 'artist_id': None}\n",
      "{'name': 'Breathing', 'url': 'https://www.whosampled.com/Chase-%26-Status/Breathing/', 'artist_url': 'https://www.whosampled.com/Chase-%26-Status/', 'artist_id': None}\n",
      "{'name': 'Roll Dat Shit', 'url': 'https://www.whosampled.com/Co-Cain/Roll-Dat-Shit/', 'artist_url': 'https://www.whosampled.com/Co-Cain/', 'artist_id': None}\n",
      "{'name': 'Everyday (Mix 1)', 'url': 'https://www.whosampled.com/Marvellous-Cain/Everyday-(Mix-1)/', 'artist_url': 'https://www.whosampled.com/Marvellous-Cain/', 'artist_id': None}\n",
      "{'name': 'Mr. Sandman (Extended Club Mix)', 'url': 'https://www.whosampled.com/Three-Times-Dope/Mr.-Sandman-(Extended-Club-Mix)/', 'artist_url': 'https://www.whosampled.com/Three-Times-Dope/', 'artist_id': None}\n"
     ]
    },
    {
     "name": "stdout",
     "output_type": "stream",
     "text": [
      "https://www.whosampled.com/Supreme-NYborn/Versatile-Extension-(Versatility-Remix)/sampled/?cp=2\n",
      "Was sampled in 62 songs\n",
      "['https://www.whosampled.com/sample/340569/Fanu-Amok-Supreme-NYborn-Versatile-Extension-(Versatility-Remix)/']\n",
      "['https://www.whosampled.com/sample/340569/Fanu-Amok-Supreme-NYborn-Versatile-Extension-(Versatility-Remix)/', 'https://www.whosampled.com/sample/345185/Command-Strange-Pleasure-Supreme-NYborn-Versatile-Extension-(Versatility-Remix)/']\n",
      "['https://www.whosampled.com/sample/340569/Fanu-Amok-Supreme-NYborn-Versatile-Extension-(Versatility-Remix)/', 'https://www.whosampled.com/sample/345185/Command-Strange-Pleasure-Supreme-NYborn-Versatile-Extension-(Versatility-Remix)/', 'https://www.whosampled.com/sample/427282/Dark-Soldier-Dark-Soldier-(Back-in-the-Day-Mix)-Supreme-NYborn-Versatile-Extension-(Versatility-Remix)/']\n",
      "['https://www.whosampled.com/sample/340569/Fanu-Amok-Supreme-NYborn-Versatile-Extension-(Versatility-Remix)/', 'https://www.whosampled.com/sample/345185/Command-Strange-Pleasure-Supreme-NYborn-Versatile-Extension-(Versatility-Remix)/', 'https://www.whosampled.com/sample/427282/Dark-Soldier-Dark-Soldier-(Back-in-the-Day-Mix)-Supreme-NYborn-Versatile-Extension-(Versatility-Remix)/', 'https://www.whosampled.com/sample/471534/Danny-Breaks-Rollin%27-Supreme-NYborn-Versatile-Extension-(Versatility-Remix)/']\n",
      "['https://www.whosampled.com/sample/340569/Fanu-Amok-Supreme-NYborn-Versatile-Extension-(Versatility-Remix)/', 'https://www.whosampled.com/sample/345185/Command-Strange-Pleasure-Supreme-NYborn-Versatile-Extension-(Versatility-Remix)/', 'https://www.whosampled.com/sample/427282/Dark-Soldier-Dark-Soldier-(Back-in-the-Day-Mix)-Supreme-NYborn-Versatile-Extension-(Versatility-Remix)/', 'https://www.whosampled.com/sample/471534/Danny-Breaks-Rollin%27-Supreme-NYborn-Versatile-Extension-(Versatility-Remix)/', 'https://www.whosampled.com/sample/470848/Tribe-of-Issachar-Peter-Bouncer-Fever-(Defending-Souljah)-Supreme-NYborn-Versatile-Extension-(Versatility-Remix)/']\n",
      "['https://www.whosampled.com/sample/340569/Fanu-Amok-Supreme-NYborn-Versatile-Extension-(Versatility-Remix)/', 'https://www.whosampled.com/sample/345185/Command-Strange-Pleasure-Supreme-NYborn-Versatile-Extension-(Versatility-Remix)/', 'https://www.whosampled.com/sample/427282/Dark-Soldier-Dark-Soldier-(Back-in-the-Day-Mix)-Supreme-NYborn-Versatile-Extension-(Versatility-Remix)/', 'https://www.whosampled.com/sample/471534/Danny-Breaks-Rollin%27-Supreme-NYborn-Versatile-Extension-(Versatility-Remix)/', 'https://www.whosampled.com/sample/470848/Tribe-of-Issachar-Peter-Bouncer-Fever-(Defending-Souljah)-Supreme-NYborn-Versatile-Extension-(Versatility-Remix)/', 'https://www.whosampled.com/sample/553992/TC-Little-Grace-Show-Some-Love-Supreme-NYborn-Versatile-Extension-(Versatility-Remix)/']\n",
      "['https://www.whosampled.com/sample/340569/Fanu-Amok-Supreme-NYborn-Versatile-Extension-(Versatility-Remix)/', 'https://www.whosampled.com/sample/345185/Command-Strange-Pleasure-Supreme-NYborn-Versatile-Extension-(Versatility-Remix)/', 'https://www.whosampled.com/sample/427282/Dark-Soldier-Dark-Soldier-(Back-in-the-Day-Mix)-Supreme-NYborn-Versatile-Extension-(Versatility-Remix)/', 'https://www.whosampled.com/sample/471534/Danny-Breaks-Rollin%27-Supreme-NYborn-Versatile-Extension-(Versatility-Remix)/', 'https://www.whosampled.com/sample/470848/Tribe-of-Issachar-Peter-Bouncer-Fever-(Defending-Souljah)-Supreme-NYborn-Versatile-Extension-(Versatility-Remix)/', 'https://www.whosampled.com/sample/553992/TC-Little-Grace-Show-Some-Love-Supreme-NYborn-Versatile-Extension-(Versatility-Remix)/', 'https://www.whosampled.com/sample/519643/A-Sides-101-Breaks-Supreme-NYborn-Versatile-Extension-(Versatility-Remix)/']\n",
      "['https://www.whosampled.com/sample/340569/Fanu-Amok-Supreme-NYborn-Versatile-Extension-(Versatility-Remix)/', 'https://www.whosampled.com/sample/345185/Command-Strange-Pleasure-Supreme-NYborn-Versatile-Extension-(Versatility-Remix)/', 'https://www.whosampled.com/sample/427282/Dark-Soldier-Dark-Soldier-(Back-in-the-Day-Mix)-Supreme-NYborn-Versatile-Extension-(Versatility-Remix)/', 'https://www.whosampled.com/sample/471534/Danny-Breaks-Rollin%27-Supreme-NYborn-Versatile-Extension-(Versatility-Remix)/', 'https://www.whosampled.com/sample/470848/Tribe-of-Issachar-Peter-Bouncer-Fever-(Defending-Souljah)-Supreme-NYborn-Versatile-Extension-(Versatility-Remix)/', 'https://www.whosampled.com/sample/553992/TC-Little-Grace-Show-Some-Love-Supreme-NYborn-Versatile-Extension-(Versatility-Remix)/', 'https://www.whosampled.com/sample/519643/A-Sides-101-Breaks-Supreme-NYborn-Versatile-Extension-(Versatility-Remix)/', 'https://www.whosampled.com/sample/410148/Rene-Lavice-Ivy-Mairi-The-Calling-Supreme-NYborn-Versatile-Extension-(Versatility-Remix)/']\n",
      "['https://www.whosampled.com/sample/340569/Fanu-Amok-Supreme-NYborn-Versatile-Extension-(Versatility-Remix)/', 'https://www.whosampled.com/sample/345185/Command-Strange-Pleasure-Supreme-NYborn-Versatile-Extension-(Versatility-Remix)/', 'https://www.whosampled.com/sample/427282/Dark-Soldier-Dark-Soldier-(Back-in-the-Day-Mix)-Supreme-NYborn-Versatile-Extension-(Versatility-Remix)/', 'https://www.whosampled.com/sample/471534/Danny-Breaks-Rollin%27-Supreme-NYborn-Versatile-Extension-(Versatility-Remix)/', 'https://www.whosampled.com/sample/470848/Tribe-of-Issachar-Peter-Bouncer-Fever-(Defending-Souljah)-Supreme-NYborn-Versatile-Extension-(Versatility-Remix)/', 'https://www.whosampled.com/sample/553992/TC-Little-Grace-Show-Some-Love-Supreme-NYborn-Versatile-Extension-(Versatility-Remix)/', 'https://www.whosampled.com/sample/519643/A-Sides-101-Breaks-Supreme-NYborn-Versatile-Extension-(Versatility-Remix)/', 'https://www.whosampled.com/sample/410148/Rene-Lavice-Ivy-Mairi-The-Calling-Supreme-NYborn-Versatile-Extension-(Versatility-Remix)/', 'https://www.whosampled.com/sample/345672/Eastcolors-Go-to-Nowhere-Supreme-NYborn-Versatile-Extension-(Versatility-Remix)/']\n",
      "['https://www.whosampled.com/sample/340569/Fanu-Amok-Supreme-NYborn-Versatile-Extension-(Versatility-Remix)/', 'https://www.whosampled.com/sample/345185/Command-Strange-Pleasure-Supreme-NYborn-Versatile-Extension-(Versatility-Remix)/', 'https://www.whosampled.com/sample/427282/Dark-Soldier-Dark-Soldier-(Back-in-the-Day-Mix)-Supreme-NYborn-Versatile-Extension-(Versatility-Remix)/', 'https://www.whosampled.com/sample/471534/Danny-Breaks-Rollin%27-Supreme-NYborn-Versatile-Extension-(Versatility-Remix)/', 'https://www.whosampled.com/sample/470848/Tribe-of-Issachar-Peter-Bouncer-Fever-(Defending-Souljah)-Supreme-NYborn-Versatile-Extension-(Versatility-Remix)/', 'https://www.whosampled.com/sample/553992/TC-Little-Grace-Show-Some-Love-Supreme-NYborn-Versatile-Extension-(Versatility-Remix)/', 'https://www.whosampled.com/sample/519643/A-Sides-101-Breaks-Supreme-NYborn-Versatile-Extension-(Versatility-Remix)/', 'https://www.whosampled.com/sample/410148/Rene-Lavice-Ivy-Mairi-The-Calling-Supreme-NYborn-Versatile-Extension-(Versatility-Remix)/', 'https://www.whosampled.com/sample/345672/Eastcolors-Go-to-Nowhere-Supreme-NYborn-Versatile-Extension-(Versatility-Remix)/', 'https://www.whosampled.com/sample/345151/BCee-Shaz-Sparks-Looking-Glass-Supreme-NYborn-Versatile-Extension-(Versatility-Remix)/']\n",
      "['https://www.whosampled.com/sample/340569/Fanu-Amok-Supreme-NYborn-Versatile-Extension-(Versatility-Remix)/', 'https://www.whosampled.com/sample/345185/Command-Strange-Pleasure-Supreme-NYborn-Versatile-Extension-(Versatility-Remix)/', 'https://www.whosampled.com/sample/427282/Dark-Soldier-Dark-Soldier-(Back-in-the-Day-Mix)-Supreme-NYborn-Versatile-Extension-(Versatility-Remix)/', 'https://www.whosampled.com/sample/471534/Danny-Breaks-Rollin%27-Supreme-NYborn-Versatile-Extension-(Versatility-Remix)/', 'https://www.whosampled.com/sample/470848/Tribe-of-Issachar-Peter-Bouncer-Fever-(Defending-Souljah)-Supreme-NYborn-Versatile-Extension-(Versatility-Remix)/', 'https://www.whosampled.com/sample/553992/TC-Little-Grace-Show-Some-Love-Supreme-NYborn-Versatile-Extension-(Versatility-Remix)/', 'https://www.whosampled.com/sample/519643/A-Sides-101-Breaks-Supreme-NYborn-Versatile-Extension-(Versatility-Remix)/', 'https://www.whosampled.com/sample/410148/Rene-Lavice-Ivy-Mairi-The-Calling-Supreme-NYborn-Versatile-Extension-(Versatility-Remix)/', 'https://www.whosampled.com/sample/345672/Eastcolors-Go-to-Nowhere-Supreme-NYborn-Versatile-Extension-(Versatility-Remix)/', 'https://www.whosampled.com/sample/345151/BCee-Shaz-Sparks-Looking-Glass-Supreme-NYborn-Versatile-Extension-(Versatility-Remix)/', 'https://www.whosampled.com/sample/346219/Technical-Itch-The-Virus-Supreme-NYborn-Versatile-Extension-(Versatility-Remix)/']\n",
      "['https://www.whosampled.com/sample/340569/Fanu-Amok-Supreme-NYborn-Versatile-Extension-(Versatility-Remix)/', 'https://www.whosampled.com/sample/345185/Command-Strange-Pleasure-Supreme-NYborn-Versatile-Extension-(Versatility-Remix)/', 'https://www.whosampled.com/sample/427282/Dark-Soldier-Dark-Soldier-(Back-in-the-Day-Mix)-Supreme-NYborn-Versatile-Extension-(Versatility-Remix)/', 'https://www.whosampled.com/sample/471534/Danny-Breaks-Rollin%27-Supreme-NYborn-Versatile-Extension-(Versatility-Remix)/', 'https://www.whosampled.com/sample/470848/Tribe-of-Issachar-Peter-Bouncer-Fever-(Defending-Souljah)-Supreme-NYborn-Versatile-Extension-(Versatility-Remix)/', 'https://www.whosampled.com/sample/553992/TC-Little-Grace-Show-Some-Love-Supreme-NYborn-Versatile-Extension-(Versatility-Remix)/', 'https://www.whosampled.com/sample/519643/A-Sides-101-Breaks-Supreme-NYborn-Versatile-Extension-(Versatility-Remix)/', 'https://www.whosampled.com/sample/410148/Rene-Lavice-Ivy-Mairi-The-Calling-Supreme-NYborn-Versatile-Extension-(Versatility-Remix)/', 'https://www.whosampled.com/sample/345672/Eastcolors-Go-to-Nowhere-Supreme-NYborn-Versatile-Extension-(Versatility-Remix)/', 'https://www.whosampled.com/sample/345151/BCee-Shaz-Sparks-Looking-Glass-Supreme-NYborn-Versatile-Extension-(Versatility-Remix)/', 'https://www.whosampled.com/sample/346219/Technical-Itch-The-Virus-Supreme-NYborn-Versatile-Extension-(Versatility-Remix)/', 'https://www.whosampled.com/sample/365950/Boymerang-You-Like-It-Like-That-Supreme-NYborn-Versatile-Extension-(Versatility-Remix)/']\n",
      "['https://www.whosampled.com/sample/340569/Fanu-Amok-Supreme-NYborn-Versatile-Extension-(Versatility-Remix)/', 'https://www.whosampled.com/sample/345185/Command-Strange-Pleasure-Supreme-NYborn-Versatile-Extension-(Versatility-Remix)/', 'https://www.whosampled.com/sample/427282/Dark-Soldier-Dark-Soldier-(Back-in-the-Day-Mix)-Supreme-NYborn-Versatile-Extension-(Versatility-Remix)/', 'https://www.whosampled.com/sample/471534/Danny-Breaks-Rollin%27-Supreme-NYborn-Versatile-Extension-(Versatility-Remix)/', 'https://www.whosampled.com/sample/470848/Tribe-of-Issachar-Peter-Bouncer-Fever-(Defending-Souljah)-Supreme-NYborn-Versatile-Extension-(Versatility-Remix)/', 'https://www.whosampled.com/sample/553992/TC-Little-Grace-Show-Some-Love-Supreme-NYborn-Versatile-Extension-(Versatility-Remix)/', 'https://www.whosampled.com/sample/519643/A-Sides-101-Breaks-Supreme-NYborn-Versatile-Extension-(Versatility-Remix)/', 'https://www.whosampled.com/sample/410148/Rene-Lavice-Ivy-Mairi-The-Calling-Supreme-NYborn-Versatile-Extension-(Versatility-Remix)/', 'https://www.whosampled.com/sample/345672/Eastcolors-Go-to-Nowhere-Supreme-NYborn-Versatile-Extension-(Versatility-Remix)/', 'https://www.whosampled.com/sample/345151/BCee-Shaz-Sparks-Looking-Glass-Supreme-NYborn-Versatile-Extension-(Versatility-Remix)/', 'https://www.whosampled.com/sample/346219/Technical-Itch-The-Virus-Supreme-NYborn-Versatile-Extension-(Versatility-Remix)/', 'https://www.whosampled.com/sample/365950/Boymerang-You-Like-It-Like-That-Supreme-NYborn-Versatile-Extension-(Versatility-Remix)/', 'https://www.whosampled.com/sample/349902/Total-Science-BS9-Supreme-NYborn-Versatile-Extension-(Versatility-Remix)/']\n",
      "['https://www.whosampled.com/sample/340569/Fanu-Amok-Supreme-NYborn-Versatile-Extension-(Versatility-Remix)/', 'https://www.whosampled.com/sample/345185/Command-Strange-Pleasure-Supreme-NYborn-Versatile-Extension-(Versatility-Remix)/', 'https://www.whosampled.com/sample/427282/Dark-Soldier-Dark-Soldier-(Back-in-the-Day-Mix)-Supreme-NYborn-Versatile-Extension-(Versatility-Remix)/', 'https://www.whosampled.com/sample/471534/Danny-Breaks-Rollin%27-Supreme-NYborn-Versatile-Extension-(Versatility-Remix)/', 'https://www.whosampled.com/sample/470848/Tribe-of-Issachar-Peter-Bouncer-Fever-(Defending-Souljah)-Supreme-NYborn-Versatile-Extension-(Versatility-Remix)/', 'https://www.whosampled.com/sample/553992/TC-Little-Grace-Show-Some-Love-Supreme-NYborn-Versatile-Extension-(Versatility-Remix)/', 'https://www.whosampled.com/sample/519643/A-Sides-101-Breaks-Supreme-NYborn-Versatile-Extension-(Versatility-Remix)/', 'https://www.whosampled.com/sample/410148/Rene-Lavice-Ivy-Mairi-The-Calling-Supreme-NYborn-Versatile-Extension-(Versatility-Remix)/', 'https://www.whosampled.com/sample/345672/Eastcolors-Go-to-Nowhere-Supreme-NYborn-Versatile-Extension-(Versatility-Remix)/', 'https://www.whosampled.com/sample/345151/BCee-Shaz-Sparks-Looking-Glass-Supreme-NYborn-Versatile-Extension-(Versatility-Remix)/', 'https://www.whosampled.com/sample/346219/Technical-Itch-The-Virus-Supreme-NYborn-Versatile-Extension-(Versatility-Remix)/', 'https://www.whosampled.com/sample/365950/Boymerang-You-Like-It-Like-That-Supreme-NYborn-Versatile-Extension-(Versatility-Remix)/', 'https://www.whosampled.com/sample/349902/Total-Science-BS9-Supreme-NYborn-Versatile-Extension-(Versatility-Remix)/', 'https://www.whosampled.com/sample/433218/DJ-Fresh-Talkbox-(Camo-%26-Krooked-Remix)-Supreme-NYborn-Versatile-Extension-(Versatility-Remix)/']\n",
      "['https://www.whosampled.com/sample/340569/Fanu-Amok-Supreme-NYborn-Versatile-Extension-(Versatility-Remix)/', 'https://www.whosampled.com/sample/345185/Command-Strange-Pleasure-Supreme-NYborn-Versatile-Extension-(Versatility-Remix)/', 'https://www.whosampled.com/sample/427282/Dark-Soldier-Dark-Soldier-(Back-in-the-Day-Mix)-Supreme-NYborn-Versatile-Extension-(Versatility-Remix)/', 'https://www.whosampled.com/sample/471534/Danny-Breaks-Rollin%27-Supreme-NYborn-Versatile-Extension-(Versatility-Remix)/', 'https://www.whosampled.com/sample/470848/Tribe-of-Issachar-Peter-Bouncer-Fever-(Defending-Souljah)-Supreme-NYborn-Versatile-Extension-(Versatility-Remix)/', 'https://www.whosampled.com/sample/553992/TC-Little-Grace-Show-Some-Love-Supreme-NYborn-Versatile-Extension-(Versatility-Remix)/', 'https://www.whosampled.com/sample/519643/A-Sides-101-Breaks-Supreme-NYborn-Versatile-Extension-(Versatility-Remix)/', 'https://www.whosampled.com/sample/410148/Rene-Lavice-Ivy-Mairi-The-Calling-Supreme-NYborn-Versatile-Extension-(Versatility-Remix)/', 'https://www.whosampled.com/sample/345672/Eastcolors-Go-to-Nowhere-Supreme-NYborn-Versatile-Extension-(Versatility-Remix)/', 'https://www.whosampled.com/sample/345151/BCee-Shaz-Sparks-Looking-Glass-Supreme-NYborn-Versatile-Extension-(Versatility-Remix)/', 'https://www.whosampled.com/sample/346219/Technical-Itch-The-Virus-Supreme-NYborn-Versatile-Extension-(Versatility-Remix)/', 'https://www.whosampled.com/sample/365950/Boymerang-You-Like-It-Like-That-Supreme-NYborn-Versatile-Extension-(Versatility-Remix)/', 'https://www.whosampled.com/sample/349902/Total-Science-BS9-Supreme-NYborn-Versatile-Extension-(Versatility-Remix)/', 'https://www.whosampled.com/sample/433218/DJ-Fresh-Talkbox-(Camo-%26-Krooked-Remix)-Supreme-NYborn-Versatile-Extension-(Versatility-Remix)/', 'https://www.whosampled.com/sample/345194/Jazz-Juice-Detroit-Remix-Supreme-NYborn-Versatile-Extension-(Versatility-Remix)/']\n",
      "['https://www.whosampled.com/sample/340569/Fanu-Amok-Supreme-NYborn-Versatile-Extension-(Versatility-Remix)/', 'https://www.whosampled.com/sample/345185/Command-Strange-Pleasure-Supreme-NYborn-Versatile-Extension-(Versatility-Remix)/', 'https://www.whosampled.com/sample/427282/Dark-Soldier-Dark-Soldier-(Back-in-the-Day-Mix)-Supreme-NYborn-Versatile-Extension-(Versatility-Remix)/', 'https://www.whosampled.com/sample/471534/Danny-Breaks-Rollin%27-Supreme-NYborn-Versatile-Extension-(Versatility-Remix)/', 'https://www.whosampled.com/sample/470848/Tribe-of-Issachar-Peter-Bouncer-Fever-(Defending-Souljah)-Supreme-NYborn-Versatile-Extension-(Versatility-Remix)/', 'https://www.whosampled.com/sample/553992/TC-Little-Grace-Show-Some-Love-Supreme-NYborn-Versatile-Extension-(Versatility-Remix)/', 'https://www.whosampled.com/sample/519643/A-Sides-101-Breaks-Supreme-NYborn-Versatile-Extension-(Versatility-Remix)/', 'https://www.whosampled.com/sample/410148/Rene-Lavice-Ivy-Mairi-The-Calling-Supreme-NYborn-Versatile-Extension-(Versatility-Remix)/', 'https://www.whosampled.com/sample/345672/Eastcolors-Go-to-Nowhere-Supreme-NYborn-Versatile-Extension-(Versatility-Remix)/', 'https://www.whosampled.com/sample/345151/BCee-Shaz-Sparks-Looking-Glass-Supreme-NYborn-Versatile-Extension-(Versatility-Remix)/', 'https://www.whosampled.com/sample/346219/Technical-Itch-The-Virus-Supreme-NYborn-Versatile-Extension-(Versatility-Remix)/', 'https://www.whosampled.com/sample/365950/Boymerang-You-Like-It-Like-That-Supreme-NYborn-Versatile-Extension-(Versatility-Remix)/', 'https://www.whosampled.com/sample/349902/Total-Science-BS9-Supreme-NYborn-Versatile-Extension-(Versatility-Remix)/', 'https://www.whosampled.com/sample/433218/DJ-Fresh-Talkbox-(Camo-%26-Krooked-Remix)-Supreme-NYborn-Versatile-Extension-(Versatility-Remix)/', 'https://www.whosampled.com/sample/345194/Jazz-Juice-Detroit-Remix-Supreme-NYborn-Versatile-Extension-(Versatility-Remix)/', 'https://www.whosampled.com/sample/350381/%D0%91%D1%83%D1%82%D1%83%D1%81%D0%BE%D0%B2-Dead%D1%83%D1%88%D0%BA%D0%B8-%D0%A2%D1%80%D0%B8%D0%BB%D0%BB%D0%B8%D0%BF%D1%83%D1%82-Supreme-NYborn-Versatile-Extension-(Versatility-Remix)/']\n"
     ]
    },
    {
     "name": "stdout",
     "output_type": "stream",
     "text": [
      "{'name': 'Amok', 'url': 'https://www.whosampled.com/Fanu/Amok/', 'artist_url': 'https://www.whosampled.com/Fanu/', 'artist_id': None}\n",
      "{'name': 'Pleasure', 'url': 'https://www.whosampled.com/Command-Strange/Pleasure/', 'artist_url': 'https://www.whosampled.com/Command-Strange/', 'artist_id': None}\n",
      "{'name': 'Dark Soldier (Back in the Day Mix)', 'url': 'https://www.whosampled.com/Dark-Soldier/Dark-Soldier-(Back-in-the-Day-Mix)/', 'artist_url': 'https://www.whosampled.com/Dark-Soldier/', 'artist_id': None}\n",
      "{'name': \"Rollin'\", 'url': 'https://www.whosampled.com/Danny-Breaks/Rollin%27/', 'artist_url': 'https://www.whosampled.com/Danny-Breaks/', 'artist_id': None}\n",
      "{'name': 'Fever (Defending Souljah)', 'url': 'https://www.whosampled.com/Tribe-of-Issachar/Fever-(Defending-Souljah)/', 'artist_url': 'https://www.whosampled.com/Tribe-of-Issachar/', 'artist_id': None}\n",
      "{'name': 'Show Some Love', 'url': 'https://www.whosampled.com/TC/Show-Some-Love/', 'artist_url': 'https://www.whosampled.com/TC/', 'artist_id': None}\n",
      "{'name': '101 Breaks', 'url': 'https://www.whosampled.com/A-Sides/101-Breaks/', 'artist_url': 'https://www.whosampled.com/A-Sides/', 'artist_id': None}\n",
      "{'name': 'The Calling', 'url': 'https://www.whosampled.com/Rene-Lavice/The-Calling/', 'artist_url': 'https://www.whosampled.com/Rene-Lavice/', 'artist_id': None}\n",
      "{'name': 'Go to Nowhere', 'url': 'https://www.whosampled.com/Eastcolors/Go-to-Nowhere/', 'artist_url': 'https://www.whosampled.com/Eastcolors/', 'artist_id': None}\n",
      "{'name': 'Looking Glass', 'url': 'https://www.whosampled.com/BCee/Looking-Glass/', 'artist_url': 'https://www.whosampled.com/BCee/', 'artist_id': None}\n",
      "{'name': 'The Virus', 'url': 'https://www.whosampled.com/Technical-Itch/The-Virus/', 'artist_url': 'https://www.whosampled.com/Technical-Itch/', 'artist_id': None}\n",
      "{'name': 'You Like It Like That', 'url': 'https://www.whosampled.com/Boymerang/You-Like-It-Like-That/', 'artist_url': 'https://www.whosampled.com/Boymerang/', 'artist_id': None}\n",
      "{'name': 'BS9', 'url': 'https://www.whosampled.com/Total-Science/BS9/', 'artist_url': 'https://www.whosampled.com/Total-Science/', 'artist_id': None}\n",
      "{'name': 'Talkbox (Camo & Krooked Remix)', 'url': 'https://www.whosampled.com/DJ-Fresh/Talkbox-(Camo-%26-Krooked-Remix)/', 'artist_url': 'https://www.whosampled.com/DJ-Fresh/', 'artist_id': None}\n",
      "{'name': 'Detroit Remix', 'url': 'https://www.whosampled.com/Jazz-Juice/Detroit-Remix/', 'artist_url': 'https://www.whosampled.com/Jazz-Juice/', 'artist_id': None}\n",
      "{'name': 'Триллипут', 'url': 'https://www.whosampled.com/%D0%91%D1%83%D1%82%D1%83%D1%81%D0%BE%D0%B2/%D0%A2%D1%80%D0%B8%D0%BB%D0%BB%D0%B8%D0%BF%D1%83%D1%82/', 'artist_url': 'https://www.whosampled.com/%D0%91%D1%83%D1%82%D1%83%D1%81%D0%BE%D0%B2/', 'artist_id': None}\n",
      "https://www.whosampled.com/Supreme-NYborn/Versatile-Extension-(Versatility-Remix)/sampled/?cp=3\n",
      "Was sampled in 62 songs\n",
      "['https://www.whosampled.com/sample/417497/Click-%27N-Cycle-125th-Street-Supreme-NYborn-Versatile-Extension-(Versatility-Remix)/']\n",
      "['https://www.whosampled.com/sample/417497/Click-%27N-Cycle-125th-Street-Supreme-NYborn-Versatile-Extension-(Versatility-Remix)/', 'https://www.whosampled.com/sample/342257/Holdtight-Shortlist-Supreme-NYborn-Versatile-Extension-(Versatility-Remix)/']\n",
      "['https://www.whosampled.com/sample/417497/Click-%27N-Cycle-125th-Street-Supreme-NYborn-Versatile-Extension-(Versatility-Remix)/', 'https://www.whosampled.com/sample/342257/Holdtight-Shortlist-Supreme-NYborn-Versatile-Extension-(Versatility-Remix)/', 'https://www.whosampled.com/sample/355707/Mask-One-People-Supreme-NYborn-Versatile-Extension-(Versatility-Remix)/']\n",
      "['https://www.whosampled.com/sample/417497/Click-%27N-Cycle-125th-Street-Supreme-NYborn-Versatile-Extension-(Versatility-Remix)/', 'https://www.whosampled.com/sample/342257/Holdtight-Shortlist-Supreme-NYborn-Versatile-Extension-(Versatility-Remix)/', 'https://www.whosampled.com/sample/355707/Mask-One-People-Supreme-NYborn-Versatile-Extension-(Versatility-Remix)/', 'https://www.whosampled.com/sample/405056/Tremah-Avian-Supreme-NYborn-Versatile-Extension-(Versatility-Remix)/']\n",
      "['https://www.whosampled.com/sample/417497/Click-%27N-Cycle-125th-Street-Supreme-NYborn-Versatile-Extension-(Versatility-Remix)/', 'https://www.whosampled.com/sample/342257/Holdtight-Shortlist-Supreme-NYborn-Versatile-Extension-(Versatility-Remix)/', 'https://www.whosampled.com/sample/355707/Mask-One-People-Supreme-NYborn-Versatile-Extension-(Versatility-Remix)/', 'https://www.whosampled.com/sample/405056/Tremah-Avian-Supreme-NYborn-Versatile-Extension-(Versatility-Remix)/', 'https://www.whosampled.com/sample/397051/Total-Science-Scaremonger-Supreme-NYborn-Versatile-Extension-(Versatility-Remix)/']\n",
      "['https://www.whosampled.com/sample/417497/Click-%27N-Cycle-125th-Street-Supreme-NYborn-Versatile-Extension-(Versatility-Remix)/', 'https://www.whosampled.com/sample/342257/Holdtight-Shortlist-Supreme-NYborn-Versatile-Extension-(Versatility-Remix)/', 'https://www.whosampled.com/sample/355707/Mask-One-People-Supreme-NYborn-Versatile-Extension-(Versatility-Remix)/', 'https://www.whosampled.com/sample/405056/Tremah-Avian-Supreme-NYborn-Versatile-Extension-(Versatility-Remix)/', 'https://www.whosampled.com/sample/397051/Total-Science-Scaremonger-Supreme-NYborn-Versatile-Extension-(Versatility-Remix)/', 'https://www.whosampled.com/sample/438849/X-Men-(2)-Read-Your-Mind-(By-Psylocke)-Supreme-NYborn-Versatile-Extension-(Versatility-Remix)/']\n",
      "['https://www.whosampled.com/sample/417497/Click-%27N-Cycle-125th-Street-Supreme-NYborn-Versatile-Extension-(Versatility-Remix)/', 'https://www.whosampled.com/sample/342257/Holdtight-Shortlist-Supreme-NYborn-Versatile-Extension-(Versatility-Remix)/', 'https://www.whosampled.com/sample/355707/Mask-One-People-Supreme-NYborn-Versatile-Extension-(Versatility-Remix)/', 'https://www.whosampled.com/sample/405056/Tremah-Avian-Supreme-NYborn-Versatile-Extension-(Versatility-Remix)/', 'https://www.whosampled.com/sample/397051/Total-Science-Scaremonger-Supreme-NYborn-Versatile-Extension-(Versatility-Remix)/', 'https://www.whosampled.com/sample/438849/X-Men-(2)-Read-Your-Mind-(By-Psylocke)-Supreme-NYborn-Versatile-Extension-(Versatility-Remix)/', 'https://www.whosampled.com/sample/427289/Twisted-Anger-Faithless-Supreme-NYborn-Versatile-Extension-(Versatility-Remix)/']\n",
      "['https://www.whosampled.com/sample/417497/Click-%27N-Cycle-125th-Street-Supreme-NYborn-Versatile-Extension-(Versatility-Remix)/', 'https://www.whosampled.com/sample/342257/Holdtight-Shortlist-Supreme-NYborn-Versatile-Extension-(Versatility-Remix)/', 'https://www.whosampled.com/sample/355707/Mask-One-People-Supreme-NYborn-Versatile-Extension-(Versatility-Remix)/', 'https://www.whosampled.com/sample/405056/Tremah-Avian-Supreme-NYborn-Versatile-Extension-(Versatility-Remix)/', 'https://www.whosampled.com/sample/397051/Total-Science-Scaremonger-Supreme-NYborn-Versatile-Extension-(Versatility-Remix)/', 'https://www.whosampled.com/sample/438849/X-Men-(2)-Read-Your-Mind-(By-Psylocke)-Supreme-NYborn-Versatile-Extension-(Versatility-Remix)/', 'https://www.whosampled.com/sample/427289/Twisted-Anger-Faithless-Supreme-NYborn-Versatile-Extension-(Versatility-Remix)/', 'https://www.whosampled.com/sample/412341/Mutated-Forms-New-Beginnings-Supreme-NYborn-Versatile-Extension-(Versatility-Remix)/']\n",
      "['https://www.whosampled.com/sample/417497/Click-%27N-Cycle-125th-Street-Supreme-NYborn-Versatile-Extension-(Versatility-Remix)/', 'https://www.whosampled.com/sample/342257/Holdtight-Shortlist-Supreme-NYborn-Versatile-Extension-(Versatility-Remix)/', 'https://www.whosampled.com/sample/355707/Mask-One-People-Supreme-NYborn-Versatile-Extension-(Versatility-Remix)/', 'https://www.whosampled.com/sample/405056/Tremah-Avian-Supreme-NYborn-Versatile-Extension-(Versatility-Remix)/', 'https://www.whosampled.com/sample/397051/Total-Science-Scaremonger-Supreme-NYborn-Versatile-Extension-(Versatility-Remix)/', 'https://www.whosampled.com/sample/438849/X-Men-(2)-Read-Your-Mind-(By-Psylocke)-Supreme-NYborn-Versatile-Extension-(Versatility-Remix)/', 'https://www.whosampled.com/sample/427289/Twisted-Anger-Faithless-Supreme-NYborn-Versatile-Extension-(Versatility-Remix)/', 'https://www.whosampled.com/sample/412341/Mutated-Forms-New-Beginnings-Supreme-NYborn-Versatile-Extension-(Versatility-Remix)/', 'https://www.whosampled.com/sample/399033/Manifest-(Drum-%26-Bass)-Darklight-Conflict-Supreme-NYborn-Versatile-Extension-(Versatility-Remix)/']\n",
      "['https://www.whosampled.com/sample/417497/Click-%27N-Cycle-125th-Street-Supreme-NYborn-Versatile-Extension-(Versatility-Remix)/', 'https://www.whosampled.com/sample/342257/Holdtight-Shortlist-Supreme-NYborn-Versatile-Extension-(Versatility-Remix)/', 'https://www.whosampled.com/sample/355707/Mask-One-People-Supreme-NYborn-Versatile-Extension-(Versatility-Remix)/', 'https://www.whosampled.com/sample/405056/Tremah-Avian-Supreme-NYborn-Versatile-Extension-(Versatility-Remix)/', 'https://www.whosampled.com/sample/397051/Total-Science-Scaremonger-Supreme-NYborn-Versatile-Extension-(Versatility-Remix)/', 'https://www.whosampled.com/sample/438849/X-Men-(2)-Read-Your-Mind-(By-Psylocke)-Supreme-NYborn-Versatile-Extension-(Versatility-Remix)/', 'https://www.whosampled.com/sample/427289/Twisted-Anger-Faithless-Supreme-NYborn-Versatile-Extension-(Versatility-Remix)/', 'https://www.whosampled.com/sample/412341/Mutated-Forms-New-Beginnings-Supreme-NYborn-Versatile-Extension-(Versatility-Remix)/', 'https://www.whosampled.com/sample/399033/Manifest-(Drum-%26-Bass)-Darklight-Conflict-Supreme-NYborn-Versatile-Extension-(Versatility-Remix)/', 'https://www.whosampled.com/sample/427286/Ray-Keith-Homicide-Supreme-NYborn-Versatile-Extension-(Versatility-Remix)/']\n",
      "['https://www.whosampled.com/sample/417497/Click-%27N-Cycle-125th-Street-Supreme-NYborn-Versatile-Extension-(Versatility-Remix)/', 'https://www.whosampled.com/sample/342257/Holdtight-Shortlist-Supreme-NYborn-Versatile-Extension-(Versatility-Remix)/', 'https://www.whosampled.com/sample/355707/Mask-One-People-Supreme-NYborn-Versatile-Extension-(Versatility-Remix)/', 'https://www.whosampled.com/sample/405056/Tremah-Avian-Supreme-NYborn-Versatile-Extension-(Versatility-Remix)/', 'https://www.whosampled.com/sample/397051/Total-Science-Scaremonger-Supreme-NYborn-Versatile-Extension-(Versatility-Remix)/', 'https://www.whosampled.com/sample/438849/X-Men-(2)-Read-Your-Mind-(By-Psylocke)-Supreme-NYborn-Versatile-Extension-(Versatility-Remix)/', 'https://www.whosampled.com/sample/427289/Twisted-Anger-Faithless-Supreme-NYborn-Versatile-Extension-(Versatility-Remix)/', 'https://www.whosampled.com/sample/412341/Mutated-Forms-New-Beginnings-Supreme-NYborn-Versatile-Extension-(Versatility-Remix)/', 'https://www.whosampled.com/sample/399033/Manifest-(Drum-%26-Bass)-Darklight-Conflict-Supreme-NYborn-Versatile-Extension-(Versatility-Remix)/', 'https://www.whosampled.com/sample/427286/Ray-Keith-Homicide-Supreme-NYborn-Versatile-Extension-(Versatility-Remix)/', 'https://www.whosampled.com/sample/417495/Ed-Solo-The-Danger-Supreme-NYborn-Versatile-Extension-(Versatility-Remix)/']\n",
      "['https://www.whosampled.com/sample/417497/Click-%27N-Cycle-125th-Street-Supreme-NYborn-Versatile-Extension-(Versatility-Remix)/', 'https://www.whosampled.com/sample/342257/Holdtight-Shortlist-Supreme-NYborn-Versatile-Extension-(Versatility-Remix)/', 'https://www.whosampled.com/sample/355707/Mask-One-People-Supreme-NYborn-Versatile-Extension-(Versatility-Remix)/', 'https://www.whosampled.com/sample/405056/Tremah-Avian-Supreme-NYborn-Versatile-Extension-(Versatility-Remix)/', 'https://www.whosampled.com/sample/397051/Total-Science-Scaremonger-Supreme-NYborn-Versatile-Extension-(Versatility-Remix)/', 'https://www.whosampled.com/sample/438849/X-Men-(2)-Read-Your-Mind-(By-Psylocke)-Supreme-NYborn-Versatile-Extension-(Versatility-Remix)/', 'https://www.whosampled.com/sample/427289/Twisted-Anger-Faithless-Supreme-NYborn-Versatile-Extension-(Versatility-Remix)/', 'https://www.whosampled.com/sample/412341/Mutated-Forms-New-Beginnings-Supreme-NYborn-Versatile-Extension-(Versatility-Remix)/', 'https://www.whosampled.com/sample/399033/Manifest-(Drum-%26-Bass)-Darklight-Conflict-Supreme-NYborn-Versatile-Extension-(Versatility-Remix)/', 'https://www.whosampled.com/sample/427286/Ray-Keith-Homicide-Supreme-NYborn-Versatile-Extension-(Versatility-Remix)/', 'https://www.whosampled.com/sample/417495/Ed-Solo-The-Danger-Supreme-NYborn-Versatile-Extension-(Versatility-Remix)/', 'https://www.whosampled.com/sample/346463/Time-Travel-A-Time-Forgotten-Supreme-NYborn-Versatile-Extension-(Versatility-Remix)/']\n"
     ]
    },
    {
     "name": "stdout",
     "output_type": "stream",
     "text": [
      "['https://www.whosampled.com/sample/417497/Click-%27N-Cycle-125th-Street-Supreme-NYborn-Versatile-Extension-(Versatility-Remix)/', 'https://www.whosampled.com/sample/342257/Holdtight-Shortlist-Supreme-NYborn-Versatile-Extension-(Versatility-Remix)/', 'https://www.whosampled.com/sample/355707/Mask-One-People-Supreme-NYborn-Versatile-Extension-(Versatility-Remix)/', 'https://www.whosampled.com/sample/405056/Tremah-Avian-Supreme-NYborn-Versatile-Extension-(Versatility-Remix)/', 'https://www.whosampled.com/sample/397051/Total-Science-Scaremonger-Supreme-NYborn-Versatile-Extension-(Versatility-Remix)/', 'https://www.whosampled.com/sample/438849/X-Men-(2)-Read-Your-Mind-(By-Psylocke)-Supreme-NYborn-Versatile-Extension-(Versatility-Remix)/', 'https://www.whosampled.com/sample/427289/Twisted-Anger-Faithless-Supreme-NYborn-Versatile-Extension-(Versatility-Remix)/', 'https://www.whosampled.com/sample/412341/Mutated-Forms-New-Beginnings-Supreme-NYborn-Versatile-Extension-(Versatility-Remix)/', 'https://www.whosampled.com/sample/399033/Manifest-(Drum-%26-Bass)-Darklight-Conflict-Supreme-NYborn-Versatile-Extension-(Versatility-Remix)/', 'https://www.whosampled.com/sample/427286/Ray-Keith-Homicide-Supreme-NYborn-Versatile-Extension-(Versatility-Remix)/', 'https://www.whosampled.com/sample/417495/Ed-Solo-The-Danger-Supreme-NYborn-Versatile-Extension-(Versatility-Remix)/', 'https://www.whosampled.com/sample/346463/Time-Travel-A-Time-Forgotten-Supreme-NYborn-Versatile-Extension-(Versatility-Remix)/', 'https://www.whosampled.com/sample/409403/System-Noise-Unto-Jah-Supreme-NYborn-Versatile-Extension-(Versatility-Remix)/']\n",
      "['https://www.whosampled.com/sample/417497/Click-%27N-Cycle-125th-Street-Supreme-NYborn-Versatile-Extension-(Versatility-Remix)/', 'https://www.whosampled.com/sample/342257/Holdtight-Shortlist-Supreme-NYborn-Versatile-Extension-(Versatility-Remix)/', 'https://www.whosampled.com/sample/355707/Mask-One-People-Supreme-NYborn-Versatile-Extension-(Versatility-Remix)/', 'https://www.whosampled.com/sample/405056/Tremah-Avian-Supreme-NYborn-Versatile-Extension-(Versatility-Remix)/', 'https://www.whosampled.com/sample/397051/Total-Science-Scaremonger-Supreme-NYborn-Versatile-Extension-(Versatility-Remix)/', 'https://www.whosampled.com/sample/438849/X-Men-(2)-Read-Your-Mind-(By-Psylocke)-Supreme-NYborn-Versatile-Extension-(Versatility-Remix)/', 'https://www.whosampled.com/sample/427289/Twisted-Anger-Faithless-Supreme-NYborn-Versatile-Extension-(Versatility-Remix)/', 'https://www.whosampled.com/sample/412341/Mutated-Forms-New-Beginnings-Supreme-NYborn-Versatile-Extension-(Versatility-Remix)/', 'https://www.whosampled.com/sample/399033/Manifest-(Drum-%26-Bass)-Darklight-Conflict-Supreme-NYborn-Versatile-Extension-(Versatility-Remix)/', 'https://www.whosampled.com/sample/427286/Ray-Keith-Homicide-Supreme-NYborn-Versatile-Extension-(Versatility-Remix)/', 'https://www.whosampled.com/sample/417495/Ed-Solo-The-Danger-Supreme-NYborn-Versatile-Extension-(Versatility-Remix)/', 'https://www.whosampled.com/sample/346463/Time-Travel-A-Time-Forgotten-Supreme-NYborn-Versatile-Extension-(Versatility-Remix)/', 'https://www.whosampled.com/sample/409403/System-Noise-Unto-Jah-Supreme-NYborn-Versatile-Extension-(Versatility-Remix)/', 'https://www.whosampled.com/sample/419674/Organised-Kaos-Untitled-(Mix-1)-Supreme-NYborn-Versatile-Extension-(Versatility-Remix)/']\n",
      "{'name': '125th Street', 'url': 'https://www.whosampled.com/Click-%27N-Cycle/125th-Street/', 'artist_url': 'https://www.whosampled.com/Click-%27N-Cycle/', 'artist_id': None}\n",
      "{'name': 'Shortlist', 'url': 'https://www.whosampled.com/Holdtight/Shortlist/', 'artist_url': 'https://www.whosampled.com/Holdtight/', 'artist_id': None}\n",
      "{'name': 'One People', 'url': 'https://www.whosampled.com/Mask/One-People/', 'artist_url': 'https://www.whosampled.com/Mask/', 'artist_id': None}\n",
      "{'name': 'Avian', 'url': 'https://www.whosampled.com/Tremah/Avian/', 'artist_url': 'https://www.whosampled.com/Tremah/', 'artist_id': None}\n",
      "{'name': 'Scaremonger', 'url': 'https://www.whosampled.com/Total-Science/Scaremonger/', 'artist_url': 'https://www.whosampled.com/Total-Science/', 'artist_id': None}\n",
      "{'name': 'Read Your Mind (By Psylocke)', 'url': 'https://www.whosampled.com/X-Men-(2)/Read-Your-Mind-(By-Psylocke)/', 'artist_url': 'https://www.whosampled.com/X-Men-(2)/', 'artist_id': None}\n",
      "{'name': 'Faithless', 'url': 'https://www.whosampled.com/Twisted-Anger/Faithless/', 'artist_url': 'https://www.whosampled.com/Twisted-Anger/', 'artist_id': None}\n",
      "{'name': 'New Beginnings', 'url': 'https://www.whosampled.com/Mutated-Forms/New-Beginnings/', 'artist_url': 'https://www.whosampled.com/Mutated-Forms/', 'artist_id': None}\n",
      "{'name': 'Darklight Conflict', 'url': 'https://www.whosampled.com/Manifest-(Drum-%26-Bass)/Darklight-Conflict/', 'artist_url': 'https://www.whosampled.com/Manifest-(Drum-%26-Bass)/', 'artist_id': None}\n",
      "{'name': 'Homicide', 'url': 'https://www.whosampled.com/Ray-Keith/Homicide/', 'artist_url': 'https://www.whosampled.com/Ray-Keith/', 'artist_id': None}\n",
      "{'name': 'The Danger', 'url': 'https://www.whosampled.com/Ed-Solo/The-Danger/', 'artist_url': 'https://www.whosampled.com/Ed-Solo/', 'artist_id': None}\n",
      "{'name': 'A Time Forgotten', 'url': 'https://www.whosampled.com/Time-Travel/A-Time-Forgotten/', 'artist_url': 'https://www.whosampled.com/Time-Travel/', 'artist_id': None}\n",
      "{'name': 'Unto Jah', 'url': 'https://www.whosampled.com/System-Noise/Unto-Jah/', 'artist_url': 'https://www.whosampled.com/System-Noise/', 'artist_id': None}\n",
      "{'name': 'Untitled (Mix 1)', 'url': 'https://www.whosampled.com/Organised-Kaos/Untitled-(Mix-1)/', 'artist_url': 'https://www.whosampled.com/Organised-Kaos/', 'artist_id': None}\n",
      "https://www.whosampled.com/Supreme-NYborn/Versatile-Extension-(Versatility-Remix)/sampled/?cp=4\n",
      "Contains samples of 4 songs\n",
      "Was sampled in 62 songs\n",
      "see all\n",
      "Is a remix of 1 song\n",
      "Chris Read said 2 years ago:\n",
      "['https://www.whosampled.com/sample/562166/Supreme-NYborn-Versatile-Extension-(Versatility-Remix)-Boogie-Down-Productions-Poetry/']\n",
      "['https://www.whosampled.com/sample/562166/Supreme-NYborn-Versatile-Extension-(Versatility-Remix)-Boogie-Down-Productions-Poetry/', 'https://www.whosampled.com/sample/155904/Supreme-NYborn-Versatile-Extension-(Versatility-Remix)-Melvin-Bliss-Synthetic-Substitution/']\n",
      "['https://www.whosampled.com/sample/562166/Supreme-NYborn-Versatile-Extension-(Versatility-Remix)-Boogie-Down-Productions-Poetry/', 'https://www.whosampled.com/sample/155904/Supreme-NYborn-Versatile-Extension-(Versatility-Remix)-Melvin-Bliss-Synthetic-Substitution/', 'https://www.whosampled.com/sample/536122/Supreme-NYborn-Versatile-Extension-(Versatility-Remix)-Fred-Wesley-The-J.B.%27s-You-Can-Have-Watergate-Just-Gimme-Some-Bucks-and-I%27ll-Be-Straight/']\n",
      "['https://www.whosampled.com/sample/562166/Supreme-NYborn-Versatile-Extension-(Versatility-Remix)-Boogie-Down-Productions-Poetry/', 'https://www.whosampled.com/sample/155904/Supreme-NYborn-Versatile-Extension-(Versatility-Remix)-Melvin-Bliss-Synthetic-Substitution/', 'https://www.whosampled.com/sample/536122/Supreme-NYborn-Versatile-Extension-(Versatility-Remix)-Fred-Wesley-The-J.B.%27s-You-Can-Have-Watergate-Just-Gimme-Some-Bucks-and-I%27ll-Be-Straight/', 'https://www.whosampled.com/sample/464834/Supreme-NYborn-Versatile-Extension-(Versatility-Remix)-Audio-Two-Many-Styles/']\n",
      "{'name': 'Poetry', 'url': 'https://www.whosampled.com/Boogie-Down-Productions/Poetry/', 'artist_url': 'https://www.whosampled.com/Boogie-Down-Productions/', 'artist_id': None}\n",
      "{'name': 'Synthetic Substitution', 'url': 'https://www.whosampled.com/Melvin-Bliss/Synthetic-Substitution/', 'artist_url': 'https://www.whosampled.com/Melvin-Bliss/', 'artist_id': None}\n",
      "{'name': \"You Can Have Watergate Just Gimme Some Bucks and I'll Be Straight\", 'url': 'https://www.whosampled.com/Fred-Wesley/You-Can-Have-Watergate-Just-Gimme-Some-Bucks-and-I%27ll-Be-Straight/', 'artist_url': 'https://www.whosampled.com/Fred-Wesley/', 'artist_id': None}\n",
      "{'name': 'Many Styles', 'url': 'https://www.whosampled.com/Audio-Two/Many-Styles/', 'artist_url': 'https://www.whosampled.com/Audio-Two/', 'artist_id': None}\n"
     ]
    }
   ],
   "source": [
    "sampled, contains, artists = (\n",
    "    s.get_song_connections('https://www.whosampled.com/Supreme-NYborn/Versatile-Extension-(Versatility-Remix)'))"
   ]
  },
  {
   "cell_type": "code",
   "execution_count": 11,
   "metadata": {
    "collapsed": true
   },
   "outputs": [],
   "source": [
    "sections = s.b.find_elements_by_css_selector(\"div#content\\\n",
    "               section\")"
   ]
  },
  {
   "cell_type": "code",
   "execution_count": 15,
   "metadata": {},
   "outputs": [],
   "source": [
    "for section in sections:\n",
    "    try:\n",
    "        header = section.find_element_by_css_selector('header')\n",
    "        if header.text.startswith('Sampl'):\n",
    "            current_section = section\n",
    "            print(header.text)\n",
    "    except selenium.common.exceptions.NoSuchElementException:\n",
    "        continue"
   ]
  },
  {
   "cell_type": "code",
   "execution_count": 35,
   "metadata": {},
   "outputs": [],
   "source": [
    "b = 6"
   ]
  },
  {
   "cell_type": "code",
   "execution_count": 13,
   "metadata": {},
   "outputs": [],
   "source": [
    "a, b, c, = _"
   ]
  },
  {
   "cell_type": "code",
   "execution_count": 11,
   "metadata": {},
   "outputs": [
    {
     "data": {
      "text/plain": [
       "66"
      ]
     },
     "execution_count": 11,
     "metadata": {},
     "output_type": "execute_result"
    }
   ],
   "source": [
    "len(artists)"
   ]
  },
  {
   "cell_type": "code",
   "execution_count": 12,
   "metadata": {},
   "outputs": [],
   "source": [
    "b = Firefox()"
   ]
  },
  {
   "cell_type": "code",
   "execution_count": 13,
   "metadata": {},
   "outputs": [],
   "source": [
    "b.get('https://www.whosampled.com/Beyonc%C3%A9/Crazy-in-Love/')"
   ]
  },
  {
   "cell_type": "code",
   "execution_count": 16,
   "metadata": {},
   "outputs": [],
   "source": [
    "sel = \"div#content\\\n",
    "    div.divided-layout\\\n",
    "    div.layout-container.leftContent\\\n",
    "    section\"\n",
    "sections = b.find_elements_by_css_selector(sel)\n",
    "current_section = None\n",
    "for section in sections:\n",
    "    try:\n",
    "        header = section.find_element_by_css_selector('header')\n",
    "        if header.text.startswith('Was sampled'):\n",
    "            current_section = section\n",
    "    except selenium.common.exceptions.NoSuchElementException:\n",
    "        continue"
   ]
  },
  {
   "cell_type": "code",
   "execution_count": 29,
   "metadata": {},
   "outputs": [
    {
     "name": "stdout",
     "output_type": "stream",
     "text": [
      "Pump It Up\n",
      "I Don't Wanna Live Forever (Sing Off)\n",
      "Get Me Bodied (Extended Mix)\n",
      "Crazy LA Blues\n",
      "Public Enema\n"
     ]
    }
   ],
   "source": [
    "sel = \"div.listEntry.sampleEntry\"\n",
    "song_sections = current_section.find_elements_by_css_selector(sel)\n",
    "for song in song_sections:\n",
    "    song_details = song.find_element_by_css_selector('div.details-inner')\n",
    "    song_name = (song_details\n",
    "                       .find_element_by_css_selector('a.trackName')\n",
    "                       .text)\n",
    "    print(song_name)\n",
    "    artist_details = song_details.find_element_by_css_selector('span.trackArtist')\n",
    "    artist_a = artist_details.find_element_by_css_selector('a')\n",
    "    artist_url = artist_a.get_attribute('href')\n",
    "\n",
    "#     song_name = "
   ]
  },
  {
   "cell_type": "code",
   "execution_count": 6,
   "metadata": {},
   "outputs": [],
   "source": [
    "import scraper"
   ]
  },
  {
   "cell_type": "code",
   "execution_count": 7,
   "metadata": {},
   "outputs": [],
   "source": [
    "s = scraper.Scraper()"
   ]
  },
  {
   "cell_type": "code",
   "execution_count": 15,
   "metadata": {},
   "outputs": [],
   "source": [
    "s.get('https://www.whosampled.com/Beyonc%C3%A9/Crazy-in-Love/sampled')"
   ]
  },
  {
   "cell_type": "code",
   "execution_count": 20,
   "metadata": {},
   "outputs": [],
   "source": [
    "sampled_in_song_list = []\n",
    "artist_list = []\n",
    "relation = 'Was sampled'"
   ]
  },
  {
   "cell_type": "code",
   "execution_count": 21,
   "metadata": {},
   "outputs": [],
   "source": [
    "s._get_samples_inferred_url(sampled_in_song_list, artist_list, relation)"
   ]
  },
  {
   "cell_type": "code",
   "execution_count": 22,
   "metadata": {},
   "outputs": [
    {
     "data": {
      "text/plain": [
       "[{'artist_id': None,\n",
       "  'artist_url': 'https://www.whosampled.com/Girl-Talk/',\n",
       "  'name': 'Pump It Up',\n",
       "  'url': 'https://www.whosampled.com/Girl-Talk/Pump-It-Up'},\n",
       " {'artist_id': None,\n",
       "  'artist_url': 'https://www.whosampled.com/Conor-Maynard/',\n",
       "  'name': \"I Don't Wanna Live Forever (Sing Off)\",\n",
       "  'url': 'https://www.whosampled.com/Conor-Maynard/I-Don%27t-Wanna-Live-Forever-%28Sing-Off%29'},\n",
       " {'artist_id': None,\n",
       "  'artist_url': 'https://www.whosampled.com/Beyonc%C3%A9/',\n",
       "  'name': 'Get Me Bodied (Extended Mix)',\n",
       "  'url': 'https://www.whosampled.com/Beyonc%C3%A9/Get-Me-Bodied-%28Extended-Mix%29'},\n",
       " {'artist_id': None,\n",
       "  'artist_url': 'https://www.whosampled.com/Broken-Brass-Ensemble/',\n",
       "  'name': 'Crazy LA Blues',\n",
       "  'url': 'https://www.whosampled.com/Broken-Brass-Ensemble/Crazy-LA-Blues'},\n",
       " {'artist_id': None,\n",
       "  'artist_url': 'https://www.whosampled.com/Cut-%26-Run/',\n",
       "  'name': 'Public Enema',\n",
       "  'url': 'https://www.whosampled.com/Cut-%26-Run/Public-Enema'},\n",
       " {'artist_id': None,\n",
       "  'artist_url': 'https://www.whosampled.com/Pasc%C3%A4al/',\n",
       "  'name': 'Drowning in You',\n",
       "  'url': 'https://www.whosampled.com/Pasc%C3%A4al/Drowning-in-You'},\n",
       " {'artist_id': None,\n",
       "  'artist_url': 'https://www.whosampled.com/Fisto/',\n",
       "  'name': 'Music',\n",
       "  'url': 'https://www.whosampled.com/Fisto/Music'},\n",
       " {'artist_id': None,\n",
       "  'artist_url': 'https://www.whosampled.com/Faith-Evans/',\n",
       "  'name': 'Mesmerized',\n",
       "  'url': 'https://www.whosampled.com/Faith-Evans/Mesmerized'},\n",
       " {'artist_id': None,\n",
       "  'artist_url': 'https://www.whosampled.com/Cho%27zyn-Boy/',\n",
       "  'name': 'High Like Crazy',\n",
       "  'url': 'https://www.whosampled.com/Cho%27zyn-Boy/High-Like-Crazy'},\n",
       " {'artist_id': None,\n",
       "  'artist_url': 'https://www.whosampled.com/Fort-Minor/',\n",
       "  'name': 'Green Lantern Intro',\n",
       "  'url': 'https://www.whosampled.com/Fort-Minor/Green-Lantern-Intro'},\n",
       " {'artist_id': None,\n",
       "  'artist_url': 'https://www.whosampled.com/Leandro-Da-Silva/',\n",
       "  'name': 'So Crazy',\n",
       "  'url': 'https://www.whosampled.com/Leandro-Da-Silva/So-Crazy'},\n",
       " {'artist_id': None,\n",
       "  'artist_url': 'https://www.whosampled.com/Glee-Cast/',\n",
       "  'name': 'Hair / Crazy in Love',\n",
       "  'url': 'https://www.whosampled.com/Glee-Cast/Hair-/-Crazy-in-Love'},\n",
       " {'artist_id': None,\n",
       "  'artist_url': 'https://www.whosampled.com/Xaphoon-Jones/',\n",
       "  'name': 'But Beyonce Had One of the Best Videos of All Time!',\n",
       "  'url': 'https://www.whosampled.com/Xaphoon-Jones/But-Beyonce-Had-One-of-the-Best-Videos-of-All-Time%21'},\n",
       " {'artist_id': None,\n",
       "  'artist_url': 'https://www.whosampled.com/Broke-One/',\n",
       "  'name': 'Go Go Go',\n",
       "  'url': 'https://www.whosampled.com/Broke-One/Go-Go-Go'},\n",
       " {'artist_id': None,\n",
       "  'artist_url': 'https://www.whosampled.com/The-Kleptones/',\n",
       "  'name': '03:40 - Crazy Tonight = Strong Teeth',\n",
       "  'url': 'https://www.whosampled.com/The-Kleptones/03%3A40---Crazy-Tonight-%3D-Strong-Teeth'},\n",
       " {'artist_id': None,\n",
       "  'artist_url': 'https://www.whosampled.com/Rancore/',\n",
       "  'name': 'D.A.R.K.N.E.S.S.',\n",
       "  'url': 'https://www.whosampled.com/Rancore/D.A.R.K.N.E.S.S.'},\n",
       " {'artist_id': None,\n",
       "  'artist_url': 'https://www.whosampled.com/Youngblood-Brass-Band/',\n",
       "  'name': 'Crazy-in(love)tro',\n",
       "  'url': 'https://www.whosampled.com/Youngblood-Brass-Band/Crazy-in%28love%29tro'},\n",
       " {'artist_id': None,\n",
       "  'artist_url': 'https://www.whosampled.com/The-Beatconductor/',\n",
       "  'name': 'Crazy in Kingston',\n",
       "  'url': 'https://www.whosampled.com/The-Beatconductor/Crazy-in-Kingston'}]"
      ]
     },
     "execution_count": 22,
     "metadata": {},
     "output_type": "execute_result"
    }
   ],
   "source": [
    "sampled_in_song_list"
   ]
  },
  {
   "cell_type": "code",
   "execution_count": 19,
   "metadata": {},
   "outputs": [
    {
     "data": {
      "text/plain": [
       "[]"
      ]
     },
     "execution_count": 19,
     "metadata": {},
     "output_type": "execute_result"
    }
   ],
   "source": [
    "artist_list"
   ]
  },
  {
   "cell_type": "code",
   "execution_count": 36,
   "metadata": {},
   "outputs": [],
   "source": [
    "s = Scraper()"
   ]
  },
  {
   "cell_type": "code",
   "execution_count": 6,
   "metadata": {},
   "outputs": [
    {
     "name": "stdout",
     "output_type": "stream",
     "text": [
      "https://www.whosampled.com/James-Brown/My-Thang/\n"
     ]
    }
   ],
   "source": [
    "s.get('https://www.whosampled.com/James-Brown/My-Thang/')"
   ]
  },
  {
   "cell_type": "code",
   "execution_count": 19,
   "metadata": {},
   "outputs": [],
   "source": [
    "sampled = []\n",
    "sampled_in = []\n",
    "artists = []\n"
   ]
  },
  {
   "cell_type": "code",
   "execution_count": 20,
   "metadata": {},
   "outputs": [],
   "source": [
    "s._get_samples_inferred_url(sampled, artists, 'Contains samples')"
   ]
  },
  {
   "cell_type": "code",
   "execution_count": 21,
   "metadata": {},
   "outputs": [
    {
     "data": {
      "text/plain": [
       "[]"
      ]
     },
     "execution_count": 21,
     "metadata": {},
     "output_type": "execute_result"
    }
   ],
   "source": [
    "sampled_in"
   ]
  },
  {
   "cell_type": "code",
   "execution_count": 22,
   "metadata": {},
   "outputs": [
    {
     "data": {
      "text/plain": [
       "[{'artist_id': None,\n",
       "  'artist_url': 'https://www.whosampled.com/The-Isley-Brothers/',\n",
       "  'name': \"It's Your Thing\",\n",
       "  'url': 'https://www.whosampled.com/The-Isley-Brothers/It%27s-Your-Thing'}]"
      ]
     },
     "execution_count": 22,
     "metadata": {},
     "output_type": "execute_result"
    }
   ],
   "source": [
    "sampled"
   ]
  },
  {
   "cell_type": "code",
   "execution_count": 23,
   "metadata": {},
   "outputs": [
    {
     "data": {
      "text/plain": [
       "[{'name': 'The Isley Brothers',\n",
       "  'url': 'https://www.whosampled.com/The-Isley-Brothers/'}]"
      ]
     },
     "execution_count": 23,
     "metadata": {},
     "output_type": "execute_result"
    }
   ],
   "source": [
    "artists"
   ]
  },
  {
   "cell_type": "code",
   "execution_count": 30,
   "metadata": {},
   "outputs": [
    {
     "name": "stdout",
     "output_type": "stream",
     "text": [
      "https://www.whosampled.com/James-Brown/My-Thang/\n",
      "https://www.whosampled.com/James-Brown/My-Thang/sampled/\n",
      "https://www.whosampled.com/James-Brown/My-Thang/sampled/?cp=2\n",
      "https://www.whosampled.com/James-Brown/My-Thang/sampled/?cp=3\n",
      "https://www.whosampled.com/James-Brown/My-Thang/sampled/?cp=4\n",
      "https://www.whosampled.com/James-Brown/My-Thang/sampled/?cp=5\n",
      "https://www.whosampled.com/James-Brown/My-Thang/sampled/?cp=6\n",
      "https://www.whosampled.com/James-Brown/My-Thang/\n"
     ]
    },
    {
     "data": {
      "text/plain": [
       "([{'artist_id': None,\n",
       "   'artist_url': 'https://www.whosampled.com/Jay-Z/',\n",
       "   'name': 'Gotta Have It',\n",
       "   'url': 'https://www.whosampled.com/Jay-Z/Gotta-Have-It'},\n",
       "  {'artist_id': None,\n",
       "   'artist_url': 'https://www.whosampled.com/Lords-of-the-Underground/',\n",
       "   'name': 'Funky Child',\n",
       "   'url': 'https://www.whosampled.com/Lords-of-the-Underground/Funky-Child'},\n",
       "  {'artist_id': None,\n",
       "   'artist_url': 'https://www.whosampled.com/Big-L/',\n",
       "   'name': 'Street Struck',\n",
       "   'url': 'https://www.whosampled.com/Big-L/Street-Struck'},\n",
       "  {'artist_id': None,\n",
       "   'artist_url': 'https://www.whosampled.com/Lord-Finesse/',\n",
       "   'name': 'Hip 2 Da Game',\n",
       "   'url': 'https://www.whosampled.com/Lord-Finesse/Hip-2-Da-Game'},\n",
       "  {'artist_id': None,\n",
       "   'artist_url': 'https://www.whosampled.com/J-Dilla/',\n",
       "   'name': 'Light My Fire',\n",
       "   'url': 'https://www.whosampled.com/J-Dilla/Light-My-Fire'},\n",
       "  {'artist_id': None,\n",
       "   'artist_url': 'https://www.whosampled.com/Ultramagnetic-MC%27s/',\n",
       "   'name': 'Poppa Large',\n",
       "   'url': 'https://www.whosampled.com/Ultramagnetic-MC%27s/Poppa-Large'},\n",
       "  {'artist_id': None,\n",
       "   'artist_url': 'https://www.whosampled.com/DJ-Jazzy-Jeff-%26-the-Fresh-Prince/',\n",
       "   'name': 'Brand New Funk',\n",
       "   'url': 'https://www.whosampled.com/DJ-Jazzy-Jeff-%26-the-Fresh-Prince/Brand-New-Funk'},\n",
       "  {'artist_id': None,\n",
       "   'artist_url': 'https://www.whosampled.com/Slum-Village/',\n",
       "   'name': \"I Don't Know\",\n",
       "   'url': 'https://www.whosampled.com/Slum-Village/I-Don%27t-Know'},\n",
       "  {'artist_id': None,\n",
       "   'artist_url': 'https://www.whosampled.com/Jeru-the-Damaja/',\n",
       "   'name': 'The Frustrated Nigga',\n",
       "   'url': 'https://www.whosampled.com/Jeru-the-Damaja/The-Frustrated-Nigga'},\n",
       "  {'artist_id': None,\n",
       "   'artist_url': 'https://www.whosampled.com/Billie-Piper/',\n",
       "   'name': 'Girlfriend',\n",
       "   'url': 'https://www.whosampled.com/Billie-Piper/Girlfriend'},\n",
       "  {'artist_id': None,\n",
       "   'artist_url': 'https://www.whosampled.com/Guy/',\n",
       "   'name': 'Groove Me',\n",
       "   'url': 'https://www.whosampled.com/Guy/Groove-Me'},\n",
       "  {'artist_id': None,\n",
       "   'artist_url': 'https://www.whosampled.com/LL-Cool-J/',\n",
       "   'name': 'Murdergram',\n",
       "   'url': 'https://www.whosampled.com/LL-Cool-J/Murdergram'},\n",
       "  {'artist_id': None,\n",
       "   'artist_url': 'https://www.whosampled.com/SP-Funk/',\n",
       "   'name': 'Fúria De Titãs',\n",
       "   'url': 'https://www.whosampled.com/SP-Funk/F%C3%BAria-De-Tit%C3%A3s'},\n",
       "  {'artist_id': None,\n",
       "   'artist_url': 'https://www.whosampled.com/Joey-B.-Ellis/',\n",
       "   'name': 'Go for It (Heart and Fire)',\n",
       "   'url': 'https://www.whosampled.com/Joey-B.-Ellis/Go-for-It-%28Heart-and-Fire%29'},\n",
       "  {'artist_id': None,\n",
       "   'artist_url': 'https://www.whosampled.com/J-Dilla/',\n",
       "   'name': 'Track 40',\n",
       "   'url': 'https://www.whosampled.com/J-Dilla/Track-40'},\n",
       "  {'artist_id': None,\n",
       "   'artist_url': 'https://www.whosampled.com/Kool-Moe-Dee/',\n",
       "   'name': \"I'm a Player\",\n",
       "   'url': 'https://www.whosampled.com/Kool-Moe-Dee/I%27m-a-Player'},\n",
       "  {'artist_id': None,\n",
       "   'artist_url': 'https://www.whosampled.com/EPMD/',\n",
       "   'name': 'Gold Digger',\n",
       "   'url': 'https://www.whosampled.com/EPMD/Gold-Digger'},\n",
       "  {'artist_id': None,\n",
       "   'artist_url': 'https://www.whosampled.com/Jazzy-Jeff/',\n",
       "   'name': 'Real Hip Hop My Man',\n",
       "   'url': 'https://www.whosampled.com/Jazzy-Jeff/Real-Hip-Hop-My-Man'},\n",
       "  {'artist_id': None,\n",
       "   'artist_url': 'https://www.whosampled.com/Harmony/',\n",
       "   'name': 'Dance to the Drums',\n",
       "   'url': 'https://www.whosampled.com/Harmony/Dance-to-the-Drums'},\n",
       "  {'artist_id': None,\n",
       "   'artist_url': 'https://www.whosampled.com/Heavy-D-%26-the-Boyz/',\n",
       "   'name': 'We Got Our Own Thang',\n",
       "   'url': 'https://www.whosampled.com/Heavy-D-%26-the-Boyz/We-Got-Our-Own-Thang'},\n",
       "  {'artist_id': None,\n",
       "   'artist_url': 'https://www.whosampled.com/Boyz-II-Men/',\n",
       "   'name': 'Sympin',\n",
       "   'url': 'https://www.whosampled.com/Boyz-II-Men/Sympin'},\n",
       "  {'artist_id': None,\n",
       "   'artist_url': 'https://www.whosampled.com/Newtrament/',\n",
       "   'name': 'London Bridge Is Falling Down (Special Vocoder Mix)',\n",
       "   'url': 'https://www.whosampled.com/Newtrament/London-Bridge-Is-Falling-Down-%28Special-Vocoder-Mix%29'},\n",
       "  {'artist_id': None,\n",
       "   'artist_url': 'https://www.whosampled.com/Mac-Band/',\n",
       "   'name': 'Someone to Love',\n",
       "   'url': 'https://www.whosampled.com/Mac-Band/Someone-to-Love'},\n",
       "  {'artist_id': None,\n",
       "   'artist_url': 'https://www.whosampled.com/MC-Shan/',\n",
       "   'name': 'Jane, Stop This Crazy Thing',\n",
       "   'url': 'https://www.whosampled.com/MC-Shan/Jane%2C-Stop-This-Crazy-Thing'},\n",
       "  {'artist_id': None,\n",
       "   'artist_url': 'https://www.whosampled.com/King-Tee/',\n",
       "   'name': \"Payback's a Mutha\",\n",
       "   'url': 'https://www.whosampled.com/King-Tee/Payback%27s-a-Mutha'},\n",
       "  {'artist_id': None,\n",
       "   'artist_url': 'https://www.whosampled.com/Charles-Jenkins/',\n",
       "   'name': 'Winning',\n",
       "   'url': 'https://www.whosampled.com/Charles-Jenkins/Winning'},\n",
       "  {'artist_id': None,\n",
       "   'artist_url': 'https://www.whosampled.com/Ice-Cube/',\n",
       "   'name': 'Get Off My Dick and Tell Yo Bitch to Come Here (Remix)',\n",
       "   'url': 'https://www.whosampled.com/Ice-Cube/Get-Off-My-Dick-and-Tell-Yo-Bitch-to-Come-Here-%28Remix%29'},\n",
       "  {'artist_id': None,\n",
       "   'artist_url': 'https://www.whosampled.com/Dan-the-Automator/',\n",
       "   'name': 'Music to Be Murdered By',\n",
       "   'url': 'https://www.whosampled.com/Dan-the-Automator/Music-to-Be-Murdered-By'},\n",
       "  {'artist_id': None,\n",
       "   'artist_url': 'https://www.whosampled.com/Demencia-Local/',\n",
       "   'name': 'Intro Demencia',\n",
       "   'url': 'https://www.whosampled.com/Demencia-Local/Intro-Demencia'},\n",
       "  {'artist_id': None,\n",
       "   'artist_url': 'https://www.whosampled.com/Diamond-D/',\n",
       "   'name': 'Confused',\n",
       "   'url': 'https://www.whosampled.com/Diamond-D/Confused'},\n",
       "  {'artist_id': None,\n",
       "   'artist_url': 'https://www.whosampled.com/Throw-Down-Twins/',\n",
       "   'name': \"You'll Be on It\",\n",
       "   'url': 'https://www.whosampled.com/Throw-Down-Twins/You%27ll-Be-on-It'},\n",
       "  {'artist_id': None,\n",
       "   'artist_url': 'https://www.whosampled.com/MC-Ruf/',\n",
       "   'name': 'Can Make You Dance (12\" Remix)',\n",
       "   'url': 'https://www.whosampled.com/MC-Ruf/Can-Make-You-Dance-%2812%22-Remix%29'},\n",
       "  {'artist_id': None,\n",
       "   'artist_url': 'https://www.whosampled.com/B.M.W./',\n",
       "   'name': \"Get a Lil' Stupid!\",\n",
       "   'url': 'https://www.whosampled.com/B.M.W./Get-a-Lil%27-Stupid%21'},\n",
       "  {'artist_id': None,\n",
       "   'artist_url': 'https://www.whosampled.com/Spoonie-Gee/',\n",
       "   'name': 'Hit Man',\n",
       "   'url': 'https://www.whosampled.com/Spoonie-Gee/Hit-Man'},\n",
       "  {'artist_id': None,\n",
       "   'artist_url': 'https://www.whosampled.com/Ultimate-III/',\n",
       "   'name': 'Ultimate III Live',\n",
       "   'url': 'https://www.whosampled.com/Ultimate-III/Ultimate-III-Live'},\n",
       "  {'artist_id': None,\n",
       "   'artist_url': 'https://www.whosampled.com/Leaders-of-the-New-School/',\n",
       "   'name': 'Transformers',\n",
       "   'url': 'https://www.whosampled.com/Leaders-of-the-New-School/Transformers'},\n",
       "  {'artist_id': None,\n",
       "   'artist_url': 'https://www.whosampled.com/Low-Profile/',\n",
       "   'name': 'Think You Can Hang?',\n",
       "   'url': 'https://www.whosampled.com/Low-Profile/Think-You-Can-Hang%3F'},\n",
       "  {'artist_id': None,\n",
       "   'artist_url': 'https://www.whosampled.com/One-Def-Clan/',\n",
       "   'name': \"(Do Dat?) Y'all Know What Time It Is!\",\n",
       "   'url': 'https://www.whosampled.com/One-Def-Clan/%28Do-Dat%3F%29-Y%27all-Know-What-Time-It-Is%21'},\n",
       "  {'artist_id': None,\n",
       "   'artist_url': 'https://www.whosampled.com/Silk/',\n",
       "   'name': 'When I Think About You',\n",
       "   'url': 'https://www.whosampled.com/Silk/When-I-Think-About-You'},\n",
       "  {'artist_id': None,\n",
       "   'artist_url': 'https://www.whosampled.com/Tony-D/',\n",
       "   'name': 'Check the Elevation',\n",
       "   'url': 'https://www.whosampled.com/Tony-D/Check-the-Elevation'},\n",
       "  {'artist_id': None,\n",
       "   'artist_url': 'https://www.whosampled.com/Cappella/',\n",
       "   'name': 'Bauhaus',\n",
       "   'url': 'https://www.whosampled.com/Cappella/Bauhaus'},\n",
       "  {'artist_id': None,\n",
       "   'artist_url': 'https://www.whosampled.com/The-Winans/',\n",
       "   'name': \"It's Time (Teddy Riley's New Jack Swing Mix)\",\n",
       "   'url': 'https://www.whosampled.com/The-Winans/It%27s-Time-%28Teddy-Riley%27s-New-Jack-Swing-Mix%29'},\n",
       "  {'artist_id': None,\n",
       "   'artist_url': 'https://www.whosampled.com/Today/',\n",
       "   'name': 'You Stood Me Up',\n",
       "   'url': 'https://www.whosampled.com/Today/You-Stood-Me-Up'},\n",
       "  {'artist_id': None,\n",
       "   'artist_url': 'https://www.whosampled.com/A-R%C3%BChm/',\n",
       "   'name': 'Qrat Ja Ingel',\n",
       "   'url': 'https://www.whosampled.com/A-R%C3%BChm/Qrat-Ja-Ingel'},\n",
       "  {'artist_id': None,\n",
       "   'artist_url': 'https://www.whosampled.com/Duice/',\n",
       "   'name': 'The Pawee',\n",
       "   'url': 'https://www.whosampled.com/Duice/The-Pawee'},\n",
       "  {'artist_id': None,\n",
       "   'artist_url': 'https://www.whosampled.com/M.C.-Jeffrey-B./',\n",
       "   'name': 'Jeffrey B. (Radio/Club Mix)',\n",
       "   'url': 'https://www.whosampled.com/M.C.-Jeffrey-B./Jeffrey-B.-%28Radio/Club-Mix%29'},\n",
       "  {'artist_id': None,\n",
       "   'artist_url': 'https://www.whosampled.com/L%27Trimm/',\n",
       "   'name': 'Groovy',\n",
       "   'url': 'https://www.whosampled.com/L%27Trimm/Groovy'},\n",
       "  {'artist_id': None,\n",
       "   'artist_url': 'https://www.whosampled.com/Seagram/',\n",
       "   'name': '2 for 1',\n",
       "   'url': 'https://www.whosampled.com/Seagram/2-for-1'},\n",
       "  {'artist_id': None,\n",
       "   'artist_url': 'https://www.whosampled.com/The-Posse-NFX/',\n",
       "   'name': 'Posse Funk',\n",
       "   'url': 'https://www.whosampled.com/The-Posse-NFX/Posse-Funk'},\n",
       "  {'artist_id': None,\n",
       "   'artist_url': 'https://www.whosampled.com/Jaz/',\n",
       "   'name': 'A Groove (This Is What U Rap 2)',\n",
       "   'url': 'https://www.whosampled.com/Jaz/A-Groove-%28This-Is-What-U-Rap-2%29'},\n",
       "  {'artist_id': None,\n",
       "   'artist_url': 'https://www.whosampled.com/MC-Hammer/',\n",
       "   'name': 'Releasing Some Pressure',\n",
       "   'url': 'https://www.whosampled.com/MC-Hammer/Releasing-Some-Pressure'},\n",
       "  {'artist_id': None,\n",
       "   'artist_url': 'https://www.whosampled.com/May-May-Ali/',\n",
       "   'name': 'Satisfaction',\n",
       "   'url': 'https://www.whosampled.com/May-May-Ali/Satisfaction'},\n",
       "  {'artist_id': None,\n",
       "   'artist_url': 'https://www.whosampled.com/Dominating-MC%27s/',\n",
       "   'name': 'Funky Terminology',\n",
       "   'url': 'https://www.whosampled.com/Dominating-MC%27s/Funky-Terminology'},\n",
       "  {'artist_id': None,\n",
       "   'artist_url': 'https://www.whosampled.com/Movimiento-Original/',\n",
       "   'name': 'Interludio',\n",
       "   'url': 'https://www.whosampled.com/Movimiento-Original/Interludio'},\n",
       "  {'artist_id': None,\n",
       "   'artist_url': 'https://www.whosampled.com/Three-Times-Dope/',\n",
       "   'name': 'Make Dat Move',\n",
       "   'url': 'https://www.whosampled.com/Three-Times-Dope/Make-Dat-Move'},\n",
       "  {'artist_id': None,\n",
       "   'artist_url': 'https://www.whosampled.com/H.E.A.L.-Human-Education-Against-Lies/',\n",
       "   'name': 'Civilization vs. Technology',\n",
       "   'url': 'https://www.whosampled.com/H.E.A.L.-Human-Education-Against-Lies/Civilization-vs.-Technology'},\n",
       "  {'artist_id': None,\n",
       "   'artist_url': 'https://www.whosampled.com/MC-J-Witt/',\n",
       "   'name': 'Get With It',\n",
       "   'url': 'https://www.whosampled.com/MC-J-Witt/Get-With-It'},\n",
       "  {'artist_id': None,\n",
       "   'artist_url': 'https://www.whosampled.com/Rob-Base-%26-DJ-E-Z-Rock/',\n",
       "   'name': 'Bike Tights',\n",
       "   'url': 'https://www.whosampled.com/Rob-Base-%26-DJ-E-Z-Rock/Bike-Tights'},\n",
       "  {'artist_id': None,\n",
       "   'artist_url': 'https://www.whosampled.com/Supreme-NYborn/',\n",
       "   'name': 'Style',\n",
       "   'url': 'https://www.whosampled.com/Supreme-NYborn/Style'},\n",
       "  {'artist_id': None,\n",
       "   'artist_url': 'https://www.whosampled.com/Beat-Master-Clay-D/',\n",
       "   'name': 'Pullit All the Way Down',\n",
       "   'url': 'https://www.whosampled.com/Beat-Master-Clay-D/Pullit-All-the-Way-Down'},\n",
       "  {'artist_id': None,\n",
       "   'artist_url': 'https://www.whosampled.com/One-Cause-One-Effect/',\n",
       "   'name': \"Let's Get Busy\",\n",
       "   'url': 'https://www.whosampled.com/One-Cause-One-Effect/Let%27s-Get-Busy'},\n",
       "  {'artist_id': None,\n",
       "   'artist_url': 'https://www.whosampled.com/Dynamicly-Def/',\n",
       "   'name': 'We Gotta Get Paid',\n",
       "   'url': 'https://www.whosampled.com/Dynamicly-Def/We-Gotta-Get-Paid'},\n",
       "  {'artist_id': None,\n",
       "   'artist_url': 'https://www.whosampled.com/TNT/',\n",
       "   'name': 'Rest in Peace (R.I.P.)',\n",
       "   'url': 'https://www.whosampled.com/TNT/Rest-in-Peace-%28R.I.P.%29'},\n",
       "  {'artist_id': None,\n",
       "   'artist_url': 'https://www.whosampled.com/Drack/',\n",
       "   'name': \"Bustin' Loose\",\n",
       "   'url': 'https://www.whosampled.com/Drack/Bustin%27-Loose'},\n",
       "  {'artist_id': None,\n",
       "   'artist_url': 'https://www.whosampled.com/Sister-Souljah/',\n",
       "   'name': '360 Degrees of Power',\n",
       "   'url': 'https://www.whosampled.com/Sister-Souljah/360-Degrees-of-Power'},\n",
       "  {'artist_id': None,\n",
       "   'artist_url': 'https://www.whosampled.com/DJ-Aladdin/',\n",
       "   'name': 'Masterplan',\n",
       "   'url': 'https://www.whosampled.com/DJ-Aladdin/Masterplan'},\n",
       "  {'artist_id': None,\n",
       "   'artist_url': 'https://www.whosampled.com/The-Good-Girls/',\n",
       "   'name': 'My Love Is Real',\n",
       "   'url': 'https://www.whosampled.com/The-Good-Girls/My-Love-Is-Real'},\n",
       "  {'artist_id': None,\n",
       "   'artist_url': 'https://www.whosampled.com/M-Team/',\n",
       "   'name': 'Can You Kick It Like This',\n",
       "   'url': 'https://www.whosampled.com/M-Team/Can-You-Kick-It-Like-This'},\n",
       "  {'artist_id': None,\n",
       "   'artist_url': 'https://www.whosampled.com/Rated-X/',\n",
       "   'name': \"If It Don't Fit\",\n",
       "   'url': 'https://www.whosampled.com/Rated-X/If-It-Don%27t-Fit'},\n",
       "  {'artist_id': None,\n",
       "   'artist_url': 'https://www.whosampled.com/Boyz-II-Men/',\n",
       "   'name': \"Sympin Ain't Easy\",\n",
       "   'url': 'https://www.whosampled.com/Boyz-II-Men/Sympin-Ain%27t-Easy'},\n",
       "  {'artist_id': None,\n",
       "   'artist_url': 'https://www.whosampled.com/Random/',\n",
       "   'name': 'Sick!!',\n",
       "   'url': 'https://www.whosampled.com/Random/Sick%21%21'},\n",
       "  {'artist_id': None,\n",
       "   'artist_url': 'https://www.whosampled.com/Tabb-(2)/',\n",
       "   'name': \"I'm Just Amazing\",\n",
       "   'url': 'https://www.whosampled.com/Tabb-(2)/I%27m-Just-Amazing'},\n",
       "  {'artist_id': None,\n",
       "   'artist_url': 'https://www.whosampled.com/Devo-X/',\n",
       "   'name': 'First Case',\n",
       "   'url': 'https://www.whosampled.com/Devo-X/First-Case'},\n",
       "  {'artist_id': None,\n",
       "   'artist_url': 'https://www.whosampled.com/Oran-%22Juice%22-Jones/',\n",
       "   'name': 'Shaniqua (Marley Marl Super Mix)',\n",
       "   'url': 'https://www.whosampled.com/Oran-%22Juice%22-Jones/Shaniqua-%28Marley-Marl-Super-Mix%29'},\n",
       "  {'artist_id': None,\n",
       "   'artist_url': 'https://www.whosampled.com/Capital-Tax/',\n",
       "   'name': 'We Pals',\n",
       "   'url': 'https://www.whosampled.com/Capital-Tax/We-Pals'},\n",
       "  {'artist_id': None,\n",
       "   'artist_url': 'https://www.whosampled.com/MC-J-Witt/',\n",
       "   'name': 'Body Rock',\n",
       "   'url': 'https://www.whosampled.com/MC-J-Witt/Body-Rock'},\n",
       "  {'artist_id': None,\n",
       "   'artist_url': 'https://www.whosampled.com/Les-Little/',\n",
       "   'name': 'Les Vrais',\n",
       "   'url': 'https://www.whosampled.com/Les-Little/Les-Vrais'},\n",
       "  {'artist_id': None,\n",
       "   'artist_url': 'https://www.whosampled.com/Little-Shawn/',\n",
       "   'name': 'Keep Ya Distance',\n",
       "   'url': 'https://www.whosampled.com/Little-Shawn/Keep-Ya-Distance'},\n",
       "  {'artist_id': None,\n",
       "   'artist_url': 'https://www.whosampled.com/Adventures-of-Stevie-V/',\n",
       "   'name': 'Body Language (Full Rub Mix)',\n",
       "   'url': 'https://www.whosampled.com/Adventures-of-Stevie-V/Body-Language-%28Full-Rub-Mix%29'},\n",
       "  {'artist_id': None,\n",
       "   'artist_url': 'https://www.whosampled.com/Tony-Terry/',\n",
       "   'name': 'Let Me Love You',\n",
       "   'url': 'https://www.whosampled.com/Tony-Terry/Let-Me-Love-You'},\n",
       "  {'artist_id': None,\n",
       "   'artist_url': 'https://www.whosampled.com/Sir-Rock-T/',\n",
       "   'name': 'Rough as They Come',\n",
       "   'url': 'https://www.whosampled.com/Sir-Rock-T/Rough-as-They-Come'},\n",
       "  {'artist_id': None,\n",
       "   'artist_url': 'https://www.whosampled.com/Cool-D/',\n",
       "   'name': 'Kui Neid Asju Poleks',\n",
       "   'url': 'https://www.whosampled.com/Cool-D/Kui-Neid-Asju-Poleks'},\n",
       "  {'artist_id': None,\n",
       "   'artist_url': 'https://www.whosampled.com/Prison-City-Productions/',\n",
       "   'name': 'The Future',\n",
       "   'url': 'https://www.whosampled.com/Prison-City-Productions/The-Future'},\n",
       "  {'artist_id': None,\n",
       "   'artist_url': 'https://www.whosampled.com/Def-Jef/',\n",
       "   'name': \"Cali's All That (UK Mix)\",\n",
       "   'url': 'https://www.whosampled.com/Def-Jef/Cali%27s-All-That-%28UK-Mix%29'}],\n",
       " [{'artist_id': None,\n",
       "   'artist_url': 'https://www.whosampled.com/The-Isley-Brothers/',\n",
       "   'name': \"It's Your Thing\",\n",
       "   'url': 'https://www.whosampled.com/The-Isley-Brothers/It%27s-Your-Thing'}],\n",
       " [{'name': 'Jay-Z', 'url': 'https://www.whosampled.com/Jay-Z/'},\n",
       "  {'name': 'Lords of the Underground',\n",
       "   'url': 'https://www.whosampled.com/Lords-of-the-Underground/'},\n",
       "  {'name': 'Big L', 'url': 'https://www.whosampled.com/Big-L/'},\n",
       "  {'name': 'Lord Finesse', 'url': 'https://www.whosampled.com/Lord-Finesse/'},\n",
       "  {'name': 'J Dilla', 'url': 'https://www.whosampled.com/J-Dilla/'},\n",
       "  {'name': \"Ultramagnetic MC's\",\n",
       "   'url': 'https://www.whosampled.com/Ultramagnetic-MC%27s/'},\n",
       "  {'name': 'DJ Jazzy Jeff & the Fresh Prince',\n",
       "   'url': 'https://www.whosampled.com/DJ-Jazzy-Jeff-%26-the-Fresh-Prince/'},\n",
       "  {'name': 'Slum Village', 'url': 'https://www.whosampled.com/Slum-Village/'},\n",
       "  {'name': 'Jeru the Damaja',\n",
       "   'url': 'https://www.whosampled.com/Jeru-the-Damaja/'},\n",
       "  {'name': 'Billie Piper', 'url': 'https://www.whosampled.com/Billie-Piper/'},\n",
       "  {'name': 'Guy', 'url': 'https://www.whosampled.com/Guy/'},\n",
       "  {'name': 'LL Cool J', 'url': 'https://www.whosampled.com/LL-Cool-J/'},\n",
       "  {'name': 'SP Funk', 'url': 'https://www.whosampled.com/SP-Funk/'},\n",
       "  {'name': 'Joey B. Ellis',\n",
       "   'url': 'https://www.whosampled.com/Joey-B.-Ellis/'},\n",
       "  {'name': 'J Dilla', 'url': 'https://www.whosampled.com/J-Dilla/'},\n",
       "  {'name': 'Kool Moe Dee', 'url': 'https://www.whosampled.com/Kool-Moe-Dee/'},\n",
       "  {'name': 'EPMD', 'url': 'https://www.whosampled.com/EPMD/'},\n",
       "  {'name': 'Jazzy Jeff', 'url': 'https://www.whosampled.com/Jazzy-Jeff/'},\n",
       "  {'name': 'Harmony', 'url': 'https://www.whosampled.com/Harmony/'},\n",
       "  {'name': 'Heavy D & the Boyz',\n",
       "   'url': 'https://www.whosampled.com/Heavy-D-%26-the-Boyz/'},\n",
       "  {'name': 'Boyz II Men', 'url': 'https://www.whosampled.com/Boyz-II-Men/'},\n",
       "  {'name': 'Newtrament', 'url': 'https://www.whosampled.com/Newtrament/'},\n",
       "  {'name': 'Mac Band', 'url': 'https://www.whosampled.com/Mac-Band/'},\n",
       "  {'name': 'MC Shan', 'url': 'https://www.whosampled.com/MC-Shan/'},\n",
       "  {'name': 'King Tee', 'url': 'https://www.whosampled.com/King-Tee/'},\n",
       "  {'name': 'Charles Jenkins',\n",
       "   'url': 'https://www.whosampled.com/Charles-Jenkins/'},\n",
       "  {'name': 'Ice Cube', 'url': 'https://www.whosampled.com/Ice-Cube/'},\n",
       "  {'name': 'Dan the Automator',\n",
       "   'url': 'https://www.whosampled.com/Dan-the-Automator/'},\n",
       "  {'name': 'Demencia Local',\n",
       "   'url': 'https://www.whosampled.com/Demencia-Local/'},\n",
       "  {'name': 'Diamond D', 'url': 'https://www.whosampled.com/Diamond-D/'},\n",
       "  {'name': 'Throw Down Twins',\n",
       "   'url': 'https://www.whosampled.com/Throw-Down-Twins/'},\n",
       "  {'name': 'MC Ruf', 'url': 'https://www.whosampled.com/MC-Ruf/'},\n",
       "  {'name': 'B.M.W.', 'url': 'https://www.whosampled.com/B.M.W./'},\n",
       "  {'name': 'Spoonie Gee', 'url': 'https://www.whosampled.com/Spoonie-Gee/'},\n",
       "  {'name': 'Ultimate III', 'url': 'https://www.whosampled.com/Ultimate-III/'},\n",
       "  {'name': 'Leaders of the New School',\n",
       "   'url': 'https://www.whosampled.com/Leaders-of-the-New-School/'},\n",
       "  {'name': 'Low Profile', 'url': 'https://www.whosampled.com/Low-Profile/'},\n",
       "  {'name': 'One Def Clan', 'url': 'https://www.whosampled.com/One-Def-Clan/'},\n",
       "  {'name': 'Silk', 'url': 'https://www.whosampled.com/Silk/'},\n",
       "  {'name': 'Tony D', 'url': 'https://www.whosampled.com/Tony-D/'},\n",
       "  {'name': 'Cappella', 'url': 'https://www.whosampled.com/Cappella/'},\n",
       "  {'name': 'The Winans', 'url': 'https://www.whosampled.com/The-Winans/'},\n",
       "  {'name': 'Today', 'url': 'https://www.whosampled.com/Today/'},\n",
       "  {'name': 'A-Rühm', 'url': 'https://www.whosampled.com/A-R%C3%BChm/'},\n",
       "  {'name': 'Duice', 'url': 'https://www.whosampled.com/Duice/'},\n",
       "  {'name': 'M.C. Jeffrey B.',\n",
       "   'url': 'https://www.whosampled.com/M.C.-Jeffrey-B./'},\n",
       "  {'name': \"L'Trimm\", 'url': 'https://www.whosampled.com/L%27Trimm/'},\n",
       "  {'name': 'Seagram', 'url': 'https://www.whosampled.com/Seagram/'},\n",
       "  {'name': 'The Posse NFX',\n",
       "   'url': 'https://www.whosampled.com/The-Posse-NFX/'},\n",
       "  {'name': 'Jaz', 'url': 'https://www.whosampled.com/Jaz/'},\n",
       "  {'name': 'MC Hammer', 'url': 'https://www.whosampled.com/MC-Hammer/'},\n",
       "  {'name': 'May-May Ali', 'url': 'https://www.whosampled.com/May-May-Ali/'},\n",
       "  {'name': \"Dominating MC's\",\n",
       "   'url': 'https://www.whosampled.com/Dominating-MC%27s/'},\n",
       "  {'name': 'Movimiento Original',\n",
       "   'url': 'https://www.whosampled.com/Movimiento-Original/'},\n",
       "  {'name': 'Three Times Dope',\n",
       "   'url': 'https://www.whosampled.com/Three-Times-Dope/'},\n",
       "  {'name': 'H.E.A.L. Human Education Against Lies',\n",
       "   'url': 'https://www.whosampled.com/H.E.A.L.-Human-Education-Against-Lies/'},\n",
       "  {'name': 'MC J-Witt', 'url': 'https://www.whosampled.com/MC-J-Witt/'},\n",
       "  {'name': 'Rob Base & DJ E-Z Rock',\n",
       "   'url': 'https://www.whosampled.com/Rob-Base-%26-DJ-E-Z-Rock/'},\n",
       "  {'name': 'Supreme NYborn',\n",
       "   'url': 'https://www.whosampled.com/Supreme-NYborn/'},\n",
       "  {'name': 'Beat Master Clay D',\n",
       "   'url': 'https://www.whosampled.com/Beat-Master-Clay-D/'},\n",
       "  {'name': 'One Cause One Effect',\n",
       "   'url': 'https://www.whosampled.com/One-Cause-One-Effect/'},\n",
       "  {'name': 'Dynamicly Def',\n",
       "   'url': 'https://www.whosampled.com/Dynamicly-Def/'},\n",
       "  {'name': 'TNT', 'url': 'https://www.whosampled.com/TNT/'},\n",
       "  {'name': 'Drack', 'url': 'https://www.whosampled.com/Drack/'},\n",
       "  {'name': 'Sister Souljah',\n",
       "   'url': 'https://www.whosampled.com/Sister-Souljah/'},\n",
       "  {'name': 'DJ Aladdin', 'url': 'https://www.whosampled.com/DJ-Aladdin/'},\n",
       "  {'name': 'The Good Girls',\n",
       "   'url': 'https://www.whosampled.com/The-Good-Girls/'},\n",
       "  {'name': 'M-Team', 'url': 'https://www.whosampled.com/M-Team/'},\n",
       "  {'name': 'Rated X', 'url': 'https://www.whosampled.com/Rated-X/'},\n",
       "  {'name': 'Boyz II Men', 'url': 'https://www.whosampled.com/Boyz-II-Men/'},\n",
       "  {'name': 'Random', 'url': 'https://www.whosampled.com/Random/'},\n",
       "  {'name': 'Tabb (2)', 'url': 'https://www.whosampled.com/Tabb-(2)/'},\n",
       "  {'name': 'Devo-X', 'url': 'https://www.whosampled.com/Devo-X/'},\n",
       "  {'name': 'Oran \"Juice\" Jones',\n",
       "   'url': 'https://www.whosampled.com/Oran-%22Juice%22-Jones/'},\n",
       "  {'name': 'Capital Tax', 'url': 'https://www.whosampled.com/Capital-Tax/'},\n",
       "  {'name': 'MC J-Witt', 'url': 'https://www.whosampled.com/MC-J-Witt/'},\n",
       "  {'name': 'Les Little', 'url': 'https://www.whosampled.com/Les-Little/'},\n",
       "  {'name': 'Little Shawn', 'url': 'https://www.whosampled.com/Little-Shawn/'},\n",
       "  {'name': 'Adventures of Stevie V',\n",
       "   'url': 'https://www.whosampled.com/Adventures-of-Stevie-V/'},\n",
       "  {'name': 'Tony Terry', 'url': 'https://www.whosampled.com/Tony-Terry/'},\n",
       "  {'name': 'Sir Rock T', 'url': 'https://www.whosampled.com/Sir-Rock-T/'},\n",
       "  {'name': 'Cool D', 'url': 'https://www.whosampled.com/Cool-D/'},\n",
       "  {'name': 'Prison City Productions',\n",
       "   'url': 'https://www.whosampled.com/Prison-City-Productions/'},\n",
       "  {'name': 'Def Jef', 'url': 'https://www.whosampled.com/Def-Jef/'},\n",
       "  {'name': 'The Isley Brothers',\n",
       "   'url': 'https://www.whosampled.com/The-Isley-Brothers/'}])"
      ]
     },
     "execution_count": 30,
     "metadata": {},
     "output_type": "execute_result"
    }
   ],
   "source": [
    "s.get_song_connections('https://www.whosampled.com/James-Brown/My-Thang/')"
   ]
  },
  {
   "cell_type": "code",
   "execution_count": 31,
   "metadata": {},
   "outputs": [],
   "source": [
    "sampled, contains, artists = _"
   ]
  },
  {
   "cell_type": "code",
   "execution_count": 32,
   "metadata": {},
   "outputs": [
    {
     "data": {
      "text/plain": [
       "[{'artist_id': None,\n",
       "  'artist_url': 'https://www.whosampled.com/The-Isley-Brothers/',\n",
       "  'name': \"It's Your Thing\",\n",
       "  'url': 'https://www.whosampled.com/The-Isley-Brothers/It%27s-Your-Thing'}]"
      ]
     },
     "execution_count": 32,
     "metadata": {},
     "output_type": "execute_result"
    }
   ],
   "source": [
    "contains"
   ]
  },
  {
   "cell_type": "code",
   "execution_count": 33,
   "metadata": {},
   "outputs": [
    {
     "data": {
      "text/plain": [
       "[{'artist_id': None,\n",
       "  'artist_url': 'https://www.whosampled.com/Jay-Z/',\n",
       "  'name': 'Gotta Have It',\n",
       "  'url': 'https://www.whosampled.com/Jay-Z/Gotta-Have-It'},\n",
       " {'artist_id': None,\n",
       "  'artist_url': 'https://www.whosampled.com/Lords-of-the-Underground/',\n",
       "  'name': 'Funky Child',\n",
       "  'url': 'https://www.whosampled.com/Lords-of-the-Underground/Funky-Child'},\n",
       " {'artist_id': None,\n",
       "  'artist_url': 'https://www.whosampled.com/Big-L/',\n",
       "  'name': 'Street Struck',\n",
       "  'url': 'https://www.whosampled.com/Big-L/Street-Struck'},\n",
       " {'artist_id': None,\n",
       "  'artist_url': 'https://www.whosampled.com/Lord-Finesse/',\n",
       "  'name': 'Hip 2 Da Game',\n",
       "  'url': 'https://www.whosampled.com/Lord-Finesse/Hip-2-Da-Game'},\n",
       " {'artist_id': None,\n",
       "  'artist_url': 'https://www.whosampled.com/J-Dilla/',\n",
       "  'name': 'Light My Fire',\n",
       "  'url': 'https://www.whosampled.com/J-Dilla/Light-My-Fire'},\n",
       " {'artist_id': None,\n",
       "  'artist_url': 'https://www.whosampled.com/Ultramagnetic-MC%27s/',\n",
       "  'name': 'Poppa Large',\n",
       "  'url': 'https://www.whosampled.com/Ultramagnetic-MC%27s/Poppa-Large'},\n",
       " {'artist_id': None,\n",
       "  'artist_url': 'https://www.whosampled.com/DJ-Jazzy-Jeff-%26-the-Fresh-Prince/',\n",
       "  'name': 'Brand New Funk',\n",
       "  'url': 'https://www.whosampled.com/DJ-Jazzy-Jeff-%26-the-Fresh-Prince/Brand-New-Funk'},\n",
       " {'artist_id': None,\n",
       "  'artist_url': 'https://www.whosampled.com/Slum-Village/',\n",
       "  'name': \"I Don't Know\",\n",
       "  'url': 'https://www.whosampled.com/Slum-Village/I-Don%27t-Know'},\n",
       " {'artist_id': None,\n",
       "  'artist_url': 'https://www.whosampled.com/Jeru-the-Damaja/',\n",
       "  'name': 'The Frustrated Nigga',\n",
       "  'url': 'https://www.whosampled.com/Jeru-the-Damaja/The-Frustrated-Nigga'},\n",
       " {'artist_id': None,\n",
       "  'artist_url': 'https://www.whosampled.com/Billie-Piper/',\n",
       "  'name': 'Girlfriend',\n",
       "  'url': 'https://www.whosampled.com/Billie-Piper/Girlfriend'},\n",
       " {'artist_id': None,\n",
       "  'artist_url': 'https://www.whosampled.com/Guy/',\n",
       "  'name': 'Groove Me',\n",
       "  'url': 'https://www.whosampled.com/Guy/Groove-Me'},\n",
       " {'artist_id': None,\n",
       "  'artist_url': 'https://www.whosampled.com/LL-Cool-J/',\n",
       "  'name': 'Murdergram',\n",
       "  'url': 'https://www.whosampled.com/LL-Cool-J/Murdergram'},\n",
       " {'artist_id': None,\n",
       "  'artist_url': 'https://www.whosampled.com/SP-Funk/',\n",
       "  'name': 'Fúria De Titãs',\n",
       "  'url': 'https://www.whosampled.com/SP-Funk/F%C3%BAria-De-Tit%C3%A3s'},\n",
       " {'artist_id': None,\n",
       "  'artist_url': 'https://www.whosampled.com/Joey-B.-Ellis/',\n",
       "  'name': 'Go for It (Heart and Fire)',\n",
       "  'url': 'https://www.whosampled.com/Joey-B.-Ellis/Go-for-It-%28Heart-and-Fire%29'},\n",
       " {'artist_id': None,\n",
       "  'artist_url': 'https://www.whosampled.com/J-Dilla/',\n",
       "  'name': 'Track 40',\n",
       "  'url': 'https://www.whosampled.com/J-Dilla/Track-40'},\n",
       " {'artist_id': None,\n",
       "  'artist_url': 'https://www.whosampled.com/Kool-Moe-Dee/',\n",
       "  'name': \"I'm a Player\",\n",
       "  'url': 'https://www.whosampled.com/Kool-Moe-Dee/I%27m-a-Player'},\n",
       " {'artist_id': None,\n",
       "  'artist_url': 'https://www.whosampled.com/EPMD/',\n",
       "  'name': 'Gold Digger',\n",
       "  'url': 'https://www.whosampled.com/EPMD/Gold-Digger'},\n",
       " {'artist_id': None,\n",
       "  'artist_url': 'https://www.whosampled.com/Jazzy-Jeff/',\n",
       "  'name': 'Real Hip Hop My Man',\n",
       "  'url': 'https://www.whosampled.com/Jazzy-Jeff/Real-Hip-Hop-My-Man'},\n",
       " {'artist_id': None,\n",
       "  'artist_url': 'https://www.whosampled.com/Harmony/',\n",
       "  'name': 'Dance to the Drums',\n",
       "  'url': 'https://www.whosampled.com/Harmony/Dance-to-the-Drums'},\n",
       " {'artist_id': None,\n",
       "  'artist_url': 'https://www.whosampled.com/Heavy-D-%26-the-Boyz/',\n",
       "  'name': 'We Got Our Own Thang',\n",
       "  'url': 'https://www.whosampled.com/Heavy-D-%26-the-Boyz/We-Got-Our-Own-Thang'},\n",
       " {'artist_id': None,\n",
       "  'artist_url': 'https://www.whosampled.com/Boyz-II-Men/',\n",
       "  'name': 'Sympin',\n",
       "  'url': 'https://www.whosampled.com/Boyz-II-Men/Sympin'},\n",
       " {'artist_id': None,\n",
       "  'artist_url': 'https://www.whosampled.com/Newtrament/',\n",
       "  'name': 'London Bridge Is Falling Down (Special Vocoder Mix)',\n",
       "  'url': 'https://www.whosampled.com/Newtrament/London-Bridge-Is-Falling-Down-%28Special-Vocoder-Mix%29'},\n",
       " {'artist_id': None,\n",
       "  'artist_url': 'https://www.whosampled.com/Mac-Band/',\n",
       "  'name': 'Someone to Love',\n",
       "  'url': 'https://www.whosampled.com/Mac-Band/Someone-to-Love'},\n",
       " {'artist_id': None,\n",
       "  'artist_url': 'https://www.whosampled.com/MC-Shan/',\n",
       "  'name': 'Jane, Stop This Crazy Thing',\n",
       "  'url': 'https://www.whosampled.com/MC-Shan/Jane%2C-Stop-This-Crazy-Thing'},\n",
       " {'artist_id': None,\n",
       "  'artist_url': 'https://www.whosampled.com/King-Tee/',\n",
       "  'name': \"Payback's a Mutha\",\n",
       "  'url': 'https://www.whosampled.com/King-Tee/Payback%27s-a-Mutha'},\n",
       " {'artist_id': None,\n",
       "  'artist_url': 'https://www.whosampled.com/Charles-Jenkins/',\n",
       "  'name': 'Winning',\n",
       "  'url': 'https://www.whosampled.com/Charles-Jenkins/Winning'},\n",
       " {'artist_id': None,\n",
       "  'artist_url': 'https://www.whosampled.com/Ice-Cube/',\n",
       "  'name': 'Get Off My Dick and Tell Yo Bitch to Come Here (Remix)',\n",
       "  'url': 'https://www.whosampled.com/Ice-Cube/Get-Off-My-Dick-and-Tell-Yo-Bitch-to-Come-Here-%28Remix%29'},\n",
       " {'artist_id': None,\n",
       "  'artist_url': 'https://www.whosampled.com/Dan-the-Automator/',\n",
       "  'name': 'Music to Be Murdered By',\n",
       "  'url': 'https://www.whosampled.com/Dan-the-Automator/Music-to-Be-Murdered-By'},\n",
       " {'artist_id': None,\n",
       "  'artist_url': 'https://www.whosampled.com/Demencia-Local/',\n",
       "  'name': 'Intro Demencia',\n",
       "  'url': 'https://www.whosampled.com/Demencia-Local/Intro-Demencia'},\n",
       " {'artist_id': None,\n",
       "  'artist_url': 'https://www.whosampled.com/Diamond-D/',\n",
       "  'name': 'Confused',\n",
       "  'url': 'https://www.whosampled.com/Diamond-D/Confused'},\n",
       " {'artist_id': None,\n",
       "  'artist_url': 'https://www.whosampled.com/Throw-Down-Twins/',\n",
       "  'name': \"You'll Be on It\",\n",
       "  'url': 'https://www.whosampled.com/Throw-Down-Twins/You%27ll-Be-on-It'},\n",
       " {'artist_id': None,\n",
       "  'artist_url': 'https://www.whosampled.com/MC-Ruf/',\n",
       "  'name': 'Can Make You Dance (12\" Remix)',\n",
       "  'url': 'https://www.whosampled.com/MC-Ruf/Can-Make-You-Dance-%2812%22-Remix%29'},\n",
       " {'artist_id': None,\n",
       "  'artist_url': 'https://www.whosampled.com/B.M.W./',\n",
       "  'name': \"Get a Lil' Stupid!\",\n",
       "  'url': 'https://www.whosampled.com/B.M.W./Get-a-Lil%27-Stupid%21'},\n",
       " {'artist_id': None,\n",
       "  'artist_url': 'https://www.whosampled.com/Spoonie-Gee/',\n",
       "  'name': 'Hit Man',\n",
       "  'url': 'https://www.whosampled.com/Spoonie-Gee/Hit-Man'},\n",
       " {'artist_id': None,\n",
       "  'artist_url': 'https://www.whosampled.com/Ultimate-III/',\n",
       "  'name': 'Ultimate III Live',\n",
       "  'url': 'https://www.whosampled.com/Ultimate-III/Ultimate-III-Live'},\n",
       " {'artist_id': None,\n",
       "  'artist_url': 'https://www.whosampled.com/Leaders-of-the-New-School/',\n",
       "  'name': 'Transformers',\n",
       "  'url': 'https://www.whosampled.com/Leaders-of-the-New-School/Transformers'},\n",
       " {'artist_id': None,\n",
       "  'artist_url': 'https://www.whosampled.com/Low-Profile/',\n",
       "  'name': 'Think You Can Hang?',\n",
       "  'url': 'https://www.whosampled.com/Low-Profile/Think-You-Can-Hang%3F'},\n",
       " {'artist_id': None,\n",
       "  'artist_url': 'https://www.whosampled.com/One-Def-Clan/',\n",
       "  'name': \"(Do Dat?) Y'all Know What Time It Is!\",\n",
       "  'url': 'https://www.whosampled.com/One-Def-Clan/%28Do-Dat%3F%29-Y%27all-Know-What-Time-It-Is%21'},\n",
       " {'artist_id': None,\n",
       "  'artist_url': 'https://www.whosampled.com/Silk/',\n",
       "  'name': 'When I Think About You',\n",
       "  'url': 'https://www.whosampled.com/Silk/When-I-Think-About-You'},\n",
       " {'artist_id': None,\n",
       "  'artist_url': 'https://www.whosampled.com/Tony-D/',\n",
       "  'name': 'Check the Elevation',\n",
       "  'url': 'https://www.whosampled.com/Tony-D/Check-the-Elevation'},\n",
       " {'artist_id': None,\n",
       "  'artist_url': 'https://www.whosampled.com/Cappella/',\n",
       "  'name': 'Bauhaus',\n",
       "  'url': 'https://www.whosampled.com/Cappella/Bauhaus'},\n",
       " {'artist_id': None,\n",
       "  'artist_url': 'https://www.whosampled.com/The-Winans/',\n",
       "  'name': \"It's Time (Teddy Riley's New Jack Swing Mix)\",\n",
       "  'url': 'https://www.whosampled.com/The-Winans/It%27s-Time-%28Teddy-Riley%27s-New-Jack-Swing-Mix%29'},\n",
       " {'artist_id': None,\n",
       "  'artist_url': 'https://www.whosampled.com/Today/',\n",
       "  'name': 'You Stood Me Up',\n",
       "  'url': 'https://www.whosampled.com/Today/You-Stood-Me-Up'},\n",
       " {'artist_id': None,\n",
       "  'artist_url': 'https://www.whosampled.com/A-R%C3%BChm/',\n",
       "  'name': 'Qrat Ja Ingel',\n",
       "  'url': 'https://www.whosampled.com/A-R%C3%BChm/Qrat-Ja-Ingel'},\n",
       " {'artist_id': None,\n",
       "  'artist_url': 'https://www.whosampled.com/Duice/',\n",
       "  'name': 'The Pawee',\n",
       "  'url': 'https://www.whosampled.com/Duice/The-Pawee'},\n",
       " {'artist_id': None,\n",
       "  'artist_url': 'https://www.whosampled.com/M.C.-Jeffrey-B./',\n",
       "  'name': 'Jeffrey B. (Radio/Club Mix)',\n",
       "  'url': 'https://www.whosampled.com/M.C.-Jeffrey-B./Jeffrey-B.-%28Radio/Club-Mix%29'},\n",
       " {'artist_id': None,\n",
       "  'artist_url': 'https://www.whosampled.com/L%27Trimm/',\n",
       "  'name': 'Groovy',\n",
       "  'url': 'https://www.whosampled.com/L%27Trimm/Groovy'},\n",
       " {'artist_id': None,\n",
       "  'artist_url': 'https://www.whosampled.com/Seagram/',\n",
       "  'name': '2 for 1',\n",
       "  'url': 'https://www.whosampled.com/Seagram/2-for-1'},\n",
       " {'artist_id': None,\n",
       "  'artist_url': 'https://www.whosampled.com/The-Posse-NFX/',\n",
       "  'name': 'Posse Funk',\n",
       "  'url': 'https://www.whosampled.com/The-Posse-NFX/Posse-Funk'},\n",
       " {'artist_id': None,\n",
       "  'artist_url': 'https://www.whosampled.com/Jaz/',\n",
       "  'name': 'A Groove (This Is What U Rap 2)',\n",
       "  'url': 'https://www.whosampled.com/Jaz/A-Groove-%28This-Is-What-U-Rap-2%29'},\n",
       " {'artist_id': None,\n",
       "  'artist_url': 'https://www.whosampled.com/MC-Hammer/',\n",
       "  'name': 'Releasing Some Pressure',\n",
       "  'url': 'https://www.whosampled.com/MC-Hammer/Releasing-Some-Pressure'},\n",
       " {'artist_id': None,\n",
       "  'artist_url': 'https://www.whosampled.com/May-May-Ali/',\n",
       "  'name': 'Satisfaction',\n",
       "  'url': 'https://www.whosampled.com/May-May-Ali/Satisfaction'},\n",
       " {'artist_id': None,\n",
       "  'artist_url': 'https://www.whosampled.com/Dominating-MC%27s/',\n",
       "  'name': 'Funky Terminology',\n",
       "  'url': 'https://www.whosampled.com/Dominating-MC%27s/Funky-Terminology'},\n",
       " {'artist_id': None,\n",
       "  'artist_url': 'https://www.whosampled.com/Movimiento-Original/',\n",
       "  'name': 'Interludio',\n",
       "  'url': 'https://www.whosampled.com/Movimiento-Original/Interludio'},\n",
       " {'artist_id': None,\n",
       "  'artist_url': 'https://www.whosampled.com/Three-Times-Dope/',\n",
       "  'name': 'Make Dat Move',\n",
       "  'url': 'https://www.whosampled.com/Three-Times-Dope/Make-Dat-Move'},\n",
       " {'artist_id': None,\n",
       "  'artist_url': 'https://www.whosampled.com/H.E.A.L.-Human-Education-Against-Lies/',\n",
       "  'name': 'Civilization vs. Technology',\n",
       "  'url': 'https://www.whosampled.com/H.E.A.L.-Human-Education-Against-Lies/Civilization-vs.-Technology'},\n",
       " {'artist_id': None,\n",
       "  'artist_url': 'https://www.whosampled.com/MC-J-Witt/',\n",
       "  'name': 'Get With It',\n",
       "  'url': 'https://www.whosampled.com/MC-J-Witt/Get-With-It'},\n",
       " {'artist_id': None,\n",
       "  'artist_url': 'https://www.whosampled.com/Rob-Base-%26-DJ-E-Z-Rock/',\n",
       "  'name': 'Bike Tights',\n",
       "  'url': 'https://www.whosampled.com/Rob-Base-%26-DJ-E-Z-Rock/Bike-Tights'},\n",
       " {'artist_id': None,\n",
       "  'artist_url': 'https://www.whosampled.com/Supreme-NYborn/',\n",
       "  'name': 'Style',\n",
       "  'url': 'https://www.whosampled.com/Supreme-NYborn/Style'},\n",
       " {'artist_id': None,\n",
       "  'artist_url': 'https://www.whosampled.com/Beat-Master-Clay-D/',\n",
       "  'name': 'Pullit All the Way Down',\n",
       "  'url': 'https://www.whosampled.com/Beat-Master-Clay-D/Pullit-All-the-Way-Down'},\n",
       " {'artist_id': None,\n",
       "  'artist_url': 'https://www.whosampled.com/One-Cause-One-Effect/',\n",
       "  'name': \"Let's Get Busy\",\n",
       "  'url': 'https://www.whosampled.com/One-Cause-One-Effect/Let%27s-Get-Busy'},\n",
       " {'artist_id': None,\n",
       "  'artist_url': 'https://www.whosampled.com/Dynamicly-Def/',\n",
       "  'name': 'We Gotta Get Paid',\n",
       "  'url': 'https://www.whosampled.com/Dynamicly-Def/We-Gotta-Get-Paid'},\n",
       " {'artist_id': None,\n",
       "  'artist_url': 'https://www.whosampled.com/TNT/',\n",
       "  'name': 'Rest in Peace (R.I.P.)',\n",
       "  'url': 'https://www.whosampled.com/TNT/Rest-in-Peace-%28R.I.P.%29'},\n",
       " {'artist_id': None,\n",
       "  'artist_url': 'https://www.whosampled.com/Drack/',\n",
       "  'name': \"Bustin' Loose\",\n",
       "  'url': 'https://www.whosampled.com/Drack/Bustin%27-Loose'},\n",
       " {'artist_id': None,\n",
       "  'artist_url': 'https://www.whosampled.com/Sister-Souljah/',\n",
       "  'name': '360 Degrees of Power',\n",
       "  'url': 'https://www.whosampled.com/Sister-Souljah/360-Degrees-of-Power'},\n",
       " {'artist_id': None,\n",
       "  'artist_url': 'https://www.whosampled.com/DJ-Aladdin/',\n",
       "  'name': 'Masterplan',\n",
       "  'url': 'https://www.whosampled.com/DJ-Aladdin/Masterplan'},\n",
       " {'artist_id': None,\n",
       "  'artist_url': 'https://www.whosampled.com/The-Good-Girls/',\n",
       "  'name': 'My Love Is Real',\n",
       "  'url': 'https://www.whosampled.com/The-Good-Girls/My-Love-Is-Real'},\n",
       " {'artist_id': None,\n",
       "  'artist_url': 'https://www.whosampled.com/M-Team/',\n",
       "  'name': 'Can You Kick It Like This',\n",
       "  'url': 'https://www.whosampled.com/M-Team/Can-You-Kick-It-Like-This'},\n",
       " {'artist_id': None,\n",
       "  'artist_url': 'https://www.whosampled.com/Rated-X/',\n",
       "  'name': \"If It Don't Fit\",\n",
       "  'url': 'https://www.whosampled.com/Rated-X/If-It-Don%27t-Fit'},\n",
       " {'artist_id': None,\n",
       "  'artist_url': 'https://www.whosampled.com/Boyz-II-Men/',\n",
       "  'name': \"Sympin Ain't Easy\",\n",
       "  'url': 'https://www.whosampled.com/Boyz-II-Men/Sympin-Ain%27t-Easy'},\n",
       " {'artist_id': None,\n",
       "  'artist_url': 'https://www.whosampled.com/Random/',\n",
       "  'name': 'Sick!!',\n",
       "  'url': 'https://www.whosampled.com/Random/Sick%21%21'},\n",
       " {'artist_id': None,\n",
       "  'artist_url': 'https://www.whosampled.com/Tabb-(2)/',\n",
       "  'name': \"I'm Just Amazing\",\n",
       "  'url': 'https://www.whosampled.com/Tabb-(2)/I%27m-Just-Amazing'},\n",
       " {'artist_id': None,\n",
       "  'artist_url': 'https://www.whosampled.com/Devo-X/',\n",
       "  'name': 'First Case',\n",
       "  'url': 'https://www.whosampled.com/Devo-X/First-Case'},\n",
       " {'artist_id': None,\n",
       "  'artist_url': 'https://www.whosampled.com/Oran-%22Juice%22-Jones/',\n",
       "  'name': 'Shaniqua (Marley Marl Super Mix)',\n",
       "  'url': 'https://www.whosampled.com/Oran-%22Juice%22-Jones/Shaniqua-%28Marley-Marl-Super-Mix%29'},\n",
       " {'artist_id': None,\n",
       "  'artist_url': 'https://www.whosampled.com/Capital-Tax/',\n",
       "  'name': 'We Pals',\n",
       "  'url': 'https://www.whosampled.com/Capital-Tax/We-Pals'},\n",
       " {'artist_id': None,\n",
       "  'artist_url': 'https://www.whosampled.com/MC-J-Witt/',\n",
       "  'name': 'Body Rock',\n",
       "  'url': 'https://www.whosampled.com/MC-J-Witt/Body-Rock'},\n",
       " {'artist_id': None,\n",
       "  'artist_url': 'https://www.whosampled.com/Les-Little/',\n",
       "  'name': 'Les Vrais',\n",
       "  'url': 'https://www.whosampled.com/Les-Little/Les-Vrais'},\n",
       " {'artist_id': None,\n",
       "  'artist_url': 'https://www.whosampled.com/Little-Shawn/',\n",
       "  'name': 'Keep Ya Distance',\n",
       "  'url': 'https://www.whosampled.com/Little-Shawn/Keep-Ya-Distance'},\n",
       " {'artist_id': None,\n",
       "  'artist_url': 'https://www.whosampled.com/Adventures-of-Stevie-V/',\n",
       "  'name': 'Body Language (Full Rub Mix)',\n",
       "  'url': 'https://www.whosampled.com/Adventures-of-Stevie-V/Body-Language-%28Full-Rub-Mix%29'},\n",
       " {'artist_id': None,\n",
       "  'artist_url': 'https://www.whosampled.com/Tony-Terry/',\n",
       "  'name': 'Let Me Love You',\n",
       "  'url': 'https://www.whosampled.com/Tony-Terry/Let-Me-Love-You'},\n",
       " {'artist_id': None,\n",
       "  'artist_url': 'https://www.whosampled.com/Sir-Rock-T/',\n",
       "  'name': 'Rough as They Come',\n",
       "  'url': 'https://www.whosampled.com/Sir-Rock-T/Rough-as-They-Come'},\n",
       " {'artist_id': None,\n",
       "  'artist_url': 'https://www.whosampled.com/Cool-D/',\n",
       "  'name': 'Kui Neid Asju Poleks',\n",
       "  'url': 'https://www.whosampled.com/Cool-D/Kui-Neid-Asju-Poleks'},\n",
       " {'artist_id': None,\n",
       "  'artist_url': 'https://www.whosampled.com/Prison-City-Productions/',\n",
       "  'name': 'The Future',\n",
       "  'url': 'https://www.whosampled.com/Prison-City-Productions/The-Future'},\n",
       " {'artist_id': None,\n",
       "  'artist_url': 'https://www.whosampled.com/Def-Jef/',\n",
       "  'name': \"Cali's All That (UK Mix)\",\n",
       "  'url': 'https://www.whosampled.com/Def-Jef/Cali%27s-All-That-%28UK-Mix%29'}]"
      ]
     },
     "execution_count": 33,
     "metadata": {},
     "output_type": "execute_result"
    }
   ],
   "source": [
    "sampled"
   ]
  },
  {
   "cell_type": "code",
   "execution_count": 37,
   "metadata": {},
   "outputs": [
    {
     "name": "stdout",
     "output_type": "stream",
     "text": [
      "https://www.whosampled.com/James-Brown/\n"
     ]
    }
   ],
   "source": [
    "s.get('https://www.whosampled.com/James-Brown/')"
   ]
  },
  {
   "cell_type": "code",
   "execution_count": 62,
   "metadata": {},
   "outputs": [],
   "source": [
    "def get_as_an_artist(scraper):\n",
    "    sel = 'div.optionMenu.artist-role'\n",
    "    role_selector = s.b.find_element_by_css_selector(sel)\n",
    "\n",
    "    roles = role_selector.find_elements_by_css_selector('li')\n",
    "\n",
    "    for role in roles:\n",
    "        try:\n",
    "            a = role.find_element_by_css_selector('a')\n",
    "            if a.get_attribute('innerHTML') == 'As an Artist':\n",
    "                url = a.get_attribute('href')\n",
    "            else:\n",
    "                continue\n",
    "        except selenium.common.exceptions.NoSuchElementException:\n",
    "            continue\n",
    "    scraper.get(url)"
   ]
  },
  {
   "cell_type": "code",
   "execution_count": 63,
   "metadata": {},
   "outputs": [
    {
     "name": "stdout",
     "output_type": "stream",
     "text": [
      "https://www.whosampled.com/James-Brown/?role=1\n"
     ]
    }
   ],
   "source": [
    "get_as_an_artist(s)"
   ]
  },
  {
   "cell_type": "code",
   "execution_count": null,
   "metadata": {},
   "outputs": [],
   "source": []
  }
 ],
 "metadata": {
  "kernelspec": {
   "display_name": "Python 3",
   "language": "python",
   "name": "python3"
  },
  "language_info": {
   "codemirror_mode": {
    "name": "ipython",
    "version": 3
   },
   "file_extension": ".py",
   "mimetype": "text/x-python",
   "name": "python",
   "nbconvert_exporter": "python",
   "pygments_lexer": "ipython3",
   "version": "3.6.4"
  }
 },
 "nbformat": 4,
 "nbformat_minor": 2
}
