{
 "cells": [
  {
   "cell_type": "code",
   "execution_count": 1,
   "metadata": {},
   "outputs": [
    {
     "name": "stdout",
     "output_type": "stream",
     "text": [
      "The autoreload extension is already loaded. To reload it, use:\n",
      "  %reload_ext autoreload\n"
     ]
    }
   ],
   "source": [
    "import selenium\n",
    "from selenium.webdriver import Firefox, Chrome\n",
    "import time\n",
    "% load_ext autoreload\n",
    "% autoreload 2"
   ]
  },
  {
   "cell_type": "code",
   "execution_count": 2,
   "metadata": {},
   "outputs": [
    {
     "data": {
      "text/plain": [
       "'/Users/brettashley/galvanize/dsi/00-Capstone/mix-maker/notebooks'"
      ]
     },
     "execution_count": 2,
     "metadata": {},
     "output_type": "execute_result"
    }
   ],
   "source": [
    "pwd"
   ]
  },
  {
   "cell_type": "code",
   "execution_count": 3,
   "metadata": {},
   "outputs": [
    {
     "name": "stdout",
     "output_type": "stream",
     "text": [
      "/Users/brettashley/galvanize/dsi/00-Capstone/mix-maker\n"
     ]
    }
   ],
   "source": [
    "cd .."
   ]
  },
  {
   "cell_type": "code",
   "execution_count": 4,
   "metadata": {},
   "outputs": [],
   "source": [
    "from src.scraper import Scraper"
   ]
  },
  {
   "cell_type": "code",
   "execution_count": 5,
   "metadata": {},
   "outputs": [
    {
     "ename": "TypeError",
     "evalue": "__init__() missing 1 required positional argument: 'url'",
     "output_type": "error",
     "traceback": [
      "\u001b[0;31m---------------------------------------------------------------------------\u001b[0m",
      "\u001b[0;31mTypeError\u001b[0m                                 Traceback (most recent call last)",
      "\u001b[0;32m<ipython-input-5-83213972d9d7>\u001b[0m in \u001b[0;36m<module>\u001b[0;34m()\u001b[0m\n\u001b[0;32m----> 1\u001b[0;31m \u001b[0ms\u001b[0m \u001b[0;34m=\u001b[0m \u001b[0mScraper\u001b[0m\u001b[0;34m(\u001b[0m\u001b[0;34m)\u001b[0m\u001b[0;34m\u001b[0m\u001b[0m\n\u001b[0m",
      "\u001b[0;31mTypeError\u001b[0m: __init__() missing 1 required positional argument: 'url'"
     ]
    }
   ],
   "source": [
    "s = Scraper()"
   ]
  },
  {
   "cell_type": "code",
   "execution_count": 6,
   "metadata": {},
   "outputs": [],
   "source": [
    "b = Firefox()"
   ]
  },
  {
   "cell_type": "code",
   "execution_count": 7,
   "metadata": {},
   "outputs": [],
   "source": [
    "# # = with id\n",
    "# . = with class"
   ]
  },
  {
   "cell_type": "code",
   "execution_count": 8,
   "metadata": {},
   "outputs": [],
   "source": [
    "sel = \"div#content div.divided-layout div.layout-container.leftContent div\""
   ]
  },
  {
   "cell_type": "code",
   "execution_count": 9,
   "metadata": {},
   "outputs": [],
   "source": [
    "b.get('https://www.whosampled.com/genre/Soul-Funk-Disco/')"
   ]
  },
  {
   "cell_type": "code",
   "execution_count": 10,
   "metadata": {},
   "outputs": [
    {
     "data": {
      "text/plain": [
       "selenium.common.exceptions.NoSuchElementException"
      ]
     },
     "execution_count": 10,
     "metadata": {},
     "output_type": "execute_result"
    }
   ],
   "source": [
    "selenium.common.exceptions.NoSuchElementException"
   ]
  },
  {
   "cell_type": "code",
   "execution_count": 11,
   "metadata": {},
   "outputs": [],
   "source": [
    "def accept_cookies():\n",
    "    try:\n",
    "        button = b.find_element_by_css_selector('button.qc-cmp-button')\n",
    "        button.click()\n",
    "    except selenium.common.exceptions.NoSuchElementException:\n",
    "        pass"
   ]
  },
  {
   "cell_type": "code",
   "execution_count": 12,
   "metadata": {},
   "outputs": [],
   "source": [
    "accept_cookies()"
   ]
  },
  {
   "cell_type": "code",
   "execution_count": 13,
   "metadata": {},
   "outputs": [],
   "source": [
    "desired_section = 'Most influential artists'"
   ]
  },
  {
   "cell_type": "code",
   "execution_count": 14,
   "metadata": {},
   "outputs": [],
   "source": [
    "sect_divs = b.find_elements_by_css_selector(sel)"
   ]
  },
  {
   "cell_type": "code",
   "execution_count": 15,
   "metadata": {},
   "outputs": [],
   "source": [
    "div = sect_divs[0]"
   ]
  },
  {
   "cell_type": "code",
   "execution_count": 16,
   "metadata": {},
   "outputs": [],
   "source": [
    "def find_desired_section(sect_divs, desired_section):\n",
    "    for i, div in enumerate(sect_divs):\n",
    "        if div.text.startswith(desired_section):\n",
    "            return sect_divs[i+1]\n",
    "            "
   ]
  },
  {
   "cell_type": "code",
   "execution_count": 17,
   "metadata": {},
   "outputs": [],
   "source": [
    "artists_section = find_desired_section(sect_divs, desired_section)"
   ]
  },
  {
   "cell_type": "code",
   "execution_count": 18,
   "metadata": {},
   "outputs": [],
   "source": [
    "def get_artist_urls(artist_section):\n",
    "    artist_tiles = artists_section.find_elements_by_css_selector('li')\n",
    "    artists = {}\n",
    "    for tile in artist_tiles:\n",
    "        tile.location_once_scrolled_into_view\n",
    "        time.sleep(2)\n",
    "        a = tile.find_element_by_css_selector('a')\n",
    "        artist_name = tile.text\n",
    "        yield {'name': artist_name,\n",
    "                'url': a.get_attribute('href')}"
   ]
  },
  {
   "cell_type": "code",
   "execution_count": 19,
   "metadata": {},
   "outputs": [],
   "source": [
    "artist_urls = list(get_artist_urls(artists_section))"
   ]
  },
  {
   "cell_type": "code",
   "execution_count": 24,
   "metadata": {},
   "outputs": [
    {
     "data": {
      "text/plain": [
       "[{'_id': ObjectId('5bfafe0689fb7c84aef03fa8'),\n",
       "  'name': 'James Brown',\n",
       "  'url': 'https://www.whosampled.com/James-Brown/'},\n",
       " {'_id': ObjectId('5bfafe0689fb7c84aef03fa9'),\n",
       "  'name': 'Traditional Folk',\n",
       "  'url': 'https://www.whosampled.com/Traditional-Folk/'},\n",
       " {'_id': ObjectId('5bfafe0689fb7c84aef03faa'),\n",
       "  'name': 'Kool & the Gang',\n",
       "  'url': 'https://www.whosampled.com/Kool-%26-the-Gang/'},\n",
       " {'_id': ObjectId('5bfafe0689fb7c84aef03fab'),\n",
       "  'name': 'Funkadelic',\n",
       "  'url': 'https://www.whosampled.com/Funkadelic/'},\n",
       " {'_id': ObjectId('5bfafe0689fb7c84aef03fac'),\n",
       "  'name': 'The Beatles',\n",
       "  'url': 'https://www.whosampled.com/The-Beatles/'},\n",
       " {'_id': ObjectId('5bfafe0689fb7c84aef03fad'),\n",
       "  'name': 'Marvin Gaye',\n",
       "  'url': 'https://www.whosampled.com/Marvin-Gaye/'},\n",
       " {'_id': ObjectId('5bfafe0689fb7c84aef03fae'),\n",
       "  'name': 'Michael Jackson',\n",
       "  'url': 'https://www.whosampled.com/Michael-Jackson/'},\n",
       " {'_id': ObjectId('5bfafe0689fb7c84aef03faf'),\n",
       "  'name': 'Parliament',\n",
       "  'url': 'https://www.whosampled.com/Parliament/'},\n",
       " {'_id': ObjectId('5bfafe0689fb7c84aef03fb0'),\n",
       "  'name': 'Prince',\n",
       "  'url': 'https://www.whosampled.com/Prince/'},\n",
       " {'_id': ObjectId('5bfafe0689fb7c84aef03fb1'),\n",
       "  'name': \"The J.B.'s\",\n",
       "  'url': 'https://www.whosampled.com/The-J.B.%27s/'},\n",
       " {'_id': ObjectId('5bfafe0689fb7c84aef03fb2'),\n",
       "  'name': 'Chic',\n",
       "  'url': 'https://www.whosampled.com/Chic/'},\n",
       " {'_id': ObjectId('5bfafe0689fb7c84aef03fb3'),\n",
       "  'name': 'Lyn Collins',\n",
       "  'url': 'https://www.whosampled.com/Lyn-Collins/'},\n",
       " {'_id': ObjectId('5bfafe0689fb7c84aef03fb4'),\n",
       "  'name': 'Isaac Hayes',\n",
       "  'url': 'https://www.whosampled.com/Isaac-Hayes/'},\n",
       " {'_id': ObjectId('5bfafe0689fb7c84aef03fb5'),\n",
       "  'name': 'KC & the Sunshine Band',\n",
       "  'url': 'https://www.whosampled.com/KC-%26-the-Sunshine-Band/'},\n",
       " {'_id': ObjectId('5bfafe0689fb7c84aef03fb6'),\n",
       "  'name': 'Stevie Wonder',\n",
       "  'url': 'https://www.whosampled.com/Stevie-Wonder/'},\n",
       " {'_id': ObjectId('5bfafe0689fb7c84aef03fb7'),\n",
       "  'name': 'Earth, Wind & Fire',\n",
       "  'url': 'https://www.whosampled.com/Earth,-Wind-%26-Fire/'},\n",
       " {'_id': ObjectId('5bfafe0689fb7c84aef03fb8'),\n",
       "  'name': 'Bee Gees',\n",
       "  'url': 'https://www.whosampled.com/Bee-Gees/'},\n",
       " {'_id': ObjectId('5bfafe0689fb7c84aef03fb9'),\n",
       "  'name': 'George Benson',\n",
       "  'url': 'https://www.whosampled.com/George-Benson/'},\n",
       " {'_id': ObjectId('5bfafe0689fb7c84aef03fba'),\n",
       "  'name': 'Bobby Byrd',\n",
       "  'url': 'https://www.whosampled.com/Bobby-Byrd/'},\n",
       " {'_id': ObjectId('5bfafe0689fb7c84aef03fbb'),\n",
       "  'name': 'Fred Wesley',\n",
       "  'url': 'https://www.whosampled.com/Fred-Wesley/'},\n",
       " {'_id': ObjectId('5bfafe0689fb7c84aef03fbc'),\n",
       "  'name': 'The Temptations',\n",
       "  'url': 'https://www.whosampled.com/The-Temptations/'},\n",
       " {'_id': ObjectId('5bfafe0689fb7c84aef03fbd'),\n",
       "  'name': 'Sly & the Family Stone',\n",
       "  'url': 'https://www.whosampled.com/Sly-%26-the-Family-Stone/'},\n",
       " {'_id': ObjectId('5bfafe0689fb7c84aef03fbe'),\n",
       "  'name': 'Delegation',\n",
       "  'url': 'https://www.whosampled.com/Delegation/'},\n",
       " {'_id': ObjectId('5bfafe0689fb7c84aef03fbf'),\n",
       "  'name': 'Dalida',\n",
       "  'url': 'https://www.whosampled.com/Dalida/'}]"
      ]
     },
     "execution_count": 24,
     "metadata": {},
     "output_type": "execute_result"
    }
   ],
   "source": [
    "artist_urls"
   ]
  },
  {
   "cell_type": "code",
   "execution_count": 27,
   "metadata": {},
   "outputs": [],
   "source": [
    "# Setup MongoDB connection to MongoDB collection\n",
    "import pymongo\n",
    "mc = pymongo.MongoClient()\n",
    "db = mc['musicdb']\n",
    "artists = db['artists']"
   ]
  },
  {
   "cell_type": "code",
   "execution_count": 33,
   "metadata": {},
   "outputs": [],
   "source": [
    "artists_test = db['artists_test']"
   ]
  },
  {
   "cell_type": "code",
   "execution_count": 29,
   "metadata": {},
   "outputs": [],
   "source": [
    "def insert_new_artists(artist_urls):\n",
    "    \"\"\"Insert artists only if their URLs aren't already in the DB\"\"\"\n",
    "    for artist in artist_urls:\n",
    "        if artists.count_documents({'url': artist['url']}) == 0:\n",
    "            artists.insert_one(artist)"
   ]
  },
  {
   "cell_type": "code",
   "execution_count": 31,
   "metadata": {
    "scrolled": true
   },
   "outputs": [
    {
     "data": {
      "text/plain": [
       "24"
      ]
     },
     "execution_count": 31,
     "metadata": {},
     "output_type": "execute_result"
    }
   ],
   "source": [
    "artists_test."
   ]
  },
  {
   "cell_type": "code",
   "execution_count": null,
   "metadata": {},
   "outputs": [],
   "source": [
    "b.fin"
   ]
  },
  {
   "cell_type": "code",
   "execution_count": 30,
   "metadata": {},
   "outputs": [],
   "source": [
    "insert_new_artists(artist_urls)"
   ]
  },
  {
   "cell_type": "code",
   "execution_count": 32,
   "metadata": {
    "scrolled": false
   },
   "outputs": [
    {
     "data": {
      "text/plain": [
       "24"
      ]
     },
     "execution_count": 32,
     "metadata": {},
     "output_type": "execute_result"
    }
   ],
   "source": [
    "artists.count_documents({})"
   ]
  },
  {
   "cell_type": "code",
   "execution_count": null,
   "metadata": {},
   "outputs": [],
   "source": [
    "insert_new_artists([{'name': 'Test Artist', 'url': 'test'}])"
   ]
  },
  {
   "cell_type": "code",
   "execution_count": null,
   "metadata": {
    "scrolled": false
   },
   "outputs": [],
   "source": [
    "artists.count_documents({})"
   ]
  },
  {
   "cell_type": "code",
   "execution_count": null,
   "metadata": {},
   "outputs": [],
   "source": [
    "# artists.delete({'url': 'test'})"
   ]
  },
  {
   "cell_type": "code",
   "execution_count": null,
   "metadata": {},
   "outputs": [],
   "source": [
    "list(artists.find())"
   ]
  },
  {
   "cell_type": "code",
   "execution_count": null,
   "metadata": {},
   "outputs": [],
   "source": [
    "\n",
    "# insert many"
   ]
  },
  {
   "cell_type": "code",
   "execution_count": null,
   "metadata": {},
   "outputs": [],
   "source": [
    "tile.text"
   ]
  },
  {
   "cell_type": "code",
   "execution_count": null,
   "metadata": {},
   "outputs": [],
   "source": [
    "# take each tile, scroll into view and get url for artist\n",
    "# wait between scrolling and getting txt\n",
    "artist_name = tile.text"
   ]
  },
  {
   "cell_type": "code",
   "execution_count": 34,
   "metadata": {},
   "outputs": [
    {
     "ename": "NameError",
     "evalue": "name 'tile' is not defined",
     "output_type": "error",
     "traceback": [
      "\u001b[0;31m---------------------------------------------------------------------------\u001b[0m",
      "\u001b[0;31mNameError\u001b[0m                                 Traceback (most recent call last)",
      "\u001b[0;32m<ipython-input-34-ae459ff09748>\u001b[0m in \u001b[0;36m<module>\u001b[0;34m()\u001b[0m\n\u001b[0;32m----> 1\u001b[0;31m \u001b[0ma\u001b[0m \u001b[0;34m=\u001b[0m \u001b[0mtile\u001b[0m\u001b[0;34m.\u001b[0m\u001b[0mfind_element_by_css_selector\u001b[0m\u001b[0;34m(\u001b[0m\u001b[0;34m'a'\u001b[0m\u001b[0;34m)\u001b[0m\u001b[0;34m\u001b[0m\u001b[0m\n\u001b[0m",
      "\u001b[0;31mNameError\u001b[0m: name 'tile' is not defined"
     ]
    }
   ],
   "source": [
    "a = tile.find_element_by_css_selector('a')"
   ]
  },
  {
   "cell_type": "code",
   "execution_count": null,
   "metadata": {},
   "outputs": [],
   "source": [
    "a.get_attribute('href')"
   ]
  },
  {
   "cell_type": "code",
   "execution_count": null,
   "metadata": {},
   "outputs": [],
   "source": [
    "artist_url = tile"
   ]
  },
  {
   "cell_type": "code",
   "execution_count": null,
   "metadata": {},
   "outputs": [],
   "source": [
    "{'us': ['185.205.204.58', '192.119.166.248'],\n",
    " 'uk': '192.119.166.31',\n",
    " ''}"
   ]
  },
  {
   "cell_type": "code",
   "execution_count": 35,
   "metadata": {},
   "outputs": [],
   "source": [
    "s = Scraper('https://www.whosampled.com/genre/Soul-Funk-Disco/')"
   ]
  },
  {
   "cell_type": "code",
   "execution_count": 36,
   "metadata": {},
   "outputs": [],
   "source": [
    "artists_section = s.find_desired_section(sel, desired_section)"
   ]
  },
  {
   "cell_type": "code",
   "execution_count": 37,
   "metadata": {},
   "outputs": [
    {
     "data": {
      "text/plain": [
       "<generator object Scraper.get_artist_urls at 0x107a65af0>"
      ]
     },
     "execution_count": 37,
     "metadata": {},
     "output_type": "execute_result"
    }
   ],
   "source": [
    "s.get_artist_urls(artists_section)"
   ]
  },
  {
   "cell_type": "code",
   "execution_count": null,
   "metadata": {},
   "outputs": [],
   "source": [
    "list(_)[0]"
   ]
  },
  {
   "cell_type": "code",
   "execution_count": 38,
   "metadata": {},
   "outputs": [],
   "source": [
    "jb = {'name': 'James Brown', 'url': 'https://www.whosampled.com/James-Brown/'}"
   ]
  },
  {
   "cell_type": "code",
   "execution_count": 39,
   "metadata": {},
   "outputs": [
    {
     "data": {
      "text/plain": [
       "{'name': 'James Brown', 'url': 'https://www.whosampled.com/James-Brown/'}"
      ]
     },
     "execution_count": 39,
     "metadata": {},
     "output_type": "execute_result"
    }
   ],
   "source": [
    "jb"
   ]
  },
  {
   "cell_type": "code",
   "execution_count": null,
   "metadata": {},
   "outputs": [],
   "source": [
    "b.get(artist_urls[0]['url'])"
   ]
  },
  {
   "cell_type": "code",
   "execution_count": null,
   "metadata": {},
   "outputs": [],
   "source": [
    "    def find_desired_section(self, sel, desired_section):\n",
    "        self._accept_cookies()\n",
    "        sect_divs = self.b.find_elements_by_css_selector(sel)\n",
    "        for i, div in enumerate(sect_divs):\n",
    "            if div.text.startswith(desired_section):\n",
    "                return sect_divs[i+1]"
   ]
  },
  {
   "cell_type": "code",
   "execution_count": 40,
   "metadata": {},
   "outputs": [],
   "source": [
    "sel = \"div#content div.divided-layout div.layout-container.leftContent div\""
   ]
  },
  {
   "cell_type": "code",
   "execution_count": 41,
   "metadata": {},
   "outputs": [],
   "source": [
    "sel = \"div#content div.artistContent\""
   ]
  },
  {
   "cell_type": "code",
   "execution_count": null,
   "metadata": {},
   "outputs": [],
   "source": [
    "section_divs = b.find_element_by_css_selector(sel)"
   ]
  },
  {
   "cell_type": "code",
   "execution_count": null,
   "metadata": {},
   "outputs": [],
   "source": [
    "h3 = section_divs.find_elements_by_css_selector('h3.trackName')"
   ]
  },
  {
   "cell_type": "code",
   "execution_count": null,
   "metadata": {},
   "outputs": [],
   "source": [
    "for x in h3:\n",
    "    print(x.text)"
   ]
  },
  {
   "cell_type": "code",
   "execution_count": null,
   "metadata": {},
   "outputs": [],
   "source": [
    "h3[0].get_attribute('href')"
   ]
  },
  {
   "cell_type": "code",
   "execution_count": null,
   "metadata": {},
   "outputs": [],
   "source": [
    "a = h3[0].find_element_by_css_selector('a')"
   ]
  },
  {
   "cell_type": "code",
   "execution_count": null,
   "metadata": {},
   "outputs": [],
   "source": [
    "a"
   ]
  },
  {
   "cell_type": "code",
   "execution_count": null,
   "metadata": {},
   "outputs": [],
   "source": [
    "a.get_attribute('href')"
   ]
  },
  {
   "cell_type": "code",
   "execution_count": null,
   "metadata": {},
   "outputs": [],
   "source": [
    "cd mix-maker/"
   ]
  },
  {
   "cell_type": "code",
   "execution_count": null,
   "metadata": {},
   "outputs": [],
   "source": [
    "from src.scraper import Scraper"
   ]
  },
  {
   "cell_type": "code",
   "execution_count": null,
   "metadata": {},
   "outputs": [],
   "source": [
    "s.get_artist_songs(jb)"
   ]
  },
  {
   "cell_type": "code",
   "execution_count": 42,
   "metadata": {},
   "outputs": [],
   "source": [
    "s = Scraper('https://www.whosampled.com/James-Brown/')"
   ]
  },
  {
   "cell_type": "code",
   "execution_count": 43,
   "metadata": {},
   "outputs": [
    {
     "data": {
      "text/plain": [
       "[{'track_name': 'Get Up Offa That Thing (1976)',\n",
       "  'url': 'https://www.whosampled.com/James-Brown/Get-Up-Offa-That-Thing/'},\n",
       " {'track_name': \"Funky President (People It's Bad) (1974)\",\n",
       "  'url': 'https://www.whosampled.com/James-Brown/Funky-President-(People-It%27s-Bad)/'},\n",
       " {'track_name': 'Funky Drummer (1970)',\n",
       "  'url': 'https://www.whosampled.com/James-Brown/Funky-Drummer/'},\n",
       " {'track_name': \"Sho' Nuff (1973)\\nby Sly, Slick and Wicked\\nProducer credit: James Brown\",\n",
       "  'url': 'https://www.whosampled.com/Sly,-Slick-and-Wicked/Sho%27-Nuff/'},\n",
       " {'track_name': 'My Thang (1974)',\n",
       "  'url': 'https://www.whosampled.com/James-Brown/My-Thang/'},\n",
       " {'track_name': 'Think (About It) (1972)\\nby Lyn Collins\\nProducer credit: James Brown',\n",
       "  'url': 'https://www.whosampled.com/Lyn-Collins/Think-(About-It)/'},\n",
       " {'track_name': \"Don't Tell a Lie About Me and I Won't Tell the Truth on You (1974)\",\n",
       "  'url': 'https://www.whosampled.com/James-Brown/Don%27t-Tell-a-Lie-About-Me-and-I-Won%27t-Tell-the-Truth-on-You/'},\n",
       " {'track_name': 'The Payback (1973)',\n",
       "  'url': 'https://www.whosampled.com/James-Brown/The-Payback/'},\n",
       " {'track_name': \"Say It Loud, I'm Black and I'm Proud (1968)\",\n",
       "  'url': 'https://www.whosampled.com/James-Brown/Say-It-Loud,-I%27m-Black-and-I%27m-Proud/'},\n",
       " {'track_name': 'Licking Stick - Licking Stick (1968)',\n",
       "  'url': 'https://www.whosampled.com/James-Brown/Licking-Stick-Licking-Stick/'}]"
      ]
     },
     "execution_count": 43,
     "metadata": {},
     "output_type": "execute_result"
    }
   ],
   "source": [
    "list(s.get_artist_songs(jb))"
   ]
  },
  {
   "cell_type": "code",
   "execution_count": null,
   "metadata": {},
   "outputs": [],
   "source": [
    "b = Firefox()"
   ]
  },
  {
   "cell_type": "code",
   "execution_count": null,
   "metadata": {},
   "outputs": [],
   "source": [
    "b.get('https://www.whosampled.com/James-Brown/Get-Up-Offa-That-Thing/')"
   ]
  },
  {
   "cell_type": "code",
   "execution_count": null,
   "metadata": {},
   "outputs": [],
   "source": []
  }
 ],
 "metadata": {
  "kernelspec": {
   "display_name": "Python 3",
   "language": "python",
   "name": "python3"
  },
  "language_info": {
   "codemirror_mode": {
    "name": "ipython",
    "version": 3
   },
   "file_extension": ".py",
   "mimetype": "text/x-python",
   "name": "python",
   "nbconvert_exporter": "python",
   "pygments_lexer": "ipython3",
   "version": "3.6.4"
  }
 },
 "nbformat": 4,
 "nbformat_minor": 2
}
