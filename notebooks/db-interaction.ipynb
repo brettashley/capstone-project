{
 "cells": [
  {
   "cell_type": "code",
   "execution_count": 53,
   "metadata": {},
   "outputs": [],
   "source": [
    "import selenium\n",
    "from selenium.webdriver import Firefox, Chrome\n",
    "import time\n",
    "import psycopg2\n",
    "import pandas as pd\n",
    "from psycopg2.extras import Json"
   ]
  },
  {
   "cell_type": "code",
   "execution_count": 54,
   "metadata": {},
   "outputs": [
    {
     "name": "stdout",
     "output_type": "stream",
     "text": [
      "/Users/brettashley/galvanize/dsi/00-Capstone/mix-maker/src\n"
     ]
    }
   ],
   "source": [
    "cd /Users/brettashley/galvanize/dsi/00-Capstone/mix-maker/src/"
   ]
  },
  {
   "cell_type": "code",
   "execution_count": 55,
   "metadata": {},
   "outputs": [],
   "source": [
    "from scraper import Scraper\n",
    "from DatabaseInteraction import DatabaseInteraction"
   ]
  },
  {
   "cell_type": "code",
   "execution_count": 56,
   "metadata": {},
   "outputs": [],
   "source": [
    "sel = \"div#content div.divided-layout div.layout-container.leftContent div\"\n",
    "url = 'https://www.whosampled.com/genre/Soul-Funk-Disco/'\n",
    "desired_section = 'Most influential artists'"
   ]
  },
  {
   "cell_type": "code",
   "execution_count": 7,
   "metadata": {},
   "outputs": [],
   "source": [
    "# s = Scraper('https://www.whosampled.com/genre/Soul-Funk-Disco/')"
   ]
  },
  {
   "cell_type": "code",
   "execution_count": 8,
   "metadata": {},
   "outputs": [],
   "source": [
    "# artist_section = s.find_desired_section(sel, desired_section)"
   ]
  },
  {
   "cell_type": "code",
   "execution_count": 9,
   "metadata": {},
   "outputs": [],
   "source": [
    "# artist_urls = list(s.get_artist_urls(artist_section))"
   ]
  },
  {
   "cell_type": "code",
   "execution_count": 10,
   "metadata": {},
   "outputs": [],
   "source": [
    "# test['url'] = u'https://www.whosampled.com/The-J.B.%27s/'"
   ]
  },
  {
   "cell_type": "code",
   "execution_count": 11,
   "metadata": {},
   "outputs": [],
   "source": [
    "# artist_urls[9]['name']"
   ]
  },
  {
   "cell_type": "code",
   "execution_count": 5,
   "metadata": {},
   "outputs": [],
   "source": [
    "artist_urls = [{'name': 'James Brown', 'url': 'https://www.whosampled.com/James-Brown/'},\n",
    " {'name': 'Traditional Folk',\n",
    "  'url': 'https://www.whosampled.com/Traditional-Folk/'},\n",
    " {'name': 'Kool & the Gang',\n",
    "  'url': 'https://www.whosampled.com/Kool-%26-the-Gang/'},\n",
    " {'name': 'Funkadelic', 'url': 'https://www.whosampled.com/Funkadelic/'},\n",
    " {'name': 'The Beatles', 'url': 'https://www.whosampled.com/The-Beatles/'},\n",
    " {'name': 'Marvin Gaye', 'url': 'https://www.whosampled.com/Marvin-Gaye/'},\n",
    " {'name': 'Michael Jackson',\n",
    "  'url': 'https://www.whosampled.com/Michael-Jackson/'},\n",
    " {'name': 'Parliament', 'url': 'https://www.whosampled.com/Parliament/'},\n",
    " {'name': 'Prince', 'url': 'https://www.whosampled.com/Prince/'},\n",
    " {'name': \"The J.B.'s\", 'url': 'https://www.whosampled.com/The-J.B.%27s/'},\n",
    " {'name': 'Chic', 'url': 'https://www.whosampled.com/Chic/'},\n",
    " {'name': 'Lyn Collins', 'url': 'https://www.whosampled.com/Lyn-Collins/'},\n",
    " {'name': 'Isaac Hayes', 'url': 'https://www.whosampled.com/Isaac-Hayes/'},\n",
    " {'name': 'KC & the Sunshine Band',\n",
    "  'url': 'https://www.whosampled.com/KC-%26-the-Sunshine-Band/'},\n",
    " {'name': 'Stevie Wonder', 'url': 'https://www.whosampled.com/Stevie-Wonder/'},\n",
    " {'name': 'Earth, Wind & Fire',\n",
    "  'url': 'https://www.whosampled.com/Earth,-Wind-%26-Fire/'},\n",
    " {'name': 'Bee Gees', 'url': 'https://www.whosampled.com/Bee-Gees/'},\n",
    " {'name': 'George Benson', 'url': 'https://www.whosampled.com/George-Benson/'},\n",
    " {'name': 'Bobby Byrd', 'url': 'https://www.whosampled.com/Bobby-Byrd/'},\n",
    " {'name': 'Fred Wesley', 'url': 'https://www.whosampled.com/Fred-Wesley/'},\n",
    " {'name': 'The Temptations',\n",
    "  'url': 'https://www.whosampled.com/The-Temptations/'},\n",
    " {'name': 'Sly & the Family Stone',\n",
    "  'url': 'https://www.whosampled.com/Sly-%26-the-Family-Stone/'},\n",
    " {'name': 'Delegation', 'url': 'https://www.whosampled.com/Delegation/'},\n",
    " {'name': 'Dalida', 'url': 'https://www.whosampled.com/Dalida/'}]"
   ]
  },
  {
   "cell_type": "code",
   "execution_count": 6,
   "metadata": {},
   "outputs": [],
   "source": [
    "db = DatabaseInteraction()"
   ]
  },
  {
   "cell_type": "code",
   "execution_count": null,
   "metadata": {},
   "outputs": [],
   "source": []
  },
  {
   "cell_type": "code",
   "execution_count": 7,
   "metadata": {},
   "outputs": [],
   "source": [
    "test = [{'name': 'James Brown', 'url': 'https://www.whosampled.com/James-Brown/'}]"
   ]
  },
  {
   "cell_type": "code",
   "execution_count": 8,
   "metadata": {},
   "outputs": [],
   "source": [
    "db.write_artists(artist_urls)"
   ]
  },
  {
   "cell_type": "code",
   "execution_count": 9,
   "metadata": {},
   "outputs": [],
   "source": [
    "conn = psycopg2.connect(dbname='mixmaker', host='localhost')\n",
    "cur = conn.cursor()"
   ]
  },
  {
   "cell_type": "code",
   "execution_count": 10,
   "metadata": {},
   "outputs": [],
   "source": [
    "for artist in test:\n",
    "    query = f\"\"\"        \n",
    "        INSERT INTO artists (name, url)\n",
    "        VALUES ('{artist[\"name\"]}',\n",
    "                '{artist[\"url\"]}');\n",
    "                  \"\"\"\n",
    "    cur.execute(query)\n",
    "    conn.commit()"
   ]
  },
  {
   "cell_type": "code",
   "execution_count": 11,
   "metadata": {},
   "outputs": [],
   "source": [
    "conn.rollback()"
   ]
  },
  {
   "cell_type": "code",
   "execution_count": 12,
   "metadata": {},
   "outputs": [
    {
     "data": {
      "text/plain": [
       "{'id': 1, 'url': 'https://www.whosampled.com/James-Brown/'}"
      ]
     },
     "execution_count": 12,
     "metadata": {},
     "output_type": "execute_result"
    }
   ],
   "source": [
    "db.get_next_artist_to_scrape()"
   ]
  },
  {
   "cell_type": "code",
   "execution_count": 13,
   "metadata": {},
   "outputs": [
    {
     "data": {
      "text/plain": [
       "24"
      ]
     },
     "execution_count": 13,
     "metadata": {},
     "output_type": "execute_result"
    }
   ],
   "source": [
    "(24, 'https://www.whosampled.com/Dalida/')[0]"
   ]
  },
  {
   "cell_type": "code",
   "execution_count": 14,
   "metadata": {},
   "outputs": [],
   "source": [
    "query = \"\"\"\n",
    "SELECT id, url FROM artists\n",
    "WHERE scraped = 0\n",
    "ORDER BY id DESC\n",
    "LIMIT 1\n",
    "\"\"\""
   ]
  },
  {
   "cell_type": "code",
   "execution_count": 15,
   "metadata": {},
   "outputs": [],
   "source": [
    "cur.execute(query)\n",
    "conn.commit()"
   ]
  },
  {
   "cell_type": "code",
   "execution_count": 16,
   "metadata": {},
   "outputs": [
    {
     "data": {
      "text/plain": [
       "[(25, 'https://www.whosampled.com/OutKast/')]"
      ]
     },
     "execution_count": 16,
     "metadata": {},
     "output_type": "execute_result"
    }
   ],
   "source": [
    "list(cur)"
   ]
  },
  {
   "cell_type": "code",
   "execution_count": 17,
   "metadata": {},
   "outputs": [
    {
     "data": {
      "text/plain": [
       "{'name': 'Traditional Folk',\n",
       " 'url': 'https://www.whosampled.com/Traditional-Folk/'}"
      ]
     },
     "execution_count": 17,
     "metadata": {},
     "output_type": "execute_result"
    }
   ],
   "source": [
    "artist_urls[1]"
   ]
  },
  {
   "cell_type": "code",
   "execution_count": 18,
   "metadata": {},
   "outputs": [],
   "source": [
    "s = Scraper('https://www.whosampled.com/James-Brown/')"
   ]
  },
  {
   "cell_type": "code",
   "execution_count": 19,
   "metadata": {},
   "outputs": [],
   "source": [
    "jb = {'name': 'James Brown', 'url': 'https://www.whosampled.com/James-Brown/', 'id' : 2}"
   ]
  },
  {
   "cell_type": "code",
   "execution_count": 20,
   "metadata": {},
   "outputs": [],
   "source": [
    "# s.get_artist_songs(jb)"
   ]
  },
  {
   "cell_type": "code",
   "execution_count": 50,
   "metadata": {},
   "outputs": [],
   "source": [
    "james_brown_songs = _"
   ]
  },
  {
   "cell_type": "code",
   "execution_count": 22,
   "metadata": {},
   "outputs": [],
   "source": [
    "db = DatabaseInteraction()"
   ]
  },
  {
   "cell_type": "code",
   "execution_count": 31,
   "metadata": {},
   "outputs": [],
   "source": [
    "db.write_songs(jbsongs)"
   ]
  },
  {
   "cell_type": "code",
   "execution_count": 62,
   "metadata": {},
   "outputs": [],
   "source": [
    "conn.rollback()"
   ]
  },
  {
   "cell_type": "code",
   "execution_count": 67,
   "metadata": {},
   "outputs": [
    {
     "ename": "AttributeError",
     "evalue": "'DatabaseInteraction' object has no attribute 'update_artist_scraped_status'",
     "output_type": "error",
     "traceback": [
      "\u001b[0;31m---------------------------------------------------------------------------\u001b[0m",
      "\u001b[0;31mAttributeError\u001b[0m                            Traceback (most recent call last)",
      "\u001b[0;32m<ipython-input-67-c03897f795f5>\u001b[0m in \u001b[0;36m<module>\u001b[0;34m()\u001b[0m\n\u001b[0;32m----> 1\u001b[0;31m \u001b[0mdb\u001b[0m\u001b[0;34m.\u001b[0m\u001b[0mupdate_artist_scraped_status\u001b[0m\u001b[0;34m(\u001b[0m\u001b[0mjb\u001b[0m\u001b[0;34m,\u001b[0m \u001b[0;36m1\u001b[0m\u001b[0;34m)\u001b[0m\u001b[0;34m\u001b[0m\u001b[0m\n\u001b[0m",
      "\u001b[0;31mAttributeError\u001b[0m: 'DatabaseInteraction' object has no attribute 'update_artist_scraped_status'"
     ]
    }
   ],
   "source": [
    "db.update_artist_scraped_status(jb, 1)"
   ]
  },
  {
   "cell_type": "code",
   "execution_count": 68,
   "metadata": {},
   "outputs": [
    {
     "data": {
      "text/plain": [
       "'/Users/brettashley/galvanize/dsi/00-Capstone/mix-maker/src'"
      ]
     },
     "execution_count": 68,
     "metadata": {},
     "output_type": "execute_result"
    }
   ],
   "source": [
    "pwd"
   ]
  },
  {
   "cell_type": "code",
   "execution_count": 29,
   "metadata": {},
   "outputs": [],
   "source": [
    "with open('../data/james_brown_songs.txt', 'w') as f:\n",
    "    for item in jbsongs:\n",
    "        f.write(\"%s\\n\" % item)"
   ]
  },
  {
   "cell_type": "code",
   "execution_count": 28,
   "metadata": {},
   "outputs": [
    {
     "data": {
      "text/plain": [
       "[{'artist_id': 2,\n",
       "  'track_name': 'Get Up Offa That Thing (1976)',\n",
       "  'url': 'https://www.whosampled.com/James-Brown/Get-Up-Offa-That-Thing/'},\n",
       " {'artist_id': 2,\n",
       "  'track_name': \"Funky President (People It's Bad) (1974)\",\n",
       "  'url': 'https://www.whosampled.com/James-Brown/Funky-President-(People-It%27s-Bad)/'},\n",
       " {'artist_id': 2,\n",
       "  'track_name': 'Funky Drummer (1970)',\n",
       "  'url': 'https://www.whosampled.com/James-Brown/Funky-Drummer/'},\n",
       " {'artist_id': 2,\n",
       "  'track_name': \"Sho' Nuff (1973)\\nby Sly, Slick and Wicked\\nProducer credit: James Brown\",\n",
       "  'url': 'https://www.whosampled.com/Sly,-Slick-and-Wicked/Sho%27-Nuff/'},\n",
       " {'artist_id': 2,\n",
       "  'track_name': 'My Thang (1974)',\n",
       "  'url': 'https://www.whosampled.com/James-Brown/My-Thang/'},\n",
       " {'artist_id': 2,\n",
       "  'track_name': 'Think (About It) (1972)\\nby Lyn Collins\\nProducer credit: James Brown',\n",
       "  'url': 'https://www.whosampled.com/Lyn-Collins/Think-(About-It)/'},\n",
       " {'artist_id': 2,\n",
       "  'track_name': \"Don't Tell a Lie About Me and I Won't Tell the Truth on You (1974)\",\n",
       "  'url': 'https://www.whosampled.com/James-Brown/Don%27t-Tell-a-Lie-About-Me-and-I-Won%27t-Tell-the-Truth-on-You/'},\n",
       " {'artist_id': 2,\n",
       "  'track_name': 'The Payback (1973)',\n",
       "  'url': 'https://www.whosampled.com/James-Brown/The-Payback/'},\n",
       " {'artist_id': 2,\n",
       "  'track_name': \"Say It Loud, I'm Black and I'm Proud (1968)\",\n",
       "  'url': 'https://www.whosampled.com/James-Brown/Say-It-Loud,-I%27m-Black-and-I%27m-Proud/'},\n",
       " {'artist_id': 2,\n",
       "  'track_name': 'Licking Stick - Licking Stick (1968)',\n",
       "  'url': 'https://www.whosampled.com/James-Brown/Licking-Stick-Licking-Stick/'},\n",
       " {'artist_id': 2,\n",
       "  'track_name': 'Introduction to Star Time! (1968)',\n",
       "  'url': 'https://www.whosampled.com/James-Brown/Introduction-to-Star-Time!/'},\n",
       " {'artist_id': 2,\n",
       "  'track_name': \"The Grunt (1970)\\nby The J.B.'s\\nProducer credit: James Brown\",\n",
       "  'url': 'https://www.whosampled.com/The-J.B.%27s/The-Grunt/'},\n",
       " {'artist_id': 2,\n",
       "  'track_name': \"I'm Not to Blame (1970)\\nby Bobby Byrd\\nProducer credit: James Brown\",\n",
       "  'url': 'https://www.whosampled.com/Bobby-Byrd/I%27m-Not-to-Blame/'},\n",
       " {'artist_id': 2,\n",
       "  'track_name': 'Funky Drummer (Bonus Beat Reprise) (1986)',\n",
       "  'url': 'https://www.whosampled.com/James-Brown/Funky-Drummer-(Bonus-Beat-Reprise)/'},\n",
       " {'artist_id': 2,\n",
       "  'track_name': \"Blow Your Head (1974)\\nby Fred Wesley and The J.B.'s\\nProducer credit: James Brown\",\n",
       "  'url': 'https://www.whosampled.com/Fred-Wesley/Blow-Your-Head/'},\n",
       " {'artist_id': 2,\n",
       "  'track_name': 'Blind Man Can See It (1973)',\n",
       "  'url': 'https://www.whosampled.com/James-Brown/Blind-Man-Can-See-It/'},\n",
       " {'artist_id': 2,\n",
       "  'track_name': 'Unwind Yourself (1967)\\nby Marva Whitney\\nProducer credit: James Brown',\n",
       "  'url': 'https://www.whosampled.com/Marva-Whitney/Unwind-Yourself/'},\n",
       " {'artist_id': 2,\n",
       "  'track_name': 'The Boss (1973)',\n",
       "  'url': 'https://www.whosampled.com/James-Brown/The-Boss/'},\n",
       " {'artist_id': 2,\n",
       "  'track_name': \"I'm a Greedy Man (1971)\",\n",
       "  'url': 'https://www.whosampled.com/James-Brown/I%27m-a-Greedy-Man/'},\n",
       " {'artist_id': 2,\n",
       "  'track_name': \"It's My Thing (1969)\\nby Marva Whitney\\nProducer credit: James Brown\",\n",
       "  'url': 'https://www.whosampled.com/Marva-Whitney/It%27s-My-Thing/'},\n",
       " {'artist_id': 2,\n",
       "  'track_name': 'Coldblooded (1974)',\n",
       "  'url': 'https://www.whosampled.com/James-Brown/Coldblooded/'},\n",
       " {'artist_id': 2,\n",
       "  'track_name': 'Yes It\\'s You (1974)\\nby \"Sweet\" Charles Sherrell\\nProducer credit: James Brown',\n",
       "  'url': 'https://www.whosampled.com/%22Sweet%22-Charles-Sherrell/Yes-It%27s-You/'},\n",
       " {'artist_id': 2,\n",
       "  'track_name': 'Blues and Pants (1971)',\n",
       "  'url': 'https://www.whosampled.com/James-Brown/Blues-and-Pants/'},\n",
       " {'artist_id': 2,\n",
       "  'track_name': 'Hot Pants (Bonus Beats) (1987)\\nby Bobby Byrd\\nProducer credit: James Brown',\n",
       "  'url': 'https://www.whosampled.com/Bobby-Byrd/Hot-Pants-(Bonus-Beats)/'},\n",
       " {'artist_id': 2,\n",
       "  'track_name': 'Mind Power (1973)',\n",
       "  'url': 'https://www.whosampled.com/James-Brown/Mind-Power/'},\n",
       " {'artist_id': 2,\n",
       "  'track_name': 'Sunny (1968)',\n",
       "  'url': 'https://www.whosampled.com/James-Brown/Sunny/'},\n",
       " {'artist_id': 2,\n",
       "  'track_name': 'People Get Up and Drive Your Funky Soul (Remix) (1988)',\n",
       "  'url': 'https://www.whosampled.com/James-Brown/People-Get-Up-and-Drive-Your-Funky-Soul-(Remix)/'},\n",
       " {'artist_id': 2,\n",
       "  'track_name': \"Pass the Peas (1972)\\nby The J.B.'s\\nProducer credit: James Brown\",\n",
       "  'url': 'https://www.whosampled.com/The-J.B.%27s/Pass-the-Peas/'},\n",
       " {'artist_id': 2,\n",
       "  'track_name': 'Put It on the Line (1975)\\nby Lyn Collins\\nProducer credit: James Brown',\n",
       "  'url': 'https://www.whosampled.com/Lyn-Collins/Put-It-on-the-Line/'},\n",
       " {'artist_id': 2,\n",
       "  'track_name': 'In the Land of Milk and Honey (1971)\\nby Vicki Anderson\\nProducer credit: James Brown',\n",
       "  'url': 'https://www.whosampled.com/Vicki-Anderson/In-the-Land-of-Milk-and-Honey/'},\n",
       " {'artist_id': 2,\n",
       "  'track_name': 'I Know You Got Soul (1971)\\nby Bobby Byrd\\nProducer credit: James Brown',\n",
       "  'url': 'https://www.whosampled.com/Bobby-Byrd/I-Know-You-Got-Soul/'},\n",
       " {'artist_id': 2,\n",
       "  'track_name': \"Givin' Up Food for Funk (1972)\\nby The J.B.'s\\nProducer credit: James Brown\",\n",
       "  'url': 'https://www.whosampled.com/The-J.B.%27s/Givin%27-Up-Food-for-Funk/'},\n",
       " {'artist_id': 2,\n",
       "  'track_name': 'The Message From the Soul Sisters (1970)\\nby Myra Barnes\\nProducer credit: James Brown',\n",
       "  'url': 'https://www.whosampled.com/Myra-Barnes/The-Message-From-the-Soul-Sisters/'},\n",
       " {'artist_id': 2,\n",
       "  'track_name': \"Gimme Some More (1970)\\nby The J.B.'s\\nProducer credit: James Brown\",\n",
       "  'url': 'https://www.whosampled.com/The-J.B.%27s/Gimme-Some-More/'},\n",
       " {'artist_id': 2,\n",
       "  'track_name': 'Make It Funky (1971)',\n",
       "  'url': 'https://www.whosampled.com/James-Brown/Make-It-Funky/'},\n",
       " {'artist_id': 2,\n",
       "  'track_name': 'Parrty (1973)\\nby Maceo & the Macks\\nProducer credit: James Brown',\n",
       "  'url': 'https://www.whosampled.com/Maceo-%26-the-Macks/Parrty/'},\n",
       " {'artist_id': 2,\n",
       "  'track_name': 'King Heroin (1972)',\n",
       "  'url': 'https://www.whosampled.com/James-Brown/King-Heroin/'},\n",
       " {'artist_id': 2,\n",
       "  'track_name': 'Just Enough Room for Storage (1971)',\n",
       "  'url': 'https://www.whosampled.com/James-Brown/Just-Enough-Room-for-Storage/'},\n",
       " {'artist_id': 2,\n",
       "  'track_name': \"It's a Man's Man's Man's World (1966)\",\n",
       "  'url': 'https://www.whosampled.com/James-Brown/It%27s-a-Man%27s-Man%27s-Man%27s-World/'},\n",
       " {'artist_id': 2,\n",
       "  'track_name': \"Papa Don't Take No Mess (1974)\",\n",
       "  'url': 'https://www.whosampled.com/James-Brown/Papa-Don%27t-Take-No-Mess/'},\n",
       " {'artist_id': 2,\n",
       "  'track_name': \"More Peas (1973)\\nby Fred Wesley and The J.B.'s\\nProducer credit: James Brown\",\n",
       "  'url': 'https://www.whosampled.com/Fred-Wesley/More-Peas/'},\n",
       " {'artist_id': 2,\n",
       "  'track_name': 'Get on the Good Foot (1972)',\n",
       "  'url': 'https://www.whosampled.com/James-Brown/Get-on-the-Good-Foot/'},\n",
       " {'artist_id': 2,\n",
       "  'track_name': 'Soul Pride (1969)',\n",
       "  'url': 'https://www.whosampled.com/James-Brown/Soul-Pride/'},\n",
       " {'artist_id': 2,\n",
       "  'track_name': 'Can Mind (1971)',\n",
       "  'url': 'https://www.whosampled.com/James-Brown/Can-Mind/'},\n",
       " {'artist_id': 2,\n",
       "  'track_name': 'Get Up, Get Into It, Get Involved (1970)',\n",
       "  'url': 'https://www.whosampled.com/James-Brown/Get-Up,-Get-Into-It,-Get-Involved/'},\n",
       " {'artist_id': 2,\n",
       "  'track_name': 'Take Some...Leave Some (1973)',\n",
       "  'url': 'https://www.whosampled.com/James-Brown/Take-Some...Leave-Some/'},\n",
       " {'artist_id': 2,\n",
       "  'track_name': 'There Was a Time (1969)\\nby Dee Felice Trio\\nProducer credit: James Brown',\n",
       "  'url': 'https://www.whosampled.com/Dee-Felice-Trio/There-Was-a-Time/'},\n",
       " {'artist_id': 2,\n",
       "  'track_name': \"(It's Not the Express) It's the J.B.'s Monaurail (1975)\\nby The J.B.'s\\nProducer credit: James Brown\",\n",
       "  'url': 'https://www.whosampled.com/The-J.B.%27s/(It%27s-Not-the-Express)-It%27s-the-J.B.%27s-Monaurail/'},\n",
       " {'artist_id': 2,\n",
       "  'track_name': \"Damn Right I'm Somebody (1974)\\nby Fred Wesley and The J.B.'s\\nProducer credit: James Brown\",\n",
       "  'url': 'https://www.whosampled.com/Fred-Wesley/Damn-Right-I%27m-Somebody/'},\n",
       " {'artist_id': 2,\n",
       "  'track_name': 'Soul Power 74 (1974)\\nby Maceo & the Macks\\nProducer credit: James Brown',\n",
       "  'url': 'https://www.whosampled.com/Maceo-%26-the-Macks/Soul-Power-74/'},\n",
       " {'artist_id': 2,\n",
       "  'track_name': \"It's a New Day So Let a Man Come in and Do the Popcorn (1971)\",\n",
       "  'url': 'https://www.whosampled.com/James-Brown/It%27s-a-New-Day-So-Let-a-Man-Come-in-and-Do-the-Popcorn/'},\n",
       " {'artist_id': 2,\n",
       "  'track_name': 'Escape-Ism (1971)',\n",
       "  'url': 'https://www.whosampled.com/James-Brown/Escape-Ism/'},\n",
       " {'artist_id': 2,\n",
       "  'track_name': \"Think 73' (1973)\",\n",
       "  'url': 'https://www.whosampled.com/James-Brown/Think-73%27/'},\n",
       " {'artist_id': 2,\n",
       "  'track_name': \"Rockin' Funky Watergate (1974)\\nby Fred & the New J.B.'s\\nProducer credit: James Brown\",\n",
       "  'url': 'https://www.whosampled.com/Fred-%26-the-New-J.B.%27s/Rockin%27-Funky-Watergate/'},\n",
       " {'artist_id': 2,\n",
       "  'track_name': 'Get Up (I Feel Like Being A) Sex Machine (1970)',\n",
       "  'url': 'https://www.whosampled.com/James-Brown/Get-Up-(I-Feel-Like-Being-A)-Sex-Machine/'},\n",
       " {'artist_id': 2,\n",
       "  'track_name': 'The Spank (1978)',\n",
       "  'url': 'https://www.whosampled.com/James-Brown/The-Spank/'},\n",
       " {'artist_id': 2,\n",
       "  'track_name': 'Night Train (1962)',\n",
       "  'url': 'https://www.whosampled.com/James-Brown/Night-Train/'},\n",
       " {'artist_id': 2,\n",
       "  'track_name': \"Bring It Up (Hipster's Avenue) (1967)\",\n",
       "  'url': 'https://www.whosampled.com/James-Brown/Bring-It-Up-(Hipster%27s-Avenue)/'},\n",
       " {'artist_id': 2,\n",
       "  'track_name': 'Strangers in the Night (1974)\\nby \"Sweet\" Charles Sherrell\\nProducer credit: James Brown',\n",
       "  'url': 'https://www.whosampled.com/%22Sweet%22-Charles-Sherrell/Strangers-in-the-Night/'},\n",
       " {'artist_id': 2,\n",
       "  'track_name': 'Hot (I Need to Be Loved, Loved, Loved, Loved) (1975)',\n",
       "  'url': 'https://www.whosampled.com/James-Brown/Hot-(I-Need-to-Be-Loved,-Loved,-Loved,-Loved)/'},\n",
       " {'artist_id': 2,\n",
       "  'track_name': 'Cold Sweat (1967)',\n",
       "  'url': 'https://www.whosampled.com/James-Brown/Cold-Sweat/'},\n",
       " {'artist_id': 2,\n",
       "  'track_name': 'I Got You (I Feel Good) (1965)',\n",
       "  'url': 'https://www.whosampled.com/James-Brown/I-Got-You-(I-Feel-Good)/'},\n",
       " {'artist_id': 2,\n",
       "  'track_name': \"You Can't Love Me if You Don't Respect Me (1973)\\nby Lyn Collins\\nProducer credit: James Brown\",\n",
       "  'url': 'https://www.whosampled.com/Lyn-Collins/You-Can%27t-Love-Me-if-You-Don%27t-Respect-Me/'},\n",
       " {'artist_id': 2,\n",
       "  'track_name': \"Hot Pants Road (1970)\\nby The J.B.'s\\nProducer credit: James Brown\",\n",
       "  'url': 'https://www.whosampled.com/The-J.B.%27s/Hot-Pants-Road/'},\n",
       " {'artist_id': 2,\n",
       "  'track_name': \"Hot Pants - I'm Coming, I'm Coming, I'm Coming (1972)\\nby Bobby Byrd\\nProducer credit: James Brown\",\n",
       "  'url': 'https://www.whosampled.com/Bobby-Byrd/Hot-Pants-I%27m-Coming,-I%27m-Coming,-I%27m-Coming/'},\n",
       " {'artist_id': 2,\n",
       "  'track_name': \"Godfather Runnin' the Joint (1988)\",\n",
       "  'url': 'https://www.whosampled.com/James-Brown/Godfather-Runnin%27-the-Joint/'},\n",
       " {'artist_id': 2,\n",
       "  'track_name': 'I Got Ants in My Pants (1972)',\n",
       "  'url': 'https://www.whosampled.com/James-Brown/I-Got-Ants-in-My-Pants/'},\n",
       " {'artist_id': 2,\n",
       "  'track_name': 'Super Bad (1970)',\n",
       "  'url': 'https://www.whosampled.com/James-Brown/Super-Bad/'},\n",
       " {'artist_id': 2,\n",
       "  'track_name': 'Stone to the Bone (1973)',\n",
       "  'url': 'https://www.whosampled.com/James-Brown/Stone-to-the-Bone/'},\n",
       " {'artist_id': 2,\n",
       "  'track_name': \"Ain't It Funky Now (1969)\",\n",
       "  'url': 'https://www.whosampled.com/James-Brown/Ain%27t-It-Funky-Now/'},\n",
       " {'artist_id': 2,\n",
       "  'track_name': 'Cross the Track (We Better Go Back) (1975)\\nby Maceo & the Macks\\nProducer credit: James Brown',\n",
       "  'url': 'https://www.whosampled.com/Maceo-%26-the-Macks/Cross-the-Track-(We-Better-Go-Back)/'},\n",
       " {'artist_id': 2,\n",
       "  'track_name': \"Keep on Bumpin' Before You Give Out of Gas (1974)\\nby The Last Word\\nProducer credit: James Brown\",\n",
       "  'url': 'https://www.whosampled.com/The-Last-Word/Keep-on-Bumpin%27-Before-You-Give-Out-of-Gas/'},\n",
       " {'artist_id': 2,\n",
       "  'track_name': \"Ain't No Sunshine (1972)\\nby Lyn Collins\\nProducer credit: James Brown\",\n",
       "  'url': 'https://www.whosampled.com/Lyn-Collins/Ain%27t-No-Sunshine/'},\n",
       " {'artist_id': 2,\n",
       "  'track_name': \"Talkin' Loud & Sayin' Nothing (1972)\",\n",
       "  'url': 'https://www.whosampled.com/James-Brown/Talkin%27-Loud-%26-Sayin%27-Nothing/'},\n",
       " {'artist_id': 2,\n",
       "  'track_name': \"You Can Have Watergate Just Gimme Some Bucks and I'll Be Straight (1973)\\nby Fred Wesley and The J.B.'s\\nProducer credit: James Brown\",\n",
       "  'url': 'https://www.whosampled.com/Fred-Wesley/You-Can-Have-Watergate-Just-Gimme-Some-Bucks-and-I%27ll-Be-Straight/'},\n",
       " {'artist_id': 2,\n",
       "  'track_name': 'There It Is (1972)',\n",
       "  'url': 'https://www.whosampled.com/James-Brown/There-It-Is/'},\n",
       " {'artist_id': 2,\n",
       "  'track_name': \"They Don't Want Music (2005)\\nby Black Eyed Peas feat. James Brown\",\n",
       "  'url': 'https://www.whosampled.com/Black-Eyed-Peas/They-Don%27t-Want-Music/'},\n",
       " {'artist_id': 2,\n",
       "  'track_name': 'We Want to Parrty, Parrty, Parrty (1973)\\nby Lyn Collins\\nProducer credit: James Brown',\n",
       "  'url': 'https://www.whosampled.com/Lyn-Collins/We-Want-to-Parrty,-Parrty,-Parrty/'},\n",
       " {'artist_id': 2,\n",
       "  'track_name': 'Please, Please, Please (1956)\\nby James Brown and The Famous Flames',\n",
       "  'url': 'https://www.whosampled.com/James-Brown/Please,-Please,-Please/'},\n",
       " {'artist_id': 2,\n",
       "  'track_name': 'Honky Tonk (1969) (1969)\\nby Bill Doggett\\nProducer credit: James Brown',\n",
       "  'url': 'https://www.whosampled.com/Bill-Doggett/Honky-Tonk-(1969)/'},\n",
       " {'artist_id': 2,\n",
       "  'track_name': 'Soul Man (1974)\\nby \"Sweet\" Charles Sherrell\\nProducer credit: James Brown',\n",
       "  'url': 'https://www.whosampled.com/%22Sweet%22-Charles-Sherrell/Soul-Man/'},\n",
       " {'artist_id': 2,\n",
       "  'track_name': 'Mama Feelgood (1973)\\nby Lyn Collins\\nProducer credit: James Brown',\n",
       "  'url': 'https://www.whosampled.com/Lyn-Collins/Mama-Feelgood/'},\n",
       " {'artist_id': 2,\n",
       "  'track_name': \"Don't Tell It (1976)\",\n",
       "  'url': 'https://www.whosampled.com/James-Brown/Don%27t-Tell-It/'},\n",
       " {'artist_id': 2,\n",
       "  'track_name': 'Unchained (The Payback/Untouchable) (2012)\\nby James Brown and 2Pac',\n",
       "  'url': 'https://www.whosampled.com/James-Brown/Unchained-(The-PaybackUntouchable)/'},\n",
       " {'artist_id': 2,\n",
       "  'track_name': 'Mother Popcorn (1969)',\n",
       "  'url': 'https://www.whosampled.com/James-Brown/Mother-Popcorn/'},\n",
       " {'artist_id': 2,\n",
       "  'track_name': 'Chase (1973)',\n",
       "  'url': 'https://www.whosampled.com/James-Brown/Chase/'},\n",
       " {'artist_id': 2,\n",
       "  'track_name': 'No Strings Attached (1969)\\nby The Mad Lads\\nProducer credit: James Brown',\n",
       "  'url': 'https://www.whosampled.com/The-Mad-Lads/No-Strings-Attached/'},\n",
       " {'artist_id': 2,\n",
       "  'track_name': 'Soul Power (1971)',\n",
       "  'url': 'https://www.whosampled.com/James-Brown/Soul-Power/'},\n",
       " {'artist_id': 2,\n",
       "  'track_name': 'Never Can Say Goodbye (1972)',\n",
       "  'url': 'https://www.whosampled.com/James-Brown/Never-Can-Say-Goodbye/'},\n",
       " {'artist_id': 2,\n",
       "  'track_name': 'All for One (1974)',\n",
       "  'url': 'https://www.whosampled.com/James-Brown/All-for-One/'},\n",
       " {'artist_id': 2,\n",
       "  'track_name': 'Tighten Up (1993)',\n",
       "  'url': 'https://www.whosampled.com/James-Brown/Tighten-Up/'},\n",
       " {'artist_id': 2,\n",
       "  'track_name': \"I Wanna Get Down (1974)\\nby Fred & the New J.B.'s\\nProducer credit: James Brown\",\n",
       "  'url': 'https://www.whosampled.com/Fred-%26-the-New-J.B.%27s/I-Wanna-Get-Down/'},\n",
       " {'artist_id': 2,\n",
       "  'track_name': \"You're Welcome, Stop on By (1975)\\nby Vicki Anderson\\nProducer credit: James Brown\",\n",
       "  'url': 'https://www.whosampled.com/Vicki-Anderson/You%27re-Welcome,-Stop-on-By/'},\n",
       " {'artist_id': 2,\n",
       "  'track_name': 'Future Shock (Dance Your Pants Off) (1973)\\nby Maceo Parker\\nProducer credit: James Brown',\n",
       "  'url': 'https://www.whosampled.com/Maceo-Parker/Future-Shock-(Dance-Your-Pants-Off)/'},\n",
       " {'artist_id': 2,\n",
       "  'track_name': 'Hot Pants Pt. 1 (She Got to Use What She Got to Get What She Wants) (1971)',\n",
       "  'url': 'https://www.whosampled.com/James-Brown/Hot-Pants-Pt.-1-(She-Got-to-Use-What-She-Got-to-Get-What-She-Wants)/'},\n",
       " {'artist_id': 2,\n",
       "  'track_name': \"Papa's Got a Brand New Bag (1965)\",\n",
       "  'url': 'https://www.whosampled.com/James-Brown/Papa%27s-Got-a-Brand-New-Bag/'},\n",
       " {'artist_id': 2,\n",
       "  'track_name': 'White Lightning (I Mean Moonshine) (1973)',\n",
       "  'url': 'https://www.whosampled.com/James-Brown/White-Lightning-(I-Mean-Moonshine)/'},\n",
       " {'artist_id': 2,\n",
       "  'track_name': 'I Got to Move (1986)',\n",
       "  'url': 'https://www.whosampled.com/James-Brown/I-Got-to-Move/'},\n",
       " {'artist_id': 2,\n",
       "  'track_name': 'Take Me Just as I Am (1973)\\nby Lyn Collins\\nProducer credit: James Brown',\n",
       "  'url': 'https://www.whosampled.com/Lyn-Collins/Take-Me-Just-as-I-Am/'},\n",
       " {'artist_id': 2,\n",
       "  'track_name': 'In the Middle (1968)',\n",
       "  'url': 'https://www.whosampled.com/James-Brown/In-the-Middle/'},\n",
       " {'artist_id': 2,\n",
       "  'track_name': 'Do Your Thing (1972)\\nby Lyn Collins\\nProducer credit: James Brown',\n",
       "  'url': 'https://www.whosampled.com/Lyn-Collins/Do-Your-Thing/'},\n",
       " {'artist_id': 2,\n",
       "  'track_name': 'Give It Up or Turnit a Loose (1969)',\n",
       "  'url': 'https://www.whosampled.com/James-Brown/Give-It-Up-or-Turnit-a-Loose/'},\n",
       " {'artist_id': 2,\n",
       "  'track_name': 'Things Got to Get Better (1972)\\nby Lyn Collins\\nProducer credit: James Brown',\n",
       "  'url': 'https://www.whosampled.com/Lyn-Collins/Things-Got-to-Get-Better/'},\n",
       " {'artist_id': 2,\n",
       "  'track_name': 'Down and Out in New York City (1973)',\n",
       "  'url': 'https://www.whosampled.com/James-Brown/Down-and-Out-in-New-York-City/'},\n",
       " {'artist_id': 2,\n",
       "  'track_name': \"Just Won't Do Right (1957)\\nby James Brown and The Famous Flames\",\n",
       "  'url': 'https://www.whosampled.com/James-Brown/Just-Won%27t-Do-Right/'},\n",
       " {'artist_id': 2,\n",
       "  'track_name': \"Mama's Dead (1973)\",\n",
       "  'url': 'https://www.whosampled.com/James-Brown/Mama%27s-Dead/'},\n",
       " {'artist_id': 2,\n",
       "  'track_name': 'Untitled Instrumental (1988)',\n",
       "  'url': 'https://www.whosampled.com/James-Brown/Untitled-Instrumental/'},\n",
       " {'artist_id': 2,\n",
       "  'track_name': 'Me and My Baby Got Our Own Thing Going (1972)\\nby Lyn Collins\\nProducer credit: James Brown',\n",
       "  'url': 'https://www.whosampled.com/Lyn-Collins/Me-and-My-Baby-Got-Our-Own-Thing-Going/'},\n",
       " {'artist_id': 2,\n",
       "  'track_name': \"It's a New Day (1970)\",\n",
       "  'url': 'https://www.whosampled.com/James-Brown/It%27s-a-New-Day/'},\n",
       " {'artist_id': 2,\n",
       "  'track_name': 'Something (1973)',\n",
       "  'url': 'https://www.whosampled.com/James-Brown/Something/'},\n",
       " {'artist_id': 2,\n",
       "  'track_name': 'Give It Up or Turnit a Loose (Remix) (1986)',\n",
       "  'url': 'https://www.whosampled.com/James-Brown/Give-It-Up-or-Turnit-a-Loose-(Remix)/'},\n",
       " {'artist_id': 2,\n",
       "  'track_name': 'Superbad, Superslick (1975)',\n",
       "  'url': 'https://www.whosampled.com/James-Brown/Superbad,-Superslick/'},\n",
       " {'artist_id': 2,\n",
       "  'track_name': 'The Popcorn (1969)',\n",
       "  'url': 'https://www.whosampled.com/James-Brown/The-Popcorn/'},\n",
       " {'artist_id': 2,\n",
       "  'track_name': \"If You Don't Get It the First Time, Back Up & Try It Again, Parrty (1974)\\nby Fred Wesley and The J.B.'s\\nProducer credit: James Brown\",\n",
       "  'url': 'https://www.whosampled.com/Fred-Wesley/If-You-Don%27t-Get-It-the-First-Time,-Back-Up-%26-Try-It-Again,-Parrty/'},\n",
       " {'artist_id': 2,\n",
       "  'track_name': 'People Get Up and Drive Your Funky Soul (1973)',\n",
       "  'url': 'https://www.whosampled.com/James-Brown/People-Get-Up-and-Drive-Your-Funky-Soul/'},\n",
       " {'artist_id': 2,\n",
       "  'track_name': 'Baby, Here I Come (1988)',\n",
       "  'url': 'https://www.whosampled.com/James-Brown/Baby,-Here-I-Come/'},\n",
       " {'artist_id': 2,\n",
       "  'track_name': 'The Soul of a Black Man (1973)\\nby Maceo Parker\\nProducer credit: James Brown',\n",
       "  'url': 'https://www.whosampled.com/Maceo-Parker/The-Soul-of-a-Black-Man/'},\n",
       " {'artist_id': 2,\n",
       "  'track_name': \"I Don't Want Nobody to Give Me Nothing (Open Up the Door I'll Get It Myself) (1969)\",\n",
       "  'url': 'https://www.whosampled.com/James-Brown/I-Don%27t-Want-Nobody-to-Give-Me-Nothing-(Open-Up-the-Door-I%27ll-Get-It-Myself)/'},\n",
       " {'artist_id': 2,\n",
       "  'track_name': \"La Di Da La Di Day (1973)\\nby The J.B.'s\\nProducer credit: James Brown\",\n",
       "  'url': 'https://www.whosampled.com/The-J.B.%27s/La-Di-Da-La-Di-Day/'},\n",
       " {'artist_id': 2,\n",
       "  'track_name': 'Can I Get Some Help (1988)',\n",
       "  'url': 'https://www.whosampled.com/James-Brown/Can-I-Get-Some-Help/'},\n",
       " {'artist_id': 2,\n",
       "  'track_name': 'Nose Job (1970)',\n",
       "  'url': 'https://www.whosampled.com/James-Brown/Nose-Job/'},\n",
       " {'artist_id': 2,\n",
       "  'track_name': \"Introduction to the J.B.'s (1973)\\nby Fred Wesley and The J.B.'s\\nProducer credit: James Brown\",\n",
       "  'url': 'https://www.whosampled.com/Fred-Wesley/Introduction-to-the-J.B.%27s/'},\n",
       " {'artist_id': 2,\n",
       "  'track_name': \"She's the One (Funky Drummer Remix) (1988)\",\n",
       "  'url': 'https://www.whosampled.com/James-Brown/She%27s-the-One-(Funky-Drummer-Remix)/'},\n",
       " {'artist_id': 2,\n",
       "  'track_name': 'Static (1988)\\nby James Brown feat. Full Force',\n",
       "  'url': 'https://www.whosampled.com/James-Brown/Static/'},\n",
       " {'artist_id': 2,\n",
       "  'track_name': 'Shout and Shimmy (1962)\\nby James Brown and The Famous Flames',\n",
       "  'url': 'https://www.whosampled.com/James-Brown/Shout-and-Shimmy/'},\n",
       " {'artist_id': 2,\n",
       "  'track_name': 'Sex Machine (Fantastic Sex Machine Mix) (2002)',\n",
       "  'url': 'https://www.whosampled.com/James-Brown/Sex-Machine-(Fantastic-Sex-Machine-Mix)/'},\n",
       " {'artist_id': 2,\n",
       "  'track_name': '(Get Up I Feel LIke Being Like A) Sex Machine (Live) (1970)',\n",
       "  'url': 'https://www.whosampled.com/James-Brown/(Get-Up-I-Feel-LIke-Being-Like-A)-Sex-Machine-(Live)/'},\n",
       " {'artist_id': 2,\n",
       "  'track_name': \"I'm Tired I'm Tired I'm Tired (1968)\\nby Marva Whitney\\nProducer credit: James Brown\",\n",
       "  'url': 'https://www.whosampled.com/Marva-Whitney/I%27m-Tired-I%27m-Tired-I%27m-Tired/'},\n",
       " {'artist_id': 2,\n",
       "  'track_name': \"She Looks All Types A' Good (1988)\",\n",
       "  'url': 'https://www.whosampled.com/James-Brown/She-Looks-All-Types-A%27-Good/'},\n",
       " {'artist_id': 2,\n",
       "  'track_name': 'Funky Drummer (Listen to the Muro Mix) (2002)',\n",
       "  'url': 'https://www.whosampled.com/James-Brown/Funky-Drummer-(Listen-to-the-Muro-Mix)/'},\n",
       " {'artist_id': 2,\n",
       "  'track_name': \"Unity (Pt. 2 - Because It's Coming) (1984)\\nby Afrika Bambaataa and James Brown\",\n",
       "  'url': 'https://www.whosampled.com/Afrika-Bambaataa/Unity-(Pt.-2-Because-It%27s-Coming)/'},\n",
       " {'artist_id': 2,\n",
       "  'track_name': 'Wichita Lineman (1969)\\nby Dee Felice Trio\\nProducer credit: James Brown',\n",
       "  'url': 'https://www.whosampled.com/Dee-Felice-Trio/Wichita-Lineman/'},\n",
       " {'artist_id': 2,\n",
       "  'track_name': 'Who Knows (1970)\\nby Beau Dollar\\nProducer credit: James Brown',\n",
       "  'url': 'https://www.whosampled.com/Beau-Dollar/Who-Knows/'},\n",
       " {'artist_id': 2,\n",
       "  'track_name': \"I'm Shook (1969)\",\n",
       "  'url': 'https://www.whosampled.com/James-Brown/I%27m-Shook/'},\n",
       " {'artist_id': 2,\n",
       "  'track_name': 'Rock Me Again & Again & Again & Again & Again & Again (6 Times) (1975)\\nby Lyn Collins\\nProducer credit: James Brown',\n",
       "  'url': 'https://www.whosampled.com/Lyn-Collins/Rock-Me-Again-%26-Again-%26-Again-%26-Again-%26-Again-%26-Again-(6-Times)/'},\n",
       " {'artist_id': 2,\n",
       "  'track_name': \"Blow Your Head (Undubbed Version) (1989)\\nby Fred Wesley and The J.B.'s\\nRemixer credit: James Brown\",\n",
       "  'url': 'https://www.whosampled.com/Fred-Wesley/Blow-Your-Head-(Undubbed-Version)/'},\n",
       " {'artist_id': 2,\n",
       "  'track_name': \"Oh Baby Don't You Weep (Part 1) (1964)\\nby James Brown and The Famous Flames\",\n",
       "  'url': 'https://www.whosampled.com/James-Brown/Oh-Baby-Don%27t-You-Weep-(Part-1)/'},\n",
       " {'artist_id': 2,\n",
       "  'track_name': 'The Chicken (1969)',\n",
       "  'url': 'https://www.whosampled.com/James-Brown/The-Chicken/'},\n",
       " {'artist_id': 2,\n",
       "  'track_name': 'Popcorn With a Feeling (1969)',\n",
       "  'url': 'https://www.whosampled.com/James-Brown/Popcorn-With-a-Feeling/'},\n",
       " {'artist_id': 2,\n",
       "  'track_name': 'Unity (1984)\\nby Afrika Bambaataa and James Brown',\n",
       "  'url': 'https://www.whosampled.com/Afrika-Bambaataa/Unity/'},\n",
       " {'artist_id': 2,\n",
       "  'track_name': 'Never Get Enough (1972)\\nby Bobby Byrd\\nProducer credit: James Brown',\n",
       "  'url': 'https://www.whosampled.com/Bobby-Byrd/Never-Get-Enough/'},\n",
       " {'artist_id': 2,\n",
       "  'track_name': 'Unity (Pt. 3 - Nuclear Wildstyle) (1984)\\nby Afrika Bambaataa and James Brown',\n",
       "  'url': 'https://www.whosampled.com/Afrika-Bambaataa/Unity-(Pt.-3-Nuclear-Wildstyle)/'},\n",
       " {'artist_id': 2,\n",
       "  'track_name': \"Damn Right I'm Somebody (Love and Happiness) (1974)\\nby Fred Wesley and The J.B.'s feat. Lyn Collins\\nProducer credit: James Brown\",\n",
       "  'url': 'https://www.whosampled.com/Fred-Wesley/Damn-Right-I%27m-Somebody-(Love-and-Happiness)/'},\n",
       " {'artist_id': 2,\n",
       "  'track_name': 'Fly Me to the Moon (1972)\\nby Lyn Collins\\nProducer credit: James Brown',\n",
       "  'url': 'https://www.whosampled.com/Lyn-Collins/Fly-Me-to-the-Moon/'},\n",
       " {'artist_id': 2,\n",
       "  'track_name': 'Introduction (1963)',\n",
       "  'url': 'https://www.whosampled.com/James-Brown/Introduction/'},\n",
       " {'artist_id': 2,\n",
       "  'track_name': \"Same Beat (1974)\\nby Fred Wesley and The J.B.'s\\nProducer credit: James Brown\",\n",
       "  'url': 'https://www.whosampled.com/Fred-Wesley/Same-Beat/'},\n",
       " {'artist_id': 2,\n",
       "  'track_name': 'Sho Is Funky Down Here (1971)',\n",
       "  'url': 'https://www.whosampled.com/James-Brown/Sho-Is-Funky-Down-Here/'},\n",
       " {'artist_id': 2,\n",
       "  'track_name': \"They Don't Want Music (Pete Rock Remix) (2006)\\nby Black Eyed Peas feat. James Brown\",\n",
       "  'url': 'https://www.whosampled.com/Black-Eyed-Peas/They-Don%27t-Want-Music-(Pete-Rock-Remix)/'},\n",
       " {'artist_id': 2,\n",
       "  'track_name': \"I've Got Money (1962)\",\n",
       "  'url': 'https://www.whosampled.com/James-Brown/I%27ve-Got-Money/'},\n",
       " {'artist_id': 2,\n",
       "  'track_name': 'Hang Out & Hustle (1975)\\nby \"Sweet\" Charles Sherrell\\nProducer credit: James Brown',\n",
       "  'url': 'https://www.whosampled.com/%22Sweet%22-Charles-Sherrell/Hang-Out-%26-Hustle/'},\n",
       " {'artist_id': 2,\n",
       "  'track_name': 'Make It Good to Yourself (1973)',\n",
       "  'url': 'https://www.whosampled.com/James-Brown/Make-It-Good-to-Yourself/'},\n",
       " {'artist_id': 2,\n",
       "  'track_name': 'Lowdown Popcorn (1969)',\n",
       "  'url': 'https://www.whosampled.com/James-Brown/Lowdown-Popcorn/'},\n",
       " {'artist_id': 2,\n",
       "  'track_name': 'Turn on the Heat and Build Some Fire (1975)',\n",
       "  'url': 'https://www.whosampled.com/James-Brown/Turn-on-the-Heat-and-Build-Some-Fire/'},\n",
       " {'artist_id': 2,\n",
       "  'track_name': 'When a Man Loves a Woman (1991)\\nby James Brown feat. Joe Cocker',\n",
       "  'url': 'https://www.whosampled.com/James-Brown/When-a-Man-Loves-a-Woman/'},\n",
       " {'artist_id': 2,\n",
       "  'track_name': 'Your Love (1977)',\n",
       "  'url': 'https://www.whosampled.com/James-Brown/Your-Love/'},\n",
       " {'artist_id': 2,\n",
       "  'track_name': 'Things Got to Get Better (Get Together) (1969)\\nby Marva Whitney\\nProducer credit: James Brown',\n",
       "  'url': 'https://www.whosampled.com/Marva-Whitney/Things-Got-to-Get-Better-(Get-Together)/'},\n",
       " {'artist_id': 2,\n",
       "  'track_name': \"Sportin' Life (1973)\",\n",
       "  'url': 'https://www.whosampled.com/James-Brown/Sportin%27-Life/'},\n",
       " {'artist_id': 2,\n",
       "  'track_name': 'Sex Machine (Live at Studio 54) (1981)',\n",
       "  'url': 'https://www.whosampled.com/James-Brown/Sex-Machine-(Live-at-Studio-54)/'},\n",
       " {'artist_id': 2,\n",
       "  'track_name': 'You Got to Have a Mother for Me (1969)',\n",
       "  'url': 'https://www.whosampled.com/James-Brown/You-Got-to-Have-a-Mother-for-Me/'},\n",
       " {'artist_id': 2,\n",
       "  'track_name': 'Tighten Up Tighter (1968)\\nby Billy Ball and the Upsetters feat. Roosevelt Matthews\\nProducer credit: James Brown',\n",
       "  'url': 'https://www.whosampled.com/Billy-Ball-and-the-Upsetters/Tighten-Up-Tighter/'},\n",
       " {'artist_id': 2,\n",
       "  'track_name': \"Talkin' Loud & Sayin' Nothing (Pt 1 & 2) (1970)\",\n",
       "  'url': 'https://www.whosampled.com/James-Brown/Talkin%27-Loud-%26-Sayin%27-Nothing-(Pt-1-%26-2)/'},\n",
       " {'artist_id': 2,\n",
       "  'track_name': \"That's Life (1969)\",\n",
       "  'url': 'https://www.whosampled.com/James-Brown/That%27s-Life/'},\n",
       " {'artist_id': 2,\n",
       "  'track_name': \"Slaughter's Theme (1973)\",\n",
       "  'url': 'https://www.whosampled.com/James-Brown/Slaughter%27s-Theme/'},\n",
       " {'artist_id': 2,\n",
       "  'track_name': 'Transmograpfication (1973)',\n",
       "  'url': 'https://www.whosampled.com/James-Brown/Transmograpfication/'},\n",
       " {'artist_id': 2,\n",
       "  'track_name': 'Public Enemy No. 1 (1972)',\n",
       "  'url': 'https://www.whosampled.com/James-Brown/Public-Enemy-No.-1/'},\n",
       " {'artist_id': 2,\n",
       "  'track_name': 'Backstabbers (1975)\\nby Lyn Collins feat. James Brown',\n",
       "  'url': 'https://www.whosampled.com/Lyn-Collins/Backstabbers/'},\n",
       " {'artist_id': 2,\n",
       "  'track_name': 'For Goodness Sake, Look at Those Cakes (1978)',\n",
       "  'url': 'https://www.whosampled.com/James-Brown/For-Goodness-Sake,-Look-at-Those-Cakes/'},\n",
       " {'artist_id': 2,\n",
       "  'track_name': \"Doing It to Death (1973)\\nby Fred Wesley and The J.B.'s\\nProducer credit: James Brown\",\n",
       "  'url': 'https://www.whosampled.com/Fred-Wesley/Doing-It-to-Death/'},\n",
       " {'artist_id': 2,\n",
       "  'track_name': \"I'm Broken Hearted (1975)\",\n",
       "  'url': 'https://www.whosampled.com/James-Brown/I%27m-Broken-Hearted/'},\n",
       " {'artist_id': 2,\n",
       "  'track_name': 'Get Up Offa That Thing (Ali Dee Remix) (2005)',\n",
       "  'url': 'https://www.whosampled.com/James-Brown/Get-Up-Offa-That-Thing-(Ali-Dee-Remix)/'},\n",
       " {'artist_id': 2,\n",
       "  'track_name': 'Love Me Tender (1978)',\n",
       "  'url': 'https://www.whosampled.com/James-Brown/Love-Me-Tender/'},\n",
       " {'artist_id': 2,\n",
       "  'track_name': 'James Brown Interview (1987)\\nScene from Sonya Live! In LA (TV Show)',\n",
       "  'url': 'https://www.whosampled.com/tv/Sonya-Live!-In-LA/James-Brown-Interview/'},\n",
       " {'artist_id': 2,\n",
       "  'track_name': 'You Mother You (1971)',\n",
       "  'url': 'https://www.whosampled.com/James-Brown/You-Mother-You/'},\n",
       " {'artist_id': 2,\n",
       "  'track_name': \"I Got the Feelin' (1968)\",\n",
       "  'url': 'https://www.whosampled.com/James-Brown/I-Got-the-Feelin%27/'},\n",
       " {'artist_id': 2,\n",
       "  'track_name': \"Introduction to Say It Loud - I'm Black and I'm Proud (Live) (1998)\",\n",
       "  'url': 'https://www.whosampled.com/James-Brown/Introduction-to-Say-It-Loud-I%27m-Black-and-I%27m-Proud-(Live)/'},\n",
       " {'artist_id': 2,\n",
       "  'track_name': 'There Was a Time (1969)',\n",
       "  'url': 'https://www.whosampled.com/James-Brown/There-Was-a-Time/'},\n",
       " {'artist_id': 2,\n",
       "  'track_name': 'No Static (The 8 Minute Full Force Def Mix) (1988)\\nby James Brown feat. Full Force',\n",
       "  'url': 'https://www.whosampled.com/James-Brown/No-Static-(The-8-Minute-Full-Force-Def-Mix)/'},\n",
       " {'artist_id': 2,\n",
       "  'track_name': \"I Don't Care (1964)\\nby James Brown and The Famous Flames\",\n",
       "  'url': 'https://www.whosampled.com/James-Brown/I-Don%27t-Care/'},\n",
       " {'artist_id': 2,\n",
       "  'track_name': 'I Cried (1971)',\n",
       "  'url': 'https://www.whosampled.com/James-Brown/I-Cried/'},\n",
       " {'artist_id': 2,\n",
       "  'track_name': \"I Need Help (I Can't Do It Alone) (1972)\",\n",
       "  'url': 'https://www.whosampled.com/James-Brown/I-Need-Help-(I-Can%27t-Do-It-Alone)/'},\n",
       " {'artist_id': 2,\n",
       "  'track_name': 'If You Got a Love You Better (Hold on to It) (1971)\\nby Bobby Byrd\\nProducer credit: James Brown',\n",
       "  'url': 'https://www.whosampled.com/Bobby-Byrd/If-You-Got-a-Love-You-Better-(Hold-on-to-It)/'},\n",
       " {'artist_id': 2,\n",
       "  'track_name': 'Sex Machine (Readymade Jazz Defector) (2002)',\n",
       "  'url': 'https://www.whosampled.com/James-Brown/Sex-Machine-(Readymade-Jazz-Defector)/'},\n",
       " {'artist_id': 2,\n",
       "  'track_name': 'Payback (The Final Mixdown) (1988)',\n",
       "  'url': 'https://www.whosampled.com/James-Brown/Payback-(The-Final-Mixdown)/'},\n",
       " {'artist_id': 2,\n",
       "  'track_name': 'Soul Power (Live) (1971)',\n",
       "  'url': 'https://www.whosampled.com/James-Brown/Soul-Power-(Live)/'},\n",
       " {'artist_id': 2,\n",
       "  'track_name': 'Funky Broadway (1967)',\n",
       "  'url': 'https://www.whosampled.com/James-Brown/Funky-Broadway/'},\n",
       " {'artist_id': 2,\n",
       "  'track_name': 'Make It Funky (Live) (1971)',\n",
       "  'url': 'https://www.whosampled.com/James-Brown/Make-It-Funky-(Live)/'},\n",
       " {'artist_id': 2,\n",
       "  'track_name': 'Bodyheat (1976)',\n",
       "  'url': 'https://www.whosampled.com/James-Brown/Bodyheat/'},\n",
       " {'artist_id': 2,\n",
       "  'track_name': 'From the Love Side (1969)\\nby Hank Ballard & the Midnighters\\nProducer credit: James Brown',\n",
       "  'url': 'https://www.whosampled.com/Hank-Ballard-%26-the-Midnighters/From-the-Love-Side/'},\n",
       " {'artist_id': 2,\n",
       "  'track_name': \"Ain't That a Groove (Part 1) (1966)\\nby James Brown and The Famous Flames\",\n",
       "  'url': 'https://www.whosampled.com/James-Brown/Ain%27t-That-a-Groove-(Part-1)/'},\n",
       " {'artist_id': 2,\n",
       "  'track_name': 'Hot Pants (She Got to Use What She Got to Get What She Wants) (1971)',\n",
       "  'url': 'https://www.whosampled.com/James-Brown/Hot-Pants-(She-Got-to-Use-What-She-Got-to-Get-What-She-Wants)/'},\n",
       " {'artist_id': 2,\n",
       "  'track_name': 'Goliath (1986)',\n",
       "  'url': 'https://www.whosampled.com/James-Brown/Goliath/'},\n",
       " {'artist_id': 2,\n",
       "  'track_name': \"I Can't Stand It (1974)\",\n",
       "  'url': 'https://www.whosampled.com/James-Brown/I-Can%27t-Stand-It/'},\n",
       " {'artist_id': 2,\n",
       "  'track_name': 'Mr. Big Stuff (1975)\\nby Lyn Collins\\nProducer credit: James Brown',\n",
       "  'url': 'https://www.whosampled.com/Lyn-Collins/Mr.-Big-Stuff/'},\n",
       " {'artist_id': 2,\n",
       "  'track_name': 'Woman (1976)',\n",
       "  'url': 'https://www.whosampled.com/James-Brown/Woman/'},\n",
       " {'artist_id': 2,\n",
       "  'track_name': 'A Man Has to Go Back to the Cross Road Before He Finds Himself (1974)',\n",
       "  'url': 'https://www.whosampled.com/James-Brown/A-Man-Has-to-Go-Back-to-the-Cross-Road-Before-He-Finds-Himself/'},\n",
       " {'artist_id': 2,\n",
       "  'track_name': 'Super Good (1970)\\nby Vicki Anderson\\nProducer credit: James Brown',\n",
       "  'url': 'https://www.whosampled.com/Vicki-Anderson/Super-Good/'},\n",
       " {'artist_id': 2,\n",
       "  'track_name': 'Never Gonna Give You Up (1972)\\nby Lyn Collins\\nProducer credit: James Brown',\n",
       "  'url': 'https://www.whosampled.com/Lyn-Collins/Never-Gonna-Give-You-Up/'},\n",
       " {'artist_id': 2,\n",
       "  'track_name': 'I Know You Got Soul (1988) (1988)\\nby Bobby Byrd\\nProducer credit: James Brown',\n",
       "  'url': 'https://www.whosampled.com/Bobby-Byrd/I-Know-You-Got-Soul-(1988)/'},\n",
       " {'artist_id': 2,\n",
       "  'track_name': 'Give It Up or Turnit a Loose (Instrumental Version) (1970)',\n",
       "  'url': 'https://www.whosampled.com/James-Brown/Give-It-Up-or-Turnit-a-Loose-(Instrumental-Version)/'},\n",
       " {'artist_id': 2,\n",
       "  'track_name': \"The Payback Mix (Keep on Doing What You're Doing but Make It Funky) (1988)\",\n",
       "  'url': 'https://www.whosampled.com/James-Brown/The-Payback-Mix-(Keep-on-Doing-What-You%27re-Doing-but-Make-It-Funky)/'},\n",
       " {'artist_id': 2,\n",
       "  'track_name': 'Problems (1975)',\n",
       "  'url': 'https://www.whosampled.com/James-Brown/Problems/'},\n",
       " {'artist_id': 2,\n",
       "  'track_name': 'Any Day Now (1969)',\n",
       "  'url': 'https://www.whosampled.com/James-Brown/Any-Day-Now/'},\n",
       " {'artist_id': 2,\n",
       "  'track_name': 'Sometime (1974)',\n",
       "  'url': 'https://www.whosampled.com/James-Brown/Sometime/'},\n",
       " {'artist_id': 2,\n",
       "  'track_name': 'Living in America (1985)',\n",
       "  'url': 'https://www.whosampled.com/James-Brown/Living-in-America/'},\n",
       " {'artist_id': 2,\n",
       "  'track_name': 'Unity Skit 3 (1984)\\nby Afrika Bambaataa and James Brown',\n",
       "  'url': 'https://www.whosampled.com/Afrika-Bambaataa/Unity-Skit-3/'},\n",
       " {'artist_id': 2,\n",
       "  'track_name': 'Try Me (1959)',\n",
       "  'url': 'https://www.whosampled.com/James-Brown/Try-Me/'},\n",
       " {'artist_id': 2,\n",
       "  'track_name': 'I Feel Alright (1968)',\n",
       "  'url': 'https://www.whosampled.com/James-Brown/I-Feel-Alright/'},\n",
       " {'artist_id': 2,\n",
       "  'track_name': 'In the Middle (1969)\\nby Marva Whitney\\nProducer credit: James Brown',\n",
       "  'url': 'https://www.whosampled.com/Marva-Whitney/In-the-Middle/'},\n",
       " {'artist_id': 2,\n",
       "  'track_name': 'Why Am I Treated So Bad (1969)',\n",
       "  'url': 'https://www.whosampled.com/James-Brown/Why-Am-I-Treated-So-Bad/'},\n",
       " {'artist_id': 2,\n",
       "  'track_name': \"Brother Rapp/Ain't It Funky Now (Live) (1991)\",\n",
       "  'url': 'https://www.whosampled.com/James-Brown/Brother-RappAin%27t-It-Funky-Now-(Live)/'},\n",
       " {'artist_id': 2,\n",
       "  'track_name': 'The Bells (1961)',\n",
       "  'url': 'https://www.whosampled.com/James-Brown/The-Bells/'},\n",
       " {'artist_id': 2,\n",
       "  'track_name': 'Kiss in 77 (1976)',\n",
       "  'url': 'https://www.whosampled.com/James-Brown/Kiss-in-77/'},\n",
       " {'artist_id': 2,\n",
       "  'track_name': 'Hot Pants (She Got to Use What She Got to Get What She Wants) (Live) (1971)',\n",
       "  'url': 'https://www.whosampled.com/James-Brown/Hot-Pants-(She-Got-to-Use-What-She-Got-to-Get-What-She-Wants)-(Live)/'},\n",
       " {'artist_id': 2,\n",
       "  'track_name': 'Get Up, Get Into It, Get Involved (Live) (1971)',\n",
       "  'url': 'https://www.whosampled.com/James-Brown/Get-Up,-Get-Into-It,-Get-Involved-(Live)/'},\n",
       " {'artist_id': 2,\n",
       "  'track_name': 'Reach Out for Me (1972)\\nby Lyn Collins\\nProducer credit: James Brown',\n",
       "  'url': 'https://www.whosampled.com/Lyn-Collins/Reach-Out-for-Me/'},\n",
       " {'artist_id': 2,\n",
       "  'track_name': \"These Are the JB's (1972)\\nby The J.B.'s\\nProducer credit: James Brown\",\n",
       "  'url': 'https://www.whosampled.com/The-J.B.%27s/These-Are-the-JB%27s/'},\n",
       " {'artist_id': 2,\n",
       "  'track_name': \"Turn Me Loose, I'm Dr. Feelgood (1986)\",\n",
       "  'url': 'https://www.whosampled.com/James-Brown/Turn-Me-Loose,-I%27m-Dr.-Feelgood/'},\n",
       " {'artist_id': 2,\n",
       "  'track_name': 'Who Can I Turn To (1974)',\n",
       "  'url': 'https://www.whosampled.com/James-Brown/Who-Can-I-Turn-To/'},\n",
       " {'artist_id': 2,\n",
       "  'track_name': 'Summertime (1977)\\nby James Brown and Martha High',\n",
       "  'url': 'https://www.whosampled.com/James-Brown/Summertime/'},\n",
       " {'artist_id': 2,\n",
       "  'track_name': 'Honky Tonk Popcorn (1969)\\nby Bill Doggett\\nProducer credit: James Brown',\n",
       "  'url': 'https://www.whosampled.com/Bill-Doggett/Honky-Tonk-Popcorn/'},\n",
       " {'artist_id': 2,\n",
       "  'track_name': 'Cold Sweat (Live) (1998)',\n",
       "  'url': 'https://www.whosampled.com/James-Brown/Cold-Sweat-(Live)/'},\n",
       " {'artist_id': 2,\n",
       "  'track_name': \"Keep on Doin' What You're Doin' (1972)\\nby Bobby Byrd\\nProducer credit: James Brown\",\n",
       "  'url': 'https://www.whosampled.com/Bobby-Byrd/Keep-on-Doin%27-What-You%27re-Doin%27/'},\n",
       " {'artist_id': 2,\n",
       "  'track_name': 'Out of Sight (1964)',\n",
       "  'url': 'https://www.whosampled.com/James-Brown/Out-of-Sight/'},\n",
       " {'artist_id': 2,\n",
       "  'track_name': '40th Anniversary Mix (1997)\\nby James Brown feat. Funkmaster Flex and Fred \"Bugsy\" Buggs',\n",
       "  'url': 'https://www.whosampled.com/James-Brown/40th-Anniversary-Mix/'},\n",
       " {'artist_id': 2,\n",
       "  'track_name': 'Bewildered (1961)\\nby James Brown and The Famous Flames',\n",
       "  'url': 'https://www.whosampled.com/James-Brown/Bewildered/'},\n",
       " {'artist_id': 2,\n",
       "  'track_name': \"Don't Fence Me In (1974)\",\n",
       "  'url': 'https://www.whosampled.com/James-Brown/Don%27t-Fence-Me-In/'},\n",
       " {'artist_id': 2,\n",
       "  'track_name': \"It's a Man's, Man's, Man's World (Live) (1983)\\nby James Brown and Michael Jackson\",\n",
       "  'url': 'https://www.whosampled.com/James-Brown/It%27s-a-Man%27s,-Man%27s,-Man%27s-World-(Live)/'},\n",
       " {'artist_id': 2,\n",
       "  'track_name': 'Nature Boy (1967)\\nby James Brown and The Famous Flames',\n",
       "  'url': 'https://www.whosampled.com/James-Brown/Nature-Boy/'},\n",
       " {'artist_id': 2,\n",
       "  'track_name': 'Steal Away (1970)\\nby Leon Austin\\nProducer credit: James Brown',\n",
       "  'url': 'https://www.whosampled.com/Leon-Austin/Steal-Away/'},\n",
       " {'artist_id': 2,\n",
       "  'track_name': 'Shoot Your Shot (1973)',\n",
       "  'url': 'https://www.whosampled.com/James-Brown/Shoot-Your-Shot/'},\n",
       " {'artist_id': 2,\n",
       "  'track_name': \"Papa's Got a Brand New Bag (1975 Version) (1975)\",\n",
       "  'url': 'https://www.whosampled.com/James-Brown/Papa%27s-Got-a-Brand-New-Bag-(1975-Version)/'},\n",
       " {'artist_id': 2,\n",
       "  'track_name': 'How Long Can I Keep It Up (1975)\\nby Lyn Collins\\nProducer credit: James Brown',\n",
       "  'url': 'https://www.whosampled.com/Lyn-Collins/How-Long-Can-I-Keep-It-Up/'},\n",
       " {'artist_id': 2,\n",
       "  'track_name': \"You Sure Love to Ball (1974)\\nby Fred Wesley and The J.B.'s\\nProducer credit: James Brown\",\n",
       "  'url': 'https://www.whosampled.com/Fred-Wesley/You-Sure-Love-to-Ball/'},\n",
       " {'artist_id': 2,\n",
       "  'track_name': 'Give It Up or Turnit a Loose (1974)\\nby Lyn Collins\\nProducer credit: James Brown',\n",
       "  'url': 'https://www.whosampled.com/Lyn-Collins/Give-It-Up-or-Turnit-a-Loose/'},\n",
       " {'artist_id': 2,\n",
       "  'track_name': \"Funky Music Is My Style (1974)\\nby Fred & the New J.B.'s\\nProducer credit: James Brown\",\n",
       "  'url': 'https://www.whosampled.com/Fred-%26-the-New-J.B.%27s/Funky-Music-Is-My-Style/'},\n",
       " {'artist_id': 2,\n",
       "  'track_name': 'The Chase (1977)',\n",
       "  'url': 'https://www.whosampled.com/James-Brown/The-Chase/'},\n",
       " {'artist_id': 2,\n",
       "  'track_name': \"I Guess I'll Have to Cry, Cry, Cry (1968)\\nby James Brown and The Famous Flames\",\n",
       "  'url': 'https://www.whosampled.com/James-Brown/I-Guess-I%27ll-Have-to-Cry,-Cry,-Cry/'},\n",
       " {'artist_id': 2,\n",
       "  'track_name': \"I Can't Stand Myself (When You Touch Me) (1968)\",\n",
       "  'url': 'https://www.whosampled.com/James-Brown/I-Can%27t-Stand-Myself-(When-You-Touch-Me)/'},\n",
       " {'artist_id': 2,\n",
       "  'track_name': 'Sunny (Funk Master J.B vs. Funk Master J.S Hardboiled Remix) (2002)',\n",
       "  'url': 'https://www.whosampled.com/James-Brown/Sunny-(Funk-Master-J.B-vs.-Funk-Master-J.S-Hardboiled-Remix)/'},\n",
       " {'artist_id': 2,\n",
       "  'track_name': \"I'm Satisfied (1976)\",\n",
       "  'url': 'https://www.whosampled.com/James-Brown/I%27m-Satisfied/'},\n",
       " {'artist_id': 2,\n",
       "  'track_name': 'Get on the Good Foot (Mr. Drunk Remix) (2002)',\n",
       "  'url': 'https://www.whosampled.com/James-Brown/Get-on-the-Good-Foot-(Mr.-Drunk-Remix)/'},\n",
       " {'artist_id': 2,\n",
       "  'track_name': 'Tell Me That You Love Me (1967)',\n",
       "  'url': 'https://www.whosampled.com/James-Brown/Tell-Me-That-You-Love-Me/'},\n",
       " {'artist_id': 2,\n",
       "  'track_name': \"I've Got to Change (1959)\\nby James Brown and The Famous Flames\",\n",
       "  'url': 'https://www.whosampled.com/James-Brown/I%27ve-Got-to-Change/'},\n",
       " {'artist_id': 2,\n",
       "  'track_name': \"Breakin' Bread (1974)\\nby Fred & the New J.B.'s\\nProducer credit: James Brown\",\n",
       "  'url': 'https://www.whosampled.com/Fred-%26-the-New-J.B.%27s/Breakin%27-Bread/'},\n",
       " {'artist_id': 2,\n",
       "  'track_name': 'What Do I Have to Do to Prove My Love to You (1968)\\nby Marva Whitney\\nProducer credit: James Brown',\n",
       "  'url': 'https://www.whosampled.com/Marva-Whitney/What-Do-I-Have-to-Do-to-Prove-My-Love-to-You/'},\n",
       " {'artist_id': 2,\n",
       "  'track_name': 'Let Yourself Go (1967)\\nby James Brown and The Famous Flames',\n",
       "  'url': 'https://www.whosampled.com/James-Brown/Let-Yourself-Go/'},\n",
       " {'artist_id': 2,\n",
       "  'track_name': \"You're Still Out of Sight (1969)\",\n",
       "  'url': 'https://www.whosampled.com/James-Brown/You%27re-Still-Out-of-Sight/'},\n",
       " {'artist_id': 2,\n",
       "  'track_name': 'How You Gonna Get Respect (Part 1) (1968)\\nby Hank Ballard\\nProducer credit: James Brown',\n",
       "  'url': 'https://www.whosampled.com/Hank-Ballard/How-You-Gonna-Get-Respect-(Part-1)/'},\n",
       " {'artist_id': 2,\n",
       "  'track_name': \"I Need Help (I Can't Do It Alone) (1970)\\nby Bobby Byrd\\nProducer credit: James Brown\",\n",
       "  'url': 'https://www.whosampled.com/Bobby-Byrd/I-Need-Help-(I-Can%27t-Do-It-Alone)/'},\n",
       " {'artist_id': 2,\n",
       "  'track_name': 'Sex Machine Part I and Part II (1975)',\n",
       "  'url': 'https://www.whosampled.com/James-Brown/Sex-Machine-Part-I-and-Part-II/'},\n",
       " {'artist_id': 2,\n",
       "  'track_name': 'Get It Together (Part 1) (1967)\\nby James Brown and The Famous Flames',\n",
       "  'url': 'https://www.whosampled.com/James-Brown/Get-It-Together-(Part-1)/'},\n",
       " {'artist_id': 2,\n",
       "  'track_name': \"Can't Get Any Harder (1992)\",\n",
       "  'url': 'https://www.whosampled.com/James-Brown/Can%27t-Get-Any-Harder/'},\n",
       " {'artist_id': 2,\n",
       "  'track_name': 'Brother Rapp (1971)',\n",
       "  'url': 'https://www.whosampled.com/James-Brown/Brother-Rapp/'},\n",
       " {'artist_id': 2,\n",
       "  'track_name': 'Time Is Running Out Fast (1973)',\n",
       "  'url': 'https://www.whosampled.com/James-Brown/Time-Is-Running-Out-Fast/'},\n",
       " {'artist_id': 2,\n",
       "  'track_name': 'Drowning in the Sea of Love (1974)\\nby Maceo Parker\\nProducer credit: James Brown',\n",
       "  'url': 'https://www.whosampled.com/Maceo-Parker/Drowning-in-the-Sea-of-Love/'},\n",
       " {'artist_id': 2,\n",
       "  'track_name': \"I'm Real (1988)\\nby James Brown and Full Force\",\n",
       "  'url': 'https://www.whosampled.com/James-Brown/I%27m-Real/'},\n",
       " {'artist_id': 2,\n",
       "  'track_name': 'Get Up Offa That Thing (Splats & Star Mix) (2008)',\n",
       "  'url': 'https://www.whosampled.com/James-Brown/Get-Up-Offa-That-Thing-(Splats-%26-Star-Mix)/'},\n",
       " {'artist_id': 2,\n",
       "  'track_name': '25 Miles (1969)\\nby Bill Doggett\\nProducer credit: James Brown',\n",
       "  'url': 'https://www.whosampled.com/Bill-Doggett/25-Miles/'},\n",
       " {'artist_id': 2,\n",
       "  'track_name': 'If I Ruled the World (1968)\\nby James Brown and The Famous Flames',\n",
       "  'url': 'https://www.whosampled.com/James-Brown/If-I-Ruled-the-World/'},\n",
       " {'artist_id': 2,\n",
       "  'track_name': \"It's Too Funky in Here (1979)\",\n",
       "  'url': 'https://www.whosampled.com/James-Brown/It%27s-Too-Funky-in-Here/'},\n",
       " {'artist_id': 2,\n",
       "  'track_name': 'You Can Have Watergate Just Gimme Some Bucks and I\\'ll Be Straight (7\" Version) (1973)\\nby Fred Wesley and The J.B.\\'s\\nProducer credit: James Brown',\n",
       "  'url': 'https://www.whosampled.com/Fred-Wesley/You-Can-Have-Watergate-Just-Gimme-Some-Bucks-and-I%27ll-Be-Straight-(7-Version)/'},\n",
       " {'artist_id': 2,\n",
       "  'track_name': 'Jimmy Go Boom (2006)',\n",
       "  'url': 'https://www.whosampled.com/James-Brown/Jimmy-Go-Boom/'},\n",
       " {'artist_id': 2,\n",
       "  'track_name': 'The Night Time Is the Right Time (1983)',\n",
       "  'url': 'https://www.whosampled.com/James-Brown/The-Night-Time-Is-the-Right-Time/'},\n",
       " {'artist_id': 2,\n",
       "  'track_name': 'Soul Power (Jungle Funk Mix) (2002)',\n",
       "  'url': 'https://www.whosampled.com/James-Brown/Soul-Power-(Jungle-Funk-Mix)/'},\n",
       " {'artist_id': 2,\n",
       "  'track_name': \"This Girl's in Love With You (1970)\\nby Marva Whitney\\nProducer credit: James Brown\",\n",
       "  'url': 'https://www.whosampled.com/Marva-Whitney/This-Girl%27s-in-Love-With-You/'},\n",
       " {'artist_id': 2,\n",
       "  'track_name': \"Rice 'N' Ribs (1974)\\nby Fred & the New J.B.'s\\nProducer credit: James Brown\",\n",
       "  'url': 'https://www.whosampled.com/Fred-%26-the-New-J.B.%27s/Rice-%27N%27-Ribs/'},\n",
       " {'artist_id': 2,\n",
       "  'track_name': 'You Got to Have a Job (1969)\\nby Marva Whitney and James Brown',\n",
       "  'url': 'https://www.whosampled.com/Marva-Whitney/You-Got-to-Have-a-Job/'},\n",
       " {'artist_id': 2,\n",
       "  'track_name': 'The Soul of J.B. (1968)\\nby James Brown and The Famous Flames',\n",
       "  'url': 'https://www.whosampled.com/James-Brown/The-Soul-of-J.B./'},\n",
       " {'artist_id': 2,\n",
       "  'track_name': 'Call Me Super Bad (Cornelius Re-Work) (2002)',\n",
       "  'url': 'https://www.whosampled.com/James-Brown/Call-Me-Super-Bad-(Cornelius-Re-Work)/'},\n",
       " {'artist_id': 2,\n",
       "  'track_name': \"She's the One (1988)\",\n",
       "  'url': 'https://www.whosampled.com/James-Brown/She%27s-the-One/'},\n",
       " {'artist_id': 2,\n",
       "  'track_name': 'The Crickets Sing (1969)\\nby Dee Felice Trio\\nProducer credit: James Brown',\n",
       "  'url': 'https://www.whosampled.com/Dee-Felice-Trio/The-Crickets-Sing/'},\n",
       " {'artist_id': 2,\n",
       "  'track_name': \"Money Won't Change You (1966)\\nby James Brown and The Famous Flames\",\n",
       "  'url': 'https://www.whosampled.com/James-Brown/Money-Won%27t-Change-You/'},\n",
       " {'artist_id': 2,\n",
       "  'track_name': 'Song for My Father (1965)',\n",
       "  'url': 'https://www.whosampled.com/James-Brown/Song-for-My-Father/'},\n",
       " {'artist_id': 2,\n",
       "  'track_name': 'Lost Someone - Live at the Apollo Theater/1962 (1963)',\n",
       "  'url': 'https://www.whosampled.com/James-Brown/Lost-Someone-Live-at-the-Apollo-Theater1962/'},\n",
       " {'artist_id': 2,\n",
       "  'track_name': \"You're Welcome, Stop on By (1975)\\nby Momie-O\\nProducer credit: James Brown\",\n",
       "  'url': 'https://www.whosampled.com/Momie-O/You%27re-Welcome,-Stop-on-By/'},\n",
       " {'artist_id': 2,\n",
       "  'track_name': 'Think (1960)',\n",
       "  'url': 'https://www.whosampled.com/James-Brown/Think/'},\n",
       " {'artist_id': 2,\n",
       "  'track_name': 'Georgia on My Mind (1970)',\n",
       "  'url': 'https://www.whosampled.com/James-Brown/Georgia-on-My-Mind/'},\n",
       " {'artist_id': 2,\n",
       "  'track_name': \"I'm Paying Taxes (What Am I Buyin')? (1974)\\nby Fred Wesley\\nProducer credit: James Brown\",\n",
       "  'url': 'https://www.whosampled.com/Fred-Wesley/I%27m-Paying-Taxes-(What-Am-I-Buyin%27)%3F/'},\n",
       " {'artist_id': 2,\n",
       "  'track_name': \"You're My Only Love (1981)\",\n",
       "  'url': 'https://www.whosampled.com/James-Brown/You%27re-My-Only-Love/'},\n",
       " {'artist_id': 2,\n",
       "  'track_name': 'The Drunk (1970)',\n",
       "  'url': 'https://www.whosampled.com/James-Brown/The-Drunk/'},\n",
       " {'artist_id': 2,\n",
       "  'track_name': \"Back Stabbers (1972)\\nby Fred Wesley and The J.B.'s\\nProducer credit: James Brown\",\n",
       "  'url': 'https://www.whosampled.com/Fred-Wesley/Back-Stabbers/'},\n",
       " {'artist_id': 2,\n",
       "  'track_name': 'World (Part 1 & 2) (1969)',\n",
       "  'url': 'https://www.whosampled.com/James-Brown/World-(Part-1-%26-2)/'},\n",
       " {'artist_id': 2,\n",
       "  'track_name': 'Hustle!!! (Dead on It) (1975)',\n",
       "  'url': 'https://www.whosampled.com/James-Brown/Hustle!!!-(Dead-on-It)/'},\n",
       " {'artist_id': 2,\n",
       "  'track_name': \"I Got a Good Thing (And I Ain't Gonna Let It Go) (1973)\",\n",
       "  'url': 'https://www.whosampled.com/James-Brown/I-Got-a-Good-Thing-(And-I-Ain%27t-Gonna-Let-It-Go)/'},\n",
       " {'artist_id': 2,\n",
       "  'track_name': 'Prisoner of Love (1963)\\nby James Brown and The Famous Flames',\n",
       "  'url': 'https://www.whosampled.com/James-Brown/Prisoner-of-Love/'},\n",
       " {'artist_id': 2,\n",
       "  'track_name': 'Give It Up or Turnit a Loose (Fantasista Re-Formation) (2002)',\n",
       "  'url': 'https://www.whosampled.com/James-Brown/Give-It-Up-or-Turnit-a-Loose-(Fantasista-Re-Formation)/'},\n",
       " {'artist_id': 2,\n",
       "  'track_name': \"Use Me (1972)\\nby The J.B.'s\\nProducer credit: James Brown\",\n",
       "  'url': 'https://www.whosampled.com/The-J.B.%27s/Use-Me/'},\n",
       " {'artist_id': 2,\n",
       "  'track_name': 'There It Is (Live) (1988)',\n",
       "  'url': 'https://www.whosampled.com/James-Brown/There-It-Is-(Live)/'},\n",
       " {'artist_id': 2,\n",
       "  'track_name': \"I Don't Mind (1961)\",\n",
       "  'url': 'https://www.whosampled.com/James-Brown/I-Don%27t-Mind/'},\n",
       " {'artist_id': 2,\n",
       "  'track_name': 'I Never Loved a Man the Way I Love You (1967)',\n",
       "  'url': 'https://www.whosampled.com/James-Brown/I-Never-Loved-a-Man-the-Way-I-Love-You/'},\n",
       " {'artist_id': 2,\n",
       "  'track_name': 'Make It Funky 2000 (2002)',\n",
       "  'url': 'https://www.whosampled.com/James-Brown/Make-It-Funky-2000/'},\n",
       " {'artist_id': 2,\n",
       "  'track_name': 'Mashed Potato Popcorn (1969)',\n",
       "  'url': 'https://www.whosampled.com/James-Brown/Mashed-Potato-Popcorn/'},\n",
       " {'artist_id': 2,\n",
       "  'track_name': 'Spinning Wheel (1970)',\n",
       "  'url': 'https://www.whosampled.com/James-Brown/Spinning-Wheel/'},\n",
       " {'artist_id': 2,\n",
       "  'track_name': 'Escape-Ism (Live) (1971)',\n",
       "  'url': 'https://www.whosampled.com/James-Brown/Escape-Ism-(Live)/'},\n",
       " {'artist_id': 2,\n",
       "  'track_name': 'There Was a Time (Kenny Dope Remix) (2008)',\n",
       "  'url': 'https://www.whosampled.com/James-Brown/There-Was-a-Time-(Kenny-Dope-Remix)/'},\n",
       " {'artist_id': 2,\n",
       "  'track_name': 'Summer in the City (1969)\\nby Dee Felice Trio\\nProducer credit: James Brown',\n",
       "  'url': 'https://www.whosampled.com/Dee-Felice-Trio/Summer-in-the-City/'},\n",
       " {'artist_id': 2,\n",
       "  'track_name': 'Vonshelia (1966)',\n",
       "  'url': 'https://www.whosampled.com/James-Brown/Vonshelia/'},\n",
       " {'artist_id': 2,\n",
       "  'track_name': 'Give the Woman a Chance (1974)\\nby Sweet Charles\\nProducer credit: James Brown',\n",
       "  'url': 'https://www.whosampled.com/Sweet-Charles/Give-the-Woman-a-Chance/'},\n",
       " {'artist_id': 2,\n",
       "  'track_name': 'How Do You Stop (1986)',\n",
       "  'url': 'https://www.whosampled.com/James-Brown/How-Do-You-Stop/'},\n",
       " {'artist_id': 2,\n",
       "  'track_name': \"Can't Git Enuf (1988)\",\n",
       "  'url': 'https://www.whosampled.com/James-Brown/Can%27t-Git-Enuf/'},\n",
       " {'artist_id': 2,\n",
       "  'track_name': 'Dead on It (1975)',\n",
       "  'url': 'https://www.whosampled.com/James-Brown/Dead-on-It/'},\n",
       " {'artist_id': 2,\n",
       "  'track_name': 'Superbad, Superslick Part I (1975)',\n",
       "  'url': 'https://www.whosampled.com/James-Brown/Superbad,-Superslick-Part-I/'},\n",
       " {'artist_id': 2,\n",
       "  'track_name': \"It's Magic (1970)\",\n",
       "  'url': 'https://www.whosampled.com/James-Brown/It%27s-Magic/'},\n",
       " {'artist_id': 2,\n",
       "  'track_name': 'Lost Someone (1961)',\n",
       "  'url': 'https://www.whosampled.com/James-Brown/Lost-Someone/'},\n",
       " {'artist_id': 2,\n",
       "  'track_name': \"Sayin' It and Doin' It (1974)\",\n",
       "  'url': 'https://www.whosampled.com/James-Brown/Sayin%27-It-and-Doin%27-It/'},\n",
       " {'artist_id': 2,\n",
       "  'track_name': \"J.B. Shout (1972)\\nby Fred Wesley and The J.B.'s\\nProducer credit: James Brown\",\n",
       "  'url': 'https://www.whosampled.com/Fred-Wesley/J.B.-Shout/'},\n",
       " {'artist_id': 2,\n",
       "  'track_name': 'Dedicated to the One I Love (1974)\\nby \"Sweet\" Charles Sherrell\\nProducer credit: James Brown',\n",
       "  'url': 'https://www.whosampled.com/%22Sweet%22-Charles-Sherrell/Dedicated-to-the-One-I-Love/'},\n",
       " {'artist_id': 2,\n",
       "  'track_name': 'Christmas Is Coming (1968)',\n",
       "  'url': 'https://www.whosampled.com/James-Brown/Christmas-Is-Coming/'},\n",
       " {'artist_id': 2,\n",
       "  'track_name': \"More Peas (1973)\\nby The J.B.'s\\nProducer credit: James Brown\",\n",
       "  'url': 'https://www.whosampled.com/The-J.B.%27s/More-Peas/'},\n",
       " {'artist_id': 2,\n",
       "  'track_name': 'Deep in It (1975)',\n",
       "  'url': 'https://www.whosampled.com/James-Brown/Deep-in-It/'},\n",
       " {'artist_id': 2,\n",
       "  'track_name': 'Deep in It (Lost and Found, at Last Mix) (2002)',\n",
       "  'url': 'https://www.whosampled.com/James-Brown/Deep-in-It-(Lost-and-Found,-at-Last-Mix)/'},\n",
       " {'artist_id': 2,\n",
       "  'track_name': \"Love Don't Love Nobody (1961)\\nby James Brown and The Famous Flames\",\n",
       "  'url': 'https://www.whosampled.com/James-Brown/Love-Don%27t-Love-Nobody/'},\n",
       " {'artist_id': 2,\n",
       "  'track_name': 'Unity Part 6 (World III) (1984)\\nby Afrika Bambaataa and James Brown',\n",
       "  'url': 'https://www.whosampled.com/Afrika-Bambaataa/Unity-Part-6-(World-III)/'},\n",
       " {'artist_id': 2,\n",
       "  'track_name': 'September Song (1970)',\n",
       "  'url': 'https://www.whosampled.com/James-Brown/September-Song/'},\n",
       " {'artist_id': 2,\n",
       "  'track_name': 'There (1964)',\n",
       "  'url': 'https://www.whosampled.com/James-Brown/There/'},\n",
       " {'artist_id': 2,\n",
       "  'track_name': 'Think (1967)\\nby Vicki Anderson and James Brown',\n",
       "  'url': 'https://www.whosampled.com/Vicki-Anderson/Think/'},\n",
       " {'artist_id': 2,\n",
       "  'track_name': 'Rapp Payback (Where Iz Moses) (1980)',\n",
       "  'url': 'https://www.whosampled.com/James-Brown/Rapp-Payback-(Where-Iz-Moses)/'},\n",
       " {'artist_id': 2,\n",
       "  'track_name': 'Living in America (R & B Dance Version) (1985)',\n",
       "  'url': 'https://www.whosampled.com/James-Brown/Living-in-America-(R-%26-B-Dance-Version)/'},\n",
       " {'artist_id': 2,\n",
       "  'track_name': \"You Can't Keep a Good Man Down (1983)\",\n",
       "  'url': 'https://www.whosampled.com/James-Brown/You-Can%27t-Keep-a-Good-Man-Down/'},\n",
       " {'artist_id': 2,\n",
       "  'track_name': 'Eyesight (1978)',\n",
       "  'url': 'https://www.whosampled.com/James-Brown/Eyesight/'},\n",
       " {'artist_id': 2,\n",
       "  'track_name': \"Don't Make Me Over (1974)\\nby Lyn Collins\\nProducer credit: James Brown\",\n",
       "  'url': 'https://www.whosampled.com/Lyn-Collins/Don%27t-Make-Me-Over/'},\n",
       " {'artist_id': 2,\n",
       "  'track_name': 'I Feel Good (1975)',\n",
       "  'url': 'https://www.whosampled.com/James-Brown/I-Feel-Good/'},\n",
       " {'artist_id': 2,\n",
       "  'track_name': 'Strangers in the Night (1968)',\n",
       "  'url': 'https://www.whosampled.com/James-Brown/Strangers-in-the-Night/'},\n",
       " {'artist_id': 2,\n",
       "  'track_name': \"I'll Go Crazy (1960)\\nby James Brown and The Flamous Flames\",\n",
       "  'url': 'https://www.whosampled.com/James-Brown/I%27ll-Go-Crazy/'},\n",
       " {'artist_id': 2,\n",
       "  'track_name': 'All the Way (1968)',\n",
       "  'url': 'https://www.whosampled.com/James-Brown/All-the-Way/'},\n",
       " {'artist_id': 2,\n",
       "  'track_name': 'Sleigh Ride (1999)',\n",
       "  'url': 'https://www.whosampled.com/James-Brown/Sleigh-Ride/'},\n",
       " {'artist_id': 2,\n",
       "  'track_name': \"I Made a Mistake (Because It's Only You) (Part 1) (1969)\\nby Marva Whitney\\nProducer credit: James Brown\",\n",
       "  'url': 'https://www.whosampled.com/Marva-Whitney/I-Made-a-Mistake-(Because-It%27s-Only-You)-(Part-1)/'},\n",
       " {'artist_id': 2,\n",
       "  'track_name': 'Funk on Ah Roll (1998)',\n",
       "  'url': 'https://www.whosampled.com/James-Brown/Funk-on-Ah-Roll/'},\n",
       " {'artist_id': 2,\n",
       "  'track_name': 'Funk on Ah Roll (Bump & Flex Mix) (1999)',\n",
       "  'url': 'https://www.whosampled.com/James-Brown/Funk-on-Ah-Roll-(Bump-%26-Flex-Mix)/'},\n",
       " {'artist_id': 2,\n",
       "  'track_name': \"Don't Be a Drop Out (1967)\",\n",
       "  'url': 'https://www.whosampled.com/James-Brown/Don%27t-Be-a-Drop-Out/'},\n",
       " {'artist_id': 2,\n",
       "  'track_name': 'Need Your Love So Bad (1968)',\n",
       "  'url': 'https://www.whosampled.com/James-Brown/Need-Your-Love-So-Bad/'},\n",
       " {'artist_id': 2,\n",
       "  'track_name': 'Hip Hug-Her (1974)\\nby The Devils\\nProducer credit: James Brown',\n",
       "  'url': 'https://www.whosampled.com/The-Devils/Hip-Hug-Her/'},\n",
       " {'artist_id': 2,\n",
       "  'track_name': \"Papa's Got a Brand New Bag (2006)\\nby Pat Boone and James Brown\",\n",
       "  'url': 'https://www.whosampled.com/Pat-Boone/Papa%27s-Got-a-Brand-New-Bag/'},\n",
       " {'artist_id': 2,\n",
       "  'track_name': \"Let's Go Get Stoned (1966)\",\n",
       "  'url': 'https://www.whosampled.com/James-Brown/Let%27s-Go-Get-Stoned/'},\n",
       " {'artist_id': 2,\n",
       "  'track_name': 'The Man in the Glass (Part 1) (1970)',\n",
       "  'url': 'https://www.whosampled.com/James-Brown/The-Man-in-the-Glass-(Part-1)/'},\n",
       " {'artist_id': 2,\n",
       "  'track_name': 'Mother Popcorn (Live) (1970)',\n",
       "  'url': 'https://www.whosampled.com/James-Brown/Mother-Popcorn-(Live)/'},\n",
       " {'artist_id': 2,\n",
       "  'track_name': 'There Was a Time (Panic Bomber Remix) (2014)',\n",
       "  'url': 'https://www.whosampled.com/James-Brown/There-Was-a-Time-(Panic-Bomber-Remix)/'},\n",
       " {'artist_id': 2,\n",
       "  'track_name': \"Good Good Lovin' (1959)\\nby James Brown and The Famous Flames\",\n",
       "  'url': 'https://www.whosampled.com/James-Brown/Good-Good-Lovin%27/'},\n",
       " {'artist_id': 2,\n",
       "  'track_name': \"Its a Man's Man's Man's World (1966)\",\n",
       "  'url': 'https://www.whosampled.com/James-Brown/Its-a-Man%27s-Man%27s-Man%27s-World/'},\n",
       " {'artist_id': 2,\n",
       "  'track_name': \"Let's Make Christmas Mean Something This Year (Parts 1 & 2) (1995)\",\n",
       "  'url': 'https://www.whosampled.com/James-Brown/Let%27s-Make-Christmas-Mean-Something-This-Year-(Parts-1-%26-2)/'},\n",
       " {'artist_id': 2,\n",
       "  'track_name': 'I Like It Like That (1974)\\nby \"Sweet\" Charles Sherrell\\nProducer credit: James Brown',\n",
       "  'url': 'https://www.whosampled.com/%22Sweet%22-Charles-Sherrell/I-Like-It-Like-That/'},\n",
       " {'artist_id': 2,\n",
       "  'track_name': 'Time After Time (1969)',\n",
       "  'url': 'https://www.whosampled.com/James-Brown/Time-After-Time/'},\n",
       " {'artist_id': 2,\n",
       "  'track_name': 'Every Beat of My Heart (1963)',\n",
       "  'url': 'https://www.whosampled.com/James-Brown/Every-Beat-of-My-Heart/'},\n",
       " {'artist_id': 2,\n",
       "  'track_name': 'Honky Tonk (1969)\\nby Bill Doggett\\nProducer credit: James Brown',\n",
       "  'url': 'https://www.whosampled.com/Bill-Doggett/Honky-Tonk/'},\n",
       " {'artist_id': 2,\n",
       "  'track_name': 'Santa Claus Go Straight to the Ghetto (1968)',\n",
       "  'url': 'https://www.whosampled.com/James-Brown/Santa-Claus-Go-Straight-to-the-Ghetto/'},\n",
       " {'artist_id': 2,\n",
       "  'track_name': 'Oh Happy Day (1969)\\nby Dee Felice Trio\\nProducer credit: James Brown',\n",
       "  'url': 'https://www.whosampled.com/Dee-Felice-Trio/Oh-Happy-Day/'},\n",
       " {'artist_id': 2,\n",
       "  'track_name': 'Three Hearts in a Tangle (1966)',\n",
       "  'url': 'https://www.whosampled.com/James-Brown/Three-Hearts-in-a-Tangle/'},\n",
       " {'artist_id': 2,\n",
       "  'track_name': 'Unity Skit 4 (1984)\\nby Afrika Bambaataa and James Brown',\n",
       "  'url': 'https://www.whosampled.com/Afrika-Bambaataa/Unity-Skit-4/'},\n",
       " {'artist_id': 2,\n",
       "  'track_name': 'Static (Full Force Remix) (1988)\\nby James Brown feat. Full Force',\n",
       "  'url': 'https://www.whosampled.com/James-Brown/Static-(Full-Force-Remix)/'},\n",
       " {'artist_id': 2,\n",
       "  'track_name': 'Funk on Ah Roll (Ruff Driverz Tungsten Tip Mix) (1999)',\n",
       "  'url': 'https://www.whosampled.com/James-Brown/Funk-on-Ah-Roll-(Ruff-Driverz-Tungsten-Tip-Mix)/'},\n",
       " {'artist_id': 2,\n",
       "  'track_name': 'When the Saints Go Marching In (1974)',\n",
       "  'url': 'https://www.whosampled.com/James-Brown/When-the-Saints-Go-Marching-In/'},\n",
       " {'artist_id': 2,\n",
       "  'track_name': \"Hold On, I'm Comin' (1966)\",\n",
       "  'url': 'https://www.whosampled.com/James-Brown/Hold-On,-I%27m-Comin%27/'},\n",
       " {'artist_id': 2,\n",
       "  'track_name': 'It Had to Be You (1968)',\n",
       "  'url': 'https://www.whosampled.com/James-Brown/It-Had-to-Be-You/'},\n",
       " {'artist_id': 2,\n",
       "  'track_name': 'I Wanna Be Around (1965)',\n",
       "  'url': 'https://www.whosampled.com/James-Brown/I-Wanna-Be-Around/'},\n",
       " {'artist_id': 2,\n",
       "  'track_name': \"Can't Get Any Harder (Universal Hip Hop Mix) (1993)\",\n",
       "  'url': 'https://www.whosampled.com/James-Brown/Can%27t-Get-Any-Harder-(Universal-Hip-Hop-Mix)/'},\n",
       " {'artist_id': 2,\n",
       "  'track_name': 'Waiting in Vain (1963)',\n",
       "  'url': 'https://www.whosampled.com/James-Brown/Waiting-in-Vain/'},\n",
       " {'artist_id': 2,\n",
       "  'track_name': 'Our Day Will Come (1966)',\n",
       "  'url': 'https://www.whosampled.com/James-Brown/Our-Day-Will-Come/'},\n",
       " {'artist_id': 2,\n",
       "  'track_name': 'For Once in My Life (1970)',\n",
       "  'url': 'https://www.whosampled.com/James-Brown/For-Once-in-My-Life/'},\n",
       " {'artist_id': 2,\n",
       "  'track_name': 'By the Time I Get to Phoenix (1971)',\n",
       "  'url': 'https://www.whosampled.com/James-Brown/By-the-Time-I-Get-to-Phoenix/'},\n",
       " {'artist_id': 2,\n",
       "  'track_name': 'James Brown & His Fans at the Boston Garden (Live) (1968)',\n",
       "  'url': 'https://www.whosampled.com/James-Brown/James-Brown-%26-His-Fans-at-the-Boston-Garden-(Live)/'},\n",
       " {'artist_id': 2,\n",
       "  'track_name': \"James Brown's Boo-Ga-Loo (1966)\",\n",
       "  'url': 'https://www.whosampled.com/James-Brown/James-Brown%27s-Boo-Ga-Loo/'},\n",
       " {'artist_id': 2,\n",
       "  'track_name': 'Kansas City (1967)\\nby James Brown and The Famous Flames',\n",
       "  'url': 'https://www.whosampled.com/James-Brown/Kansas-City/'},\n",
       " {'artist_id': 2,\n",
       "  'track_name': 'Have Mercy Baby (1962)\\nby James Brown and The Famous Flames',\n",
       "  'url': 'https://www.whosampled.com/James-Brown/Have-Mercy-Baby/'},\n",
       " {'artist_id': 2,\n",
       "  'track_name': \"Good Rockin' Tonight (1967)\\nby James Brown and The Famous Flames\",\n",
       "  'url': 'https://www.whosampled.com/James-Brown/Good-Rockin%27-Tonight/'},\n",
       " {'artist_id': 2,\n",
       "  'track_name': 'Funk on Ah Roll (Rhythm Masters Mix) (2000)',\n",
       "  'url': 'https://www.whosampled.com/James-Brown/Funk-on-Ah-Roll-(Rhythm-Masters-Mix)/'},\n",
       " {'artist_id': 2,\n",
       "  'track_name': 'Funk on Ah Roll (Olav Basoski Mix) (2000)',\n",
       "  'url': 'https://www.whosampled.com/James-Brown/Funk-on-Ah-Roll-(Olav-Basoski-Mix)/'},\n",
       " {'artist_id': 2,\n",
       "  'track_name': 'Both Sides Now (1969)\\nby Dee Felice Trio\\nProducer credit: James Brown',\n",
       "  'url': 'https://www.whosampled.com/Dee-Felice-Trio/Both-Sides-Now/'},\n",
       " {'artist_id': 2,\n",
       "  'track_name': 'For You My Love (1964)',\n",
       "  'url': 'https://www.whosampled.com/James-Brown/For-You-My-Love/'},\n",
       " {'artist_id': 2,\n",
       "  'track_name': 'These Foolish Things (1963)\\nby James Brown and The Famous Flames',\n",
       "  'url': 'https://www.whosampled.com/James-Brown/These-Foolish-Things/'},\n",
       " {'artist_id': 2,\n",
       "  'track_name': 'Let It Be Me (1971)\\nby James Brown feat. Vicki Anderson',\n",
       "  'url': 'https://www.whosampled.com/James-Brown/Let-It-Be-Me/'},\n",
       " {'artist_id': 2,\n",
       "  'track_name': \"Can't Get Any Harder (Clivilles & Cole House of Soul Mix) (1993)\",\n",
       "  'url': 'https://www.whosampled.com/James-Brown/Can%27t-Get-Any-Harder-(Clivilles-%26-Cole-House-of-Soul-Mix)/'},\n",
       " {'artist_id': 2,\n",
       "  'track_name': 'Somebody Changed the Lock on My Door (1964)',\n",
       "  'url': 'https://www.whosampled.com/James-Brown/Somebody-Changed-the-Lock-on-My-Door/'},\n",
       " {'artist_id': 2,\n",
       "  'track_name': \"Can't Get Any Harder (C&C / Leaders of the New School Mix) (1993)\",\n",
       "  'url': 'https://www.whosampled.com/James-Brown/Can%27t-Get-Any-Harder-(C%26C-Leaders-of-the-New-School-Mix)/'}]"
      ]
     },
     "execution_count": 28,
     "metadata": {},
     "output_type": "execute_result"
    }
   ],
   "source": [
    "jbsongs"
   ]
  },
  {
   "cell_type": "code",
   "execution_count": 32,
   "metadata": {},
   "outputs": [
    {
     "data": {
      "text/plain": [
       "{'id': 1,\n",
       " 'url': 'https://www.whosampled.com/James-Brown/Get-Up-Offa-That-Thing/'}"
      ]
     },
     "execution_count": 32,
     "metadata": {},
     "output_type": "execute_result"
    }
   ],
   "source": [
    "db.get_next_song_to_scrape()"
   ]
  },
  {
   "cell_type": "code",
   "execution_count": 43,
   "metadata": {},
   "outputs": [
    {
     "data": {
      "text/plain": [
       "{'id': 1, 'url': 'https://www.whosampled.com/James-Brown/'}"
      ]
     },
     "execution_count": 43,
     "metadata": {},
     "output_type": "execute_result"
    }
   ],
   "source": [
    "db.get_next_artist_to_scrape()"
   ]
  },
  {
   "cell_type": "code",
   "execution_count": 62,
   "metadata": {},
   "outputs": [],
   "source": [
    "        query = \"\"\"\n",
    "        SELECT count(*) from songs\n",
    "        where scraped = 0\n",
    "        \"\"\""
   ]
  },
  {
   "cell_type": "code",
   "execution_count": 63,
   "metadata": {},
   "outputs": [],
   "source": [
    "cur.execute(query)"
   ]
  },
  {
   "cell_type": "code",
   "execution_count": 64,
   "metadata": {},
   "outputs": [],
   "source": [
    "conn.commit()"
   ]
  },
  {
   "cell_type": "code",
   "execution_count": 65,
   "metadata": {},
   "outputs": [
    {
     "data": {
      "text/plain": [
       "373"
      ]
     },
     "execution_count": 65,
     "metadata": {},
     "output_type": "execute_result"
    }
   ],
   "source": [
    "list(cur)[0][0]"
   ]
  },
  {
   "cell_type": "code",
   "execution_count": 24,
   "metadata": {},
   "outputs": [],
   "source": [
    "s = Scraper()"
   ]
  },
  {
   "cell_type": "code",
   "execution_count": 4,
   "metadata": {},
   "outputs": [],
   "source": [
    "db = DatabaseInteraction()"
   ]
  },
  {
   "cell_type": "code",
   "execution_count": 25,
   "metadata": {},
   "outputs": [],
   "source": [
    "url = 'https://www.whosampled.com/Beyonc%C3%A9/All-Night/'\n",
    "sampled_in, contains, new_artists = s.get_song_connections(url)"
   ]
  },
  {
   "cell_type": "code",
   "execution_count": 27,
   "metadata": {},
   "outputs": [
    {
     "name": "stdout",
     "output_type": "stream",
     "text": [
      "Automatic pdb calling has been turned ON\n"
     ]
    }
   ],
   "source": [
    "pdb"
   ]
  },
  {
   "cell_type": "code",
   "execution_count": 29,
   "metadata": {},
   "outputs": [],
   "source": [
    "url = 'https://www.whosampled.com/Beyonc%C3%A9/Upgrade-U/'\n",
    "sampled_in, contains, new_artists = s.get_song_connections(url)"
   ]
  },
  {
   "cell_type": "code",
   "execution_count": 30,
   "metadata": {},
   "outputs": [
    {
     "data": {
      "text/plain": [
       "[{'artist_id': None,\n",
       "  'artist_url': 'https://www.whosampled.com/Betty-Wright/',\n",
       "  'name': \"Girls Can't Do What the Guys Do\",\n",
       "  'url': 'https://www.whosampled.com/Betty-Wright/Girls-Can%27t-Do-What-the-Guys-Do/'}]"
      ]
     },
     "execution_count": 30,
     "metadata": {},
     "output_type": "execute_result"
    }
   ],
   "source": [
    "contains"
   ]
  },
  {
   "cell_type": "code",
   "execution_count": 31,
   "metadata": {},
   "outputs": [
    {
     "data": {
      "text/plain": [
       "[{'artist_id': None,\n",
       "  'artist_url': 'https://www.whosampled.com/Lil-Wayne/',\n",
       "  'name': 'Upgrade',\n",
       "  'url': 'https://www.whosampled.com/Lil-Wayne/Upgrade/'},\n",
       " {'artist_id': None,\n",
       "  'artist_url': 'https://www.whosampled.com/M.-Will-the-Shogun/',\n",
       "  'name': 'Saturn',\n",
       "  'url': 'https://www.whosampled.com/M.-Will-the-Shogun/Saturn/'}]"
      ]
     },
     "execution_count": 31,
     "metadata": {},
     "output_type": "execute_result"
    }
   ],
   "source": [
    "sampled_in"
   ]
  },
  {
   "cell_type": "code",
   "execution_count": 36,
   "metadata": {},
   "outputs": [
    {
     "name": "stdout",
     "output_type": "stream",
     "text": [
      "https://www.whosampled.com/OutKast/SpottieOttieDopaliscious/\n",
      "OutKast\n",
      "\n"
     ]
    }
   ],
   "source": [
    "for x, y in zip(contains, new_artists):\n",
    "    print(x['url'])\n",
    "    print(y['name']+'\\n')"
   ]
  },
  {
   "cell_type": "code",
   "execution_count": 18,
   "metadata": {},
   "outputs": [
    {
     "data": {
      "text/plain": [
       "17"
      ]
     },
     "execution_count": 18,
     "metadata": {},
     "output_type": "execute_result"
    }
   ],
   "source": [
    "len(new_artists)"
   ]
  },
  {
   "cell_type": "code",
   "execution_count": 38,
   "metadata": {},
   "outputs": [
    {
     "data": {
      "text/plain": [
       "[{'name': 'OutKast', 'url': 'https://www.whosampled.com/OutKast/'}]"
      ]
     },
     "execution_count": 38,
     "metadata": {},
     "output_type": "execute_result"
    }
   ],
   "source": [
    "new_artists"
   ]
  },
  {
   "cell_type": "code",
   "execution_count": null,
   "metadata": {},
   "outputs": [],
   "source": [
    "for song in sample_song_ids:\n",
    "    query = f\"\"\"   \n",
    "        INSERT INTO connections (song_id, sampled_by_song_id)\n",
    "\n",
    "        SELECT %s, %s\n",
    "\n",
    "        WHERE %s, %s NOT IN (\n",
    "                    SELECT song_id, sampled_by_song_id FROM connections\n",
    "                    );\n",
    "                \"\"\"\n",
    "    self.cur.execute(query, (\n",
    "         song_id,\n",
    "         song,\n",
    "         song_id,\n",
    "         song))\n",
    "    self.conn.commit()"
   ]
  },
  {
   "cell_type": "code",
   "execution_count": 68,
   "metadata": {},
   "outputs": [],
   "source": [
    "query = \"\"\"   \n",
    "    SELECT id FROM artists\n",
    "    WHERE url = %s\n",
    "            \"\"\"\n",
    "url = contains[0]['artist_url']\n",
    "cur.execute(query, (url,))\n",
    "conn.commit()"
   ]
  },
  {
   "cell_type": "code",
   "execution_count": 69,
   "metadata": {},
   "outputs": [
    {
     "data": {
      "text/plain": [
       "25"
      ]
     },
     "execution_count": 69,
     "metadata": {},
     "output_type": "execute_result"
    }
   ],
   "source": [
    "list(cur)[0][0]"
   ]
  },
  {
   "cell_type": "code",
   "execution_count": 66,
   "metadata": {},
   "outputs": [
    {
     "data": {
      "text/plain": [
       "[{'name': 'OutKast', 'url': 'https://www.whosampled.com/OutKast/'}]"
      ]
     },
     "execution_count": 66,
     "metadata": {},
     "output_type": "execute_result"
    }
   ],
   "source": [
    "new_artists"
   ]
  },
  {
   "cell_type": "code",
   "execution_count": 33,
   "metadata": {},
   "outputs": [],
   "source": [
    "db.write_artists(new_artists)"
   ]
  },
  {
   "cell_type": "code",
   "execution_count": 34,
   "metadata": {},
   "outputs": [],
   "source": [
    "db.write_songs(contains)"
   ]
  },
  {
   "cell_type": "code",
   "execution_count": 35,
   "metadata": {},
   "outputs": [],
   "source": [
    "db.write_songs(sampled_in)"
   ]
  },
  {
   "cell_type": "code",
   "execution_count": 39,
   "metadata": {},
   "outputs": [
    {
     "data": {
      "text/plain": [
       "[375]"
      ]
     },
     "execution_count": 39,
     "metadata": {},
     "output_type": "execute_result"
    }
   ],
   "source": [
    "query = \"\"\"   \n",
    "        SELECT id\n",
    "        FROM songs    \n",
    "        WHERE url = %s;\n",
    "        \"\"\"\n",
    "cur.execute(query, ('https://www.whosampled.com/Betty-Wright/Girls-Can%27t-Do-What-the-Guys-Do/',))\n",
    "conn.commit()\n",
    "[x for (x,) in cur]\n"
   ]
  },
  {
   "cell_type": "code",
   "execution_count": 40,
   "metadata": {},
   "outputs": [
    {
     "data": {
      "text/plain": [
       "{'id': 29, 'url': 'https://www.whosampled.com/Betty-Wright/'}"
      ]
     },
     "execution_count": 40,
     "metadata": {},
     "output_type": "execute_result"
    }
   ],
   "source": [
    "db.get_next_artist_to_scrape()"
   ]
  },
  {
   "cell_type": "code",
   "execution_count": 41,
   "metadata": {},
   "outputs": [],
   "source": [
    "artist = _"
   ]
  },
  {
   "cell_type": "code",
   "execution_count": 43,
   "metadata": {},
   "outputs": [
    {
     "data": {
      "text/plain": [
       "int"
      ]
     },
     "execution_count": 43,
     "metadata": {},
     "output_type": "execute_result"
    }
   ],
   "source": [
    "type(artist['id'])"
   ]
  },
  {
   "cell_type": "code",
   "execution_count": 52,
   "metadata": {},
   "outputs": [],
   "source": [
    "db = DatabaseInteraction()"
   ]
  },
  {
   "cell_type": "code",
   "execution_count": 81,
   "metadata": {},
   "outputs": [],
   "source": [
    "for i in range(30, 47):\n",
    "    db.update_scraped_status(\"artists\", i, 1)"
   ]
  },
  {
   "cell_type": "code",
   "execution_count": 49,
   "metadata": {},
   "outputs": [
    {
     "ename": "NameError",
     "evalue": "name 'artists' is not defined",
     "output_type": "error",
     "traceback": [
      "\u001b[0;31m---------------------------------------------------------------------------\u001b[0m",
      "\u001b[0;31mNameError\u001b[0m                                 Traceback (most recent call last)",
      "\u001b[0;32m<ipython-input-49-cb72e313c499>\u001b[0m in \u001b[0;36m<module>\u001b[0;34m()\u001b[0m\n\u001b[1;32m      5\u001b[0m         ;\"\"\"\n\u001b[1;32m      6\u001b[0m \u001b[0;34m\u001b[0m\u001b[0m\n\u001b[0;32m----> 7\u001b[0;31m \u001b[0mcur\u001b[0m\u001b[0;34m.\u001b[0m\u001b[0mexecute\u001b[0m\u001b[0;34m(\u001b[0m\u001b[0mquery\u001b[0m\u001b[0;34m,\u001b[0m \u001b[0;34m(\u001b[0m\u001b[0martists\u001b[0m\u001b[0;34m,\u001b[0m \u001b[0;36m1\u001b[0m\u001b[0;34m,\u001b[0m \u001b[0;36m1\u001b[0m\u001b[0;34m)\u001b[0m\u001b[0;34m)\u001b[0m\u001b[0;34m\u001b[0m\u001b[0m\n\u001b[0m\u001b[1;32m      8\u001b[0m \u001b[0mconn\u001b[0m\u001b[0;34m.\u001b[0m\u001b[0mcommit\u001b[0m\u001b[0;34m(\u001b[0m\u001b[0;34m)\u001b[0m\u001b[0;34m\u001b[0m\u001b[0m\n",
      "\u001b[0;31mNameError\u001b[0m: name 'artists' is not defined"
     ]
    }
   ],
   "source": [
    "query = f\"\"\"\n",
    "        UPDATE {}\n",
    "        SET scraped = %s\n",
    "        WHERE id = %s\n",
    "        ;\"\"\"\n",
    "\n",
    "cur.execute(\n",
    "    sql.SQL(query, (artists, 1, 1))\n",
    "conn.commit()"
   ]
  },
  {
   "cell_type": "code",
   "execution_count": 58,
   "metadata": {},
   "outputs": [
    {
     "data": {
      "text/plain": [
       "{'id': 29, 'url': 'https://www.whosampled.com/Betty-Wright/'}"
      ]
     },
     "execution_count": 58,
     "metadata": {},
     "output_type": "execute_result"
    }
   ],
   "source": [
    "db.get_next_artist_to_scrape()"
   ]
  },
  {
   "cell_type": "code",
   "execution_count": 60,
   "metadata": {},
   "outputs": [
    {
     "data": {
      "text/plain": [
       "{'id': 1,\n",
       " 'url': 'https://www.whosampled.com/James-Brown/Get-Up-Offa-That-Thing/'}"
      ]
     },
     "execution_count": 60,
     "metadata": {},
     "output_type": "execute_result"
    }
   ],
   "source": [
    "db.get_next_song_to_scrape()"
   ]
  },
  {
   "cell_type": "code",
   "execution_count": 78,
   "metadata": {},
   "outputs": [],
   "source": [
    "db.insert_contains_sample(12,5)"
   ]
  },
  {
   "cell_type": "code",
   "execution_count": 75,
   "metadata": {},
   "outputs": [],
   "source": [
    "conn.rollback()"
   ]
  },
  {
   "cell_type": "code",
   "execution_count": 76,
   "metadata": {},
   "outputs": [],
   "source": [
    "query = \"\"\"   \n",
    "        SELECT song_id, sampled_by_song_id\n",
    "        FROM connections;\n",
    "        \"\"\"\n",
    "cur.execute(query)\n",
    "conn.commit()"
   ]
  },
  {
   "cell_type": "code",
   "execution_count": 77,
   "metadata": {},
   "outputs": [
    {
     "data": {
      "text/plain": [
       "[(3, 4)]"
      ]
     },
     "execution_count": 77,
     "metadata": {},
     "output_type": "execute_result"
    }
   ],
   "source": [
    "[x for x in cur]"
   ]
  },
  {
   "cell_type": "code",
   "execution_count": 49,
   "metadata": {},
   "outputs": [],
   "source": [
    "db = DatabaseInteraction()"
   ]
  },
  {
   "cell_type": "code",
   "execution_count": 29,
   "metadata": {},
   "outputs": [],
   "source": [
    "test = {'name': 'a', 'url': 'a.com'}"
   ]
  },
  {
   "cell_type": "code",
   "execution_count": 30,
   "metadata": {},
   "outputs": [],
   "source": [
    "db.write_artists(artist_urls, return_artist_id=True)"
   ]
  },
  {
   "cell_type": "code",
   "execution_count": 32,
   "metadata": {},
   "outputs": [],
   "source": [
    "db.cur.fetchone()"
   ]
  },
  {
   "cell_type": "code",
   "execution_count": 50,
   "metadata": {},
   "outputs": [
    {
     "data": {
      "text/plain": [
       "{'name': 'James Brown', 'url': 'https://www.whosampled.com/James-Brown/'}"
      ]
     },
     "execution_count": 50,
     "metadata": {},
     "output_type": "execute_result"
    }
   ],
   "source": [
    "artist_urls[0]"
   ]
  },
  {
   "cell_type": "code",
   "execution_count": 51,
   "metadata": {},
   "outputs": [
    {
     "data": {
      "text/plain": [
       "{'id': 1,\n",
       " 'name': 'James Brown',\n",
       " 'scraped': 1,\n",
       " 'url': 'https://www.whosampled.com/James-Brown/'}"
      ]
     },
     "execution_count": 51,
     "metadata": {},
     "output_type": "execute_result"
    }
   ],
   "source": [
    "db.get_artist_info(url='https://www.whosampled.com/James-Brown/')"
   ]
  },
  {
   "cell_type": "code",
   "execution_count": 44,
   "metadata": {},
   "outputs": [],
   "source": [
    "artist_dict = _"
   ]
  },
  {
   "cell_type": "code",
   "execution_count": 45,
   "metadata": {},
   "outputs": [
    {
     "data": {
      "text/plain": [
       "1"
      ]
     },
     "execution_count": 45,
     "metadata": {},
     "output_type": "execute_result"
    }
   ],
   "source": [
    "artist_dict[\"id\"]"
   ]
  },
  {
   "cell_type": "code",
   "execution_count": 57,
   "metadata": {},
   "outputs": [],
   "source": [
    "db = DatabaseInteraction(db_name='mixmaker2')"
   ]
  },
  {
   "cell_type": "code",
   "execution_count": 58,
   "metadata": {},
   "outputs": [],
   "source": [
    "db.insert_contains_sample(2971, 5)"
   ]
  },
  {
   "cell_type": "code",
   "execution_count": null,
   "metadata": {},
   "outputs": [],
   "source": []
  }
 ],
 "metadata": {
  "kernelspec": {
   "display_name": "Python 3",
   "language": "python",
   "name": "python3"
  },
  "language_info": {
   "codemirror_mode": {
    "name": "ipython",
    "version": 3
   },
   "file_extension": ".py",
   "mimetype": "text/x-python",
   "name": "python",
   "nbconvert_exporter": "python",
   "pygments_lexer": "ipython3",
   "version": "3.6.4"
  }
 },
 "nbformat": 4,
 "nbformat_minor": 2
}
