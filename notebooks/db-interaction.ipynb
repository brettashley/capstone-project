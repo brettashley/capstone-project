{
 "cells": [
  {
   "cell_type": "code",
   "execution_count": 1,
   "metadata": {},
   "outputs": [],
   "source": [
    "import selenium\n",
    "from selenium.webdriver import Firefox, Chrome\n",
    "import time\n",
    "import psycopg2\n",
    "import pandas as pd\n",
    "from psycopg2.extras import Json\n",
    "import re"
   ]
  },
  {
   "cell_type": "code",
   "execution_count": 2,
   "metadata": {},
   "outputs": [
    {
     "name": "stdout",
     "output_type": "stream",
     "text": [
      "/Users/brettashley/galvanize/dsi/00-Capstone/mix-maker/mixmaker\n"
     ]
    }
   ],
   "source": [
    "cd /Users/brettashley/galvanize/dsi/00-Capstone/mix-maker/mixmaker/"
   ]
  },
  {
   "cell_type": "code",
   "execution_count": 3,
   "metadata": {},
   "outputs": [],
   "source": [
    "from scraper import Scraper\n",
    "import database_interaction\n",
    "# import DataBaseInteraction"
   ]
  },
  {
   "cell_type": "code",
   "execution_count": 5,
   "metadata": {},
   "outputs": [],
   "source": [
    "conn = psycopg2.connect(dbname='mixmaker2', host='localhost')\n",
    "cur = conn.cursor()"
   ]
  },
  {
   "cell_type": "code",
   "execution_count": null,
   "metadata": {},
   "outputs": [],
   "source": [
    "sel = \"div#content div.divided-layout div.layout-container.leftContent div\"\n",
    "url = 'https://www.whosampled.com/genre/Soul-Funk-Disco/'\n",
    "desired_section = 'Most influential artists'"
   ]
  },
  {
   "cell_type": "code",
   "execution_count": null,
   "metadata": {},
   "outputs": [],
   "source": [
    "# s = Scraper('https://www.whosampled.com/genre/Soul-Funk-Disco/')"
   ]
  },
  {
   "cell_type": "code",
   "execution_count": null,
   "metadata": {},
   "outputs": [],
   "source": [
    "# artist_section = s.find_desired_section(sel, desired_section)"
   ]
  },
  {
   "cell_type": "code",
   "execution_count": null,
   "metadata": {},
   "outputs": [],
   "source": [
    "# artist_urls = list(s.get_artist_urls(artist_section))"
   ]
  },
  {
   "cell_type": "code",
   "execution_count": null,
   "metadata": {},
   "outputs": [],
   "source": [
    "# test['url'] = u'https://www.whosampled.com/The-J.B.%27s/'"
   ]
  },
  {
   "cell_type": "code",
   "execution_count": null,
   "metadata": {},
   "outputs": [],
   "source": [
    "# artist_urls[9]['name']"
   ]
  },
  {
   "cell_type": "code",
   "execution_count": null,
   "metadata": {},
   "outputs": [],
   "source": [
    "artist_urls = [{'name': 'James Brown', 'url': 'https://www.whosampled.com/James-Brown/'},\n",
    " {'name': 'Traditional Folk',\n",
    "  'url': 'https://www.whosampled.com/Traditional-Folk/'},\n",
    " {'name': 'Kool & the Gang',\n",
    "  'url': 'https://www.whosampled.com/Kool-%26-the-Gang/'},\n",
    " {'name': 'Funkadelic', 'url': 'https://www.whosampled.com/Funkadelic/'},\n",
    " {'name': 'The Beatles', 'url': 'https://www.whosampled.com/The-Beatles/'},\n",
    " {'name': 'Marvin Gaye', 'url': 'https://www.whosampled.com/Marvin-Gaye/'},\n",
    " {'name': 'Michael Jackson',\n",
    "  'url': 'https://www.whosampled.com/Michael-Jackson/'},\n",
    " {'name': 'Parliament', 'url': 'https://www.whosampled.com/Parliament/'},\n",
    " {'name': 'Prince', 'url': 'https://www.whosampled.com/Prince/'},\n",
    " {'name': \"The J.B.'s\", 'url': 'https://www.whosampled.com/The-J.B.%27s/'},\n",
    " {'name': 'Chic', 'url': 'https://www.whosampled.com/Chic/'},\n",
    " {'name': 'Lyn Collins', 'url': 'https://www.whosampled.com/Lyn-Collins/'},\n",
    " {'name': 'Isaac Hayes', 'url': 'https://www.whosampled.com/Isaac-Hayes/'},\n",
    " {'name': 'KC & the Sunshine Band',\n",
    "  'url': 'https://www.whosampled.com/KC-%26-the-Sunshine-Band/'},\n",
    " {'name': 'Stevie Wonder', 'url': 'https://www.whosampled.com/Stevie-Wonder/'},\n",
    " {'name': 'Earth, Wind & Fire',\n",
    "  'url': 'https://www.whosampled.com/Earth,-Wind-%26-Fire/'},\n",
    " {'name': 'Bee Gees', 'url': 'https://www.whosampled.com/Bee-Gees/'},\n",
    " {'name': 'George Benson', 'url': 'https://www.whosampled.com/George-Benson/'},\n",
    " {'name': 'Bobby Byrd', 'url': 'https://www.whosampled.com/Bobby-Byrd/'},\n",
    " {'name': 'Fred Wesley', 'url': 'https://www.whosampled.com/Fred-Wesley/'},\n",
    " {'name': 'The Temptations',\n",
    "  'url': 'https://www.whosampled.com/The-Temptations/'},\n",
    " {'name': 'Sly & the Family Stone',\n",
    "  'url': 'https://www.whosampled.com/Sly-%26-the-Family-Stone/'},\n",
    " {'name': 'Delegation', 'url': 'https://www.whosampled.com/Delegation/'},\n",
    " {'name': 'Dalida', 'url': 'https://www.whosampled.com/Dalida/'}]"
   ]
  },
  {
   "cell_type": "code",
   "execution_count": null,
   "metadata": {},
   "outputs": [],
   "source": [
    "db = DatabaseInteraction()"
   ]
  },
  {
   "cell_type": "code",
   "execution_count": null,
   "metadata": {},
   "outputs": [],
   "source": []
  },
  {
   "cell_type": "code",
   "execution_count": null,
   "metadata": {},
   "outputs": [],
   "source": [
    "test = [{'name': 'James Brown', 'url': 'https://www.whosampled.com/James-Brown/'}]"
   ]
  },
  {
   "cell_type": "code",
   "execution_count": null,
   "metadata": {},
   "outputs": [],
   "source": [
    "db.write_artists(artist_urls)"
   ]
  },
  {
   "cell_type": "code",
   "execution_count": null,
   "metadata": {},
   "outputs": [],
   "source": [
    "for artist in test:\n",
    "    query = f\"\"\"        \n",
    "        INSERT INTO artists (name, url)\n",
    "        VALUES ('{artist[\"name\"]}',\n",
    "                '{artist[\"url\"]}');\n",
    "                  \"\"\"\n",
    "    cur.execute(query)\n",
    "    conn.commit()"
   ]
  },
  {
   "cell_type": "code",
   "execution_count": null,
   "metadata": {},
   "outputs": [],
   "source": [
    "conn.rollback()"
   ]
  },
  {
   "cell_type": "code",
   "execution_count": null,
   "metadata": {},
   "outputs": [],
   "source": [
    "db.get_next_artist_to_scrape()"
   ]
  },
  {
   "cell_type": "code",
   "execution_count": null,
   "metadata": {},
   "outputs": [],
   "source": [
    "(24, 'https://www.whosampled.com/Dalida/')[0]"
   ]
  },
  {
   "cell_type": "code",
   "execution_count": null,
   "metadata": {},
   "outputs": [],
   "source": [
    "query = \"\"\"\n",
    "SELECT id, url FROM artists\n",
    "WHERE scraped = 0\n",
    "ORDER BY id DESC\n",
    "LIMIT 1\n",
    "\"\"\""
   ]
  },
  {
   "cell_type": "code",
   "execution_count": null,
   "metadata": {},
   "outputs": [],
   "source": [
    "cur.execute(query)\n",
    "conn.commit()"
   ]
  },
  {
   "cell_type": "code",
   "execution_count": null,
   "metadata": {},
   "outputs": [],
   "source": [
    "list(cur)"
   ]
  },
  {
   "cell_type": "code",
   "execution_count": null,
   "metadata": {},
   "outputs": [],
   "source": [
    "artist_urls[1]"
   ]
  },
  {
   "cell_type": "code",
   "execution_count": null,
   "metadata": {},
   "outputs": [],
   "source": [
    "s = Scraper('https://www.whosampled.com/James-Brown/')"
   ]
  },
  {
   "cell_type": "code",
   "execution_count": null,
   "metadata": {},
   "outputs": [],
   "source": [
    "jb = {'name': 'James Brown', 'url': 'https://www.whosampled.com/James-Brown/', 'id' : 2}"
   ]
  },
  {
   "cell_type": "code",
   "execution_count": null,
   "metadata": {},
   "outputs": [],
   "source": [
    "# s.get_artist_songs(jb)"
   ]
  },
  {
   "cell_type": "code",
   "execution_count": null,
   "metadata": {},
   "outputs": [],
   "source": [
    "james_brown_songs = _"
   ]
  },
  {
   "cell_type": "code",
   "execution_count": null,
   "metadata": {},
   "outputs": [],
   "source": [
    "db = DatabaseInteraction()"
   ]
  },
  {
   "cell_type": "code",
   "execution_count": null,
   "metadata": {},
   "outputs": [],
   "source": [
    "db.write_songs(jbsongs)"
   ]
  },
  {
   "cell_type": "code",
   "execution_count": null,
   "metadata": {},
   "outputs": [],
   "source": [
    "conn.rollback()"
   ]
  },
  {
   "cell_type": "code",
   "execution_count": null,
   "metadata": {},
   "outputs": [],
   "source": [
    "db.update_artist_scraped_status(jb, 1)"
   ]
  },
  {
   "cell_type": "code",
   "execution_count": null,
   "metadata": {},
   "outputs": [],
   "source": [
    "pwd"
   ]
  },
  {
   "cell_type": "code",
   "execution_count": null,
   "metadata": {},
   "outputs": [],
   "source": [
    "with open('../data/james_brown_songs.txt', 'w') as f:\n",
    "    for item in jbsongs:\n",
    "        f.write(\"%s\\n\" % item)"
   ]
  },
  {
   "cell_type": "code",
   "execution_count": null,
   "metadata": {},
   "outputs": [],
   "source": [
    "jbsongs"
   ]
  },
  {
   "cell_type": "code",
   "execution_count": null,
   "metadata": {},
   "outputs": [],
   "source": [
    "db.get_next_song_to_scrape()"
   ]
  },
  {
   "cell_type": "code",
   "execution_count": null,
   "metadata": {},
   "outputs": [],
   "source": [
    "db.get_next_artist_to_scrape()"
   ]
  },
  {
   "cell_type": "code",
   "execution_count": null,
   "metadata": {},
   "outputs": [],
   "source": [
    "        query = \"\"\"\n",
    "        SELECT count(*) from songs\n",
    "        where scraped = 0\n",
    "        \"\"\""
   ]
  },
  {
   "cell_type": "code",
   "execution_count": null,
   "metadata": {},
   "outputs": [],
   "source": [
    "cur.execute(query)"
   ]
  },
  {
   "cell_type": "code",
   "execution_count": null,
   "metadata": {},
   "outputs": [],
   "source": [
    "conn.commit()"
   ]
  },
  {
   "cell_type": "code",
   "execution_count": null,
   "metadata": {},
   "outputs": [],
   "source": [
    "list(cur)[0][0]"
   ]
  },
  {
   "cell_type": "code",
   "execution_count": null,
   "metadata": {},
   "outputs": [],
   "source": [
    "s = Scraper()"
   ]
  },
  {
   "cell_type": "code",
   "execution_count": null,
   "metadata": {},
   "outputs": [],
   "source": [
    "db = DatabaseInteraction()"
   ]
  },
  {
   "cell_type": "code",
   "execution_count": null,
   "metadata": {},
   "outputs": [],
   "source": [
    "url = 'https://www.whosampled.com/Beyonc%C3%A9/All-Night/'\n",
    "sampled_in, contains, new_artists = s.get_song_connections(url)"
   ]
  },
  {
   "cell_type": "code",
   "execution_count": null,
   "metadata": {},
   "outputs": [],
   "source": [
    "pdb"
   ]
  },
  {
   "cell_type": "code",
   "execution_count": null,
   "metadata": {},
   "outputs": [],
   "source": [
    "url = 'https://www.whosampled.com/Beyonc%C3%A9/Upgrade-U/'\n",
    "sampled_in, contains, new_artists = s.get_song_connections(url)"
   ]
  },
  {
   "cell_type": "code",
   "execution_count": null,
   "metadata": {},
   "outputs": [],
   "source": [
    "contains"
   ]
  },
  {
   "cell_type": "code",
   "execution_count": null,
   "metadata": {},
   "outputs": [],
   "source": [
    "sampled_in"
   ]
  },
  {
   "cell_type": "code",
   "execution_count": null,
   "metadata": {},
   "outputs": [],
   "source": [
    "for x, y in zip(contains, new_artists):\n",
    "    print(x['url'])\n",
    "    print(y['name']+'\\n')"
   ]
  },
  {
   "cell_type": "code",
   "execution_count": null,
   "metadata": {},
   "outputs": [],
   "source": [
    "len(new_artists)"
   ]
  },
  {
   "cell_type": "code",
   "execution_count": null,
   "metadata": {},
   "outputs": [],
   "source": [
    "new_artists"
   ]
  },
  {
   "cell_type": "code",
   "execution_count": null,
   "metadata": {},
   "outputs": [],
   "source": [
    "for song in sample_song_ids:\n",
    "    query = f\"\"\"   \n",
    "        INSERT INTO connections (song_id, sampled_by_song_id)\n",
    "\n",
    "        SELECT %s, %s\n",
    "\n",
    "        WHERE %s, %s NOT IN (\n",
    "                    SELECT song_id, sampled_by_song_id FROM connections\n",
    "                    );\n",
    "                \"\"\"\n",
    "    self.cur.execute(query, (\n",
    "         song_id,\n",
    "         song,\n",
    "         song_id,\n",
    "         song))\n",
    "    self.conn.commit()"
   ]
  },
  {
   "cell_type": "code",
   "execution_count": null,
   "metadata": {},
   "outputs": [],
   "source": [
    "query = \"\"\"   \n",
    "    SELECT id FROM artists\n",
    "    WHERE url = %s\n",
    "            \"\"\"\n",
    "url = contains[0]['artist_url']\n",
    "cur.execute(query, (url,))\n",
    "conn.commit()"
   ]
  },
  {
   "cell_type": "code",
   "execution_count": null,
   "metadata": {},
   "outputs": [],
   "source": [
    "list(cur)[0][0]"
   ]
  },
  {
   "cell_type": "code",
   "execution_count": null,
   "metadata": {},
   "outputs": [],
   "source": [
    "new_artists"
   ]
  },
  {
   "cell_type": "code",
   "execution_count": null,
   "metadata": {},
   "outputs": [],
   "source": [
    "db.write_artists(new_artists)"
   ]
  },
  {
   "cell_type": "code",
   "execution_count": null,
   "metadata": {},
   "outputs": [],
   "source": [
    "db.write_songs(contains)"
   ]
  },
  {
   "cell_type": "code",
   "execution_count": null,
   "metadata": {},
   "outputs": [],
   "source": [
    "db.write_songs(sampled_in)"
   ]
  },
  {
   "cell_type": "code",
   "execution_count": null,
   "metadata": {},
   "outputs": [],
   "source": [
    "query = \"\"\"   \n",
    "        SELECT id\n",
    "        FROM songs    \n",
    "        WHERE url = %s;\n",
    "        \"\"\"\n",
    "cur.execute(query, ('https://www.whosampled.com/Betty-Wright/Girls-Can%27t-Do-What-the-Guys-Do/',))\n",
    "conn.commit()\n",
    "[x for (x,) in cur]\n"
   ]
  },
  {
   "cell_type": "code",
   "execution_count": null,
   "metadata": {},
   "outputs": [],
   "source": [
    "db.get_next_artist_to_scrape()"
   ]
  },
  {
   "cell_type": "code",
   "execution_count": null,
   "metadata": {},
   "outputs": [],
   "source": [
    "artist = _"
   ]
  },
  {
   "cell_type": "code",
   "execution_count": null,
   "metadata": {},
   "outputs": [],
   "source": [
    "type(artist['id'])"
   ]
  },
  {
   "cell_type": "code",
   "execution_count": null,
   "metadata": {},
   "outputs": [],
   "source": [
    "db = DatabaseInteraction()"
   ]
  },
  {
   "cell_type": "code",
   "execution_count": null,
   "metadata": {},
   "outputs": [],
   "source": [
    "for i in range(30, 47):\n",
    "    db.update_scraped_status(\"artists\", i, 1)"
   ]
  },
  {
   "cell_type": "code",
   "execution_count": null,
   "metadata": {},
   "outputs": [],
   "source": [
    "query = f\"\"\"\n",
    "        UPDATE {}\n",
    "        SET scraped = %s\n",
    "        WHERE id = %s\n",
    "        ;\"\"\"\n",
    "\n",
    "cur.execute(\n",
    "    sql.SQL(query, (artists, 1, 1))\n",
    "conn.commit()"
   ]
  },
  {
   "cell_type": "code",
   "execution_count": null,
   "metadata": {},
   "outputs": [],
   "source": [
    "db.get_next_artist_to_scrape()"
   ]
  },
  {
   "cell_type": "code",
   "execution_count": null,
   "metadata": {},
   "outputs": [],
   "source": [
    "db.get_next_song_to_scrape()"
   ]
  },
  {
   "cell_type": "code",
   "execution_count": null,
   "metadata": {},
   "outputs": [],
   "source": [
    "db.insert_contains_sample(12,5)"
   ]
  },
  {
   "cell_type": "code",
   "execution_count": null,
   "metadata": {},
   "outputs": [],
   "source": [
    "conn.rollback()"
   ]
  },
  {
   "cell_type": "code",
   "execution_count": null,
   "metadata": {},
   "outputs": [],
   "source": [
    "query = \"\"\"   \n",
    "        SELECT song_id, sampled_by_song_id\n",
    "        FROM connections;\n",
    "        \"\"\"\n",
    "cur.execute(query)\n",
    "conn.commit()"
   ]
  },
  {
   "cell_type": "code",
   "execution_count": null,
   "metadata": {},
   "outputs": [],
   "source": [
    "[x for x in cur]"
   ]
  },
  {
   "cell_type": "code",
   "execution_count": null,
   "metadata": {},
   "outputs": [],
   "source": [
    "db = DatabaseInteraction()"
   ]
  },
  {
   "cell_type": "code",
   "execution_count": null,
   "metadata": {},
   "outputs": [],
   "source": [
    "test = {'name': 'a', 'url': 'a.com'}"
   ]
  },
  {
   "cell_type": "code",
   "execution_count": null,
   "metadata": {},
   "outputs": [],
   "source": [
    "db.write_artists(artist_urls, return_artist_id=True)"
   ]
  },
  {
   "cell_type": "code",
   "execution_count": null,
   "metadata": {},
   "outputs": [],
   "source": [
    "db.cur.fetchone()"
   ]
  },
  {
   "cell_type": "code",
   "execution_count": null,
   "metadata": {},
   "outputs": [],
   "source": [
    "artist_urls[0]"
   ]
  },
  {
   "cell_type": "code",
   "execution_count": null,
   "metadata": {},
   "outputs": [],
   "source": [
    "db.get_artist_info(url='https://www.whosampled.com/James-Brown/')"
   ]
  },
  {
   "cell_type": "code",
   "execution_count": null,
   "metadata": {},
   "outputs": [],
   "source": [
    "artist_dict = _"
   ]
  },
  {
   "cell_type": "code",
   "execution_count": null,
   "metadata": {},
   "outputs": [],
   "source": [
    "artist_dict[\"id\"]"
   ]
  },
  {
   "cell_type": "code",
   "execution_count": null,
   "metadata": {},
   "outputs": [],
   "source": [
    "db = DatabaseInteraction(db_name='mixmaker2')"
   ]
  },
  {
   "cell_type": "code",
   "execution_count": null,
   "metadata": {},
   "outputs": [],
   "source": [
    "db.insert_contains_sample(2971, 5)"
   ]
  },
  {
   "cell_type": "code",
   "execution_count": null,
   "metadata": {},
   "outputs": [],
   "source": [
    "query = \"\"\"   \n",
    "        SELECT song_id, sampled_by_song_id\n",
    "        FROM connections;\n",
    "        \"\"\"\n",
    "cur.execute(query)\n",
    "conn.commit()"
   ]
  },
  {
   "cell_type": "code",
   "execution_count": null,
   "metadata": {},
   "outputs": [],
   "source": [
    "query = \"\"\"   \n",
    "        SELECT a.name, count(s.artist_id) as artist_freq\n",
    "        FROM artists a\n",
    "        JOIN songs s\n",
    "        ON a.id = s.artist_id\n",
    "        GROUP BY a.id\n",
    "        HAVING a.scraped_spotify = 0\n",
    "        ORDER BY artist_freq DESC\n",
    "        LIMIT 50;\n",
    "        \"\"\"\n",
    "cur.execute(query)\n",
    "conn.commit()"
   ]
  },
  {
   "cell_type": "code",
   "execution_count": null,
   "metadata": {},
   "outputs": [],
   "source": [
    "list(cur)"
   ]
  },
  {
   "cell_type": "code",
   "execution_count": null,
   "metadata": {},
   "outputs": [],
   "source": [
    "output = _"
   ]
  },
  {
   "cell_type": "code",
   "execution_count": null,
   "metadata": {},
   "outputs": [],
   "source": [
    "output = output[10:].copy()"
   ]
  },
  {
   "cell_type": "code",
   "execution_count": null,
   "metadata": {},
   "outputs": [],
   "source": [
    "output"
   ]
  },
  {
   "cell_type": "code",
   "execution_count": 5,
   "metadata": {},
   "outputs": [],
   "source": [
    "db = DatabaseInteraction(db_name='mixmaker')"
   ]
  },
  {
   "cell_type": "code",
   "execution_count": null,
   "metadata": {},
   "outputs": [],
   "source": [
    "db.update_scraped_status('songs', 16505, 1)"
   ]
  },
  {
   "cell_type": "code",
   "execution_count": null,
   "metadata": {},
   "outputs": [],
   "source": [
    "import urllib.parse"
   ]
  },
  {
   "cell_type": "code",
   "execution_count": null,
   "metadata": {},
   "outputs": [],
   "source": [
    "song_name = \"Heart-of-the-City-(Ain't-No-Love)\""
   ]
  },
  {
   "cell_type": "code",
   "execution_count": null,
   "metadata": {},
   "outputs": [],
   "source": [
    "(urllib.parse.quote(song_name\n",
    "                                            .replace(' ', '-'))\n",
    "                                            .replace('%28', '(')\n",
    "                                            .replace('%29', ')'))"
   ]
  },
  {
   "cell_type": "code",
   "execution_count": null,
   "metadata": {},
   "outputs": [],
   "source": [
    "artist_url = 'https://www.whosampled.com/Jay-Z/'"
   ]
  },
  {
   "cell_type": "code",
   "execution_count": null,
   "metadata": {},
   "outputs": [],
   "source": [
    "song_url = (artist_url + (urllib.parse.quote(song_name\n",
    "                                            .replace(' ', '-'))\n",
    "                                            .replace('%28', '(')\n",
    "                                            .replace('%29', ')'))\n",
    "                                      + '/')"
   ]
  },
  {
   "cell_type": "code",
   "execution_count": null,
   "metadata": {},
   "outputs": [],
   "source": [
    "print(song_url)"
   ]
  },
  {
   "cell_type": "code",
   "execution_count": null,
   "metadata": {},
   "outputs": [],
   "source": [
    "# FIX WRONG IDS"
   ]
  },
  {
   "cell_type": "code",
   "execution_count": null,
   "metadata": {},
   "outputs": [],
   "source": [
    "conn = psycopg2.connect(dbname='mixmaker', host='localhost')\n",
    "cur = conn.cursor()"
   ]
  },
  {
   "cell_type": "code",
   "execution_count": null,
   "metadata": {},
   "outputs": [],
   "source": [
    "query = \"select id, url from songs where url like '%\\%28%' or url like ;\""
   ]
  },
  {
   "cell_type": "code",
   "execution_count": null,
   "metadata": {},
   "outputs": [],
   "source": [
    "query = \"\"\"   \n",
    "        SELECT id, url from songs\n",
    "        WHERE url LIKE '%\\%28%'\n",
    "        OR url LIKE '%\\%29%'\n",
    "        ORDER BY id\n",
    "        LIMIT 1;\n",
    "        \"\"\""
   ]
  },
  {
   "cell_type": "code",
   "execution_count": null,
   "metadata": {},
   "outputs": [],
   "source": [
    "cur.execute(query)\n",
    "conn.commit()"
   ]
  },
  {
   "cell_type": "code",
   "execution_count": null,
   "metadata": {},
   "outputs": [],
   "source": [
    "results = [x for x in cur]"
   ]
  },
  {
   "cell_type": "code",
   "execution_count": null,
   "metadata": {},
   "outputs": [],
   "source": [
    "results"
   ]
  },
  {
   "cell_type": "code",
   "execution_count": null,
   "metadata": {},
   "outputs": [],
   "source": [
    "song_url = results[0][1]"
   ]
  },
  {
   "cell_type": "code",
   "execution_count": null,
   "metadata": {},
   "outputs": [],
   "source": [
    "song_url = 'https://www.whosampled.com/James-Brown/Funky-President-%28People-It%27s-Bad%29/'"
   ]
  },
  {
   "cell_type": "code",
   "execution_count": null,
   "metadata": {},
   "outputs": [],
   "source": [
    "correct_song_url = song_url.replace('%28', '(').replace('%29', ')')"
   ]
  },
  {
   "cell_type": "code",
   "execution_count": null,
   "metadata": {},
   "outputs": [],
   "source": [
    "correct_song_url"
   ]
  },
  {
   "cell_type": "code",
   "execution_count": null,
   "metadata": {},
   "outputs": [],
   "source": [
    "query = \"\"\"   \n",
    "        SELECT id, url from songs\n",
    "        WHERE url = %s\n",
    "        LIMIT 1;\n",
    "        \"\"\"\n",
    "cur.execute(query, (correct_song_url,))\n",
    "conn.commit()"
   ]
  },
  {
   "cell_type": "code",
   "execution_count": null,
   "metadata": {},
   "outputs": [],
   "source": [
    "results = [x for x in cur]"
   ]
  },
  {
   "cell_type": "code",
   "execution_count": null,
   "metadata": {},
   "outputs": [],
   "source": [
    "results[0][0]"
   ]
  },
  {
   "cell_type": "code",
   "execution_count": null,
   "metadata": {},
   "outputs": [],
   "source": [
    "old_id = 6122"
   ]
  },
  {
   "cell_type": "code",
   "execution_count": null,
   "metadata": {},
   "outputs": [],
   "source": [
    "if len(results) == 1:\n",
    "    update_song_id = \"\"\"   \n",
    "                     UPDATE connections\n",
    "                     SET song_id = %s\n",
    "                     WHERE song_id = %s;\n",
    "                     \"\"\"\n",
    "    update_sampled = \"\"\"   \n",
    "                     UPDATE connections\n",
    "                     SET sampled_by_song_id = %s\n",
    "                     WHERE sampled_by_song_id = %s;\n",
    "                     \"\"\"\n",
    "    cur.execute(update_song_id, (results[0][0], old_id))\n",
    "    cur.execute(update_sampled, (18973, 123456))\n",
    "                                                       \n",
    "    conn.commit()"
   ]
  },
  {
   "cell_type": "code",
   "execution_count": 22,
   "metadata": {},
   "outputs": [
    {
     "name": "stdout",
     "output_type": "stream",
     "text": [
      "done\n"
     ]
    }
   ],
   "source": [
    "db.fix_similar_url_ids()"
   ]
  },
  {
   "cell_type": "code",
   "execution_count": 10,
   "metadata": {},
   "outputs": [],
   "source": [
    "db = database_interaction.DatabaseInteraction()"
   ]
  },
  {
   "cell_type": "code",
   "execution_count": 29,
   "metadata": {},
   "outputs": [],
   "source": [
    "songs = db.get_table('songs')"
   ]
  },
  {
   "cell_type": "code",
   "execution_count": 39,
   "metadata": {},
   "outputs": [],
   "source": [
    "jb = db.get_song_and_artist_names(artist_id=1)"
   ]
  },
  {
   "cell_type": "code",
   "execution_count": 42,
   "metadata": {},
   "outputs": [],
   "source": [
    "url = 'https://www.whosampled.com/James-Brown/The-Boss/'"
   ]
  },
  {
   "cell_type": "code",
   "execution_count": 58,
   "metadata": {},
   "outputs": [
    {
     "name": "stdout",
     "output_type": "stream",
     "text": [
      "['https:', '', 'www.whosampled.com', 'James-Brown', 'The-Boss', '']\n"
     ]
    },
    {
     "data": {
      "text/plain": [
       "'https://www.whosampled.com/James-Brown/'"
      ]
     },
     "execution_count": 58,
     "metadata": {},
     "output_type": "execute_result"
    }
   ],
   "source": [
    "splits = url.split('/')\n",
    "print(splits)\n",
    "'/'.join(splits[:-2]) + '/'"
   ]
  },
  {
   "cell_type": "code",
   "execution_count": 63,
   "metadata": {},
   "outputs": [
    {
     "data": {
      "text/plain": [
       "'The-Boss'"
      ]
     },
     "execution_count": 63,
     "metadata": {},
     "output_type": "execute_result"
    }
   ],
   "source": [
    "splits[4]"
   ]
  },
  {
   "cell_type": "code",
   "execution_count": 67,
   "metadata": {},
   "outputs": [],
   "source": [
    "def split_off_song_name(url):\n",
    "    splits = url.split('/')\n",
    "    if ((splits[5] == 'tv') or \n",
    "        (splits[5] == 'movie')):\n",
    "        '/'.join(splits[:5]) + '/' \n",
    "    return '/'.join(splits[:4]) + '/'"
   ]
  },
  {
   "cell_type": "code",
   "execution_count": 68,
   "metadata": {},
   "outputs": [
    {
     "data": {
      "text/plain": [
       "'https://www.whosampled.com/James-Brown/'"
      ]
     },
     "execution_count": 68,
     "metadata": {},
     "output_type": "execute_result"
    }
   ],
   "source": [
    "split_off_song_name(url)"
   ]
  },
  {
   "cell_type": "code",
   "execution_count": 71,
   "metadata": {},
   "outputs": [],
   "source": [
    "jb['correct_artist_url'] = jb['song_url'].apply(split_off_song_name)"
   ]
  },
  {
   "cell_type": "code",
   "execution_count": 73,
   "metadata": {},
   "outputs": [],
   "source": [
    "artists = db.get_table('artists')"
   ]
  },
  {
   "cell_type": "code",
   "execution_count": 97,
   "metadata": {},
   "outputs": [],
   "source": [
    "jb = jb.merge(artists, left_on='correct_artist_url', right_on='url')"
   ]
  },
  {
   "cell_type": "code",
   "execution_count": 77,
   "metadata": {},
   "outputs": [],
   "source": [
    "row0 = pd.DataFrame(jb.loc[0, :])"
   ]
  },
  {
   "cell_type": "code",
   "execution_count": 100,
   "metadata": {},
   "outputs": [],
   "source": [
    "def correct_artist_names(df):\n",
    "    if df['artist_name'] != df['name']:\n",
    "        return df['name']\n",
    "    else:\n",
    "        return df['artist_name']"
   ]
  },
  {
   "cell_type": "code",
   "execution_count": 101,
   "metadata": {
    "scrolled": true
   },
   "outputs": [
    {
     "data": {
      "text/plain": [
       "0           James Brown\n",
       "1           James Brown\n",
       "2           James Brown\n",
       "3           James Brown\n",
       "4           James Brown\n",
       "5           James Brown\n",
       "6           James Brown\n",
       "7           James Brown\n",
       "8           James Brown\n",
       "9           James Brown\n",
       "10          James Brown\n",
       "11          James Brown\n",
       "12          James Brown\n",
       "13          James Brown\n",
       "14          James Brown\n",
       "15          James Brown\n",
       "16          James Brown\n",
       "17          James Brown\n",
       "18          James Brown\n",
       "19          James Brown\n",
       "20          James Brown\n",
       "21          James Brown\n",
       "22          James Brown\n",
       "23          James Brown\n",
       "24          James Brown\n",
       "25          James Brown\n",
       "26          James Brown\n",
       "27          James Brown\n",
       "28          James Brown\n",
       "29          James Brown\n",
       "             ...       \n",
       "263         James Brown\n",
       "264         James Brown\n",
       "265         James Brown\n",
       "266         James Brown\n",
       "267         James Brown\n",
       "268         James Brown\n",
       "269         James Brown\n",
       "270         James Brown\n",
       "271         James Brown\n",
       "272         James Brown\n",
       "273         James Brown\n",
       "274         James Brown\n",
       "275         James Brown\n",
       "276         James Brown\n",
       "277         James Brown\n",
       "278         James Brown\n",
       "279         James Brown\n",
       "280         James Brown\n",
       "281         James Brown\n",
       "282     Black Eyed Peas\n",
       "283     Black Eyed Peas\n",
       "284    Afrika Bambaataa\n",
       "285    Afrika Bambaataa\n",
       "286    Afrika Bambaataa\n",
       "287    Afrika Bambaataa\n",
       "288    Afrika Bambaataa\n",
       "289    Afrika Bambaataa\n",
       "290         Lyn Collins\n",
       "291       Marva Whitney\n",
       "292      Vicki Anderson\n",
       "Length: 293, dtype: object"
      ]
     },
     "execution_count": 101,
     "metadata": {},
     "output_type": "execute_result"
    }
   ],
   "source": [
    "jb.apply(correct_artist_names, axis=1)"
   ]
  },
  {
   "cell_type": "code",
   "execution_count": 126,
   "metadata": {},
   "outputs": [
    {
     "name": "stdout",
     "output_type": "stream",
     "text": [
      "1.81 s ± 130 ms per loop (mean ± std. dev. of 7 runs, 1 loop each)\n"
     ]
    }
   ],
   "source": [
    "%timeit all_songs = db.get_song_and_artist_names()"
   ]
  },
  {
   "cell_type": "code",
   "execution_count": 132,
   "metadata": {
    "scrolled": true
   },
   "outputs": [
    {
     "data": {
      "text/html": [
       "<div>\n",
       "<style scoped>\n",
       "    .dataframe tbody tr th:only-of-type {\n",
       "        vertical-align: middle;\n",
       "    }\n",
       "\n",
       "    .dataframe tbody tr th {\n",
       "        vertical-align: top;\n",
       "    }\n",
       "\n",
       "    .dataframe thead th {\n",
       "        text-align: right;\n",
       "    }\n",
       "</style>\n",
       "<table border=\"1\" class=\"dataframe\">\n",
       "  <thead>\n",
       "    <tr style=\"text-align: right;\">\n",
       "      <th></th>\n",
       "      <th>song_name</th>\n",
       "    </tr>\n",
       "  </thead>\n",
       "  <tbody>\n",
       "    <tr>\n",
       "      <th>80</th>\n",
       "      <td>Payback (The Final Mixdown)</td>\n",
       "    </tr>\n",
       "    <tr>\n",
       "      <th>81</th>\n",
       "      <td>Funky President (People It's Bad) (1974)</td>\n",
       "    </tr>\n",
       "    <tr>\n",
       "      <th>82</th>\n",
       "      <td>Funky Drummer (1970)</td>\n",
       "    </tr>\n",
       "    <tr>\n",
       "      <th>83</th>\n",
       "      <td>My Thang (1974)</td>\n",
       "    </tr>\n",
       "    <tr>\n",
       "      <th>84</th>\n",
       "      <td>The Payback Mix (Keep on Doing What You're Doi...</td>\n",
       "    </tr>\n",
       "    <tr>\n",
       "      <th>85</th>\n",
       "      <td>In the Middle (1968)</td>\n",
       "    </tr>\n",
       "    <tr>\n",
       "      <th>86</th>\n",
       "      <td>Give It Up or Turnit a Loose (1969)</td>\n",
       "    </tr>\n",
       "    <tr>\n",
       "      <th>87</th>\n",
       "      <td>(Get Up I Feel LIke Being Like A) Sex Machine ...</td>\n",
       "    </tr>\n",
       "    <tr>\n",
       "      <th>88</th>\n",
       "      <td>There Was a Time (1969)</td>\n",
       "    </tr>\n",
       "    <tr>\n",
       "      <th>89</th>\n",
       "      <td>Funky Drummer (Bonus Beat Reprise)</td>\n",
       "    </tr>\n",
       "    <tr>\n",
       "      <th>90</th>\n",
       "      <td>Give It Up or Turnit a Loose (Remix)</td>\n",
       "    </tr>\n",
       "    <tr>\n",
       "      <th>91</th>\n",
       "      <td>I Don't Want Nobody to Give Me Nothing (Open U...</td>\n",
       "    </tr>\n",
       "    <tr>\n",
       "      <th>92</th>\n",
       "      <td>You're Still Out of Sight (1969)</td>\n",
       "    </tr>\n",
       "    <tr>\n",
       "      <th>93</th>\n",
       "      <td>Sex Machine Part I and Part II (1975)</td>\n",
       "    </tr>\n",
       "    <tr>\n",
       "      <th>94</th>\n",
       "      <td>Ain't That a Groove (Part 1) (1966)\\nby James ...</td>\n",
       "    </tr>\n",
       "    <tr>\n",
       "      <th>95</th>\n",
       "      <td>Brother Rapp/Ain't It Funky Now (Live)</td>\n",
       "    </tr>\n",
       "    <tr>\n",
       "      <th>96</th>\n",
       "      <td>The Payback (1973)</td>\n",
       "    </tr>\n",
       "    <tr>\n",
       "      <th>97</th>\n",
       "      <td>Say It Loud, I'm Black and I'm Proud (1968)</td>\n",
       "    </tr>\n",
       "    <tr>\n",
       "      <th>98</th>\n",
       "      <td>Licking Stick - Licking Stick (1968)</td>\n",
       "    </tr>\n",
       "    <tr>\n",
       "      <th>99</th>\n",
       "      <td>Introduction to Star Time! (1968)</td>\n",
       "    </tr>\n",
       "    <tr>\n",
       "      <th>100</th>\n",
       "      <td>Funky Drummer (Bonus Beat Reprise) (1986)</td>\n",
       "    </tr>\n",
       "    <tr>\n",
       "      <th>101</th>\n",
       "      <td>Blind Man Can See It (1973)</td>\n",
       "    </tr>\n",
       "    <tr>\n",
       "      <th>102</th>\n",
       "      <td>The Boss (1973)</td>\n",
       "    </tr>\n",
       "    <tr>\n",
       "      <th>103</th>\n",
       "      <td>I'm a Greedy Man (1971)</td>\n",
       "    </tr>\n",
       "    <tr>\n",
       "      <th>104</th>\n",
       "      <td>Coldblooded (1974)</td>\n",
       "    </tr>\n",
       "    <tr>\n",
       "      <th>105</th>\n",
       "      <td>Blues and Pants (1971)</td>\n",
       "    </tr>\n",
       "    <tr>\n",
       "      <th>106</th>\n",
       "      <td>Mind Power (1973)</td>\n",
       "    </tr>\n",
       "    <tr>\n",
       "      <th>107</th>\n",
       "      <td>Sunny (1968)</td>\n",
       "    </tr>\n",
       "    <tr>\n",
       "      <th>108</th>\n",
       "      <td>People Get Up and Drive Your Funky Soul (Remix...</td>\n",
       "    </tr>\n",
       "    <tr>\n",
       "      <th>109</th>\n",
       "      <td>Make It Funky (1971)</td>\n",
       "    </tr>\n",
       "    <tr>\n",
       "      <th>...</th>\n",
       "      <td>...</td>\n",
       "    </tr>\n",
       "    <tr>\n",
       "      <th>332</th>\n",
       "      <td>Can't Get Any Harder (C&amp;C / Leaders of the New...</td>\n",
       "    </tr>\n",
       "    <tr>\n",
       "      <th>333</th>\n",
       "      <td>Get Up Offa That Thing</td>\n",
       "    </tr>\n",
       "    <tr>\n",
       "      <th>334</th>\n",
       "      <td>Don't Tell a Lie About Me and I Won't Tell the...</td>\n",
       "    </tr>\n",
       "    <tr>\n",
       "      <th>335</th>\n",
       "      <td>Funky Drummer (Listen to the Muro Mix)</td>\n",
       "    </tr>\n",
       "    <tr>\n",
       "      <th>336</th>\n",
       "      <td>No Static (The 8 Minute Full Force Def Mix)</td>\n",
       "    </tr>\n",
       "    <tr>\n",
       "      <th>337</th>\n",
       "      <td>Superbad, Superslick</td>\n",
       "    </tr>\n",
       "    <tr>\n",
       "      <th>338</th>\n",
       "      <td>I Got a Good Thing (And I Ain't Gonna Let It Go)</td>\n",
       "    </tr>\n",
       "    <tr>\n",
       "      <th>339</th>\n",
       "      <td>Say It Loud, I'm Black and I'm Proud</td>\n",
       "    </tr>\n",
       "    <tr>\n",
       "      <th>340</th>\n",
       "      <td>Hot Pants Pt. 1 (She Got to Use What She Got t...</td>\n",
       "    </tr>\n",
       "    <tr>\n",
       "      <th>341</th>\n",
       "      <td>I Got to Move (1986)</td>\n",
       "    </tr>\n",
       "    <tr>\n",
       "      <th>342</th>\n",
       "      <td>Just Won't Do Right (1957)\\nby James Brown and...</td>\n",
       "    </tr>\n",
       "    <tr>\n",
       "      <th>343</th>\n",
       "      <td>I Got You (I Feel Good)</td>\n",
       "    </tr>\n",
       "    <tr>\n",
       "      <th>344</th>\n",
       "      <td>Get Up, Get Into It, Get Involved</td>\n",
       "    </tr>\n",
       "    <tr>\n",
       "      <th>345</th>\n",
       "      <td>Introduction to Say It Loud - I'm Black and I'...</td>\n",
       "    </tr>\n",
       "    <tr>\n",
       "      <th>346</th>\n",
       "      <td>Soul Power (Live)</td>\n",
       "    </tr>\n",
       "    <tr>\n",
       "      <th>347</th>\n",
       "      <td>Funky President (People It's Bad)</td>\n",
       "    </tr>\n",
       "    <tr>\n",
       "      <th>348</th>\n",
       "      <td>Static (Full Force Remix)</td>\n",
       "    </tr>\n",
       "    <tr>\n",
       "      <th>349</th>\n",
       "      <td>Talkin' Loud &amp; Sayin' Nothing (Pt 1 &amp; 2)</td>\n",
       "    </tr>\n",
       "    <tr>\n",
       "      <th>350</th>\n",
       "      <td>Mother Popcorn (Live)</td>\n",
       "    </tr>\n",
       "    <tr>\n",
       "      <th>351</th>\n",
       "      <td>Get Up (I Feel Like Being A) Sex Machine</td>\n",
       "    </tr>\n",
       "    <tr>\n",
       "      <th>352</th>\n",
       "      <td>Let Yourself Go (1967)\\nby James Brown and The...</td>\n",
       "    </tr>\n",
       "    <tr>\n",
       "      <th>353</th>\n",
       "      <td>Get It Together (Part 1) (1967)\\nby James Brow...</td>\n",
       "    </tr>\n",
       "    <tr>\n",
       "      <th>354</th>\n",
       "      <td>Deep in It (Lost and Found, at Last Mix) (2002)</td>\n",
       "    </tr>\n",
       "    <tr>\n",
       "      <th>355</th>\n",
       "      <td>You Can't Keep a Good Man Down (1983)</td>\n",
       "    </tr>\n",
       "    <tr>\n",
       "      <th>356</th>\n",
       "      <td>Funk on Ah Roll (Bump &amp; Flex Mix) (1999)</td>\n",
       "    </tr>\n",
       "    <tr>\n",
       "      <th>357</th>\n",
       "      <td>These Foolish Things (1963)\\nby James Brown an...</td>\n",
       "    </tr>\n",
       "    <tr>\n",
       "      <th>358</th>\n",
       "      <td>She's the One (Funky Drummer Remix)</td>\n",
       "    </tr>\n",
       "    <tr>\n",
       "      <th>359</th>\n",
       "      <td>Unchained (The Payback/Untouchable)</td>\n",
       "    </tr>\n",
       "    <tr>\n",
       "      <th>360</th>\n",
       "      <td>Hot Pants (She Got to Use What She Got to Get ...</td>\n",
       "    </tr>\n",
       "    <tr>\n",
       "      <th>361</th>\n",
       "      <td>Introduction to Star Time!</td>\n",
       "    </tr>\n",
       "  </tbody>\n",
       "</table>\n",
       "<p>282 rows × 1 columns</p>\n",
       "</div>"
      ],
      "text/plain": [
       "                                             song_name\n",
       "80                         Payback (The Final Mixdown)\n",
       "81            Funky President (People It's Bad) (1974)\n",
       "82                                Funky Drummer (1970)\n",
       "83                                     My Thang (1974)\n",
       "84   The Payback Mix (Keep on Doing What You're Doi...\n",
       "85                                In the Middle (1968)\n",
       "86                 Give It Up or Turnit a Loose (1969)\n",
       "87   (Get Up I Feel LIke Being Like A) Sex Machine ...\n",
       "88                             There Was a Time (1969)\n",
       "89                  Funky Drummer (Bonus Beat Reprise)\n",
       "90                Give It Up or Turnit a Loose (Remix)\n",
       "91   I Don't Want Nobody to Give Me Nothing (Open U...\n",
       "92                    You're Still Out of Sight (1969)\n",
       "93               Sex Machine Part I and Part II (1975)\n",
       "94   Ain't That a Groove (Part 1) (1966)\\nby James ...\n",
       "95              Brother Rapp/Ain't It Funky Now (Live)\n",
       "96                                  The Payback (1973)\n",
       "97         Say It Loud, I'm Black and I'm Proud (1968)\n",
       "98                Licking Stick - Licking Stick (1968)\n",
       "99                   Introduction to Star Time! (1968)\n",
       "100          Funky Drummer (Bonus Beat Reprise) (1986)\n",
       "101                        Blind Man Can See It (1973)\n",
       "102                                    The Boss (1973)\n",
       "103                            I'm a Greedy Man (1971)\n",
       "104                                 Coldblooded (1974)\n",
       "105                             Blues and Pants (1971)\n",
       "106                                  Mind Power (1973)\n",
       "107                                       Sunny (1968)\n",
       "108  People Get Up and Drive Your Funky Soul (Remix...\n",
       "109                               Make It Funky (1971)\n",
       "..                                                 ...\n",
       "332  Can't Get Any Harder (C&C / Leaders of the New...\n",
       "333                             Get Up Offa That Thing\n",
       "334  Don't Tell a Lie About Me and I Won't Tell the...\n",
       "335             Funky Drummer (Listen to the Muro Mix)\n",
       "336        No Static (The 8 Minute Full Force Def Mix)\n",
       "337                               Superbad, Superslick\n",
       "338   I Got a Good Thing (And I Ain't Gonna Let It Go)\n",
       "339               Say It Loud, I'm Black and I'm Proud\n",
       "340  Hot Pants Pt. 1 (She Got to Use What She Got t...\n",
       "341                               I Got to Move (1986)\n",
       "342  Just Won't Do Right (1957)\\nby James Brown and...\n",
       "343                            I Got You (I Feel Good)\n",
       "344                  Get Up, Get Into It, Get Involved\n",
       "345  Introduction to Say It Loud - I'm Black and I'...\n",
       "346                                  Soul Power (Live)\n",
       "347                  Funky President (People It's Bad)\n",
       "348                          Static (Full Force Remix)\n",
       "349           Talkin' Loud & Sayin' Nothing (Pt 1 & 2)\n",
       "350                              Mother Popcorn (Live)\n",
       "351           Get Up (I Feel Like Being A) Sex Machine\n",
       "352  Let Yourself Go (1967)\\nby James Brown and The...\n",
       "353  Get It Together (Part 1) (1967)\\nby James Brow...\n",
       "354    Deep in It (Lost and Found, at Last Mix) (2002)\n",
       "355              You Can't Keep a Good Man Down (1983)\n",
       "356           Funk on Ah Roll (Bump & Flex Mix) (1999)\n",
       "357  These Foolish Things (1963)\\nby James Brown an...\n",
       "358                She's the One (Funky Drummer Remix)\n",
       "359                Unchained (The Payback/Untouchable)\n",
       "360  Hot Pants (She Got to Use What She Got to Get ...\n",
       "361                         Introduction to Star Time!\n",
       "\n",
       "[282 rows x 1 columns]"
      ]
     },
     "execution_count": 132,
     "metadata": {},
     "output_type": "execute_result"
    }
   ],
   "source": [
    "pd.DataFrame(all_songs.loc[all_songs['artist_name'] == 'James Brown', 'song_name'], columns=['song_name'])"
   ]
  },
  {
   "cell_type": "code",
   "execution_count": 136,
   "metadata": {},
   "outputs": [],
   "source": [
    "jb_songs = jb['song_name'].apply(lambda x: x.split('\\n'))"
   ]
  },
  {
   "cell_type": "code",
   "execution_count": 167,
   "metadata": {},
   "outputs": [],
   "source": [
    "def _fix_song_titles(name):\n",
    "    split = name.split('\\n')\n",
    "    return re.sub(r' \\((19|20)[0-9]{2}\\)', '' ,split[0])\n",
    "                       "
   ]
  },
  {
   "cell_type": "code",
   "execution_count": 170,
   "metadata": {},
   "outputs": [],
   "source": [
    "jb['song_name_one_line'] = jb['song_name'].apply(_fix_song_titles)"
   ]
  },
  {
   "cell_type": "code",
   "execution_count": 171,
   "metadata": {},
   "outputs": [
    {
     "data": {
      "text/plain": [
       "0                          Payback (The Final Mixdown)\n",
       "1                    Funky President (People It's Bad)\n",
       "2                                        Funky Drummer\n",
       "3                                             My Thang\n",
       "4    The Payback Mix (Keep on Doing What You're Doi...\n",
       "Name: song_name_one_line, dtype: object"
      ]
     },
     "execution_count": 171,
     "metadata": {},
     "output_type": "execute_result"
    }
   ],
   "source": [
    "jb['song_name_one_line'].head()"
   ]
  },
  {
   "cell_type": "code",
   "execution_count": 214,
   "metadata": {},
   "outputs": [],
   "source": [
    "query = \"\"\"\n",
    "        SELECT id, name\n",
    "        FROM songs\n",
    "        WHERE id = %s\n",
    "        \"\"\"\n",
    "db.cur.execute(query, (13,))\n",
    "db.conn.commit()"
   ]
  },
  {
   "cell_type": "code",
   "execution_count": 212,
   "metadata": {},
   "outputs": [],
   "source": [
    "song = [x for x in db.cur]"
   ]
  },
  {
   "cell_type": "code",
   "execution_count": 213,
   "metadata": {},
   "outputs": [
    {
     "data": {
      "text/plain": [
       "[(13, \"I'm a Greedy Man (1971)\", \"I'm a Greedy Man\")]"
      ]
     },
     "execution_count": 213,
     "metadata": {},
     "output_type": "execute_result"
    }
   ],
   "source": [
    "song"
   ]
  },
  {
   "cell_type": "code",
   "execution_count": 210,
   "metadata": {},
   "outputs": [
    {
     "data": {
      "text/plain": [
       "\"I'm a Greedy Man\""
      ]
     },
     "execution_count": 210,
     "metadata": {},
     "output_type": "execute_result"
    }
   ],
   "source": [
    "_fix_song_titles(song[0][1])"
   ]
  },
  {
   "cell_type": "code",
   "execution_count": 206,
   "metadata": {},
   "outputs": [],
   "source": [
    "db._find_replace_for_song_titles(13)"
   ]
  },
  {
   "cell_type": "code",
   "execution_count": 222,
   "metadata": {},
   "outputs": [],
   "source": [
    "query = \"\"\"\n",
    "        SELECT id\n",
    "        FROM songs\n",
    "        \"\"\"\n",
    "db.cur.execute(query)\n",
    "db.conn.commit()"
   ]
  },
  {
   "cell_type": "code",
   "execution_count": 223,
   "metadata": {},
   "outputs": [],
   "source": [
    "song_ids = [x for (x,) in db.cur]"
   ]
  },
  {
   "cell_type": "code",
   "execution_count": 230,
   "metadata": {},
   "outputs": [
    {
     "name": "stdout",
     "output_type": "stream",
     "text": [
      "done\n"
     ]
    }
   ],
   "source": [
    "db._find_replace_for_song_titles()"
   ]
  },
  {
   "cell_type": "code",
   "execution_count": 232,
   "metadata": {},
   "outputs": [
    {
     "data": {
      "text/plain": [
       "1"
      ]
     },
     "execution_count": 232,
     "metadata": {},
     "output_type": "execute_result"
    }
   ],
   "source": [
    "jb.loc[0,'scraped']"
   ]
  },
  {
   "cell_type": "code",
   "execution_count": 44,
   "metadata": {
    "scrolled": false
   },
   "outputs": [
    {
     "name": "stdout",
     "output_type": "stream",
     "text": [
      "done\n"
     ]
    }
   ],
   "source": [
    "db._write_corrected_artist_ids()"
   ]
  },
  {
   "cell_type": "code",
   "execution_count": 41,
   "metadata": {},
   "outputs": [
    {
     "name": "stdout",
     "output_type": "stream",
     "text": [
      "Automatic pdb calling has been turned ON\n"
     ]
    }
   ],
   "source": [
    "pdb"
   ]
  },
  {
   "cell_type": "code",
   "execution_count": 16,
   "metadata": {},
   "outputs": [],
   "source": [
    "artists = db.get_table('artists')"
   ]
  },
  {
   "cell_type": "code",
   "execution_count": 17,
   "metadata": {},
   "outputs": [
    {
     "data": {
      "text/plain": [
       "Index(['id', 'name', 'url', 'scraped', 'scraped_spotify'], dtype='object')"
      ]
     },
     "execution_count": 17,
     "metadata": {},
     "output_type": "execute_result"
    }
   ],
   "source": [
    "artists.columns"
   ]
  },
  {
   "cell_type": "code",
   "execution_count": 30,
   "metadata": {},
   "outputs": [],
   "source": [
    "query = \"\"\"\n",
    "        SELECT id, artist_id, url\n",
    "        FROM songs\n",
    "        WHERE corrected_artist_id = 0\n",
    "        ORDER BY id\n",
    "        LIMIT 1;\n",
    "        \"\"\"\n",
    "db.cur.execute(query)\n",
    "db.conn.commit()"
   ]
  },
  {
   "cell_type": "code",
   "execution_count": 31,
   "metadata": {},
   "outputs": [
    {
     "data": {
      "text/html": [
       "<div>\n",
       "<style scoped>\n",
       "    .dataframe tbody tr th:only-of-type {\n",
       "        vertical-align: middle;\n",
       "    }\n",
       "\n",
       "    .dataframe tbody tr th {\n",
       "        vertical-align: top;\n",
       "    }\n",
       "\n",
       "    .dataframe thead th {\n",
       "        text-align: right;\n",
       "    }\n",
       "</style>\n",
       "<table border=\"1\" class=\"dataframe\">\n",
       "  <thead>\n",
       "    <tr style=\"text-align: right;\">\n",
       "      <th></th>\n",
       "      <th>id</th>\n",
       "      <th>artist_id</th>\n",
       "      <th>song_url</th>\n",
       "    </tr>\n",
       "  </thead>\n",
       "  <tbody>\n",
       "    <tr>\n",
       "      <th>0</th>\n",
       "      <td>111</td>\n",
       "      <td>1</td>\n",
       "      <td>https://www.whosampled.com/tv/Sonya-Live!-In-L...</td>\n",
       "    </tr>\n",
       "  </tbody>\n",
       "</table>\n",
       "</div>"
      ],
      "text/plain": [
       "    id  artist_id                                           song_url\n",
       "0  111          1  https://www.whosampled.com/tv/Sonya-Live!-In-L..."
      ]
     },
     "execution_count": 31,
     "metadata": {},
     "output_type": "execute_result"
    }
   ],
   "source": [
    "df = pd.DataFrame([x for x in db.cur], columns=['id', 'artist_id', 'song_url'])\n",
    "df"
   ]
  },
  {
   "cell_type": "code",
   "execution_count": 33,
   "metadata": {},
   "outputs": [],
   "source": [
    "url = (df.loc[0,'song_url'])"
   ]
  },
  {
   "cell_type": "code",
   "execution_count": 34,
   "metadata": {},
   "outputs": [
    {
     "data": {
      "text/plain": [
       "'https://www.whosampled.com/tv/Sonya-Live!-In-LA/James-Brown-Interview/'"
      ]
     },
     "execution_count": 34,
     "metadata": {},
     "output_type": "execute_result"
    }
   ],
   "source": [
    "url"
   ]
  },
  {
   "cell_type": "code",
   "execution_count": 38,
   "metadata": {},
   "outputs": [
    {
     "data": {
      "text/plain": [
       "'tv'"
      ]
     },
     "execution_count": 38,
     "metadata": {},
     "output_type": "execute_result"
    }
   ],
   "source": [
    "url.split('/')[3]"
   ]
  },
  {
   "cell_type": "code",
   "execution_count": 39,
   "metadata": {},
   "outputs": [
    {
     "data": {
      "text/plain": [
       "'https://www.whosampled.com/tv/Sonya-Live!-In-LA/'"
      ]
     },
     "execution_count": 39,
     "metadata": {},
     "output_type": "execute_result"
    }
   ],
   "source": [
    "db._extract_real_artist_url(url)"
   ]
  },
  {
   "cell_type": "code",
   "execution_count": null,
   "metadata": {},
   "outputs": [],
   "source": []
  }
 ],
 "metadata": {
  "kernelspec": {
   "display_name": "Python 3",
   "language": "python",
   "name": "python3"
  },
  "language_info": {
   "codemirror_mode": {
    "name": "ipython",
    "version": 3
   },
   "file_extension": ".py",
   "mimetype": "text/x-python",
   "name": "python",
   "nbconvert_exporter": "python",
   "pygments_lexer": "ipython3",
   "version": "3.6.4"
  }
 },
 "nbformat": 4,
 "nbformat_minor": 2
}
