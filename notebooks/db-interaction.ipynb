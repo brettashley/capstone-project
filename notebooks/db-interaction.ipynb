{
 "cells": [
  {
   "cell_type": "code",
   "execution_count": 1,
   "metadata": {},
   "outputs": [],
   "source": [
    "import selenium\n",
    "from selenium.webdriver import Firefox, Chrome\n",
    "import time\n",
    "import psycopg2\n",
    "import pandas as pd\n",
    "from psycopg2.extras import Json"
   ]
  },
  {
   "cell_type": "code",
   "execution_count": 2,
   "metadata": {},
   "outputs": [
    {
     "name": "stdout",
     "output_type": "stream",
     "text": [
      "/Users/brettashley/galvanize/dsi/00-Capstone/mix-maker/mixmaker\n"
     ]
    }
   ],
   "source": [
    "cd /Users/brettashley/galvanize/dsi/00-Capstone/mix-maker/mixmaker/"
   ]
  },
  {
   "cell_type": "code",
   "execution_count": 3,
   "metadata": {},
   "outputs": [],
   "source": [
    "from scraper import Scraper\n",
    "import database_interaction\n",
    "# import DataBaseInteraction"
   ]
  },
  {
   "cell_type": "code",
   "execution_count": 5,
   "metadata": {},
   "outputs": [],
   "source": [
    "conn = psycopg2.connect(dbname='mixmaker2', host='localhost')\n",
    "cur = conn.cursor()"
   ]
  },
  {
   "cell_type": "code",
   "execution_count": null,
   "metadata": {},
   "outputs": [],
   "source": [
    "sel = \"div#content div.divided-layout div.layout-container.leftContent div\"\n",
    "url = 'https://www.whosampled.com/genre/Soul-Funk-Disco/'\n",
    "desired_section = 'Most influential artists'"
   ]
  },
  {
   "cell_type": "code",
   "execution_count": null,
   "metadata": {},
   "outputs": [],
   "source": [
    "# s = Scraper('https://www.whosampled.com/genre/Soul-Funk-Disco/')"
   ]
  },
  {
   "cell_type": "code",
   "execution_count": null,
   "metadata": {},
   "outputs": [],
   "source": [
    "# artist_section = s.find_desired_section(sel, desired_section)"
   ]
  },
  {
   "cell_type": "code",
   "execution_count": null,
   "metadata": {},
   "outputs": [],
   "source": [
    "# artist_urls = list(s.get_artist_urls(artist_section))"
   ]
  },
  {
   "cell_type": "code",
   "execution_count": null,
   "metadata": {},
   "outputs": [],
   "source": [
    "# test['url'] = u'https://www.whosampled.com/The-J.B.%27s/'"
   ]
  },
  {
   "cell_type": "code",
   "execution_count": null,
   "metadata": {},
   "outputs": [],
   "source": [
    "# artist_urls[9]['name']"
   ]
  },
  {
   "cell_type": "code",
   "execution_count": null,
   "metadata": {},
   "outputs": [],
   "source": [
    "artist_urls = [{'name': 'James Brown', 'url': 'https://www.whosampled.com/James-Brown/'},\n",
    " {'name': 'Traditional Folk',\n",
    "  'url': 'https://www.whosampled.com/Traditional-Folk/'},\n",
    " {'name': 'Kool & the Gang',\n",
    "  'url': 'https://www.whosampled.com/Kool-%26-the-Gang/'},\n",
    " {'name': 'Funkadelic', 'url': 'https://www.whosampled.com/Funkadelic/'},\n",
    " {'name': 'The Beatles', 'url': 'https://www.whosampled.com/The-Beatles/'},\n",
    " {'name': 'Marvin Gaye', 'url': 'https://www.whosampled.com/Marvin-Gaye/'},\n",
    " {'name': 'Michael Jackson',\n",
    "  'url': 'https://www.whosampled.com/Michael-Jackson/'},\n",
    " {'name': 'Parliament', 'url': 'https://www.whosampled.com/Parliament/'},\n",
    " {'name': 'Prince', 'url': 'https://www.whosampled.com/Prince/'},\n",
    " {'name': \"The J.B.'s\", 'url': 'https://www.whosampled.com/The-J.B.%27s/'},\n",
    " {'name': 'Chic', 'url': 'https://www.whosampled.com/Chic/'},\n",
    " {'name': 'Lyn Collins', 'url': 'https://www.whosampled.com/Lyn-Collins/'},\n",
    " {'name': 'Isaac Hayes', 'url': 'https://www.whosampled.com/Isaac-Hayes/'},\n",
    " {'name': 'KC & the Sunshine Band',\n",
    "  'url': 'https://www.whosampled.com/KC-%26-the-Sunshine-Band/'},\n",
    " {'name': 'Stevie Wonder', 'url': 'https://www.whosampled.com/Stevie-Wonder/'},\n",
    " {'name': 'Earth, Wind & Fire',\n",
    "  'url': 'https://www.whosampled.com/Earth,-Wind-%26-Fire/'},\n",
    " {'name': 'Bee Gees', 'url': 'https://www.whosampled.com/Bee-Gees/'},\n",
    " {'name': 'George Benson', 'url': 'https://www.whosampled.com/George-Benson/'},\n",
    " {'name': 'Bobby Byrd', 'url': 'https://www.whosampled.com/Bobby-Byrd/'},\n",
    " {'name': 'Fred Wesley', 'url': 'https://www.whosampled.com/Fred-Wesley/'},\n",
    " {'name': 'The Temptations',\n",
    "  'url': 'https://www.whosampled.com/The-Temptations/'},\n",
    " {'name': 'Sly & the Family Stone',\n",
    "  'url': 'https://www.whosampled.com/Sly-%26-the-Family-Stone/'},\n",
    " {'name': 'Delegation', 'url': 'https://www.whosampled.com/Delegation/'},\n",
    " {'name': 'Dalida', 'url': 'https://www.whosampled.com/Dalida/'}]"
   ]
  },
  {
   "cell_type": "code",
   "execution_count": null,
   "metadata": {},
   "outputs": [],
   "source": [
    "db = DatabaseInteraction()"
   ]
  },
  {
   "cell_type": "code",
   "execution_count": null,
   "metadata": {},
   "outputs": [],
   "source": []
  },
  {
   "cell_type": "code",
   "execution_count": null,
   "metadata": {},
   "outputs": [],
   "source": [
    "test = [{'name': 'James Brown', 'url': 'https://www.whosampled.com/James-Brown/'}]"
   ]
  },
  {
   "cell_type": "code",
   "execution_count": null,
   "metadata": {},
   "outputs": [],
   "source": [
    "db.write_artists(artist_urls)"
   ]
  },
  {
   "cell_type": "code",
   "execution_count": null,
   "metadata": {},
   "outputs": [],
   "source": [
    "for artist in test:\n",
    "    query = f\"\"\"        \n",
    "        INSERT INTO artists (name, url)\n",
    "        VALUES ('{artist[\"name\"]}',\n",
    "                '{artist[\"url\"]}');\n",
    "                  \"\"\"\n",
    "    cur.execute(query)\n",
    "    conn.commit()"
   ]
  },
  {
   "cell_type": "code",
   "execution_count": null,
   "metadata": {},
   "outputs": [],
   "source": [
    "conn.rollback()"
   ]
  },
  {
   "cell_type": "code",
   "execution_count": null,
   "metadata": {},
   "outputs": [],
   "source": [
    "db.get_next_artist_to_scrape()"
   ]
  },
  {
   "cell_type": "code",
   "execution_count": null,
   "metadata": {},
   "outputs": [],
   "source": [
    "(24, 'https://www.whosampled.com/Dalida/')[0]"
   ]
  },
  {
   "cell_type": "code",
   "execution_count": null,
   "metadata": {},
   "outputs": [],
   "source": [
    "query = \"\"\"\n",
    "SELECT id, url FROM artists\n",
    "WHERE scraped = 0\n",
    "ORDER BY id DESC\n",
    "LIMIT 1\n",
    "\"\"\""
   ]
  },
  {
   "cell_type": "code",
   "execution_count": null,
   "metadata": {},
   "outputs": [],
   "source": [
    "cur.execute(query)\n",
    "conn.commit()"
   ]
  },
  {
   "cell_type": "code",
   "execution_count": null,
   "metadata": {},
   "outputs": [],
   "source": [
    "list(cur)"
   ]
  },
  {
   "cell_type": "code",
   "execution_count": null,
   "metadata": {},
   "outputs": [],
   "source": [
    "artist_urls[1]"
   ]
  },
  {
   "cell_type": "code",
   "execution_count": null,
   "metadata": {},
   "outputs": [],
   "source": [
    "s = Scraper('https://www.whosampled.com/James-Brown/')"
   ]
  },
  {
   "cell_type": "code",
   "execution_count": null,
   "metadata": {},
   "outputs": [],
   "source": [
    "jb = {'name': 'James Brown', 'url': 'https://www.whosampled.com/James-Brown/', 'id' : 2}"
   ]
  },
  {
   "cell_type": "code",
   "execution_count": null,
   "metadata": {},
   "outputs": [],
   "source": [
    "# s.get_artist_songs(jb)"
   ]
  },
  {
   "cell_type": "code",
   "execution_count": null,
   "metadata": {},
   "outputs": [],
   "source": [
    "james_brown_songs = _"
   ]
  },
  {
   "cell_type": "code",
   "execution_count": null,
   "metadata": {},
   "outputs": [],
   "source": [
    "db = DatabaseInteraction()"
   ]
  },
  {
   "cell_type": "code",
   "execution_count": null,
   "metadata": {},
   "outputs": [],
   "source": [
    "db.write_songs(jbsongs)"
   ]
  },
  {
   "cell_type": "code",
   "execution_count": null,
   "metadata": {},
   "outputs": [],
   "source": [
    "conn.rollback()"
   ]
  },
  {
   "cell_type": "code",
   "execution_count": null,
   "metadata": {},
   "outputs": [],
   "source": [
    "db.update_artist_scraped_status(jb, 1)"
   ]
  },
  {
   "cell_type": "code",
   "execution_count": null,
   "metadata": {},
   "outputs": [],
   "source": [
    "pwd"
   ]
  },
  {
   "cell_type": "code",
   "execution_count": null,
   "metadata": {},
   "outputs": [],
   "source": [
    "with open('../data/james_brown_songs.txt', 'w') as f:\n",
    "    for item in jbsongs:\n",
    "        f.write(\"%s\\n\" % item)"
   ]
  },
  {
   "cell_type": "code",
   "execution_count": null,
   "metadata": {},
   "outputs": [],
   "source": [
    "jbsongs"
   ]
  },
  {
   "cell_type": "code",
   "execution_count": null,
   "metadata": {},
   "outputs": [],
   "source": [
    "db.get_next_song_to_scrape()"
   ]
  },
  {
   "cell_type": "code",
   "execution_count": null,
   "metadata": {},
   "outputs": [],
   "source": [
    "db.get_next_artist_to_scrape()"
   ]
  },
  {
   "cell_type": "code",
   "execution_count": null,
   "metadata": {},
   "outputs": [],
   "source": [
    "        query = \"\"\"\n",
    "        SELECT count(*) from songs\n",
    "        where scraped = 0\n",
    "        \"\"\""
   ]
  },
  {
   "cell_type": "code",
   "execution_count": null,
   "metadata": {},
   "outputs": [],
   "source": [
    "cur.execute(query)"
   ]
  },
  {
   "cell_type": "code",
   "execution_count": null,
   "metadata": {},
   "outputs": [],
   "source": [
    "conn.commit()"
   ]
  },
  {
   "cell_type": "code",
   "execution_count": null,
   "metadata": {},
   "outputs": [],
   "source": [
    "list(cur)[0][0]"
   ]
  },
  {
   "cell_type": "code",
   "execution_count": null,
   "metadata": {},
   "outputs": [],
   "source": [
    "s = Scraper()"
   ]
  },
  {
   "cell_type": "code",
   "execution_count": null,
   "metadata": {},
   "outputs": [],
   "source": [
    "db = DatabaseInteraction()"
   ]
  },
  {
   "cell_type": "code",
   "execution_count": null,
   "metadata": {},
   "outputs": [],
   "source": [
    "url = 'https://www.whosampled.com/Beyonc%C3%A9/All-Night/'\n",
    "sampled_in, contains, new_artists = s.get_song_connections(url)"
   ]
  },
  {
   "cell_type": "code",
   "execution_count": null,
   "metadata": {},
   "outputs": [],
   "source": [
    "pdb"
   ]
  },
  {
   "cell_type": "code",
   "execution_count": null,
   "metadata": {},
   "outputs": [],
   "source": [
    "url = 'https://www.whosampled.com/Beyonc%C3%A9/Upgrade-U/'\n",
    "sampled_in, contains, new_artists = s.get_song_connections(url)"
   ]
  },
  {
   "cell_type": "code",
   "execution_count": null,
   "metadata": {},
   "outputs": [],
   "source": [
    "contains"
   ]
  },
  {
   "cell_type": "code",
   "execution_count": null,
   "metadata": {},
   "outputs": [],
   "source": [
    "sampled_in"
   ]
  },
  {
   "cell_type": "code",
   "execution_count": null,
   "metadata": {},
   "outputs": [],
   "source": [
    "for x, y in zip(contains, new_artists):\n",
    "    print(x['url'])\n",
    "    print(y['name']+'\\n')"
   ]
  },
  {
   "cell_type": "code",
   "execution_count": null,
   "metadata": {},
   "outputs": [],
   "source": [
    "len(new_artists)"
   ]
  },
  {
   "cell_type": "code",
   "execution_count": null,
   "metadata": {},
   "outputs": [],
   "source": [
    "new_artists"
   ]
  },
  {
   "cell_type": "code",
   "execution_count": null,
   "metadata": {},
   "outputs": [],
   "source": [
    "for song in sample_song_ids:\n",
    "    query = f\"\"\"   \n",
    "        INSERT INTO connections (song_id, sampled_by_song_id)\n",
    "\n",
    "        SELECT %s, %s\n",
    "\n",
    "        WHERE %s, %s NOT IN (\n",
    "                    SELECT song_id, sampled_by_song_id FROM connections\n",
    "                    );\n",
    "                \"\"\"\n",
    "    self.cur.execute(query, (\n",
    "         song_id,\n",
    "         song,\n",
    "         song_id,\n",
    "         song))\n",
    "    self.conn.commit()"
   ]
  },
  {
   "cell_type": "code",
   "execution_count": null,
   "metadata": {},
   "outputs": [],
   "source": [
    "query = \"\"\"   \n",
    "    SELECT id FROM artists\n",
    "    WHERE url = %s\n",
    "            \"\"\"\n",
    "url = contains[0]['artist_url']\n",
    "cur.execute(query, (url,))\n",
    "conn.commit()"
   ]
  },
  {
   "cell_type": "code",
   "execution_count": null,
   "metadata": {},
   "outputs": [],
   "source": [
    "list(cur)[0][0]"
   ]
  },
  {
   "cell_type": "code",
   "execution_count": null,
   "metadata": {},
   "outputs": [],
   "source": [
    "new_artists"
   ]
  },
  {
   "cell_type": "code",
   "execution_count": null,
   "metadata": {},
   "outputs": [],
   "source": [
    "db.write_artists(new_artists)"
   ]
  },
  {
   "cell_type": "code",
   "execution_count": null,
   "metadata": {},
   "outputs": [],
   "source": [
    "db.write_songs(contains)"
   ]
  },
  {
   "cell_type": "code",
   "execution_count": null,
   "metadata": {},
   "outputs": [],
   "source": [
    "db.write_songs(sampled_in)"
   ]
  },
  {
   "cell_type": "code",
   "execution_count": null,
   "metadata": {},
   "outputs": [],
   "source": [
    "query = \"\"\"   \n",
    "        SELECT id\n",
    "        FROM songs    \n",
    "        WHERE url = %s;\n",
    "        \"\"\"\n",
    "cur.execute(query, ('https://www.whosampled.com/Betty-Wright/Girls-Can%27t-Do-What-the-Guys-Do/',))\n",
    "conn.commit()\n",
    "[x for (x,) in cur]\n"
   ]
  },
  {
   "cell_type": "code",
   "execution_count": null,
   "metadata": {},
   "outputs": [],
   "source": [
    "db.get_next_artist_to_scrape()"
   ]
  },
  {
   "cell_type": "code",
   "execution_count": null,
   "metadata": {},
   "outputs": [],
   "source": [
    "artist = _"
   ]
  },
  {
   "cell_type": "code",
   "execution_count": null,
   "metadata": {},
   "outputs": [],
   "source": [
    "type(artist['id'])"
   ]
  },
  {
   "cell_type": "code",
   "execution_count": null,
   "metadata": {},
   "outputs": [],
   "source": [
    "db = DatabaseInteraction()"
   ]
  },
  {
   "cell_type": "code",
   "execution_count": null,
   "metadata": {},
   "outputs": [],
   "source": [
    "for i in range(30, 47):\n",
    "    db.update_scraped_status(\"artists\", i, 1)"
   ]
  },
  {
   "cell_type": "code",
   "execution_count": null,
   "metadata": {},
   "outputs": [],
   "source": [
    "query = f\"\"\"\n",
    "        UPDATE {}\n",
    "        SET scraped = %s\n",
    "        WHERE id = %s\n",
    "        ;\"\"\"\n",
    "\n",
    "cur.execute(\n",
    "    sql.SQL(query, (artists, 1, 1))\n",
    "conn.commit()"
   ]
  },
  {
   "cell_type": "code",
   "execution_count": null,
   "metadata": {},
   "outputs": [],
   "source": [
    "db.get_next_artist_to_scrape()"
   ]
  },
  {
   "cell_type": "code",
   "execution_count": null,
   "metadata": {},
   "outputs": [],
   "source": [
    "db.get_next_song_to_scrape()"
   ]
  },
  {
   "cell_type": "code",
   "execution_count": null,
   "metadata": {},
   "outputs": [],
   "source": [
    "db.insert_contains_sample(12,5)"
   ]
  },
  {
   "cell_type": "code",
   "execution_count": null,
   "metadata": {},
   "outputs": [],
   "source": [
    "conn.rollback()"
   ]
  },
  {
   "cell_type": "code",
   "execution_count": null,
   "metadata": {},
   "outputs": [],
   "source": [
    "query = \"\"\"   \n",
    "        SELECT song_id, sampled_by_song_id\n",
    "        FROM connections;\n",
    "        \"\"\"\n",
    "cur.execute(query)\n",
    "conn.commit()"
   ]
  },
  {
   "cell_type": "code",
   "execution_count": null,
   "metadata": {},
   "outputs": [],
   "source": [
    "[x for x in cur]"
   ]
  },
  {
   "cell_type": "code",
   "execution_count": null,
   "metadata": {},
   "outputs": [],
   "source": [
    "db = DatabaseInteraction()"
   ]
  },
  {
   "cell_type": "code",
   "execution_count": null,
   "metadata": {},
   "outputs": [],
   "source": [
    "test = {'name': 'a', 'url': 'a.com'}"
   ]
  },
  {
   "cell_type": "code",
   "execution_count": null,
   "metadata": {},
   "outputs": [],
   "source": [
    "db.write_artists(artist_urls, return_artist_id=True)"
   ]
  },
  {
   "cell_type": "code",
   "execution_count": null,
   "metadata": {},
   "outputs": [],
   "source": [
    "db.cur.fetchone()"
   ]
  },
  {
   "cell_type": "code",
   "execution_count": null,
   "metadata": {},
   "outputs": [],
   "source": [
    "artist_urls[0]"
   ]
  },
  {
   "cell_type": "code",
   "execution_count": null,
   "metadata": {},
   "outputs": [],
   "source": [
    "db.get_artist_info(url='https://www.whosampled.com/James-Brown/')"
   ]
  },
  {
   "cell_type": "code",
   "execution_count": null,
   "metadata": {},
   "outputs": [],
   "source": [
    "artist_dict = _"
   ]
  },
  {
   "cell_type": "code",
   "execution_count": null,
   "metadata": {},
   "outputs": [],
   "source": [
    "artist_dict[\"id\"]"
   ]
  },
  {
   "cell_type": "code",
   "execution_count": null,
   "metadata": {},
   "outputs": [],
   "source": [
    "db = DatabaseInteraction(db_name='mixmaker2')"
   ]
  },
  {
   "cell_type": "code",
   "execution_count": null,
   "metadata": {},
   "outputs": [],
   "source": [
    "db.insert_contains_sample(2971, 5)"
   ]
  },
  {
   "cell_type": "code",
   "execution_count": null,
   "metadata": {},
   "outputs": [],
   "source": [
    "query = \"\"\"   \n",
    "        SELECT song_id, sampled_by_song_id\n",
    "        FROM connections;\n",
    "        \"\"\"\n",
    "cur.execute(query)\n",
    "conn.commit()"
   ]
  },
  {
   "cell_type": "code",
   "execution_count": null,
   "metadata": {},
   "outputs": [],
   "source": [
    "query = \"\"\"   \n",
    "        SELECT a.name, count(s.artist_id) as artist_freq\n",
    "        FROM artists a\n",
    "        JOIN songs s\n",
    "        ON a.id = s.artist_id\n",
    "        GROUP BY a.id\n",
    "        HAVING a.scraped_spotify = 0\n",
    "        ORDER BY artist_freq DESC\n",
    "        LIMIT 50;\n",
    "        \"\"\"\n",
    "cur.execute(query)\n",
    "conn.commit()"
   ]
  },
  {
   "cell_type": "code",
   "execution_count": null,
   "metadata": {},
   "outputs": [],
   "source": [
    "list(cur)"
   ]
  },
  {
   "cell_type": "code",
   "execution_count": null,
   "metadata": {},
   "outputs": [],
   "source": [
    "output = _"
   ]
  },
  {
   "cell_type": "code",
   "execution_count": null,
   "metadata": {},
   "outputs": [],
   "source": [
    "output = output[10:].copy()"
   ]
  },
  {
   "cell_type": "code",
   "execution_count": null,
   "metadata": {},
   "outputs": [],
   "source": [
    "output"
   ]
  },
  {
   "cell_type": "code",
   "execution_count": 5,
   "metadata": {},
   "outputs": [],
   "source": [
    "db = DatabaseInteraction(db_name='mixmaker')"
   ]
  },
  {
   "cell_type": "code",
   "execution_count": null,
   "metadata": {},
   "outputs": [],
   "source": [
    "db.update_scraped_status('songs', 16505, 1)"
   ]
  },
  {
   "cell_type": "code",
   "execution_count": null,
   "metadata": {},
   "outputs": [],
   "source": [
    "import urllib.parse"
   ]
  },
  {
   "cell_type": "code",
   "execution_count": null,
   "metadata": {},
   "outputs": [],
   "source": [
    "song_name = \"Heart-of-the-City-(Ain't-No-Love)\""
   ]
  },
  {
   "cell_type": "code",
   "execution_count": null,
   "metadata": {},
   "outputs": [],
   "source": [
    "(urllib.parse.quote(song_name\n",
    "                                            .replace(' ', '-'))\n",
    "                                            .replace('%28', '(')\n",
    "                                            .replace('%29', ')'))"
   ]
  },
  {
   "cell_type": "code",
   "execution_count": null,
   "metadata": {},
   "outputs": [],
   "source": [
    "artist_url = 'https://www.whosampled.com/Jay-Z/'"
   ]
  },
  {
   "cell_type": "code",
   "execution_count": null,
   "metadata": {},
   "outputs": [],
   "source": [
    "song_url = (artist_url + (urllib.parse.quote(song_name\n",
    "                                            .replace(' ', '-'))\n",
    "                                            .replace('%28', '(')\n",
    "                                            .replace('%29', ')'))\n",
    "                                      + '/')"
   ]
  },
  {
   "cell_type": "code",
   "execution_count": null,
   "metadata": {},
   "outputs": [],
   "source": [
    "print(song_url)"
   ]
  },
  {
   "cell_type": "code",
   "execution_count": null,
   "metadata": {},
   "outputs": [],
   "source": [
    "# FIX WRONG IDS"
   ]
  },
  {
   "cell_type": "code",
   "execution_count": null,
   "metadata": {},
   "outputs": [],
   "source": [
    "conn = psycopg2.connect(dbname='mixmaker', host='localhost')\n",
    "cur = conn.cursor()"
   ]
  },
  {
   "cell_type": "code",
   "execution_count": null,
   "metadata": {},
   "outputs": [],
   "source": [
    "query = \"select id, url from songs where url like '%\\%28%' or url like ;\""
   ]
  },
  {
   "cell_type": "code",
   "execution_count": null,
   "metadata": {},
   "outputs": [],
   "source": [
    "query = \"\"\"   \n",
    "        SELECT id, url from songs\n",
    "        WHERE url LIKE '%\\%28%'\n",
    "        OR url LIKE '%\\%29%'\n",
    "        ORDER BY id\n",
    "        LIMIT 1;\n",
    "        \"\"\""
   ]
  },
  {
   "cell_type": "code",
   "execution_count": null,
   "metadata": {},
   "outputs": [],
   "source": [
    "cur.execute(query)\n",
    "conn.commit()"
   ]
  },
  {
   "cell_type": "code",
   "execution_count": null,
   "metadata": {},
   "outputs": [],
   "source": [
    "results = [x for x in cur]"
   ]
  },
  {
   "cell_type": "code",
   "execution_count": null,
   "metadata": {},
   "outputs": [],
   "source": [
    "results"
   ]
  },
  {
   "cell_type": "code",
   "execution_count": null,
   "metadata": {},
   "outputs": [],
   "source": [
    "song_url = results[0][1]"
   ]
  },
  {
   "cell_type": "code",
   "execution_count": null,
   "metadata": {},
   "outputs": [],
   "source": [
    "song_url = 'https://www.whosampled.com/James-Brown/Funky-President-%28People-It%27s-Bad%29/'"
   ]
  },
  {
   "cell_type": "code",
   "execution_count": null,
   "metadata": {},
   "outputs": [],
   "source": [
    "correct_song_url = song_url.replace('%28', '(').replace('%29', ')')"
   ]
  },
  {
   "cell_type": "code",
   "execution_count": null,
   "metadata": {},
   "outputs": [],
   "source": [
    "correct_song_url"
   ]
  },
  {
   "cell_type": "code",
   "execution_count": null,
   "metadata": {},
   "outputs": [],
   "source": [
    "query = \"\"\"   \n",
    "        SELECT id, url from songs\n",
    "        WHERE url = %s\n",
    "        LIMIT 1;\n",
    "        \"\"\"\n",
    "cur.execute(query, (correct_song_url,))\n",
    "conn.commit()"
   ]
  },
  {
   "cell_type": "code",
   "execution_count": null,
   "metadata": {},
   "outputs": [],
   "source": [
    "results = [x for x in cur]"
   ]
  },
  {
   "cell_type": "code",
   "execution_count": null,
   "metadata": {},
   "outputs": [],
   "source": [
    "results[0][0]"
   ]
  },
  {
   "cell_type": "code",
   "execution_count": null,
   "metadata": {},
   "outputs": [],
   "source": [
    "old_id = 6122"
   ]
  },
  {
   "cell_type": "code",
   "execution_count": null,
   "metadata": {},
   "outputs": [],
   "source": [
    "if len(results) == 1:\n",
    "    update_song_id = \"\"\"   \n",
    "                     UPDATE connections\n",
    "                     SET song_id = %s\n",
    "                     WHERE song_id = %s;\n",
    "                     \"\"\"\n",
    "    update_sampled = \"\"\"   \n",
    "                     UPDATE connections\n",
    "                     SET sampled_by_song_id = %s\n",
    "                     WHERE sampled_by_song_id = %s;\n",
    "                     \"\"\"\n",
    "    cur.execute(update_song_id, (results[0][0], old_id))\n",
    "    cur.execute(update_sampled, (18973, 123456))\n",
    "                                                       \n",
    "    conn.commit()"
   ]
  },
  {
   "cell_type": "code",
   "execution_count": 22,
   "metadata": {},
   "outputs": [
    {
     "name": "stdout",
     "output_type": "stream",
     "text": [
      "done\n"
     ]
    }
   ],
   "source": [
    "db.fix_similar_url_ids()"
   ]
  },
  {
   "cell_type": "code",
   "execution_count": 103,
   "metadata": {},
   "outputs": [],
   "source": [
    "db = database_interaction.DatabaseInteraction()"
   ]
  },
  {
   "cell_type": "code",
   "execution_count": 29,
   "metadata": {},
   "outputs": [],
   "source": [
    "songs = db.get_table('songs')"
   ]
  },
  {
   "cell_type": "code",
   "execution_count": 39,
   "metadata": {},
   "outputs": [],
   "source": [
    "jb = db.get_song_and_artist_names(artist_id=1)"
   ]
  },
  {
   "cell_type": "code",
   "execution_count": 42,
   "metadata": {},
   "outputs": [],
   "source": [
    "url = 'https://www.whosampled.com/James-Brown/The-Boss/'"
   ]
  },
  {
   "cell_type": "code",
   "execution_count": 58,
   "metadata": {},
   "outputs": [
    {
     "name": "stdout",
     "output_type": "stream",
     "text": [
      "['https:', '', 'www.whosampled.com', 'James-Brown', 'The-Boss', '']\n"
     ]
    },
    {
     "data": {
      "text/plain": [
       "'https://www.whosampled.com/James-Brown/'"
      ]
     },
     "execution_count": 58,
     "metadata": {},
     "output_type": "execute_result"
    }
   ],
   "source": [
    "splits = url.split('/')\n",
    "print(splits)\n",
    "'/'.join(splits[:-2]) + '/'"
   ]
  },
  {
   "cell_type": "code",
   "execution_count": 63,
   "metadata": {},
   "outputs": [
    {
     "data": {
      "text/plain": [
       "'The-Boss'"
      ]
     },
     "execution_count": 63,
     "metadata": {},
     "output_type": "execute_result"
    }
   ],
   "source": [
    "splits[4]"
   ]
  },
  {
   "cell_type": "code",
   "execution_count": 67,
   "metadata": {},
   "outputs": [],
   "source": [
    "def split_off_song_name(url):\n",
    "    splits = url.split('/')\n",
    "    if ((splits[5] == 'tv') or \n",
    "        (splits[5] == 'movie')):\n",
    "        '/'.join(splits[:5]) + '/' \n",
    "    return '/'.join(splits[:4]) + '/'"
   ]
  },
  {
   "cell_type": "code",
   "execution_count": 68,
   "metadata": {},
   "outputs": [
    {
     "data": {
      "text/plain": [
       "'https://www.whosampled.com/James-Brown/'"
      ]
     },
     "execution_count": 68,
     "metadata": {},
     "output_type": "execute_result"
    }
   ],
   "source": [
    "split_off_song_name(url)"
   ]
  },
  {
   "cell_type": "code",
   "execution_count": 71,
   "metadata": {},
   "outputs": [],
   "source": [
    "jb['correct_artist_url'] = jb['song_url'].apply(split_off_song_name)"
   ]
  },
  {
   "cell_type": "code",
   "execution_count": 73,
   "metadata": {},
   "outputs": [],
   "source": [
    "artists = db.get_table('artists')"
   ]
  },
  {
   "cell_type": "code",
   "execution_count": 97,
   "metadata": {},
   "outputs": [],
   "source": [
    "jb = jb.merge(artists, left_on='correct_artist_url', right_on='url')"
   ]
  },
  {
   "cell_type": "code",
   "execution_count": 77,
   "metadata": {},
   "outputs": [],
   "source": [
    "row0 = pd.DataFrame(jb.loc[0, :])"
   ]
  },
  {
   "cell_type": "code",
   "execution_count": 100,
   "metadata": {},
   "outputs": [],
   "source": [
    "def correct_artist_names(df):\n",
    "    if df['artist_name'] != df['name']:\n",
    "        return df['name']\n",
    "    else:\n",
    "        return df['artist_name']"
   ]
  },
  {
   "cell_type": "code",
   "execution_count": 101,
   "metadata": {
    "scrolled": true
   },
   "outputs": [
    {
     "data": {
      "text/plain": [
       "0           James Brown\n",
       "1           James Brown\n",
       "2           James Brown\n",
       "3           James Brown\n",
       "4           James Brown\n",
       "5           James Brown\n",
       "6           James Brown\n",
       "7           James Brown\n",
       "8           James Brown\n",
       "9           James Brown\n",
       "10          James Brown\n",
       "11          James Brown\n",
       "12          James Brown\n",
       "13          James Brown\n",
       "14          James Brown\n",
       "15          James Brown\n",
       "16          James Brown\n",
       "17          James Brown\n",
       "18          James Brown\n",
       "19          James Brown\n",
       "20          James Brown\n",
       "21          James Brown\n",
       "22          James Brown\n",
       "23          James Brown\n",
       "24          James Brown\n",
       "25          James Brown\n",
       "26          James Brown\n",
       "27          James Brown\n",
       "28          James Brown\n",
       "29          James Brown\n",
       "             ...       \n",
       "263         James Brown\n",
       "264         James Brown\n",
       "265         James Brown\n",
       "266         James Brown\n",
       "267         James Brown\n",
       "268         James Brown\n",
       "269         James Brown\n",
       "270         James Brown\n",
       "271         James Brown\n",
       "272         James Brown\n",
       "273         James Brown\n",
       "274         James Brown\n",
       "275         James Brown\n",
       "276         James Brown\n",
       "277         James Brown\n",
       "278         James Brown\n",
       "279         James Brown\n",
       "280         James Brown\n",
       "281         James Brown\n",
       "282     Black Eyed Peas\n",
       "283     Black Eyed Peas\n",
       "284    Afrika Bambaataa\n",
       "285    Afrika Bambaataa\n",
       "286    Afrika Bambaataa\n",
       "287    Afrika Bambaataa\n",
       "288    Afrika Bambaataa\n",
       "289    Afrika Bambaataa\n",
       "290         Lyn Collins\n",
       "291       Marva Whitney\n",
       "292      Vicki Anderson\n",
       "Length: 293, dtype: object"
      ]
     },
     "execution_count": 101,
     "metadata": {},
     "output_type": "execute_result"
    }
   ],
   "source": [
    "jb.apply(correct_artist_names, axis=1)"
   ]
  },
  {
   "cell_type": "code",
   "execution_count": 126,
   "metadata": {},
   "outputs": [
    {
     "name": "stdout",
     "output_type": "stream",
     "text": [
      "1.81 s ± 130 ms per loop (mean ± std. dev. of 7 runs, 1 loop each)\n"
     ]
    }
   ],
   "source": [
    "%timeit all_songs = db.get_song_and_artist_names()"
   ]
  },
  {
   "cell_type": "code",
   "execution_count": 129,
   "metadata": {},
   "outputs": [
    {
     "name": "stdout",
     "output_type": "stream",
     "text": [
      "CPU times: user 9.76 ms, sys: 1.78 ms, total: 11.5 ms\n",
      "Wall time: 9.86 ms\n"
     ]
    },
    {
     "data": {
      "text/html": [
       "<div>\n",
       "<style scoped>\n",
       "    .dataframe tbody tr th:only-of-type {\n",
       "        vertical-align: middle;\n",
       "    }\n",
       "\n",
       "    .dataframe tbody tr th {\n",
       "        vertical-align: top;\n",
       "    }\n",
       "\n",
       "    .dataframe thead th {\n",
       "        text-align: right;\n",
       "    }\n",
       "</style>\n",
       "<table border=\"1\" class=\"dataframe\">\n",
       "  <thead>\n",
       "    <tr style=\"text-align: right;\">\n",
       "      <th></th>\n",
       "      <th>artist_name</th>\n",
       "    </tr>\n",
       "  </thead>\n",
       "  <tbody>\n",
       "    <tr>\n",
       "      <th>0</th>\n",
       "      <td>New Kids on the Block</td>\n",
       "    </tr>\n",
       "    <tr>\n",
       "      <th>1</th>\n",
       "      <td>Duran Duran</td>\n",
       "    </tr>\n",
       "    <tr>\n",
       "      <th>2</th>\n",
       "      <td>Roxanne Shanté</td>\n",
       "    </tr>\n",
       "    <tr>\n",
       "      <th>3</th>\n",
       "      <td>New Order</td>\n",
       "    </tr>\n",
       "    <tr>\n",
       "      <th>4</th>\n",
       "      <td>Robert Palmer</td>\n",
       "    </tr>\n",
       "    <tr>\n",
       "      <th>5</th>\n",
       "      <td>Ministry</td>\n",
       "    </tr>\n",
       "    <tr>\n",
       "      <th>6</th>\n",
       "      <td>Tone Loc</td>\n",
       "    </tr>\n",
       "    <tr>\n",
       "      <th>7</th>\n",
       "      <td>Boy George</td>\n",
       "    </tr>\n",
       "    <tr>\n",
       "      <th>8</th>\n",
       "      <td>M.C. Mike &amp; D.J. Maze</td>\n",
       "    </tr>\n",
       "    <tr>\n",
       "      <th>9</th>\n",
       "      <td>The Future Sound</td>\n",
       "    </tr>\n",
       "    <tr>\n",
       "      <th>10</th>\n",
       "      <td>MC Hammer</td>\n",
       "    </tr>\n",
       "    <tr>\n",
       "      <th>11</th>\n",
       "      <td>James Brown</td>\n",
       "    </tr>\n",
       "    <tr>\n",
       "      <th>12</th>\n",
       "      <td>Bits &amp; Pieces (Dynamite Mixers)</td>\n",
       "    </tr>\n",
       "    <tr>\n",
       "      <th>13</th>\n",
       "      <td>Butchwax</td>\n",
       "    </tr>\n",
       "    <tr>\n",
       "      <th>14</th>\n",
       "      <td>Kanye West</td>\n",
       "    </tr>\n",
       "    <tr>\n",
       "      <th>15</th>\n",
       "      <td>Kariya</td>\n",
       "    </tr>\n",
       "    <tr>\n",
       "      <th>16</th>\n",
       "      <td>Das EFX</td>\n",
       "    </tr>\n",
       "    <tr>\n",
       "      <th>17</th>\n",
       "      <td>Three Times Dope</td>\n",
       "    </tr>\n",
       "    <tr>\n",
       "      <th>18</th>\n",
       "      <td>Michael Jackson</td>\n",
       "    </tr>\n",
       "    <tr>\n",
       "      <th>19</th>\n",
       "      <td>Everlast</td>\n",
       "    </tr>\n",
       "    <tr>\n",
       "      <th>20</th>\n",
       "      <td>Shanice</td>\n",
       "    </tr>\n",
       "    <tr>\n",
       "      <th>21</th>\n",
       "      <td>Lord Finesse</td>\n",
       "    </tr>\n",
       "    <tr>\n",
       "      <th>22</th>\n",
       "      <td>Heavy D &amp; the Boyz</td>\n",
       "    </tr>\n",
       "    <tr>\n",
       "      <th>23</th>\n",
       "      <td>Citizen King</td>\n",
       "    </tr>\n",
       "    <tr>\n",
       "      <th>24</th>\n",
       "      <td>The Offspring</td>\n",
       "    </tr>\n",
       "    <tr>\n",
       "      <th>25</th>\n",
       "      <td>Will Smith</td>\n",
       "    </tr>\n",
       "    <tr>\n",
       "      <th>26</th>\n",
       "      <td>Shauni Shauni</td>\n",
       "    </tr>\n",
       "    <tr>\n",
       "      <th>27</th>\n",
       "      <td>Milli Vanilli</td>\n",
       "    </tr>\n",
       "    <tr>\n",
       "      <th>28</th>\n",
       "      <td>D-Nice</td>\n",
       "    </tr>\n",
       "    <tr>\n",
       "      <th>29</th>\n",
       "      <td>The Shamen</td>\n",
       "    </tr>\n",
       "    <tr>\n",
       "      <th>...</th>\n",
       "      <td>...</td>\n",
       "    </tr>\n",
       "    <tr>\n",
       "      <th>10471</th>\n",
       "      <td>Moondog</td>\n",
       "    </tr>\n",
       "    <tr>\n",
       "      <th>10472</th>\n",
       "      <td>Eternity's Children</td>\n",
       "    </tr>\n",
       "    <tr>\n",
       "      <th>10473</th>\n",
       "      <td>EA Games</td>\n",
       "    </tr>\n",
       "    <tr>\n",
       "      <th>10474</th>\n",
       "      <td>Gene Dunlap</td>\n",
       "    </tr>\n",
       "    <tr>\n",
       "      <th>10475</th>\n",
       "      <td>Denise Drysdale</td>\n",
       "    </tr>\n",
       "    <tr>\n",
       "      <th>10476</th>\n",
       "      <td>John Sangster</td>\n",
       "    </tr>\n",
       "    <tr>\n",
       "      <th>10477</th>\n",
       "      <td>The Sandpipers</td>\n",
       "    </tr>\n",
       "    <tr>\n",
       "      <th>10478</th>\n",
       "      <td>Tuca</td>\n",
       "    </tr>\n",
       "    <tr>\n",
       "      <th>10479</th>\n",
       "      <td>The Love Generation</td>\n",
       "    </tr>\n",
       "    <tr>\n",
       "      <th>10480</th>\n",
       "      <td>Herbert Von Karajan</td>\n",
       "    </tr>\n",
       "    <tr>\n",
       "      <th>10481</th>\n",
       "      <td>The Folk Implosion</td>\n",
       "    </tr>\n",
       "    <tr>\n",
       "      <th>10482</th>\n",
       "      <td>Franck Pourcel and His Orchestra</td>\n",
       "    </tr>\n",
       "    <tr>\n",
       "      <th>10483</th>\n",
       "      <td>Koichi Oki</td>\n",
       "    </tr>\n",
       "    <tr>\n",
       "      <th>10484</th>\n",
       "      <td>Virgil Fox</td>\n",
       "    </tr>\n",
       "    <tr>\n",
       "      <th>10485</th>\n",
       "      <td>Papa Levi</td>\n",
       "    </tr>\n",
       "    <tr>\n",
       "      <th>10486</th>\n",
       "      <td>The Olivia Tremor Control</td>\n",
       "    </tr>\n",
       "    <tr>\n",
       "      <th>10487</th>\n",
       "      <td>Pepper Adams</td>\n",
       "    </tr>\n",
       "    <tr>\n",
       "      <th>10488</th>\n",
       "      <td>Loretta Long</td>\n",
       "    </tr>\n",
       "    <tr>\n",
       "      <th>10489</th>\n",
       "      <td>Sandy Denny</td>\n",
       "    </tr>\n",
       "    <tr>\n",
       "      <th>10490</th>\n",
       "      <td>Sylvia Anderson</td>\n",
       "    </tr>\n",
       "    <tr>\n",
       "      <th>10491</th>\n",
       "      <td>Mandingo</td>\n",
       "    </tr>\n",
       "    <tr>\n",
       "      <th>10492</th>\n",
       "      <td>Super Furry Animals</td>\n",
       "    </tr>\n",
       "    <tr>\n",
       "      <th>10493</th>\n",
       "      <td>The Bugaloos</td>\n",
       "    </tr>\n",
       "    <tr>\n",
       "      <th>10494</th>\n",
       "      <td>The Sérgio Mendes Trio</td>\n",
       "    </tr>\n",
       "    <tr>\n",
       "      <th>10495</th>\n",
       "      <td>The Royal Grand Orchestra</td>\n",
       "    </tr>\n",
       "    <tr>\n",
       "      <th>10496</th>\n",
       "      <td>Living Strings</td>\n",
       "    </tr>\n",
       "    <tr>\n",
       "      <th>10497</th>\n",
       "      <td>Freddie GZ</td>\n",
       "    </tr>\n",
       "    <tr>\n",
       "      <th>10498</th>\n",
       "      <td>Orchestre National De Barbès</td>\n",
       "    </tr>\n",
       "    <tr>\n",
       "      <th>10499</th>\n",
       "      <td>George Maple</td>\n",
       "    </tr>\n",
       "    <tr>\n",
       "      <th>10500</th>\n",
       "      <td>Bipolar Sunshine</td>\n",
       "    </tr>\n",
       "  </tbody>\n",
       "</table>\n",
       "<p>10501 rows × 1 columns</p>\n",
       "</div>"
      ],
      "text/plain": [
       "                            artist_name\n",
       "0                 New Kids on the Block\n",
       "1                           Duran Duran\n",
       "2                        Roxanne Shanté\n",
       "3                             New Order\n",
       "4                         Robert Palmer\n",
       "5                              Ministry\n",
       "6                              Tone Loc\n",
       "7                            Boy George\n",
       "8                 M.C. Mike & D.J. Maze\n",
       "9                      The Future Sound\n",
       "10                            MC Hammer\n",
       "11                          James Brown\n",
       "12      Bits & Pieces (Dynamite Mixers)\n",
       "13                             Butchwax\n",
       "14                           Kanye West\n",
       "15                               Kariya\n",
       "16                              Das EFX\n",
       "17                     Three Times Dope\n",
       "18                      Michael Jackson\n",
       "19                             Everlast\n",
       "20                              Shanice\n",
       "21                         Lord Finesse\n",
       "22                   Heavy D & the Boyz\n",
       "23                         Citizen King\n",
       "24                        The Offspring\n",
       "25                           Will Smith\n",
       "26                        Shauni Shauni\n",
       "27                        Milli Vanilli\n",
       "28                               D-Nice\n",
       "29                           The Shamen\n",
       "...                                 ...\n",
       "10471                           Moondog\n",
       "10472               Eternity's Children\n",
       "10473                          EA Games\n",
       "10474                       Gene Dunlap\n",
       "10475                   Denise Drysdale\n",
       "10476                     John Sangster\n",
       "10477                    The Sandpipers\n",
       "10478                              Tuca\n",
       "10479               The Love Generation\n",
       "10480               Herbert Von Karajan\n",
       "10481                The Folk Implosion\n",
       "10482  Franck Pourcel and His Orchestra\n",
       "10483                        Koichi Oki\n",
       "10484                        Virgil Fox\n",
       "10485                         Papa Levi\n",
       "10486         The Olivia Tremor Control\n",
       "10487                      Pepper Adams\n",
       "10488                      Loretta Long\n",
       "10489                       Sandy Denny\n",
       "10490                   Sylvia Anderson\n",
       "10491                          Mandingo\n",
       "10492               Super Furry Animals\n",
       "10493                      The Bugaloos\n",
       "10494            The Sérgio Mendes Trio\n",
       "10495         The Royal Grand Orchestra\n",
       "10496                    Living Strings\n",
       "10497                        Freddie GZ\n",
       "10498      Orchestre National De Barbès\n",
       "10499                      George Maple\n",
       "10500                  Bipolar Sunshine\n",
       "\n",
       "[10501 rows x 1 columns]"
      ]
     },
     "execution_count": 129,
     "metadata": {},
     "output_type": "execute_result"
    }
   ],
   "source": [
    "%time pd.DataFrame(all_songs['artist_name'].unique(),columns=['artist_name'])\n"
   ]
  },
  {
   "cell_type": "code",
   "execution_count": null,
   "metadata": {},
   "outputs": [],
   "source": []
  }
 ],
 "metadata": {
  "kernelspec": {
   "display_name": "Python 3",
   "language": "python",
   "name": "python3"
  },
  "language_info": {
   "codemirror_mode": {
    "name": "ipython",
    "version": 3
   },
   "file_extension": ".py",
   "mimetype": "text/x-python",
   "name": "python",
   "nbconvert_exporter": "python",
   "pygments_lexer": "ipython3",
   "version": "3.6.4"
  }
 },
 "nbformat": 4,
 "nbformat_minor": 2
}
