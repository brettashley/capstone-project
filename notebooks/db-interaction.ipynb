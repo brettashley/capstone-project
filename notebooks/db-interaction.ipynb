{
 "cells": [
  {
   "cell_type": "code",
   "execution_count": 26,
   "metadata": {},
   "outputs": [],
   "source": [
    "import selenium\n",
    "from selenium.webdriver import Firefox, Chrome\n",
    "import time\n",
    "import psycopg2\n",
    "import pandas as pd\n",
    "from psycopg2.extras import Json"
   ]
  },
  {
   "cell_type": "code",
   "execution_count": 27,
   "metadata": {},
   "outputs": [
    {
     "name": "stdout",
     "output_type": "stream",
     "text": [
      "/Users/brettashley/galvanize/dsi/00-Capstone/mix-maker/src\n"
     ]
    }
   ],
   "source": [
    "cd /Users/brettashley/galvanize/dsi/00-Capstone/mix-maker/src/"
   ]
  },
  {
   "cell_type": "code",
   "execution_count": 28,
   "metadata": {},
   "outputs": [],
   "source": [
    "from scraper import Scraper\n",
    "from DatabaseInteraction import DatabaseInteraction\n",
    "# import DataBaseInteraction"
   ]
  },
  {
   "cell_type": "code",
   "execution_count": 16,
   "metadata": {},
   "outputs": [],
   "source": [
    "conn = psycopg2.connect(dbname='mixmaker2', host='localhost')\n",
    "cur = conn.cursor()"
   ]
  },
  {
   "cell_type": "code",
   "execution_count": 6,
   "metadata": {},
   "outputs": [],
   "source": [
    "sel = \"div#content div.divided-layout div.layout-container.leftContent div\"\n",
    "url = 'https://www.whosampled.com/genre/Soul-Funk-Disco/'\n",
    "desired_section = 'Most influential artists'"
   ]
  },
  {
   "cell_type": "code",
   "execution_count": 7,
   "metadata": {},
   "outputs": [],
   "source": [
    "# s = Scraper('https://www.whosampled.com/genre/Soul-Funk-Disco/')"
   ]
  },
  {
   "cell_type": "code",
   "execution_count": 8,
   "metadata": {},
   "outputs": [],
   "source": [
    "# artist_section = s.find_desired_section(sel, desired_section)"
   ]
  },
  {
   "cell_type": "code",
   "execution_count": 9,
   "metadata": {},
   "outputs": [],
   "source": [
    "# artist_urls = list(s.get_artist_urls(artist_section))"
   ]
  },
  {
   "cell_type": "code",
   "execution_count": 10,
   "metadata": {},
   "outputs": [],
   "source": [
    "# test['url'] = u'https://www.whosampled.com/The-J.B.%27s/'"
   ]
  },
  {
   "cell_type": "code",
   "execution_count": 11,
   "metadata": {},
   "outputs": [],
   "source": [
    "# artist_urls[9]['name']"
   ]
  },
  {
   "cell_type": "code",
   "execution_count": 12,
   "metadata": {},
   "outputs": [],
   "source": [
    "artist_urls = [{'name': 'James Brown', 'url': 'https://www.whosampled.com/James-Brown/'},\n",
    " {'name': 'Traditional Folk',\n",
    "  'url': 'https://www.whosampled.com/Traditional-Folk/'},\n",
    " {'name': 'Kool & the Gang',\n",
    "  'url': 'https://www.whosampled.com/Kool-%26-the-Gang/'},\n",
    " {'name': 'Funkadelic', 'url': 'https://www.whosampled.com/Funkadelic/'},\n",
    " {'name': 'The Beatles', 'url': 'https://www.whosampled.com/The-Beatles/'},\n",
    " {'name': 'Marvin Gaye', 'url': 'https://www.whosampled.com/Marvin-Gaye/'},\n",
    " {'name': 'Michael Jackson',\n",
    "  'url': 'https://www.whosampled.com/Michael-Jackson/'},\n",
    " {'name': 'Parliament', 'url': 'https://www.whosampled.com/Parliament/'},\n",
    " {'name': 'Prince', 'url': 'https://www.whosampled.com/Prince/'},\n",
    " {'name': \"The J.B.'s\", 'url': 'https://www.whosampled.com/The-J.B.%27s/'},\n",
    " {'name': 'Chic', 'url': 'https://www.whosampled.com/Chic/'},\n",
    " {'name': 'Lyn Collins', 'url': 'https://www.whosampled.com/Lyn-Collins/'},\n",
    " {'name': 'Isaac Hayes', 'url': 'https://www.whosampled.com/Isaac-Hayes/'},\n",
    " {'name': 'KC & the Sunshine Band',\n",
    "  'url': 'https://www.whosampled.com/KC-%26-the-Sunshine-Band/'},\n",
    " {'name': 'Stevie Wonder', 'url': 'https://www.whosampled.com/Stevie-Wonder/'},\n",
    " {'name': 'Earth, Wind & Fire',\n",
    "  'url': 'https://www.whosampled.com/Earth,-Wind-%26-Fire/'},\n",
    " {'name': 'Bee Gees', 'url': 'https://www.whosampled.com/Bee-Gees/'},\n",
    " {'name': 'George Benson', 'url': 'https://www.whosampled.com/George-Benson/'},\n",
    " {'name': 'Bobby Byrd', 'url': 'https://www.whosampled.com/Bobby-Byrd/'},\n",
    " {'name': 'Fred Wesley', 'url': 'https://www.whosampled.com/Fred-Wesley/'},\n",
    " {'name': 'The Temptations',\n",
    "  'url': 'https://www.whosampled.com/The-Temptations/'},\n",
    " {'name': 'Sly & the Family Stone',\n",
    "  'url': 'https://www.whosampled.com/Sly-%26-the-Family-Stone/'},\n",
    " {'name': 'Delegation', 'url': 'https://www.whosampled.com/Delegation/'},\n",
    " {'name': 'Dalida', 'url': 'https://www.whosampled.com/Dalida/'}]"
   ]
  },
  {
   "cell_type": "code",
   "execution_count": 13,
   "metadata": {},
   "outputs": [],
   "source": [
    "db = DatabaseInteraction()"
   ]
  },
  {
   "cell_type": "code",
   "execution_count": null,
   "metadata": {},
   "outputs": [],
   "source": []
  },
  {
   "cell_type": "code",
   "execution_count": null,
   "metadata": {},
   "outputs": [],
   "source": [
    "test = [{'name': 'James Brown', 'url': 'https://www.whosampled.com/James-Brown/'}]"
   ]
  },
  {
   "cell_type": "code",
   "execution_count": null,
   "metadata": {},
   "outputs": [],
   "source": [
    "db.write_artists(artist_urls)"
   ]
  },
  {
   "cell_type": "code",
   "execution_count": null,
   "metadata": {},
   "outputs": [],
   "source": [
    "for artist in test:\n",
    "    query = f\"\"\"        \n",
    "        INSERT INTO artists (name, url)\n",
    "        VALUES ('{artist[\"name\"]}',\n",
    "                '{artist[\"url\"]}');\n",
    "                  \"\"\"\n",
    "    cur.execute(query)\n",
    "    conn.commit()"
   ]
  },
  {
   "cell_type": "code",
   "execution_count": null,
   "metadata": {},
   "outputs": [],
   "source": [
    "conn.rollback()"
   ]
  },
  {
   "cell_type": "code",
   "execution_count": null,
   "metadata": {},
   "outputs": [],
   "source": [
    "db.get_next_artist_to_scrape()"
   ]
  },
  {
   "cell_type": "code",
   "execution_count": null,
   "metadata": {},
   "outputs": [],
   "source": [
    "(24, 'https://www.whosampled.com/Dalida/')[0]"
   ]
  },
  {
   "cell_type": "code",
   "execution_count": null,
   "metadata": {},
   "outputs": [],
   "source": [
    "query = \"\"\"\n",
    "SELECT id, url FROM artists\n",
    "WHERE scraped = 0\n",
    "ORDER BY id DESC\n",
    "LIMIT 1\n",
    "\"\"\""
   ]
  },
  {
   "cell_type": "code",
   "execution_count": null,
   "metadata": {},
   "outputs": [],
   "source": [
    "cur.execute(query)\n",
    "conn.commit()"
   ]
  },
  {
   "cell_type": "code",
   "execution_count": null,
   "metadata": {},
   "outputs": [],
   "source": [
    "list(cur)"
   ]
  },
  {
   "cell_type": "code",
   "execution_count": null,
   "metadata": {},
   "outputs": [],
   "source": [
    "artist_urls[1]"
   ]
  },
  {
   "cell_type": "code",
   "execution_count": null,
   "metadata": {},
   "outputs": [],
   "source": [
    "s = Scraper('https://www.whosampled.com/James-Brown/')"
   ]
  },
  {
   "cell_type": "code",
   "execution_count": null,
   "metadata": {},
   "outputs": [],
   "source": [
    "jb = {'name': 'James Brown', 'url': 'https://www.whosampled.com/James-Brown/', 'id' : 2}"
   ]
  },
  {
   "cell_type": "code",
   "execution_count": null,
   "metadata": {},
   "outputs": [],
   "source": [
    "# s.get_artist_songs(jb)"
   ]
  },
  {
   "cell_type": "code",
   "execution_count": null,
   "metadata": {},
   "outputs": [],
   "source": [
    "james_brown_songs = _"
   ]
  },
  {
   "cell_type": "code",
   "execution_count": null,
   "metadata": {},
   "outputs": [],
   "source": [
    "db = DatabaseInteraction()"
   ]
  },
  {
   "cell_type": "code",
   "execution_count": null,
   "metadata": {},
   "outputs": [],
   "source": [
    "db.write_songs(jbsongs)"
   ]
  },
  {
   "cell_type": "code",
   "execution_count": null,
   "metadata": {},
   "outputs": [],
   "source": [
    "conn.rollback()"
   ]
  },
  {
   "cell_type": "code",
   "execution_count": null,
   "metadata": {},
   "outputs": [],
   "source": [
    "db.update_artist_scraped_status(jb, 1)"
   ]
  },
  {
   "cell_type": "code",
   "execution_count": null,
   "metadata": {},
   "outputs": [],
   "source": [
    "pwd"
   ]
  },
  {
   "cell_type": "code",
   "execution_count": null,
   "metadata": {},
   "outputs": [],
   "source": [
    "with open('../data/james_brown_songs.txt', 'w') as f:\n",
    "    for item in jbsongs:\n",
    "        f.write(\"%s\\n\" % item)"
   ]
  },
  {
   "cell_type": "code",
   "execution_count": null,
   "metadata": {},
   "outputs": [],
   "source": [
    "jbsongs"
   ]
  },
  {
   "cell_type": "code",
   "execution_count": null,
   "metadata": {},
   "outputs": [],
   "source": [
    "db.get_next_song_to_scrape()"
   ]
  },
  {
   "cell_type": "code",
   "execution_count": null,
   "metadata": {},
   "outputs": [],
   "source": [
    "db.get_next_artist_to_scrape()"
   ]
  },
  {
   "cell_type": "code",
   "execution_count": null,
   "metadata": {},
   "outputs": [],
   "source": [
    "        query = \"\"\"\n",
    "        SELECT count(*) from songs\n",
    "        where scraped = 0\n",
    "        \"\"\""
   ]
  },
  {
   "cell_type": "code",
   "execution_count": null,
   "metadata": {},
   "outputs": [],
   "source": [
    "cur.execute(query)"
   ]
  },
  {
   "cell_type": "code",
   "execution_count": null,
   "metadata": {},
   "outputs": [],
   "source": [
    "conn.commit()"
   ]
  },
  {
   "cell_type": "code",
   "execution_count": null,
   "metadata": {},
   "outputs": [],
   "source": [
    "list(cur)[0][0]"
   ]
  },
  {
   "cell_type": "code",
   "execution_count": null,
   "metadata": {},
   "outputs": [],
   "source": [
    "s = Scraper()"
   ]
  },
  {
   "cell_type": "code",
   "execution_count": null,
   "metadata": {},
   "outputs": [],
   "source": [
    "db = DatabaseInteraction()"
   ]
  },
  {
   "cell_type": "code",
   "execution_count": null,
   "metadata": {},
   "outputs": [],
   "source": [
    "url = 'https://www.whosampled.com/Beyonc%C3%A9/All-Night/'\n",
    "sampled_in, contains, new_artists = s.get_song_connections(url)"
   ]
  },
  {
   "cell_type": "code",
   "execution_count": null,
   "metadata": {},
   "outputs": [],
   "source": [
    "pdb"
   ]
  },
  {
   "cell_type": "code",
   "execution_count": null,
   "metadata": {},
   "outputs": [],
   "source": [
    "url = 'https://www.whosampled.com/Beyonc%C3%A9/Upgrade-U/'\n",
    "sampled_in, contains, new_artists = s.get_song_connections(url)"
   ]
  },
  {
   "cell_type": "code",
   "execution_count": null,
   "metadata": {},
   "outputs": [],
   "source": [
    "contains"
   ]
  },
  {
   "cell_type": "code",
   "execution_count": null,
   "metadata": {},
   "outputs": [],
   "source": [
    "sampled_in"
   ]
  },
  {
   "cell_type": "code",
   "execution_count": null,
   "metadata": {},
   "outputs": [],
   "source": [
    "for x, y in zip(contains, new_artists):\n",
    "    print(x['url'])\n",
    "    print(y['name']+'\\n')"
   ]
  },
  {
   "cell_type": "code",
   "execution_count": null,
   "metadata": {},
   "outputs": [],
   "source": [
    "len(new_artists)"
   ]
  },
  {
   "cell_type": "code",
   "execution_count": null,
   "metadata": {},
   "outputs": [],
   "source": [
    "new_artists"
   ]
  },
  {
   "cell_type": "code",
   "execution_count": null,
   "metadata": {},
   "outputs": [],
   "source": [
    "for song in sample_song_ids:\n",
    "    query = f\"\"\"   \n",
    "        INSERT INTO connections (song_id, sampled_by_song_id)\n",
    "\n",
    "        SELECT %s, %s\n",
    "\n",
    "        WHERE %s, %s NOT IN (\n",
    "                    SELECT song_id, sampled_by_song_id FROM connections\n",
    "                    );\n",
    "                \"\"\"\n",
    "    self.cur.execute(query, (\n",
    "         song_id,\n",
    "         song,\n",
    "         song_id,\n",
    "         song))\n",
    "    self.conn.commit()"
   ]
  },
  {
   "cell_type": "code",
   "execution_count": null,
   "metadata": {},
   "outputs": [],
   "source": [
    "query = \"\"\"   \n",
    "    SELECT id FROM artists\n",
    "    WHERE url = %s\n",
    "            \"\"\"\n",
    "url = contains[0]['artist_url']\n",
    "cur.execute(query, (url,))\n",
    "conn.commit()"
   ]
  },
  {
   "cell_type": "code",
   "execution_count": null,
   "metadata": {},
   "outputs": [],
   "source": [
    "list(cur)[0][0]"
   ]
  },
  {
   "cell_type": "code",
   "execution_count": null,
   "metadata": {},
   "outputs": [],
   "source": [
    "new_artists"
   ]
  },
  {
   "cell_type": "code",
   "execution_count": null,
   "metadata": {},
   "outputs": [],
   "source": [
    "db.write_artists(new_artists)"
   ]
  },
  {
   "cell_type": "code",
   "execution_count": null,
   "metadata": {},
   "outputs": [],
   "source": [
    "db.write_songs(contains)"
   ]
  },
  {
   "cell_type": "code",
   "execution_count": null,
   "metadata": {},
   "outputs": [],
   "source": [
    "db.write_songs(sampled_in)"
   ]
  },
  {
   "cell_type": "code",
   "execution_count": null,
   "metadata": {},
   "outputs": [],
   "source": [
    "query = \"\"\"   \n",
    "        SELECT id\n",
    "        FROM songs    \n",
    "        WHERE url = %s;\n",
    "        \"\"\"\n",
    "cur.execute(query, ('https://www.whosampled.com/Betty-Wright/Girls-Can%27t-Do-What-the-Guys-Do/',))\n",
    "conn.commit()\n",
    "[x for (x,) in cur]\n"
   ]
  },
  {
   "cell_type": "code",
   "execution_count": null,
   "metadata": {},
   "outputs": [],
   "source": [
    "db.get_next_artist_to_scrape()"
   ]
  },
  {
   "cell_type": "code",
   "execution_count": null,
   "metadata": {},
   "outputs": [],
   "source": [
    "artist = _"
   ]
  },
  {
   "cell_type": "code",
   "execution_count": null,
   "metadata": {},
   "outputs": [],
   "source": [
    "type(artist['id'])"
   ]
  },
  {
   "cell_type": "code",
   "execution_count": null,
   "metadata": {},
   "outputs": [],
   "source": [
    "db = DatabaseInteraction()"
   ]
  },
  {
   "cell_type": "code",
   "execution_count": null,
   "metadata": {},
   "outputs": [],
   "source": [
    "for i in range(30, 47):\n",
    "    db.update_scraped_status(\"artists\", i, 1)"
   ]
  },
  {
   "cell_type": "code",
   "execution_count": null,
   "metadata": {},
   "outputs": [],
   "source": [
    "query = f\"\"\"\n",
    "        UPDATE {}\n",
    "        SET scraped = %s\n",
    "        WHERE id = %s\n",
    "        ;\"\"\"\n",
    "\n",
    "cur.execute(\n",
    "    sql.SQL(query, (artists, 1, 1))\n",
    "conn.commit()"
   ]
  },
  {
   "cell_type": "code",
   "execution_count": null,
   "metadata": {},
   "outputs": [],
   "source": [
    "db.get_next_artist_to_scrape()"
   ]
  },
  {
   "cell_type": "code",
   "execution_count": null,
   "metadata": {},
   "outputs": [],
   "source": [
    "db.get_next_song_to_scrape()"
   ]
  },
  {
   "cell_type": "code",
   "execution_count": null,
   "metadata": {},
   "outputs": [],
   "source": [
    "db.insert_contains_sample(12,5)"
   ]
  },
  {
   "cell_type": "code",
   "execution_count": null,
   "metadata": {},
   "outputs": [],
   "source": [
    "conn.rollback()"
   ]
  },
  {
   "cell_type": "code",
   "execution_count": null,
   "metadata": {},
   "outputs": [],
   "source": [
    "query = \"\"\"   \n",
    "        SELECT song_id, sampled_by_song_id\n",
    "        FROM connections;\n",
    "        \"\"\"\n",
    "cur.execute(query)\n",
    "conn.commit()"
   ]
  },
  {
   "cell_type": "code",
   "execution_count": null,
   "metadata": {},
   "outputs": [],
   "source": [
    "[x for x in cur]"
   ]
  },
  {
   "cell_type": "code",
   "execution_count": null,
   "metadata": {},
   "outputs": [],
   "source": [
    "db = DatabaseInteraction()"
   ]
  },
  {
   "cell_type": "code",
   "execution_count": null,
   "metadata": {},
   "outputs": [],
   "source": [
    "test = {'name': 'a', 'url': 'a.com'}"
   ]
  },
  {
   "cell_type": "code",
   "execution_count": null,
   "metadata": {},
   "outputs": [],
   "source": [
    "db.write_artists(artist_urls, return_artist_id=True)"
   ]
  },
  {
   "cell_type": "code",
   "execution_count": null,
   "metadata": {},
   "outputs": [],
   "source": [
    "db.cur.fetchone()"
   ]
  },
  {
   "cell_type": "code",
   "execution_count": null,
   "metadata": {},
   "outputs": [],
   "source": [
    "artist_urls[0]"
   ]
  },
  {
   "cell_type": "code",
   "execution_count": null,
   "metadata": {},
   "outputs": [],
   "source": [
    "db.get_artist_info(url='https://www.whosampled.com/James-Brown/')"
   ]
  },
  {
   "cell_type": "code",
   "execution_count": null,
   "metadata": {},
   "outputs": [],
   "source": [
    "artist_dict = _"
   ]
  },
  {
   "cell_type": "code",
   "execution_count": null,
   "metadata": {},
   "outputs": [],
   "source": [
    "artist_dict[\"id\"]"
   ]
  },
  {
   "cell_type": "code",
   "execution_count": null,
   "metadata": {},
   "outputs": [],
   "source": [
    "db = DatabaseInteraction(db_name='mixmaker2')"
   ]
  },
  {
   "cell_type": "code",
   "execution_count": null,
   "metadata": {},
   "outputs": [],
   "source": [
    "db.insert_contains_sample(2971, 5)"
   ]
  },
  {
   "cell_type": "code",
   "execution_count": null,
   "metadata": {},
   "outputs": [],
   "source": [
    "query = \"\"\"   \n",
    "        SELECT song_id, sampled_by_song_id\n",
    "        FROM connections;\n",
    "        \"\"\"\n",
    "cur.execute(query)\n",
    "conn.commit()"
   ]
  },
  {
   "cell_type": "code",
   "execution_count": 17,
   "metadata": {},
   "outputs": [],
   "source": [
    "query = \"\"\"   \n",
    "        SELECT a.name, count(s.artist_id) as artist_freq\n",
    "        FROM artists a\n",
    "        JOIN songs s\n",
    "        ON a.id = s.artist_id\n",
    "        GROUP BY a.id\n",
    "        HAVING a.scraped_spotify = 0\n",
    "        ORDER BY artist_freq DESC\n",
    "        LIMIT 50;\n",
    "        \"\"\"\n",
    "cur.execute(query)\n",
    "conn.commit()"
   ]
  },
  {
   "cell_type": "code",
   "execution_count": 19,
   "metadata": {},
   "outputs": [
    {
     "data": {
      "text/plain": [
       "[('Michael Jackson', 571),\n",
       " ('Jay-Z', 526),\n",
       " ('Madonna', 524),\n",
       " ('Kanye West', 505),\n",
       " ('The Beatles', 442),\n",
       " ('Drake', 427),\n",
       " ('Public Enemy', 384),\n",
       " ('James Brown', 367),\n",
       " ('Ice Cube', 342),\n",
       " ('Kendrick Lamar', 301),\n",
       " ('KRS-One', 258),\n",
       " ('Stevie Wonder', 247),\n",
       " ('Prince', 243),\n",
       " ('Marvin Gaye', 230),\n",
       " ('Beck', 188),\n",
       " ('The Temptations', 187),\n",
       " ('Isaac Hayes', 164),\n",
       " (\"Ultramagnetic MC's\", 155),\n",
       " ('Kool & the Gang', 155),\n",
       " ('DJ Jazzy Jeff & the Fresh Prince', 150),\n",
       " ('Kool G Rap', 149),\n",
       " ('Jamiroquai', 145),\n",
       " ('Earth, Wind & Fire', 143),\n",
       " ('George Benson', 133),\n",
       " ('Heavy D & the Boyz', 130),\n",
       " ('Funkadelic', 129),\n",
       " ('Slick Rick', 123),\n",
       " ('Boogie Down Productions', 121),\n",
       " ('Dalida', 120),\n",
       " ('Kool Keith', 116),\n",
       " ('Tyler, the Creator', 104),\n",
       " ('Bee Gees', 102),\n",
       " ('Parliament', 100),\n",
       " ('Ministry', 91),\n",
       " ('Jodeci', 90),\n",
       " (\"Racionais MC's\", 83),\n",
       " ('Information Society', 83),\n",
       " ('Sly & the Family Stone', 81),\n",
       " ('Orchestral Manoeuvres In The Dark', 80),\n",
       " ('Above the Law', 75),\n",
       " ('De La Soul', 63),\n",
       " ('Snoop Dogg', 63),\n",
       " ('Marley Marl', 63),\n",
       " ('2Pac', 63),\n",
       " ('Lil Wayne', 62),\n",
       " ('Chic', 60),\n",
       " ('LL Cool J', 59),\n",
       " ('Lil B', 58),\n",
       " ('Special Ed', 57),\n",
       " ('Bell Biv DeVoe', 56)]"
      ]
     },
     "execution_count": 19,
     "metadata": {},
     "output_type": "execute_result"
    }
   ],
   "source": [
    "list(cur)"
   ]
  },
  {
   "cell_type": "code",
   "execution_count": 20,
   "metadata": {},
   "outputs": [],
   "source": [
    "output = _"
   ]
  },
  {
   "cell_type": "code",
   "execution_count": 23,
   "metadata": {},
   "outputs": [],
   "source": [
    "output = output[10:].copy()"
   ]
  },
  {
   "cell_type": "code",
   "execution_count": 25,
   "metadata": {},
   "outputs": [
    {
     "data": {
      "text/plain": [
       "[('KRS-One', 258),\n",
       " ('Stevie Wonder', 247),\n",
       " ('Prince', 243),\n",
       " ('Marvin Gaye', 230),\n",
       " ('Beck', 188),\n",
       " ('The Temptations', 187),\n",
       " ('Isaac Hayes', 164),\n",
       " (\"Ultramagnetic MC's\", 155),\n",
       " ('Kool & the Gang', 155),\n",
       " ('DJ Jazzy Jeff & the Fresh Prince', 150),\n",
       " ('Kool G Rap', 149),\n",
       " ('Jamiroquai', 145),\n",
       " ('Earth, Wind & Fire', 143),\n",
       " ('George Benson', 133),\n",
       " ('Heavy D & the Boyz', 130),\n",
       " ('Funkadelic', 129),\n",
       " ('Slick Rick', 123),\n",
       " ('Boogie Down Productions', 121),\n",
       " ('Dalida', 120),\n",
       " ('Kool Keith', 116),\n",
       " ('Tyler, the Creator', 104),\n",
       " ('Bee Gees', 102),\n",
       " ('Parliament', 100),\n",
       " ('Ministry', 91),\n",
       " ('Jodeci', 90),\n",
       " (\"Racionais MC's\", 83),\n",
       " ('Information Society', 83),\n",
       " ('Sly & the Family Stone', 81),\n",
       " ('Orchestral Manoeuvres In The Dark', 80),\n",
       " ('Above the Law', 75),\n",
       " ('De La Soul', 63),\n",
       " ('Snoop Dogg', 63),\n",
       " ('Marley Marl', 63),\n",
       " ('2Pac', 63),\n",
       " ('Lil Wayne', 62),\n",
       " ('Chic', 60),\n",
       " ('LL Cool J', 59),\n",
       " ('Lil B', 58),\n",
       " ('Special Ed', 57),\n",
       " ('Bell Biv DeVoe', 56)]"
      ]
     },
     "execution_count": 25,
     "metadata": {},
     "output_type": "execute_result"
    }
   ],
   "source": [
    "output"
   ]
  },
  {
   "cell_type": "code",
   "execution_count": null,
   "metadata": {},
   "outputs": [],
   "source": []
  }
 ],
 "metadata": {
  "kernelspec": {
   "display_name": "Python 3",
   "language": "python",
   "name": "python3"
  },
  "language_info": {
   "codemirror_mode": {
    "name": "ipython",
    "version": 3
   },
   "file_extension": ".py",
   "mimetype": "text/x-python",
   "name": "python",
   "nbconvert_exporter": "python",
   "pygments_lexer": "ipython3",
   "version": "3.6.4"
  }
 },
 "nbformat": 4,
 "nbformat_minor": 2
}
