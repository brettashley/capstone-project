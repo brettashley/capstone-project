{
 "cells": [
  {
   "cell_type": "code",
   "execution_count": 2,
   "metadata": {},
   "outputs": [],
   "source": [
    "import selenium\n",
    "from selenium.webdriver import Firefox, Chrome\n",
    "import time\n",
    "import psycopg2\n",
    "import pandas as pd\n",
    "from psycopg2.extras import Json"
   ]
  },
  {
   "cell_type": "code",
   "execution_count": 3,
   "metadata": {},
   "outputs": [
    {
     "name": "stdout",
     "output_type": "stream",
     "text": [
      "/Users/brettashley/galvanize/dsi/00-Capstone/mix-maker/src\n"
     ]
    }
   ],
   "source": [
    "cd /Users/brettashley/galvanize/dsi/00-Capstone/mix-maker/src/"
   ]
  },
  {
   "cell_type": "code",
   "execution_count": 4,
   "metadata": {},
   "outputs": [],
   "source": [
    "from scraper import Scraper\n",
    "from DatabaseInteraction import DatabaseInteraction\n",
    "# import DataBaseInteraction"
   ]
  },
  {
   "cell_type": "code",
   "execution_count": 5,
   "metadata": {},
   "outputs": [],
   "source": [
    "conn = psycopg2.connect(dbname='mixmaker2', host='localhost')\n",
    "cur = conn.cursor()"
   ]
  },
  {
   "cell_type": "code",
   "execution_count": null,
   "metadata": {},
   "outputs": [],
   "source": [
    "sel = \"div#content div.divided-layout div.layout-container.leftContent div\"\n",
    "url = 'https://www.whosampled.com/genre/Soul-Funk-Disco/'\n",
    "desired_section = 'Most influential artists'"
   ]
  },
  {
   "cell_type": "code",
   "execution_count": null,
   "metadata": {},
   "outputs": [],
   "source": [
    "# s = Scraper('https://www.whosampled.com/genre/Soul-Funk-Disco/')"
   ]
  },
  {
   "cell_type": "code",
   "execution_count": null,
   "metadata": {},
   "outputs": [],
   "source": [
    "# artist_section = s.find_desired_section(sel, desired_section)"
   ]
  },
  {
   "cell_type": "code",
   "execution_count": null,
   "metadata": {},
   "outputs": [],
   "source": [
    "# artist_urls = list(s.get_artist_urls(artist_section))"
   ]
  },
  {
   "cell_type": "code",
   "execution_count": null,
   "metadata": {},
   "outputs": [],
   "source": [
    "# test['url'] = u'https://www.whosampled.com/The-J.B.%27s/'"
   ]
  },
  {
   "cell_type": "code",
   "execution_count": null,
   "metadata": {},
   "outputs": [],
   "source": [
    "# artist_urls[9]['name']"
   ]
  },
  {
   "cell_type": "code",
   "execution_count": null,
   "metadata": {},
   "outputs": [],
   "source": [
    "artist_urls = [{'name': 'James Brown', 'url': 'https://www.whosampled.com/James-Brown/'},\n",
    " {'name': 'Traditional Folk',\n",
    "  'url': 'https://www.whosampled.com/Traditional-Folk/'},\n",
    " {'name': 'Kool & the Gang',\n",
    "  'url': 'https://www.whosampled.com/Kool-%26-the-Gang/'},\n",
    " {'name': 'Funkadelic', 'url': 'https://www.whosampled.com/Funkadelic/'},\n",
    " {'name': 'The Beatles', 'url': 'https://www.whosampled.com/The-Beatles/'},\n",
    " {'name': 'Marvin Gaye', 'url': 'https://www.whosampled.com/Marvin-Gaye/'},\n",
    " {'name': 'Michael Jackson',\n",
    "  'url': 'https://www.whosampled.com/Michael-Jackson/'},\n",
    " {'name': 'Parliament', 'url': 'https://www.whosampled.com/Parliament/'},\n",
    " {'name': 'Prince', 'url': 'https://www.whosampled.com/Prince/'},\n",
    " {'name': \"The J.B.'s\", 'url': 'https://www.whosampled.com/The-J.B.%27s/'},\n",
    " {'name': 'Chic', 'url': 'https://www.whosampled.com/Chic/'},\n",
    " {'name': 'Lyn Collins', 'url': 'https://www.whosampled.com/Lyn-Collins/'},\n",
    " {'name': 'Isaac Hayes', 'url': 'https://www.whosampled.com/Isaac-Hayes/'},\n",
    " {'name': 'KC & the Sunshine Band',\n",
    "  'url': 'https://www.whosampled.com/KC-%26-the-Sunshine-Band/'},\n",
    " {'name': 'Stevie Wonder', 'url': 'https://www.whosampled.com/Stevie-Wonder/'},\n",
    " {'name': 'Earth, Wind & Fire',\n",
    "  'url': 'https://www.whosampled.com/Earth,-Wind-%26-Fire/'},\n",
    " {'name': 'Bee Gees', 'url': 'https://www.whosampled.com/Bee-Gees/'},\n",
    " {'name': 'George Benson', 'url': 'https://www.whosampled.com/George-Benson/'},\n",
    " {'name': 'Bobby Byrd', 'url': 'https://www.whosampled.com/Bobby-Byrd/'},\n",
    " {'name': 'Fred Wesley', 'url': 'https://www.whosampled.com/Fred-Wesley/'},\n",
    " {'name': 'The Temptations',\n",
    "  'url': 'https://www.whosampled.com/The-Temptations/'},\n",
    " {'name': 'Sly & the Family Stone',\n",
    "  'url': 'https://www.whosampled.com/Sly-%26-the-Family-Stone/'},\n",
    " {'name': 'Delegation', 'url': 'https://www.whosampled.com/Delegation/'},\n",
    " {'name': 'Dalida', 'url': 'https://www.whosampled.com/Dalida/'}]"
   ]
  },
  {
   "cell_type": "code",
   "execution_count": null,
   "metadata": {},
   "outputs": [],
   "source": [
    "db = DatabaseInteraction()"
   ]
  },
  {
   "cell_type": "code",
   "execution_count": null,
   "metadata": {},
   "outputs": [],
   "source": []
  },
  {
   "cell_type": "code",
   "execution_count": null,
   "metadata": {},
   "outputs": [],
   "source": [
    "test = [{'name': 'James Brown', 'url': 'https://www.whosampled.com/James-Brown/'}]"
   ]
  },
  {
   "cell_type": "code",
   "execution_count": null,
   "metadata": {},
   "outputs": [],
   "source": [
    "db.write_artists(artist_urls)"
   ]
  },
  {
   "cell_type": "code",
   "execution_count": null,
   "metadata": {},
   "outputs": [],
   "source": [
    "for artist in test:\n",
    "    query = f\"\"\"        \n",
    "        INSERT INTO artists (name, url)\n",
    "        VALUES ('{artist[\"name\"]}',\n",
    "                '{artist[\"url\"]}');\n",
    "                  \"\"\"\n",
    "    cur.execute(query)\n",
    "    conn.commit()"
   ]
  },
  {
   "cell_type": "code",
   "execution_count": null,
   "metadata": {},
   "outputs": [],
   "source": [
    "conn.rollback()"
   ]
  },
  {
   "cell_type": "code",
   "execution_count": null,
   "metadata": {},
   "outputs": [],
   "source": [
    "db.get_next_artist_to_scrape()"
   ]
  },
  {
   "cell_type": "code",
   "execution_count": null,
   "metadata": {},
   "outputs": [],
   "source": [
    "(24, 'https://www.whosampled.com/Dalida/')[0]"
   ]
  },
  {
   "cell_type": "code",
   "execution_count": null,
   "metadata": {},
   "outputs": [],
   "source": [
    "query = \"\"\"\n",
    "SELECT id, url FROM artists\n",
    "WHERE scraped = 0\n",
    "ORDER BY id DESC\n",
    "LIMIT 1\n",
    "\"\"\""
   ]
  },
  {
   "cell_type": "code",
   "execution_count": null,
   "metadata": {},
   "outputs": [],
   "source": [
    "cur.execute(query)\n",
    "conn.commit()"
   ]
  },
  {
   "cell_type": "code",
   "execution_count": null,
   "metadata": {},
   "outputs": [],
   "source": [
    "list(cur)"
   ]
  },
  {
   "cell_type": "code",
   "execution_count": null,
   "metadata": {},
   "outputs": [],
   "source": [
    "artist_urls[1]"
   ]
  },
  {
   "cell_type": "code",
   "execution_count": null,
   "metadata": {},
   "outputs": [],
   "source": [
    "s = Scraper('https://www.whosampled.com/James-Brown/')"
   ]
  },
  {
   "cell_type": "code",
   "execution_count": null,
   "metadata": {},
   "outputs": [],
   "source": [
    "jb = {'name': 'James Brown', 'url': 'https://www.whosampled.com/James-Brown/', 'id' : 2}"
   ]
  },
  {
   "cell_type": "code",
   "execution_count": null,
   "metadata": {},
   "outputs": [],
   "source": [
    "# s.get_artist_songs(jb)"
   ]
  },
  {
   "cell_type": "code",
   "execution_count": null,
   "metadata": {},
   "outputs": [],
   "source": [
    "james_brown_songs = _"
   ]
  },
  {
   "cell_type": "code",
   "execution_count": null,
   "metadata": {},
   "outputs": [],
   "source": [
    "db = DatabaseInteraction()"
   ]
  },
  {
   "cell_type": "code",
   "execution_count": null,
   "metadata": {},
   "outputs": [],
   "source": [
    "db.write_songs(jbsongs)"
   ]
  },
  {
   "cell_type": "code",
   "execution_count": null,
   "metadata": {},
   "outputs": [],
   "source": [
    "conn.rollback()"
   ]
  },
  {
   "cell_type": "code",
   "execution_count": null,
   "metadata": {},
   "outputs": [],
   "source": [
    "db.update_artist_scraped_status(jb, 1)"
   ]
  },
  {
   "cell_type": "code",
   "execution_count": null,
   "metadata": {},
   "outputs": [],
   "source": [
    "pwd"
   ]
  },
  {
   "cell_type": "code",
   "execution_count": null,
   "metadata": {},
   "outputs": [],
   "source": [
    "with open('../data/james_brown_songs.txt', 'w') as f:\n",
    "    for item in jbsongs:\n",
    "        f.write(\"%s\\n\" % item)"
   ]
  },
  {
   "cell_type": "code",
   "execution_count": null,
   "metadata": {},
   "outputs": [],
   "source": [
    "jbsongs"
   ]
  },
  {
   "cell_type": "code",
   "execution_count": null,
   "metadata": {},
   "outputs": [],
   "source": [
    "db.get_next_song_to_scrape()"
   ]
  },
  {
   "cell_type": "code",
   "execution_count": null,
   "metadata": {},
   "outputs": [],
   "source": [
    "db.get_next_artist_to_scrape()"
   ]
  },
  {
   "cell_type": "code",
   "execution_count": null,
   "metadata": {},
   "outputs": [],
   "source": [
    "        query = \"\"\"\n",
    "        SELECT count(*) from songs\n",
    "        where scraped = 0\n",
    "        \"\"\""
   ]
  },
  {
   "cell_type": "code",
   "execution_count": null,
   "metadata": {},
   "outputs": [],
   "source": [
    "cur.execute(query)"
   ]
  },
  {
   "cell_type": "code",
   "execution_count": null,
   "metadata": {},
   "outputs": [],
   "source": [
    "conn.commit()"
   ]
  },
  {
   "cell_type": "code",
   "execution_count": null,
   "metadata": {},
   "outputs": [],
   "source": [
    "list(cur)[0][0]"
   ]
  },
  {
   "cell_type": "code",
   "execution_count": null,
   "metadata": {},
   "outputs": [],
   "source": [
    "s = Scraper()"
   ]
  },
  {
   "cell_type": "code",
   "execution_count": null,
   "metadata": {},
   "outputs": [],
   "source": [
    "db = DatabaseInteraction()"
   ]
  },
  {
   "cell_type": "code",
   "execution_count": null,
   "metadata": {},
   "outputs": [],
   "source": [
    "url = 'https://www.whosampled.com/Beyonc%C3%A9/All-Night/'\n",
    "sampled_in, contains, new_artists = s.get_song_connections(url)"
   ]
  },
  {
   "cell_type": "code",
   "execution_count": null,
   "metadata": {},
   "outputs": [],
   "source": [
    "pdb"
   ]
  },
  {
   "cell_type": "code",
   "execution_count": null,
   "metadata": {},
   "outputs": [],
   "source": [
    "url = 'https://www.whosampled.com/Beyonc%C3%A9/Upgrade-U/'\n",
    "sampled_in, contains, new_artists = s.get_song_connections(url)"
   ]
  },
  {
   "cell_type": "code",
   "execution_count": null,
   "metadata": {},
   "outputs": [],
   "source": [
    "contains"
   ]
  },
  {
   "cell_type": "code",
   "execution_count": null,
   "metadata": {},
   "outputs": [],
   "source": [
    "sampled_in"
   ]
  },
  {
   "cell_type": "code",
   "execution_count": null,
   "metadata": {},
   "outputs": [],
   "source": [
    "for x, y in zip(contains, new_artists):\n",
    "    print(x['url'])\n",
    "    print(y['name']+'\\n')"
   ]
  },
  {
   "cell_type": "code",
   "execution_count": null,
   "metadata": {},
   "outputs": [],
   "source": [
    "len(new_artists)"
   ]
  },
  {
   "cell_type": "code",
   "execution_count": null,
   "metadata": {},
   "outputs": [],
   "source": [
    "new_artists"
   ]
  },
  {
   "cell_type": "code",
   "execution_count": null,
   "metadata": {},
   "outputs": [],
   "source": [
    "for song in sample_song_ids:\n",
    "    query = f\"\"\"   \n",
    "        INSERT INTO connections (song_id, sampled_by_song_id)\n",
    "\n",
    "        SELECT %s, %s\n",
    "\n",
    "        WHERE %s, %s NOT IN (\n",
    "                    SELECT song_id, sampled_by_song_id FROM connections\n",
    "                    );\n",
    "                \"\"\"\n",
    "    self.cur.execute(query, (\n",
    "         song_id,\n",
    "         song,\n",
    "         song_id,\n",
    "         song))\n",
    "    self.conn.commit()"
   ]
  },
  {
   "cell_type": "code",
   "execution_count": null,
   "metadata": {},
   "outputs": [],
   "source": [
    "query = \"\"\"   \n",
    "    SELECT id FROM artists\n",
    "    WHERE url = %s\n",
    "            \"\"\"\n",
    "url = contains[0]['artist_url']\n",
    "cur.execute(query, (url,))\n",
    "conn.commit()"
   ]
  },
  {
   "cell_type": "code",
   "execution_count": null,
   "metadata": {},
   "outputs": [],
   "source": [
    "list(cur)[0][0]"
   ]
  },
  {
   "cell_type": "code",
   "execution_count": null,
   "metadata": {},
   "outputs": [],
   "source": [
    "new_artists"
   ]
  },
  {
   "cell_type": "code",
   "execution_count": null,
   "metadata": {},
   "outputs": [],
   "source": [
    "db.write_artists(new_artists)"
   ]
  },
  {
   "cell_type": "code",
   "execution_count": null,
   "metadata": {},
   "outputs": [],
   "source": [
    "db.write_songs(contains)"
   ]
  },
  {
   "cell_type": "code",
   "execution_count": null,
   "metadata": {},
   "outputs": [],
   "source": [
    "db.write_songs(sampled_in)"
   ]
  },
  {
   "cell_type": "code",
   "execution_count": null,
   "metadata": {},
   "outputs": [],
   "source": [
    "query = \"\"\"   \n",
    "        SELECT id\n",
    "        FROM songs    \n",
    "        WHERE url = %s;\n",
    "        \"\"\"\n",
    "cur.execute(query, ('https://www.whosampled.com/Betty-Wright/Girls-Can%27t-Do-What-the-Guys-Do/',))\n",
    "conn.commit()\n",
    "[x for (x,) in cur]\n"
   ]
  },
  {
   "cell_type": "code",
   "execution_count": null,
   "metadata": {},
   "outputs": [],
   "source": [
    "db.get_next_artist_to_scrape()"
   ]
  },
  {
   "cell_type": "code",
   "execution_count": null,
   "metadata": {},
   "outputs": [],
   "source": [
    "artist = _"
   ]
  },
  {
   "cell_type": "code",
   "execution_count": null,
   "metadata": {},
   "outputs": [],
   "source": [
    "type(artist['id'])"
   ]
  },
  {
   "cell_type": "code",
   "execution_count": null,
   "metadata": {},
   "outputs": [],
   "source": [
    "db = DatabaseInteraction()"
   ]
  },
  {
   "cell_type": "code",
   "execution_count": null,
   "metadata": {},
   "outputs": [],
   "source": [
    "for i in range(30, 47):\n",
    "    db.update_scraped_status(\"artists\", i, 1)"
   ]
  },
  {
   "cell_type": "code",
   "execution_count": null,
   "metadata": {},
   "outputs": [],
   "source": [
    "query = f\"\"\"\n",
    "        UPDATE {}\n",
    "        SET scraped = %s\n",
    "        WHERE id = %s\n",
    "        ;\"\"\"\n",
    "\n",
    "cur.execute(\n",
    "    sql.SQL(query, (artists, 1, 1))\n",
    "conn.commit()"
   ]
  },
  {
   "cell_type": "code",
   "execution_count": null,
   "metadata": {},
   "outputs": [],
   "source": [
    "db.get_next_artist_to_scrape()"
   ]
  },
  {
   "cell_type": "code",
   "execution_count": null,
   "metadata": {},
   "outputs": [],
   "source": [
    "db.get_next_song_to_scrape()"
   ]
  },
  {
   "cell_type": "code",
   "execution_count": null,
   "metadata": {},
   "outputs": [],
   "source": [
    "db.insert_contains_sample(12,5)"
   ]
  },
  {
   "cell_type": "code",
   "execution_count": null,
   "metadata": {},
   "outputs": [],
   "source": [
    "conn.rollback()"
   ]
  },
  {
   "cell_type": "code",
   "execution_count": null,
   "metadata": {},
   "outputs": [],
   "source": [
    "query = \"\"\"   \n",
    "        SELECT song_id, sampled_by_song_id\n",
    "        FROM connections;\n",
    "        \"\"\"\n",
    "cur.execute(query)\n",
    "conn.commit()"
   ]
  },
  {
   "cell_type": "code",
   "execution_count": null,
   "metadata": {},
   "outputs": [],
   "source": [
    "[x for x in cur]"
   ]
  },
  {
   "cell_type": "code",
   "execution_count": null,
   "metadata": {},
   "outputs": [],
   "source": [
    "db = DatabaseInteraction()"
   ]
  },
  {
   "cell_type": "code",
   "execution_count": null,
   "metadata": {},
   "outputs": [],
   "source": [
    "test = {'name': 'a', 'url': 'a.com'}"
   ]
  },
  {
   "cell_type": "code",
   "execution_count": null,
   "metadata": {},
   "outputs": [],
   "source": [
    "db.write_artists(artist_urls, return_artist_id=True)"
   ]
  },
  {
   "cell_type": "code",
   "execution_count": null,
   "metadata": {},
   "outputs": [],
   "source": [
    "db.cur.fetchone()"
   ]
  },
  {
   "cell_type": "code",
   "execution_count": null,
   "metadata": {},
   "outputs": [],
   "source": [
    "artist_urls[0]"
   ]
  },
  {
   "cell_type": "code",
   "execution_count": null,
   "metadata": {},
   "outputs": [],
   "source": [
    "db.get_artist_info(url='https://www.whosampled.com/James-Brown/')"
   ]
  },
  {
   "cell_type": "code",
   "execution_count": null,
   "metadata": {},
   "outputs": [],
   "source": [
    "artist_dict = _"
   ]
  },
  {
   "cell_type": "code",
   "execution_count": null,
   "metadata": {},
   "outputs": [],
   "source": [
    "artist_dict[\"id\"]"
   ]
  },
  {
   "cell_type": "code",
   "execution_count": null,
   "metadata": {},
   "outputs": [],
   "source": [
    "db = DatabaseInteraction(db_name='mixmaker2')"
   ]
  },
  {
   "cell_type": "code",
   "execution_count": null,
   "metadata": {},
   "outputs": [],
   "source": [
    "db.insert_contains_sample(2971, 5)"
   ]
  },
  {
   "cell_type": "code",
   "execution_count": null,
   "metadata": {},
   "outputs": [],
   "source": [
    "query = \"\"\"   \n",
    "        SELECT song_id, sampled_by_song_id\n",
    "        FROM connections;\n",
    "        \"\"\"\n",
    "cur.execute(query)\n",
    "conn.commit()"
   ]
  },
  {
   "cell_type": "code",
   "execution_count": null,
   "metadata": {},
   "outputs": [],
   "source": [
    "query = \"\"\"   \n",
    "        SELECT a.name, count(s.artist_id) as artist_freq\n",
    "        FROM artists a\n",
    "        JOIN songs s\n",
    "        ON a.id = s.artist_id\n",
    "        GROUP BY a.id\n",
    "        HAVING a.scraped_spotify = 0\n",
    "        ORDER BY artist_freq DESC\n",
    "        LIMIT 50;\n",
    "        \"\"\"\n",
    "cur.execute(query)\n",
    "conn.commit()"
   ]
  },
  {
   "cell_type": "code",
   "execution_count": null,
   "metadata": {},
   "outputs": [],
   "source": [
    "list(cur)"
   ]
  },
  {
   "cell_type": "code",
   "execution_count": null,
   "metadata": {},
   "outputs": [],
   "source": [
    "output = _"
   ]
  },
  {
   "cell_type": "code",
   "execution_count": null,
   "metadata": {},
   "outputs": [],
   "source": [
    "output = output[10:].copy()"
   ]
  },
  {
   "cell_type": "code",
   "execution_count": null,
   "metadata": {},
   "outputs": [],
   "source": [
    "output"
   ]
  },
  {
   "cell_type": "code",
   "execution_count": 5,
   "metadata": {},
   "outputs": [],
   "source": [
    "db = DatabaseInteraction(db_name='mixmaker')"
   ]
  },
  {
   "cell_type": "code",
   "execution_count": null,
   "metadata": {},
   "outputs": [],
   "source": [
    "db.update_scraped_status('songs', 16505, 1)"
   ]
  },
  {
   "cell_type": "code",
   "execution_count": null,
   "metadata": {},
   "outputs": [],
   "source": [
    "import urllib.parse"
   ]
  },
  {
   "cell_type": "code",
   "execution_count": null,
   "metadata": {},
   "outputs": [],
   "source": [
    "song_name = \"Heart-of-the-City-(Ain't-No-Love)\""
   ]
  },
  {
   "cell_type": "code",
   "execution_count": null,
   "metadata": {},
   "outputs": [],
   "source": [
    "(urllib.parse.quote(song_name\n",
    "                                            .replace(' ', '-'))\n",
    "                                            .replace('%28', '(')\n",
    "                                            .replace('%29', ')'))"
   ]
  },
  {
   "cell_type": "code",
   "execution_count": null,
   "metadata": {},
   "outputs": [],
   "source": [
    "artist_url = 'https://www.whosampled.com/Jay-Z/'"
   ]
  },
  {
   "cell_type": "code",
   "execution_count": null,
   "metadata": {},
   "outputs": [],
   "source": [
    "song_url = (artist_url + (urllib.parse.quote(song_name\n",
    "                                            .replace(' ', '-'))\n",
    "                                            .replace('%28', '(')\n",
    "                                            .replace('%29', ')'))\n",
    "                                      + '/')"
   ]
  },
  {
   "cell_type": "code",
   "execution_count": null,
   "metadata": {},
   "outputs": [],
   "source": [
    "print(song_url)"
   ]
  },
  {
   "cell_type": "code",
   "execution_count": null,
   "metadata": {},
   "outputs": [],
   "source": [
    "# FIX WRONG IDS"
   ]
  },
  {
   "cell_type": "code",
   "execution_count": null,
   "metadata": {},
   "outputs": [],
   "source": [
    "conn = psycopg2.connect(dbname='mixmaker', host='localhost')\n",
    "cur = conn.cursor()"
   ]
  },
  {
   "cell_type": "code",
   "execution_count": null,
   "metadata": {},
   "outputs": [],
   "source": [
    "query = \"select id, url from songs where url like '%\\%28%' or url like ;\""
   ]
  },
  {
   "cell_type": "code",
   "execution_count": null,
   "metadata": {},
   "outputs": [],
   "source": [
    "query = \"\"\"   \n",
    "        SELECT id, url from songs\n",
    "        WHERE url LIKE '%\\%28%'\n",
    "        OR url LIKE '%\\%29%'\n",
    "        ORDER BY id\n",
    "        LIMIT 1;\n",
    "        \"\"\""
   ]
  },
  {
   "cell_type": "code",
   "execution_count": null,
   "metadata": {},
   "outputs": [],
   "source": [
    "cur.execute(query)\n",
    "conn.commit()"
   ]
  },
  {
   "cell_type": "code",
   "execution_count": null,
   "metadata": {},
   "outputs": [],
   "source": [
    "results = [x for x in cur]"
   ]
  },
  {
   "cell_type": "code",
   "execution_count": null,
   "metadata": {},
   "outputs": [],
   "source": [
    "results"
   ]
  },
  {
   "cell_type": "code",
   "execution_count": null,
   "metadata": {},
   "outputs": [],
   "source": [
    "song_url = results[0][1]"
   ]
  },
  {
   "cell_type": "code",
   "execution_count": null,
   "metadata": {},
   "outputs": [],
   "source": [
    "song_url = 'https://www.whosampled.com/James-Brown/Funky-President-%28People-It%27s-Bad%29/'"
   ]
  },
  {
   "cell_type": "code",
   "execution_count": null,
   "metadata": {},
   "outputs": [],
   "source": [
    "correct_song_url = song_url.replace('%28', '(').replace('%29', ')')"
   ]
  },
  {
   "cell_type": "code",
   "execution_count": null,
   "metadata": {},
   "outputs": [],
   "source": [
    "correct_song_url"
   ]
  },
  {
   "cell_type": "code",
   "execution_count": null,
   "metadata": {},
   "outputs": [],
   "source": [
    "query = \"\"\"   \n",
    "        SELECT id, url from songs\n",
    "        WHERE url = %s\n",
    "        LIMIT 1;\n",
    "        \"\"\"\n",
    "cur.execute(query, (correct_song_url,))\n",
    "conn.commit()"
   ]
  },
  {
   "cell_type": "code",
   "execution_count": null,
   "metadata": {},
   "outputs": [],
   "source": [
    "results = [x for x in cur]"
   ]
  },
  {
   "cell_type": "code",
   "execution_count": null,
   "metadata": {},
   "outputs": [],
   "source": [
    "results[0][0]"
   ]
  },
  {
   "cell_type": "code",
   "execution_count": null,
   "metadata": {},
   "outputs": [],
   "source": [
    "old_id = 6122"
   ]
  },
  {
   "cell_type": "code",
   "execution_count": null,
   "metadata": {},
   "outputs": [],
   "source": [
    "if len(results) == 1:\n",
    "    update_song_id = \"\"\"   \n",
    "                     UPDATE connections\n",
    "                     SET song_id = %s\n",
    "                     WHERE song_id = %s;\n",
    "                     \"\"\"\n",
    "    update_sampled = \"\"\"   \n",
    "                     UPDATE connections\n",
    "                     SET sampled_by_song_id = %s\n",
    "                     WHERE sampled_by_song_id = %s;\n",
    "                     \"\"\"\n",
    "    cur.execute(update_song_id, (results[0][0], old_id))\n",
    "    cur.execute(update_sampled, (18973, 123456))\n",
    "                                                       \n",
    "    conn.commit()"
   ]
  },
  {
   "cell_type": "code",
   "execution_count": 22,
   "metadata": {},
   "outputs": [
    {
     "name": "stdout",
     "output_type": "stream",
     "text": [
      "done\n"
     ]
    }
   ],
   "source": [
    "db.fix_similar_url_ids()"
   ]
  },
  {
   "cell_type": "code",
   "execution_count": null,
   "metadata": {},
   "outputs": [],
   "source": []
  }
 ],
 "metadata": {
  "kernelspec": {
   "display_name": "Python 3",
   "language": "python",
   "name": "python3"
  }
 },
 "nbformat": 4,
 "nbformat_minor": 2
}
