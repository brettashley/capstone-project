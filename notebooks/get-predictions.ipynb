{
 "cells": [
  {
   "cell_type": "code",
   "execution_count": 146,
   "metadata": {},
   "outputs": [],
   "source": [
    "import pandas as pd\n",
    "import numpy as np\n",
    "import pyspark as ps\n",
    "from pyspark.sql import SparkSession\n",
    "from pyspark.sql.types import (\n",
    "    IntegerType, StringType, IntegerType, FloatType, \n",
    "    StructField, StructType, DoubleType\n",
    ")\n",
    "from pyspark.ml.recommendation import ALS\n",
    "import matplotlib.pyplot as plt\n",
    "plt.style.use('ggplot')\n",
    "from pyspark.sql.functions import udf, col, isnan\n",
    "import psycopg2\n",
    "from pandas.io import sql\n",
    "from sklearn.model_selection import train_test_split\n",
    "from pyspark.ml.evaluation import RegressionEvaluator\n",
    "from itertools import product"
   ]
  },
  {
   "cell_type": "code",
   "execution_count": 147,
   "metadata": {},
   "outputs": [
    {
     "name": "stdout",
     "output_type": "stream",
     "text": [
      "/Users/brettashley/galvanize/dsi/00-Capstone/ml-mix-lab/mixmaker\n"
     ]
    }
   ],
   "source": [
    "cd ../mixmaker/"
   ]
  },
  {
   "cell_type": "code",
   "execution_count": 148,
   "metadata": {},
   "outputs": [],
   "source": [
    "import database_interaction\n",
    "import model"
   ]
  },
  {
   "cell_type": "code",
   "execution_count": 149,
   "metadata": {},
   "outputs": [],
   "source": [
    "df = db.get_table('connections_distinct')\n",
    "data = sr.spark.createDataFrame(df)"
   ]
  },
  {
   "cell_type": "code",
   "execution_count": 150,
   "metadata": {},
   "outputs": [],
   "source": [
    "train, test = data.randomSplit([0.8, 0.2])"
   ]
  },
  {
   "cell_type": "code",
   "execution_count": 221,
   "metadata": {},
   "outputs": [],
   "source": [
    "sr = model.SongRecommender(itemCol='song_id',\n",
    "                     userCol='sampled_by_song_id',\n",
    "                     ratingCol='is_connected',\n",
    "                     nonnegative=True,\n",
    "                     regParam=0.01,\n",
    "                     rank=200,\n",
    "                     alpha=1)\n",
    "db = database_interaction.DatabaseInteraction(db_name='mixmaker')"
   ]
  },
  {
   "cell_type": "code",
   "execution_count": 222,
   "metadata": {},
   "outputs": [],
   "source": [
    "recommender = sr.fit(train)"
   ]
  },
  {
   "cell_type": "code",
   "execution_count": 223,
   "metadata": {},
   "outputs": [],
   "source": [
    "preds = sr.transform(recommender, test)"
   ]
  },
  {
   "cell_type": "code",
   "execution_count": 224,
   "metadata": {},
   "outputs": [
    {
     "data": {
      "text/plain": [
       "0.3129171378049292"
      ]
     },
     "execution_count": 224,
     "metadata": {},
     "output_type": "execute_result"
    }
   ],
   "source": [
    "sr.rmse(preds, True)"
   ]
  },
  {
   "cell_type": "code",
   "execution_count": 159,
   "metadata": {},
   "outputs": [],
   "source": [
    "preds_train = sr.transform(recommender, train)"
   ]
  },
  {
   "cell_type": "code",
   "execution_count": 154,
   "metadata": {},
   "outputs": [
    {
     "data": {
      "text/plain": [
       "0.010383430160107161"
      ]
     },
     "execution_count": 154,
     "metadata": {},
     "output_type": "execute_result"
    }
   ],
   "source": [
    "sr.rmse(preds_train)"
   ]
  },
  {
   "cell_type": "code",
   "execution_count": null,
   "metadata": {},
   "outputs": [],
   "source": []
  },
  {
   "cell_type": "code",
   "execution_count": 50,
   "metadata": {},
   "outputs": [
    {
     "data": {
      "text/plain": [
       "8301"
      ]
     },
     "execution_count": 50,
     "metadata": {},
     "output_type": "execute_result"
    }
   ],
   "source": [
    "preds.filter(\"prediction + 1 > prediction\").count()"
   ]
  },
  {
   "cell_type": "code",
   "execution_count": 51,
   "metadata": {},
   "outputs": [
    {
     "data": {
      "text/plain": [
       "17924"
      ]
     },
     "execution_count": 51,
     "metadata": {},
     "output_type": "execute_result"
    }
   ],
   "source": [
    "preds.count()"
   ]
  },
  {
   "cell_type": "code",
   "execution_count": 53,
   "metadata": {},
   "outputs": [],
   "source": [
    "top_10_recs = recommender.recommendForAllUsers(10).toPandas()"
   ]
  },
  {
   "cell_type": "code",
   "execution_count": 57,
   "metadata": {},
   "outputs": [
    {
     "data": {
      "text/plain": [
       "32595"
      ]
     },
     "execution_count": 57,
     "metadata": {},
     "output_type": "execute_result"
    }
   ],
   "source": [
    "len(top_10_recs)"
   ]
  },
  {
   "cell_type": "code",
   "execution_count": 55,
   "metadata": {},
   "outputs": [
    {
     "data": {
      "text/plain": [
       "72706"
      ]
     },
     "execution_count": 55,
     "metadata": {},
     "output_type": "execute_result"
    }
   ],
   "source": [
    "train.count()"
   ]
  },
  {
   "cell_type": "code",
   "execution_count": 58,
   "metadata": {},
   "outputs": [
    {
     "data": {
      "text/html": [
       "<div>\n",
       "<style scoped>\n",
       "    .dataframe tbody tr th:only-of-type {\n",
       "        vertical-align: middle;\n",
       "    }\n",
       "\n",
       "    .dataframe tbody tr th {\n",
       "        vertical-align: top;\n",
       "    }\n",
       "\n",
       "    .dataframe thead th {\n",
       "        text-align: right;\n",
       "    }\n",
       "</style>\n",
       "<table border=\"1\" class=\"dataframe\">\n",
       "  <thead>\n",
       "    <tr style=\"text-align: right;\">\n",
       "      <th></th>\n",
       "      <th>sampled_by_song_id</th>\n",
       "      <th>recommendations</th>\n",
       "    </tr>\n",
       "  </thead>\n",
       "  <tbody>\n",
       "    <tr>\n",
       "      <th>0</th>\n",
       "      <td>148</td>\n",
       "      <td>[(12442, 1.12744140625), (8652, 1.113459467887...</td>\n",
       "    </tr>\n",
       "    <tr>\n",
       "      <th>1</th>\n",
       "      <td>463</td>\n",
       "      <td>[(35330, 1.220956802368164), (10775, 1.1660300...</td>\n",
       "    </tr>\n",
       "    <tr>\n",
       "      <th>2</th>\n",
       "      <td>471</td>\n",
       "      <td>[(35330, 1.220956802368164), (10775, 1.1660300...</td>\n",
       "    </tr>\n",
       "    <tr>\n",
       "      <th>3</th>\n",
       "      <td>833</td>\n",
       "      <td>[(10826, 1.5349119901657104), (21, 1.452880978...</td>\n",
       "    </tr>\n",
       "    <tr>\n",
       "      <th>4</th>\n",
       "      <td>1088</td>\n",
       "      <td>[(21, 1.823341965675354), (7742, 1.79762363433...</td>\n",
       "    </tr>\n",
       "  </tbody>\n",
       "</table>\n",
       "</div>"
      ],
      "text/plain": [
       "   sampled_by_song_id                                    recommendations\n",
       "0                 148  [(12442, 1.12744140625), (8652, 1.113459467887...\n",
       "1                 463  [(35330, 1.220956802368164), (10775, 1.1660300...\n",
       "2                 471  [(35330, 1.220956802368164), (10775, 1.1660300...\n",
       "3                 833  [(10826, 1.5349119901657104), (21, 1.452880978...\n",
       "4                1088  [(21, 1.823341965675354), (7742, 1.79762363433..."
      ]
     },
     "execution_count": 58,
     "metadata": {},
     "output_type": "execute_result"
    }
   ],
   "source": [
    "top_10_recs.head()"
   ]
  },
  {
   "cell_type": "code",
   "execution_count": 59,
   "metadata": {},
   "outputs": [
    {
     "data": {
      "text/plain": [
       "[Row(song_id=12442, rating=1.12744140625),\n",
       " Row(song_id=8652, rating=1.1134594678878784),\n",
       " Row(song_id=11, rating=1.1061460971832275),\n",
       " Row(song_id=8656, rating=1.1018706560134888),\n",
       " Row(song_id=12460, rating=1.100779414176941),\n",
       " Row(song_id=12435, rating=1.0952532291412354),\n",
       " Row(song_id=12434, rating=1.0906071662902832),\n",
       " Row(song_id=16502, rating=1.086485743522644),\n",
       " Row(song_id=8611, rating=1.08619225025177),\n",
       " Row(song_id=18069, rating=1.0819225311279297)]"
      ]
     },
     "execution_count": 59,
     "metadata": {},
     "output_type": "execute_result"
    }
   ],
   "source": [
    "top_10_recs.loc[0,'recommendations']"
   ]
  },
  {
   "cell_type": "code",
   "execution_count": 80,
   "metadata": {},
   "outputs": [
    {
     "name": "stdout",
     "output_type": "stream",
     "text": [
      "[148, 148, 148, 148, 148, 148, 148, 148, 148, 148]\n",
      "       0         1\n",
      "0  12442  1.127441\n",
      "1   8652  1.113459\n",
      "2     11  1.106146\n",
      "3   8656  1.101871\n",
      "4  12460  1.100779\n",
      "5  12435  1.095253\n",
      "6  12434  1.090607\n",
      "7  16502  1.086486\n",
      "8   8611  1.086192\n",
      "9  18069  1.081923\n",
      "[463, 463, 463, 463, 463, 463, 463, 463, 463, 463]\n",
      "       0         1\n",
      "0  35330  1.220957\n",
      "1  10775  1.166030\n",
      "2   6316  1.164571\n",
      "3  29277  1.153856\n",
      "4   5334  1.147096\n",
      "5  10785  1.136678\n",
      "6  35317  1.130334\n",
      "7   5028  1.127996\n",
      "8   8620  1.108108\n",
      "9  18137  1.106425\n",
      "[471, 471, 471, 471, 471, 471, 471, 471, 471, 471]\n",
      "       0         1\n",
      "0  35330  1.220957\n",
      "1  10775  1.166030\n",
      "2   6316  1.164571\n",
      "3  29277  1.153856\n",
      "4   5334  1.147096\n",
      "5  10785  1.136678\n",
      "6  35317  1.130334\n",
      "7   5028  1.127996\n",
      "8   8620  1.108108\n",
      "9  18137  1.106425\n",
      "[833, 833, 833, 833, 833, 833, 833, 833, 833, 833]\n",
      "       0         1\n",
      "0  10826  1.534912\n",
      "1     21  1.452881\n",
      "2   8609  1.437298\n",
      "3   8626  1.422530\n",
      "4  12460  1.418432\n",
      "5  31326  1.408498\n",
      "6   7742  1.408180\n",
      "7  10775  1.393353\n",
      "8  13124  1.390219\n",
      "9  41398  1.386489\n",
      "[1088, 1088, 1088, 1088, 1088, 1088, 1088, 1088, 1088, 1088]\n",
      "       0         1\n",
      "0     21  1.823342\n",
      "1   7742  1.797624\n",
      "2  10826  1.781095\n",
      "3  10775  1.750671\n",
      "4  12460  1.706225\n",
      "5  10808  1.678880\n",
      "6   9604  1.675376\n",
      "7  13124  1.669362\n",
      "8  12576  1.664350\n",
      "9  19513  1.652770\n"
     ]
    }
   ],
   "source": [
    "for i, row in top_10_recs.head().iterrows():\n",
    "    print(list([row[0]] * 10))\n",
    "    print((pd.DataFrame(row['recommendations'])))"
   ]
  },
  {
   "cell_type": "code",
   "execution_count": null,
   "metadata": {},
   "outputs": [],
   "source": []
  },
  {
   "cell_type": "code",
   "execution_count": 66,
   "metadata": {},
   "outputs": [],
   "source": [
    "output = pd.DataFrame(columns=['user_song_id', 'item_song_id', 'rating'])"
   ]
  },
  {
   "cell_type": "code",
   "execution_count": 67,
   "metadata": {},
   "outputs": [
    {
     "data": {
      "text/html": [
       "<div>\n",
       "<style scoped>\n",
       "    .dataframe tbody tr th:only-of-type {\n",
       "        vertical-align: middle;\n",
       "    }\n",
       "\n",
       "    .dataframe tbody tr th {\n",
       "        vertical-align: top;\n",
       "    }\n",
       "\n",
       "    .dataframe thead th {\n",
       "        text-align: right;\n",
       "    }\n",
       "</style>\n",
       "<table border=\"1\" class=\"dataframe\">\n",
       "  <thead>\n",
       "    <tr style=\"text-align: right;\">\n",
       "      <th></th>\n",
       "      <th>user_song_id</th>\n",
       "      <th>item_song_id</th>\n",
       "      <th>rating</th>\n",
       "    </tr>\n",
       "  </thead>\n",
       "  <tbody>\n",
       "  </tbody>\n",
       "</table>\n",
       "</div>"
      ],
      "text/plain": [
       "Empty DataFrame\n",
       "Columns: [user_song_id, item_song_id, rating]\n",
       "Index: []"
      ]
     },
     "execution_count": 67,
     "metadata": {},
     "output_type": "execute_result"
    }
   ],
   "source": [
    "output"
   ]
  },
  {
   "cell_type": "code",
   "execution_count": 87,
   "metadata": {},
   "outputs": [
    {
     "name": "stderr",
     "output_type": "stream",
     "text": [
      "/anaconda3/lib/python3.6/site-packages/ipykernel_launcher.py:4: FutureWarning: Sorting because non-concatenation axis is not aligned. A future version\n",
      "of pandas will change to not sort by default.\n",
      "\n",
      "To accept the future behavior, pass 'sort=False'.\n",
      "\n",
      "To retain the current behavior and silence the warning, pass 'sort=True'.\n",
      "\n",
      "  after removing the cwd from sys.path.\n"
     ]
    }
   ],
   "source": [
    "for i, row in top_10_recs.head().iterrows():\n",
    "    df = pd.DataFrame(row[1], columns=['item_song_id', 'rating'])\n",
    "    df['user_song_id'] = list([row[0]] * 10)\n",
    "    output = pd.concat([output, df])"
   ]
  },
  {
   "cell_type": "code",
   "execution_count": 94,
   "metadata": {},
   "outputs": [],
   "source": [
    "recommender = sr.fit(data)"
   ]
  },
  {
   "cell_type": "code",
   "execution_count": 225,
   "metadata": {},
   "outputs": [],
   "source": [
    "preds = sr.get_predictions_for_all_users(recommender)"
   ]
  },
  {
   "cell_type": "code",
   "execution_count": 226,
   "metadata": {},
   "outputs": [],
   "source": [
    "db = database_interaction.DatabaseInteraction()"
   ]
  },
  {
   "cell_type": "code",
   "execution_count": 227,
   "metadata": {},
   "outputs": [
    {
     "data": {
      "text/plain": [
       "Index(['user_song_id', 'item_song_id', 'rating'], dtype='object')"
      ]
     },
     "execution_count": 227,
     "metadata": {},
     "output_type": "execute_result"
    }
   ],
   "source": [
    "preds.columns"
   ]
  },
  {
   "cell_type": "code",
   "execution_count": 112,
   "metadata": {},
   "outputs": [
    {
     "data": {
      "text/plain": [
       "'[,1,4,8, ,1,4,8, ,1,4,8, ,.,.,., ,4,7,9,0,1, ,4,7,9,0,1, ,4,7,9,0,1,]'"
      ]
     },
     "execution_count": 112,
     "metadata": {},
     "output_type": "execute_result"
    }
   ],
   "source": [
    "','.join((preds.loc[:,'user_song_id'].values))"
   ]
  },
  {
   "cell_type": "code",
   "execution_count": 263,
   "metadata": {},
   "outputs": [],
   "source": [
    "query = \"\"\"\n",
    "        INSERT INTO predictions_temp (user_song_id, item_song_id, rating)\n",
    "        SELECT %s, %s, %s\n",
    "        \"\"\""
   ]
  },
  {
   "cell_type": "code",
   "execution_count": 228,
   "metadata": {},
   "outputs": [
    {
     "name": "stdout",
     "output_type": "stream",
     "text": [
      "0\n",
      "0 148 21436 1.038189172744751\n",
      "1 148 12048 1.0321450233459473\n",
      "2\n",
      "2 148 18369 1.030478835105896\n",
      "3 148 7304 1.0290838479995728\n",
      "4\n",
      "4 148 6671 1.028789758682251\n"
     ]
    }
   ],
   "source": [
    "for i, row in preds.head().iterrows():\n",
    "    if i % 2 == 0:\n",
    "        print(i)\n",
    "    print(i, row[0], row[1], row[2])"
   ]
  },
  {
   "cell_type": "code",
   "execution_count": 257,
   "metadata": {},
   "outputs": [],
   "source": [
    "test = preds[:100].reset_index(drop=True)"
   ]
  },
  {
   "cell_type": "code",
   "execution_count": 259,
   "metadata": {},
   "outputs": [],
   "source": [
    "preds_reset = preds.reset_index(drop=True)"
   ]
  },
  {
   "cell_type": "code",
   "execution_count": 261,
   "metadata": {},
   "outputs": [
    {
     "data": {
      "text/plain": [
       "387800"
      ]
     },
     "execution_count": 261,
     "metadata": {},
     "output_type": "execute_result"
    }
   ],
   "source": [
    "len(preds_reset)"
   ]
  },
  {
   "cell_type": "code",
   "execution_count": 262,
   "metadata": {},
   "outputs": [
    {
     "name": "stdout",
     "output_type": "stream",
     "text": [
      "0\n",
      "0 148 21436 1.038189172744751\n",
      "1 148 12048 1.0321450233459473\n",
      "2 148 18369 1.030478835105896\n",
      "3 148 7304 1.0290838479995728\n",
      "4 148 6671 1.028789758682251\n",
      "5 148 29570 1.0286991596221924\n",
      "6 148 13272 1.0283613204956055\n",
      "7 148 8358 1.0254446268081665\n",
      "8 148 19837 1.0243165493011475\n",
      "9 148 22236 1.0233592987060547\n",
      "10\n",
      "10 463 1 1.0012716054916382\n",
      "11 463 517 0.9890486001968384\n",
      "12 463 405 0.9888384342193604\n",
      "13 463 463 0.9887073636054993\n",
      "14 463 512 0.9886931777000427\n",
      "15 463 274 0.9886022806167603\n",
      "16 463 480 0.9885218739509583\n",
      "17 463 329 0.9884659647941589\n",
      "18 463 556 0.9884563088417053\n",
      "19 463 337 0.9883512258529663\n",
      "20\n",
      "20 471 1 1.0010104179382324\n",
      "21 471 471 0.9891318678855896\n",
      "22 471 369 0.9835389852523804\n",
      "23 471 329 0.9829203486442566\n",
      "24 471 431 0.9826690554618835\n",
      "25 471 512 0.9803186655044556\n",
      "26 471 480 0.980256974697113\n",
      "27 471 556 0.9802442193031311\n",
      "28 471 405 0.9801980257034302\n",
      "29 471 337 0.9800354838371277\n",
      "30\n",
      "30 496 1 1.001094937324524\n",
      "31 496 496 0.9889931082725525\n",
      "32 496 405 0.9848722815513611\n",
      "33 496 512 0.9836956262588501\n",
      "34 496 556 0.983195960521698\n",
      "35 496 557 0.9829760789871216\n",
      "36 496 388 0.9829134345054626\n",
      "37 496 431 0.9826721549034119\n",
      "38 496 369 0.9824864268302917\n",
      "39 496 517 0.9823731184005737\n",
      "40\n",
      "40 1088 29049 1.2496691942214966\n",
      "41 1088 42141 1.220637559890747\n",
      "42 1088 5250 1.2180036306381226\n",
      "43 1088 29263 1.2158575057983398\n",
      "44 1088 11767 1.2143186330795288\n",
      "45 1088 14823 1.2141680717468262\n",
      "46 1088 20225 1.2141096591949463\n",
      "47 1088 1447 1.2129719257354736\n",
      "48 1088 6267 1.2121998071670532\n",
      "49 1088 2032 1.2087849378585815\n",
      "50\n",
      "50 1238 905 1.0020883083343506\n",
      "51 1238 851 1.0012354850769043\n",
      "52 1238 914 1.001209020614624\n",
      "53 1238 1133 0.9994864463806152\n",
      "54 1238 775 0.9994697570800781\n",
      "55 1238 790 0.9994661808013916\n",
      "56 1238 1084 0.9987220168113708\n",
      "57 1238 678 0.9982321262359619\n",
      "58 1238 1102 0.9978066086769104\n",
      "59 1238 588 0.9978060126304626\n",
      "60\n",
      "60 1342 3632 1.0869300365447998\n",
      "61 1342 19517 1.0828019380569458\n",
      "62 1342 600 1.0827184915542603\n",
      "63 1342 18369 1.0822649002075195\n",
      "64 1342 19789 1.078733205795288\n",
      "65 1342 6121 1.0780856609344482\n",
      "66 1342 585 1.0779396295547485\n",
      "67 1342 13272 1.0772649049758911\n",
      "68 1342 21436 1.0754469633102417\n",
      "69 1342 583 1.0752155780792236\n",
      "70\n",
      "70 1580 7950 1.1227439641952515\n",
      "71 1580 1412 1.1194366216659546\n",
      "72 1580 1440 1.1164250373840332\n",
      "73 1580 647 1.1126724481582642\n",
      "74 1580 1665 1.1121283769607544\n",
      "75 1580 4602 1.1117180585861206\n",
      "76 1580 21323 1.1111711263656616\n",
      "77 1580 275 1.1100478172302246\n",
      "78 1580 597 1.1066577434539795\n",
      "79 1580 19821 1.1053791046142578\n",
      "80\n",
      "80 1645 1412 1.1232444047927856\n",
      "81 1645 1440 1.116304874420166\n",
      "82 1645 7950 1.1157177686691284\n",
      "83 1645 275 1.1133955717086792\n",
      "84 1645 4602 1.111257553100586\n",
      "85 1645 647 1.1085004806518555\n",
      "86 1645 1665 1.107967734336853\n",
      "87 1645 29230 1.1070175170898438\n",
      "88 1645 21323 1.1069809198379517\n",
      "89 1645 597 1.103812575340271\n",
      "90\n",
      "90 1829 7950 1.1311211585998535\n",
      "91 1829 1412 1.1251507997512817\n",
      "92 1829 1440 1.1225087642669678\n",
      "93 1829 647 1.11932373046875\n",
      "94 1829 21323 1.1189688444137573\n",
      "95 1829 1665 1.1176177263259888\n",
      "96 1829 4602 1.1175857782363892\n",
      "97 1829 275 1.1163209676742554\n",
      "98 1829 597 1.113651156425476\n",
      "99 1829 19821 1.1122043132781982\n"
     ]
    }
   ],
   "source": [
    "for row in test.itertuples():\n",
    "    if row[0] % 10 == 0:\n",
    "        print(row[0])\n",
    "    print(row[0], row[1], row[2], row[3])"
   ]
  },
  {
   "cell_type": "code",
   "execution_count": 264,
   "metadata": {},
   "outputs": [
    {
     "name": "stdout",
     "output_type": "stream",
     "text": [
      "0\n"
     ]
    }
   ],
   "source": [
    "for row in preds_reset.head().itertuples():\n",
    "    if row[0] % 5000 == 0:\n",
    "        print(row[0])\n",
    "    db.cur.execute(query, \n",
    "                   (row[1], row[2], row[3]))\n",
    "    db.conn.commit()"
   ]
  },
  {
   "cell_type": "code",
   "execution_count": 266,
   "metadata": {},
   "outputs": [
    {
     "name": "stdout",
     "output_type": "stream",
     "text": [
      "0\n",
      "5000\n",
      "10000\n",
      "15000\n",
      "20000\n",
      "25000\n",
      "30000\n",
      "35000\n",
      "40000\n",
      "45000\n",
      "50000\n",
      "55000\n",
      "60000\n",
      "65000\n",
      "70000\n",
      "75000\n",
      "80000\n",
      "85000\n",
      "90000\n",
      "95000\n",
      "100000\n",
      "105000\n",
      "110000\n",
      "115000\n",
      "120000\n",
      "125000\n",
      "130000\n",
      "135000\n",
      "140000\n",
      "145000\n",
      "150000\n",
      "155000\n",
      "160000\n",
      "165000\n",
      "170000\n",
      "175000\n",
      "180000\n",
      "185000\n",
      "190000\n",
      "195000\n",
      "200000\n",
      "205000\n",
      "210000\n",
      "215000\n",
      "220000\n",
      "225000\n",
      "230000\n",
      "235000\n",
      "240000\n",
      "245000\n",
      "250000\n",
      "255000\n",
      "260000\n",
      "265000\n",
      "270000\n",
      "275000\n",
      "280000\n",
      "285000\n",
      "290000\n",
      "295000\n",
      "300000\n",
      "305000\n",
      "310000\n",
      "315000\n",
      "320000\n",
      "325000\n",
      "330000\n",
      "335000\n",
      "340000\n",
      "345000\n",
      "350000\n",
      "355000\n",
      "360000\n",
      "365000\n",
      "370000\n",
      "375000\n",
      "380000\n",
      "385000\n"
     ]
    }
   ],
   "source": [
    "for row in preds_reset.itertuples():\n",
    "    if row[0] % 5000 == 0:\n",
    "        print(row[0])\n",
    "    db.cur.execute(query, \n",
    "                   (row[1], row[2], row[3]))\n",
    "    db.conn.commit()"
   ]
  },
  {
   "cell_type": "code",
   "execution_count": 129,
   "metadata": {},
   "outputs": [
    {
     "name": "stdout",
     "output_type": "stream",
     "text": [
      "0\n",
      "2\n",
      "4\n",
      "6\n",
      "8\n"
     ]
    }
   ],
   "source": []
  },
  {
   "cell_type": "code",
   "execution_count": null,
   "metadata": {},
   "outputs": [],
   "source": []
  }
 ],
 "metadata": {
  "kernelspec": {
   "display_name": "Python 3",
   "language": "python",
   "name": "python3"
  },
  "language_info": {
   "codemirror_mode": {
    "name": "ipython",
    "version": 3
   },
   "file_extension": ".py",
   "mimetype": "text/x-python",
   "name": "python",
   "nbconvert_exporter": "python",
   "pygments_lexer": "ipython3",
   "version": "3.6.4"
  }
 },
 "nbformat": 4,
 "nbformat_minor": 2
}
