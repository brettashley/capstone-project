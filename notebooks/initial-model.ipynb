{
 "cells": [
  {
   "cell_type": "code",
   "execution_count": 330,
   "metadata": {},
   "outputs": [],
   "source": [
    "import pandas as pd\n",
    "import numpy as np\n",
    "import pyspark as ps\n",
    "from pyspark.sql import SparkSession\n",
    "from pyspark.sql.types import (\n",
    "    IntegerType, StringType, IntegerType, FloatType, \n",
    "    StructField, StructType, DoubleType\n",
    ")\n",
    "from pyspark.ml.recommendation import ALS\n",
    "import matplotlib.pyplot as plt\n",
    "plt.style.use('ggplot')\n",
    "from pyspark.sql.functions import udf, col, isnan\n",
    "import psycopg2\n",
    "from pandas.io import sql\n",
    "from sklearn.model_selection import train_test_split\n",
    "from pyspark.ml.evaluation import RegressionEvaluator"
   ]
  },
  {
   "cell_type": "code",
   "execution_count": 331,
   "metadata": {},
   "outputs": [],
   "source": [
    "conn = psycopg2.connect(dbname='mixmaker', host='localhost')\n",
    "cur = conn.cursor()"
   ]
  },
  {
   "cell_type": "code",
   "execution_count": 332,
   "metadata": {},
   "outputs": [],
   "source": [
    "query = 'SELECT * FROM artists;'\n",
    "artists = sql.read_sql_query(query, conn)"
   ]
  },
  {
   "cell_type": "code",
   "execution_count": 333,
   "metadata": {},
   "outputs": [
    {
     "data": {
      "text/html": [
       "<div>\n",
       "<style scoped>\n",
       "    .dataframe tbody tr th:only-of-type {\n",
       "        vertical-align: middle;\n",
       "    }\n",
       "\n",
       "    .dataframe tbody tr th {\n",
       "        vertical-align: top;\n",
       "    }\n",
       "\n",
       "    .dataframe thead th {\n",
       "        text-align: right;\n",
       "    }\n",
       "</style>\n",
       "<table border=\"1\" class=\"dataframe\">\n",
       "  <thead>\n",
       "    <tr style=\"text-align: right;\">\n",
       "      <th></th>\n",
       "      <th>id</th>\n",
       "      <th>name</th>\n",
       "      <th>url</th>\n",
       "      <th>scraped</th>\n",
       "    </tr>\n",
       "  </thead>\n",
       "  <tbody>\n",
       "    <tr>\n",
       "      <th>0</th>\n",
       "      <td>12</td>\n",
       "      <td>Lyn Collins</td>\n",
       "      <td>https://www.whosampled.com/Lyn-Collins/</td>\n",
       "      <td>0</td>\n",
       "    </tr>\n",
       "    <tr>\n",
       "      <th>1</th>\n",
       "      <td>13</td>\n",
       "      <td>Isaac Hayes</td>\n",
       "      <td>https://www.whosampled.com/Isaac-Hayes/</td>\n",
       "      <td>0</td>\n",
       "    </tr>\n",
       "    <tr>\n",
       "      <th>2</th>\n",
       "      <td>14</td>\n",
       "      <td>KC &amp; the Sunshine Band</td>\n",
       "      <td>https://www.whosampled.com/KC-%26-the-Sunshine...</td>\n",
       "      <td>0</td>\n",
       "    </tr>\n",
       "    <tr>\n",
       "      <th>3</th>\n",
       "      <td>15</td>\n",
       "      <td>Stevie Wonder</td>\n",
       "      <td>https://www.whosampled.com/Stevie-Wonder/</td>\n",
       "      <td>0</td>\n",
       "    </tr>\n",
       "    <tr>\n",
       "      <th>4</th>\n",
       "      <td>16</td>\n",
       "      <td>Earth, Wind &amp; Fire</td>\n",
       "      <td>https://www.whosampled.com/Earth,-Wind-%26-Fire/</td>\n",
       "      <td>0</td>\n",
       "    </tr>\n",
       "  </tbody>\n",
       "</table>\n",
       "</div>"
      ],
      "text/plain": [
       "   id                    name  \\\n",
       "0  12             Lyn Collins   \n",
       "1  13             Isaac Hayes   \n",
       "2  14  KC & the Sunshine Band   \n",
       "3  15           Stevie Wonder   \n",
       "4  16      Earth, Wind & Fire   \n",
       "\n",
       "                                                 url  scraped  \n",
       "0            https://www.whosampled.com/Lyn-Collins/        0  \n",
       "1            https://www.whosampled.com/Isaac-Hayes/        0  \n",
       "2  https://www.whosampled.com/KC-%26-the-Sunshine...        0  \n",
       "3          https://www.whosampled.com/Stevie-Wonder/        0  \n",
       "4   https://www.whosampled.com/Earth,-Wind-%26-Fire/        0  "
      ]
     },
     "execution_count": 333,
     "metadata": {},
     "output_type": "execute_result"
    }
   ],
   "source": [
    "artists.head()"
   ]
  },
  {
   "cell_type": "code",
   "execution_count": 334,
   "metadata": {},
   "outputs": [],
   "source": [
    "query = 'SELECT * FROM songs;'\n",
    "songs = sql.read_sql_query(query, conn)"
   ]
  },
  {
   "cell_type": "code",
   "execution_count": 335,
   "metadata": {},
   "outputs": [
    {
     "data": {
      "text/plain": [
       "21669"
      ]
     },
     "execution_count": 335,
     "metadata": {},
     "output_type": "execute_result"
    }
   ],
   "source": [
    "len(songs)"
   ]
  },
  {
   "cell_type": "code",
   "execution_count": 336,
   "metadata": {},
   "outputs": [],
   "source": [
    "query = 'SELECT * FROM connections;'\n",
    "connections = sql.read_sql_query(query, conn)"
   ]
  },
  {
   "cell_type": "code",
   "execution_count": 337,
   "metadata": {},
   "outputs": [],
   "source": [
    "connections = connections.drop('remixed_by_song_id', axis=1)"
   ]
  },
  {
   "cell_type": "code",
   "execution_count": 338,
   "metadata": {},
   "outputs": [],
   "source": [
    "connections['is_connected'] = np.ones(len(connections))"
   ]
  },
  {
   "cell_type": "code",
   "execution_count": 339,
   "metadata": {},
   "outputs": [
    {
     "data": {
      "text/html": [
       "<div>\n",
       "<style scoped>\n",
       "    .dataframe tbody tr th:only-of-type {\n",
       "        vertical-align: middle;\n",
       "    }\n",
       "\n",
       "    .dataframe tbody tr th {\n",
       "        vertical-align: top;\n",
       "    }\n",
       "\n",
       "    .dataframe thead th {\n",
       "        text-align: right;\n",
       "    }\n",
       "</style>\n",
       "<table border=\"1\" class=\"dataframe\">\n",
       "  <thead>\n",
       "    <tr style=\"text-align: right;\">\n",
       "      <th></th>\n",
       "      <th>song_id</th>\n",
       "      <th>sampled_by_song_id</th>\n",
       "      <th>is_connected</th>\n",
       "    </tr>\n",
       "  </thead>\n",
       "  <tbody>\n",
       "    <tr>\n",
       "      <th>0</th>\n",
       "      <td>1</td>\n",
       "      <td>374</td>\n",
       "      <td>1.0</td>\n",
       "    </tr>\n",
       "    <tr>\n",
       "      <th>1</th>\n",
       "      <td>1</td>\n",
       "      <td>375</td>\n",
       "      <td>1.0</td>\n",
       "    </tr>\n",
       "    <tr>\n",
       "      <th>2</th>\n",
       "      <td>1</td>\n",
       "      <td>376</td>\n",
       "      <td>1.0</td>\n",
       "    </tr>\n",
       "    <tr>\n",
       "      <th>3</th>\n",
       "      <td>1</td>\n",
       "      <td>377</td>\n",
       "      <td>1.0</td>\n",
       "    </tr>\n",
       "    <tr>\n",
       "      <th>4</th>\n",
       "      <td>1</td>\n",
       "      <td>378</td>\n",
       "      <td>1.0</td>\n",
       "    </tr>\n",
       "  </tbody>\n",
       "</table>\n",
       "</div>"
      ],
      "text/plain": [
       "   song_id  sampled_by_song_id  is_connected\n",
       "0        1                 374           1.0\n",
       "1        1                 375           1.0\n",
       "2        1                 376           1.0\n",
       "3        1                 377           1.0\n",
       "4        1                 378           1.0"
      ]
     },
     "execution_count": 339,
     "metadata": {},
     "output_type": "execute_result"
    }
   ],
   "source": [
    "connections.head()"
   ]
  },
  {
   "cell_type": "code",
   "execution_count": 340,
   "metadata": {},
   "outputs": [],
   "source": [
    "spark_df = spark.createDataFrame(connections)"
   ]
  },
  {
   "cell_type": "code",
   "execution_count": 341,
   "metadata": {},
   "outputs": [],
   "source": [
    "train, test = spark_df.randomSplit([0.8, 0.2], seed=216)"
   ]
  },
  {
   "cell_type": "code",
   "execution_count": 342,
   "metadata": {},
   "outputs": [],
   "source": [
    "als_model = ALS(\n",
    "    itemCol='song_id',\n",
    "    userCol='sampled_by_song_id',\n",
    "    ratingCol='is_connected',\n",
    "    nonnegative=True,\n",
    "    regParam=0.01,\n",
    "    rank=10,\n",
    "    implicitPrefs=True)\n",
    "\n",
    "recommender = als_model.fit(train)\n",
    "\n",
    "test_predictions = recommender.transform(test)"
   ]
  },
  {
   "cell_type": "code",
   "execution_count": 122,
   "metadata": {},
   "outputs": [
    {
     "name": "stdout",
     "output_type": "stream",
     "text": [
      "+-------+------------------+------------+------------+\n",
      "|song_id|sampled_by_song_id|is_connected|  prediction|\n",
      "+-------+------------------+------------+------------+\n",
      "|    463|              9170|         1.0|         NaN|\n",
      "|    471|              9896|         1.0| 7.016704E-7|\n",
      "|    471|              9170|         1.0|4.4592525E-6|\n",
      "|  13285|             14299|         1.0|         NaN|\n",
      "|  14570|             14987|         1.0|0.0026822868|\n",
      "|    392|              9170|         1.0|         0.0|\n",
      "|  11280|             11800|         1.0|         NaN|\n",
      "|  11280|             11713|         1.0|         NaN|\n",
      "|  11280|             11835|         1.0|  0.01750579|\n",
      "|  11280|             11808|         1.0|         NaN|\n",
      "|  11280|             11694|         1.0|         NaN|\n",
      "|  11280|             11736|         1.0|         NaN|\n",
      "|  11280|             11717|         1.0|         NaN|\n",
      "|  11280|              1125|         1.0|         NaN|\n",
      "|  11280|             11764|         1.0|         NaN|\n",
      "|  11280|             11805|         1.0|         NaN|\n",
      "|  11280|             11718|         1.0|         NaN|\n",
      "|  11280|             11659|         1.0|         0.0|\n",
      "|  11280|             11771|         1.0|         NaN|\n",
      "|  11280|             11752|         1.0|         NaN|\n",
      "+-------+------------------+------------+------------+\n",
      "only showing top 20 rows\n",
      "\n"
     ]
    }
   ],
   "source": [
    "test_predictions.show()"
   ]
  },
  {
   "cell_type": "code",
   "execution_count": 68,
   "metadata": {},
   "outputs": [],
   "source": [
    "preds_df = test_predictins.toPandas()"
   ]
  },
  {
   "cell_type": "code",
   "execution_count": 69,
   "metadata": {},
   "outputs": [
    {
     "data": {
      "text/html": [
       "<div>\n",
       "<style scoped>\n",
       "    .dataframe tbody tr th:only-of-type {\n",
       "        vertical-align: middle;\n",
       "    }\n",
       "\n",
       "    .dataframe tbody tr th {\n",
       "        vertical-align: top;\n",
       "    }\n",
       "\n",
       "    .dataframe thead th {\n",
       "        text-align: right;\n",
       "    }\n",
       "</style>\n",
       "<table border=\"1\" class=\"dataframe\">\n",
       "  <thead>\n",
       "    <tr style=\"text-align: right;\">\n",
       "      <th></th>\n",
       "      <th>song_id</th>\n",
       "      <th>sampled_by_song_id</th>\n",
       "      <th>is_connected</th>\n",
       "      <th>prediction</th>\n",
       "    </tr>\n",
       "  </thead>\n",
       "  <tbody>\n",
       "    <tr>\n",
       "      <th>0</th>\n",
       "      <td>463</td>\n",
       "      <td>9170</td>\n",
       "      <td>1.0</td>\n",
       "      <td>NaN</td>\n",
       "    </tr>\n",
       "    <tr>\n",
       "      <th>1</th>\n",
       "      <td>471</td>\n",
       "      <td>9896</td>\n",
       "      <td>1.0</td>\n",
       "      <td>0.609067</td>\n",
       "    </tr>\n",
       "    <tr>\n",
       "      <th>2</th>\n",
       "      <td>471</td>\n",
       "      <td>9170</td>\n",
       "      <td>1.0</td>\n",
       "      <td>0.505995</td>\n",
       "    </tr>\n",
       "    <tr>\n",
       "      <th>3</th>\n",
       "      <td>13285</td>\n",
       "      <td>14299</td>\n",
       "      <td>1.0</td>\n",
       "      <td>NaN</td>\n",
       "    </tr>\n",
       "    <tr>\n",
       "      <th>4</th>\n",
       "      <td>14570</td>\n",
       "      <td>14987</td>\n",
       "      <td>1.0</td>\n",
       "      <td>0.610512</td>\n",
       "    </tr>\n",
       "  </tbody>\n",
       "</table>\n",
       "</div>"
      ],
      "text/plain": [
       "   song_id  sampled_by_song_id  is_connected  prediction\n",
       "0      463                9170           1.0         NaN\n",
       "1      471                9896           1.0    0.609067\n",
       "2      471                9170           1.0    0.505995\n",
       "3    13285               14299           1.0         NaN\n",
       "4    14570               14987           1.0    0.610512"
      ]
     },
     "execution_count": 69,
     "metadata": {},
     "output_type": "execute_result"
    }
   ],
   "source": [
    "preds_df.head()"
   ]
  },
  {
   "cell_type": "code",
   "execution_count": 70,
   "metadata": {},
   "outputs": [],
   "source": [
    "check = preds_df.sort_values('prediction', ascending=False).head(10)"
   ]
  },
  {
   "cell_type": "code",
   "execution_count": 78,
   "metadata": {},
   "outputs": [],
   "source": [
    "lookup_id = 612\n",
    "lookup_df = preds_df.loc[preds_df['sampled_by_song_id']==lookup_id,:]"
   ]
  },
  {
   "cell_type": "code",
   "execution_count": 79,
   "metadata": {},
   "outputs": [
    {
     "data": {
      "text/html": [
       "<div>\n",
       "<style scoped>\n",
       "    .dataframe tbody tr th:only-of-type {\n",
       "        vertical-align: middle;\n",
       "    }\n",
       "\n",
       "    .dataframe tbody tr th {\n",
       "        vertical-align: top;\n",
       "    }\n",
       "\n",
       "    .dataframe thead th {\n",
       "        text-align: right;\n",
       "    }\n",
       "</style>\n",
       "<table border=\"1\" class=\"dataframe\">\n",
       "  <thead>\n",
       "    <tr style=\"text-align: right;\">\n",
       "      <th></th>\n",
       "      <th>song_id</th>\n",
       "      <th>sampled_by_song_id</th>\n",
       "      <th>is_connected</th>\n",
       "      <th>prediction</th>\n",
       "    </tr>\n",
       "  </thead>\n",
       "  <tbody>\n",
       "    <tr>\n",
       "      <th>262</th>\n",
       "      <td>28</td>\n",
       "      <td>612</td>\n",
       "      <td>1.0</td>\n",
       "      <td>1.257137</td>\n",
       "    </tr>\n",
       "    <tr>\n",
       "      <th>841</th>\n",
       "      <td>9152</td>\n",
       "      <td>612</td>\n",
       "      <td>1.0</td>\n",
       "      <td>1.076854</td>\n",
       "    </tr>\n",
       "    <tr>\n",
       "      <th>3387</th>\n",
       "      <td>83</td>\n",
       "      <td>612</td>\n",
       "      <td>1.0</td>\n",
       "      <td>1.069884</td>\n",
       "    </tr>\n",
       "    <tr>\n",
       "      <th>3492</th>\n",
       "      <td>42</td>\n",
       "      <td>612</td>\n",
       "      <td>1.0</td>\n",
       "      <td>1.061826</td>\n",
       "    </tr>\n",
       "    <tr>\n",
       "      <th>1655</th>\n",
       "      <td>20</td>\n",
       "      <td>612</td>\n",
       "      <td>1.0</td>\n",
       "      <td>1.035928</td>\n",
       "    </tr>\n",
       "  </tbody>\n",
       "</table>\n",
       "</div>"
      ],
      "text/plain": [
       "      song_id  sampled_by_song_id  is_connected  prediction\n",
       "262        28                 612           1.0    1.257137\n",
       "841      9152                 612           1.0    1.076854\n",
       "3387       83                 612           1.0    1.069884\n",
       "3492       42                 612           1.0    1.061826\n",
       "1655       20                 612           1.0    1.035928"
      ]
     },
     "execution_count": 79,
     "metadata": {},
     "output_type": "execute_result"
    }
   ],
   "source": [
    "lookup_df.sort_values('prediction', ascending=False).head()"
   ]
  },
  {
   "cell_type": "code",
   "execution_count": 80,
   "metadata": {},
   "outputs": [
    {
     "data": {
      "text/html": [
       "<div>\n",
       "<style scoped>\n",
       "    .dataframe tbody tr th:only-of-type {\n",
       "        vertical-align: middle;\n",
       "    }\n",
       "\n",
       "    .dataframe tbody tr th {\n",
       "        vertical-align: top;\n",
       "    }\n",
       "\n",
       "    .dataframe thead th {\n",
       "        text-align: right;\n",
       "    }\n",
       "</style>\n",
       "<table border=\"1\" class=\"dataframe\">\n",
       "  <thead>\n",
       "    <tr style=\"text-align: right;\">\n",
       "      <th></th>\n",
       "      <th>id</th>\n",
       "      <th>artist_id</th>\n",
       "      <th>name</th>\n",
       "      <th>url</th>\n",
       "      <th>scraped</th>\n",
       "    </tr>\n",
       "  </thead>\n",
       "  <tbody>\n",
       "    <tr>\n",
       "      <th>2188</th>\n",
       "      <td>2214</td>\n",
       "      <td>1324</td>\n",
       "      <td>All Night</td>\n",
       "      <td>https://www.whosampled.com/Milira/All-Night</td>\n",
       "      <td>0</td>\n",
       "    </tr>\n",
       "    <tr>\n",
       "      <th>4535</th>\n",
       "      <td>4563</td>\n",
       "      <td>2758</td>\n",
       "      <td>All Night</td>\n",
       "      <td>https://www.whosampled.com/Maurice-Tamraz/All-...</td>\n",
       "      <td>0</td>\n",
       "    </tr>\n",
       "    <tr>\n",
       "      <th>13413</th>\n",
       "      <td>13428</td>\n",
       "      <td>4207</td>\n",
       "      <td>All Night</td>\n",
       "      <td>https://www.whosampled.com/Angelo-Ferreri/All-...</td>\n",
       "      <td>0</td>\n",
       "    </tr>\n",
       "    <tr>\n",
       "      <th>15351</th>\n",
       "      <td>15368</td>\n",
       "      <td>6788</td>\n",
       "      <td>All Night</td>\n",
       "      <td>https://www.whosampled.com/Luxury-Elite/All-Night</td>\n",
       "      <td>0</td>\n",
       "    </tr>\n",
       "    <tr>\n",
       "      <th>15366</th>\n",
       "      <td>15383</td>\n",
       "      <td>6798</td>\n",
       "      <td>All Night</td>\n",
       "      <td>https://www.whosampled.com/Cinque/All-Night</td>\n",
       "      <td>0</td>\n",
       "    </tr>\n",
       "  </tbody>\n",
       "</table>\n",
       "</div>"
      ],
      "text/plain": [
       "          id  artist_id       name  \\\n",
       "2188    2214       1324  All Night   \n",
       "4535    4563       2758  All Night   \n",
       "13413  13428       4207  All Night   \n",
       "15351  15368       6788  All Night   \n",
       "15366  15383       6798  All Night   \n",
       "\n",
       "                                                     url  scraped  \n",
       "2188         https://www.whosampled.com/Milira/All-Night        0  \n",
       "4535   https://www.whosampled.com/Maurice-Tamraz/All-...        0  \n",
       "13413  https://www.whosampled.com/Angelo-Ferreri/All-...        0  \n",
       "15351  https://www.whosampled.com/Luxury-Elite/All-Night        0  \n",
       "15366        https://www.whosampled.com/Cinque/All-Night        0  "
      ]
     },
     "execution_count": 80,
     "metadata": {},
     "output_type": "execute_result"
    }
   ],
   "source": [
    "songs[songs['name'] == 'All Night']"
   ]
  },
  {
   "cell_type": "code",
   "execution_count": 92,
   "metadata": {},
   "outputs": [
    {
     "data": {
      "text/html": [
       "<div>\n",
       "<style scoped>\n",
       "    .dataframe tbody tr th:only-of-type {\n",
       "        vertical-align: middle;\n",
       "    }\n",
       "\n",
       "    .dataframe tbody tr th {\n",
       "        vertical-align: top;\n",
       "    }\n",
       "\n",
       "    .dataframe thead th {\n",
       "        text-align: right;\n",
       "    }\n",
       "</style>\n",
       "<table border=\"1\" class=\"dataframe\">\n",
       "  <thead>\n",
       "    <tr style=\"text-align: right;\">\n",
       "      <th></th>\n",
       "      <th>id</th>\n",
       "      <th>name</th>\n",
       "      <th>url</th>\n",
       "      <th>scraped</th>\n",
       "    </tr>\n",
       "  </thead>\n",
       "  <tbody>\n",
       "    <tr>\n",
       "      <th>6907</th>\n",
       "      <td>6908</td>\n",
       "      <td>Beyoncé</td>\n",
       "      <td>https://www.whosampled.com/Beyonc%C3%A9/</td>\n",
       "      <td>0</td>\n",
       "    </tr>\n",
       "  </tbody>\n",
       "</table>\n",
       "</div>"
      ],
      "text/plain": [
       "        id     name                                       url  scraped\n",
       "6907  6908  Beyoncé  https://www.whosampled.com/Beyonc%C3%A9/        0"
      ]
     },
     "execution_count": 92,
     "metadata": {},
     "output_type": "execute_result"
    }
   ],
   "source": [
    "artists.loc[artists['name'].apply(lambda x: x.startswith('Beyonc'))]"
   ]
  },
  {
   "cell_type": "code",
   "execution_count": 93,
   "metadata": {},
   "outputs": [
    {
     "data": {
      "text/html": [
       "<div>\n",
       "<style scoped>\n",
       "    .dataframe tbody tr th:only-of-type {\n",
       "        vertical-align: middle;\n",
       "    }\n",
       "\n",
       "    .dataframe tbody tr th {\n",
       "        vertical-align: top;\n",
       "    }\n",
       "\n",
       "    .dataframe thead th {\n",
       "        text-align: right;\n",
       "    }\n",
       "</style>\n",
       "<table border=\"1\" class=\"dataframe\">\n",
       "  <thead>\n",
       "    <tr style=\"text-align: right;\">\n",
       "      <th></th>\n",
       "      <th>id</th>\n",
       "      <th>artist_id</th>\n",
       "      <th>name</th>\n",
       "      <th>url</th>\n",
       "      <th>scraped</th>\n",
       "    </tr>\n",
       "  </thead>\n",
       "  <tbody>\n",
       "    <tr>\n",
       "      <th>15559</th>\n",
       "      <td>15579</td>\n",
       "      <td>6908</td>\n",
       "      <td>Black Culture</td>\n",
       "      <td>https://www.whosampled.com/Beyonc%C3%A9/Black-...</td>\n",
       "      <td>0</td>\n",
       "    </tr>\n",
       "  </tbody>\n",
       "</table>\n",
       "</div>"
      ],
      "text/plain": [
       "          id  artist_id           name  \\\n",
       "15559  15579       6908  Black Culture   \n",
       "\n",
       "                                                     url  scraped  \n",
       "15559  https://www.whosampled.com/Beyonc%C3%A9/Black-...        0  "
      ]
     },
     "execution_count": 93,
     "metadata": {},
     "output_type": "execute_result"
    }
   ],
   "source": [
    "songs[songs['artist_id'] == 6908]"
   ]
  },
  {
   "cell_type": "code",
   "execution_count": 71,
   "metadata": {},
   "outputs": [
    {
     "data": {
      "text/html": [
       "<div>\n",
       "<style scoped>\n",
       "    .dataframe tbody tr th:only-of-type {\n",
       "        vertical-align: middle;\n",
       "    }\n",
       "\n",
       "    .dataframe tbody tr th {\n",
       "        vertical-align: top;\n",
       "    }\n",
       "\n",
       "    .dataframe thead th {\n",
       "        text-align: right;\n",
       "    }\n",
       "</style>\n",
       "<table border=\"1\" class=\"dataframe\">\n",
       "  <thead>\n",
       "    <tr style=\"text-align: right;\">\n",
       "      <th></th>\n",
       "      <th>song_id</th>\n",
       "      <th>sampled_by_song_id</th>\n",
       "      <th>is_connected</th>\n",
       "      <th>prediction</th>\n",
       "    </tr>\n",
       "  </thead>\n",
       "  <tbody>\n",
       "    <tr>\n",
       "      <th>3908</th>\n",
       "      <td>134</td>\n",
       "      <td>421</td>\n",
       "      <td>1.0</td>\n",
       "      <td>1.293696</td>\n",
       "    </tr>\n",
       "    <tr>\n",
       "      <th>2993</th>\n",
       "      <td>9774</td>\n",
       "      <td>4652</td>\n",
       "      <td>1.0</td>\n",
       "      <td>1.288245</td>\n",
       "    </tr>\n",
       "    <tr>\n",
       "      <th>112</th>\n",
       "      <td>65</td>\n",
       "      <td>1471</td>\n",
       "      <td>1.0</td>\n",
       "      <td>1.280834</td>\n",
       "    </tr>\n",
       "    <tr>\n",
       "      <th>2851</th>\n",
       "      <td>82</td>\n",
       "      <td>4064</td>\n",
       "      <td>1.0</td>\n",
       "      <td>1.276294</td>\n",
       "    </tr>\n",
       "    <tr>\n",
       "      <th>2149</th>\n",
       "      <td>9</td>\n",
       "      <td>627</td>\n",
       "      <td>1.0</td>\n",
       "      <td>1.264793</td>\n",
       "    </tr>\n",
       "    <tr>\n",
       "      <th>262</th>\n",
       "      <td>28</td>\n",
       "      <td>612</td>\n",
       "      <td>1.0</td>\n",
       "      <td>1.257137</td>\n",
       "    </tr>\n",
       "    <tr>\n",
       "      <th>90</th>\n",
       "      <td>31</td>\n",
       "      <td>2830</td>\n",
       "      <td>1.0</td>\n",
       "      <td>1.254280</td>\n",
       "    </tr>\n",
       "    <tr>\n",
       "      <th>1748</th>\n",
       "      <td>120</td>\n",
       "      <td>3331</td>\n",
       "      <td>1.0</td>\n",
       "      <td>1.212860</td>\n",
       "    </tr>\n",
       "    <tr>\n",
       "      <th>222</th>\n",
       "      <td>34</td>\n",
       "      <td>2599</td>\n",
       "      <td>1.0</td>\n",
       "      <td>1.210035</td>\n",
       "    </tr>\n",
       "    <tr>\n",
       "      <th>110</th>\n",
       "      <td>65</td>\n",
       "      <td>2297</td>\n",
       "      <td>1.0</td>\n",
       "      <td>1.203673</td>\n",
       "    </tr>\n",
       "  </tbody>\n",
       "</table>\n",
       "</div>"
      ],
      "text/plain": [
       "      song_id  sampled_by_song_id  is_connected  prediction\n",
       "3908      134                 421           1.0    1.293696\n",
       "2993     9774                4652           1.0    1.288245\n",
       "112        65                1471           1.0    1.280834\n",
       "2851       82                4064           1.0    1.276294\n",
       "2149        9                 627           1.0    1.264793\n",
       "262        28                 612           1.0    1.257137\n",
       "90         31                2830           1.0    1.254280\n",
       "1748      120                3331           1.0    1.212860\n",
       "222        34                2599           1.0    1.210035\n",
       "110        65                2297           1.0    1.203673"
      ]
     },
     "execution_count": 71,
     "metadata": {},
     "output_type": "execute_result"
    }
   ],
   "source": [
    "preds_df.sort_values('prediction', ascending=False).head(10)"
   ]
  },
  {
   "cell_type": "code",
   "execution_count": null,
   "metadata": {},
   "outputs": [],
   "source": []
  },
  {
   "cell_type": "code",
   "execution_count": 103,
   "metadata": {},
   "outputs": [
    {
     "data": {
      "text/html": [
       "<div>\n",
       "<style scoped>\n",
       "    .dataframe tbody tr th:only-of-type {\n",
       "        vertical-align: middle;\n",
       "    }\n",
       "\n",
       "    .dataframe tbody tr th {\n",
       "        vertical-align: top;\n",
       "    }\n",
       "\n",
       "    .dataframe thead th {\n",
       "        text-align: right;\n",
       "    }\n",
       "</style>\n",
       "<table border=\"1\" class=\"dataframe\">\n",
       "  <thead>\n",
       "    <tr style=\"text-align: right;\">\n",
       "      <th></th>\n",
       "      <th>id</th>\n",
       "      <th>artist_id</th>\n",
       "      <th>name</th>\n",
       "      <th>url</th>\n",
       "      <th>scraped</th>\n",
       "    </tr>\n",
       "  </thead>\n",
       "  <tbody>\n",
       "    <tr>\n",
       "      <th>601</th>\n",
       "      <td>627</td>\n",
       "      <td>251</td>\n",
       "      <td>Keep on Doin'</td>\n",
       "      <td>https://www.whosampled.com/Kev-E-Kev/Keep-on-D...</td>\n",
       "      <td>0</td>\n",
       "    </tr>\n",
       "  </tbody>\n",
       "</table>\n",
       "</div>"
      ],
      "text/plain": [
       "      id  artist_id           name  \\\n",
       "601  627        251  Keep on Doin'   \n",
       "\n",
       "                                                   url  scraped  \n",
       "601  https://www.whosampled.com/Kev-E-Kev/Keep-on-D...        0  "
      ]
     },
     "execution_count": 103,
     "metadata": {},
     "output_type": "execute_result"
    }
   ],
   "source": [
    "lookup_id = 627\n",
    "lookup_df = preds_df.loc[preds_df['sampled_by_song_id']==lookup_id,:]\n",
    "songs[songs['id'] == lookup_id]"
   ]
  },
  {
   "cell_type": "code",
   "execution_count": 348,
   "metadata": {},
   "outputs": [],
   "source": [
    "als_model = ALS(\n",
    "    itemCol='song_id',\n",
    "    userCol='sampled_by_song_id',\n",
    "    ratingCol='is_connected',\n",
    "    nonnegative=True,\n",
    "    regParam=0.01,\n",
    "    rank=50)\n",
    "\n",
    "recommender = als_model.fit(train)"
   ]
  },
  {
   "cell_type": "code",
   "execution_count": 349,
   "metadata": {},
   "outputs": [],
   "source": [
    "train_preds = recommender.transform(train)"
   ]
  },
  {
   "cell_type": "code",
   "execution_count": 350,
   "metadata": {},
   "outputs": [],
   "source": [
    "evaluator = RegressionEvaluator(metricName='rmse', \n",
    "                                labelCol='is_connected',\n",
    "                                predictionCol='prediction')"
   ]
  },
  {
   "cell_type": "code",
   "execution_count": 351,
   "metadata": {},
   "outputs": [],
   "source": [
    "rmse_train = evaluator.evaluate(train_preds)"
   ]
  },
  {
   "cell_type": "code",
   "execution_count": 352,
   "metadata": {},
   "outputs": [
    {
     "data": {
      "text/plain": [
       "0.015280206315393514"
      ]
     },
     "execution_count": 352,
     "metadata": {},
     "output_type": "execute_result"
    }
   ],
   "source": [
    "rmse_train"
   ]
  },
  {
   "cell_type": "code",
   "execution_count": 163,
   "metadata": {},
   "outputs": [],
   "source": [
    "rmse = evaluator.evaluate(test_predictions)"
   ]
  },
  {
   "cell_type": "code",
   "execution_count": 164,
   "metadata": {},
   "outputs": [],
   "source": [
    "test_predictions = recommender.transform(test)"
   ]
  },
  {
   "cell_type": "code",
   "execution_count": 165,
   "metadata": {},
   "outputs": [],
   "source": [
    "rmse_test = evaluator.evaluate(\n",
    "    test_predictions.filter(\"prediction + 1 > prediction\"))"
   ]
  },
  {
   "cell_type": "code",
   "execution_count": 166,
   "metadata": {},
   "outputs": [
    {
     "data": {
      "text/plain": [
       "0.2810005494691985"
      ]
     },
     "execution_count": 166,
     "metadata": {},
     "output_type": "execute_result"
    }
   ],
   "source": [
    "rmse_test"
   ]
  },
  {
   "cell_type": "code",
   "execution_count": 176,
   "metadata": {},
   "outputs": [],
   "source": [
    "# randomly generate test data with 0's\n",
    "df = test.toPandas()"
   ]
  },
  {
   "cell_type": "code",
   "execution_count": 177,
   "metadata": {},
   "outputs": [
    {
     "data": {
      "text/html": [
       "<div>\n",
       "<style scoped>\n",
       "    .dataframe tbody tr th:only-of-type {\n",
       "        vertical-align: middle;\n",
       "    }\n",
       "\n",
       "    .dataframe tbody tr th {\n",
       "        vertical-align: top;\n",
       "    }\n",
       "\n",
       "    .dataframe thead th {\n",
       "        text-align: right;\n",
       "    }\n",
       "</style>\n",
       "<table border=\"1\" class=\"dataframe\">\n",
       "  <thead>\n",
       "    <tr style=\"text-align: right;\">\n",
       "      <th></th>\n",
       "      <th>song_id</th>\n",
       "      <th>sampled_by_song_id</th>\n",
       "      <th>is_connected</th>\n",
       "    </tr>\n",
       "  </thead>\n",
       "  <tbody>\n",
       "    <tr>\n",
       "      <th>0</th>\n",
       "      <td>1</td>\n",
       "      <td>374</td>\n",
       "      <td>1.0</td>\n",
       "    </tr>\n",
       "    <tr>\n",
       "      <th>1</th>\n",
       "      <td>1</td>\n",
       "      <td>376</td>\n",
       "      <td>1.0</td>\n",
       "    </tr>\n",
       "    <tr>\n",
       "      <th>2</th>\n",
       "      <td>1</td>\n",
       "      <td>378</td>\n",
       "      <td>1.0</td>\n",
       "    </tr>\n",
       "    <tr>\n",
       "      <th>3</th>\n",
       "      <td>1</td>\n",
       "      <td>382</td>\n",
       "      <td>1.0</td>\n",
       "    </tr>\n",
       "    <tr>\n",
       "      <th>4</th>\n",
       "      <td>1</td>\n",
       "      <td>383</td>\n",
       "      <td>1.0</td>\n",
       "    </tr>\n",
       "  </tbody>\n",
       "</table>\n",
       "</div>"
      ],
      "text/plain": [
       "   song_id  sampled_by_song_id  is_connected\n",
       "0        1                 374           1.0\n",
       "1        1                 376           1.0\n",
       "2        1                 378           1.0\n",
       "3        1                 382           1.0\n",
       "4        1                 383           1.0"
      ]
     },
     "execution_count": 177,
     "metadata": {},
     "output_type": "execute_result"
    }
   ],
   "source": [
    "df.head()"
   ]
  },
  {
   "cell_type": "code",
   "execution_count": 182,
   "metadata": {},
   "outputs": [
    {
     "data": {
      "text/plain": [
       "1"
      ]
     },
     "execution_count": 182,
     "metadata": {},
     "output_type": "execute_result"
    }
   ],
   "source": [
    "len(df.loc[(df['song_id'] == 1) & (df['sampled_by_song_id'] == 374),:])"
   ]
  },
  {
   "cell_type": "code",
   "execution_count": 185,
   "metadata": {},
   "outputs": [
    {
     "data": {
      "text/plain": [
       "array([    1,     2,     3,     4,     5,     6,     8,     9,    10,\n",
       "          11,    12,    13,    14,    15,    16,    17,    18,    19,\n",
       "          20,    21,    22,    23,    25,    26,    28,    29,    30,\n",
       "          31,    32,    33,    34,    35,    36,    37,    38,    39,\n",
       "          40,    41,    42,    43,    44,    45,    46,    47,    48,\n",
       "          49,    50,    51,    52,    53,    54,    55,    57,    58,\n",
       "          60,    61,    62,    63,    64,    65,    66,    67,    68,\n",
       "          69,    70,    71,    73,    74,    75,    76,    77,    78,\n",
       "          79,    81,    82,    83,    84,    85,    86,    87,    88,\n",
       "          89,    91,    94,    95,    96,    97,    98,    99,   101,\n",
       "         102,   104,   109,   111,   113,   115,   117,   118,   119,\n",
       "         120,   121,   122,   124,   127,   128,   130,   131,   132,\n",
       "         134,   138,   139,   140,   141,   142,   145,   146,   151,\n",
       "         156,   157,   158,   159,   163,   164,   166,   168,   173,\n",
       "         176,   178,   183,   185,   187,   188,   189,   192,   195,\n",
       "         200,   201,   202,   204,   205,   207,   214,   216,   218,\n",
       "         220,   221,   224,   235,   244,   245,   246,   247,   248,\n",
       "         250,   252,   254,   256,   277,   278,   279,   282,   298,\n",
       "         302,   307,   315,   320,   340,   343,   374,   375,   377,\n",
       "         378,   380,   384,   385,   386,   387,   388,   389,   390,\n",
       "         392,   396,   398,   399,   401,   403,   404,   406,   407,\n",
       "         409,   410,   411,   412,   414,   416,   417,   418,   421,\n",
       "         422,   428,   429,   430,   432,   434,   436,   437,   438,\n",
       "         439,   440,   443,   446,   447,   448,   449,   451,   452,\n",
       "         454,   458,   459,   460,   461,   462,   463,   468,   471,\n",
       "         473,   474,   478,  5331,  7976,  9262,  9691,  9767,  9768,\n",
       "        9769,  9770,  9771,  9772,  9773,  9774,  9776,  9777,  9778,\n",
       "        9779,  9780,  9781,  9782,  9783,  9784,  9786,  9787,  9788,\n",
       "        9789,  9790,  9792,  9793,  9794,  9795,  9797,  9800,  9801,\n",
       "        9802,  9804,  9805,  9806,  9807,  9809,  9810,  9812,  9813,\n",
       "        9816,  9818,  9819,  9820,  9821,  9822,  9823,  9824,  9825,\n",
       "        9826,  9827,  9828,  9829,  9836,  9837,  9838,  9839,  9840,\n",
       "        9846,  9847,  9849,  9952,  9991, 10010, 11279, 11280, 11281,\n",
       "       11283, 11284, 11285, 11286,   864,  3507,  4275,  9152,  9685,\n",
       "        9686,  9687,  9968, 10009, 11288, 11290, 11291, 11292, 11293,\n",
       "       11295, 11296, 11297, 11300, 11301, 11302, 11304, 11307, 11308,\n",
       "       11311, 11312, 11313, 11316, 11322, 11323, 11326, 11330, 11340,\n",
       "       11341, 11343, 11350, 11356, 11363, 11364, 11528, 12160, 12161,\n",
       "       12163, 12164, 12165, 12166, 12167, 12168, 12169, 12170, 12171,\n",
       "       12172, 12173, 12174, 12175, 12177, 12178, 12179, 12181, 12182,\n",
       "       12183, 12185, 12186, 12188, 12190, 12191, 12192, 12193, 12195,\n",
       "       12197, 12198, 12202, 12204, 12205, 12206, 12207, 12208, 12210,\n",
       "       12211, 12212, 12213, 12217, 12218, 12220, 12222, 12224, 12225,\n",
       "       12226, 12228, 12230, 12232, 12233, 12237, 12238, 12242, 12245,\n",
       "       12246, 12251, 12254, 12255, 12257, 12265, 12268, 12269, 12272,\n",
       "       12281, 12283, 12284, 12287, 12289, 12290, 12291, 12295, 12298,\n",
       "       12302, 12303, 12315, 12316, 12318, 12322, 12329, 12332, 12337,\n",
       "       12343, 12353, 12362, 12367, 12374, 12378, 12384, 12395, 12397,\n",
       "       12403, 12404, 12410, 12418, 12420, 12443, 12478, 13185, 13186,\n",
       "       13187, 13189, 13192, 13193, 13196, 13197, 13198, 13199, 13200,\n",
       "       13201, 13202, 13203, 13204, 13206, 13207, 13208, 13209, 13210,\n",
       "       13211, 13212, 13213, 13214, 13215, 13216, 13217, 13219, 13221,\n",
       "       13222, 13223, 13224, 13227, 13231, 13232, 13233, 13234, 13235,\n",
       "       13237, 13238, 13244, 13246, 13248, 13251, 13253, 13256, 13262,\n",
       "       13273, 13274, 13275, 13277, 13285, 13295, 13301, 13308, 13324,\n",
       "       13349, 14347, 14348, 14349, 14350, 14351, 14352, 14353, 14354,\n",
       "       14355, 14356, 14358, 14359, 14360, 14361, 14362, 14363, 14364,\n",
       "       14365, 14366, 14367, 14368, 14369, 14371, 14373, 14375, 14377,\n",
       "       14380, 14382, 14384, 14385, 14390, 14391, 14392, 14394, 14395,\n",
       "       14396, 14397, 14399, 14400, 14401, 14403, 14405, 14409, 14410,\n",
       "       14413, 14414, 14415, 14417, 14418, 14420, 14429, 14430, 14432,\n",
       "       14436, 14437, 14438, 14441, 14442, 14443, 14445, 14452, 14453,\n",
       "       14455, 14456, 14459, 14461, 14466, 14471, 14475, 14481, 14487,\n",
       "       14492, 14495, 14512, 14517, 14524, 14534, 14535, 14549, 14551,\n",
       "       14560, 14570, 14573, 14575, 14578, 14586, 14592, 14593, 14622,\n",
       "       14626, 14644, 14653, 14661, 14664, 14673, 14688, 14693, 14722,\n",
       "       14728, 14768])"
      ]
     },
     "execution_count": 185,
     "metadata": {},
     "output_type": "execute_result"
    }
   ],
   "source": [
    "df['song_id'].unique()"
   ]
  },
  {
   "cell_type": "code",
   "execution_count": 188,
   "metadata": {},
   "outputs": [],
   "source": [
    "id1 = np.random.choice(df['song_id'].unique())\n",
    "id2 = np.random.choice(df['sampled_by_song_id'].unique())"
   ]
  },
  {
   "cell_type": "code",
   "execution_count": 189,
   "metadata": {},
   "outputs": [
    {
     "data": {
      "text/plain": [
       "(864, 1984)"
      ]
     },
     "execution_count": 189,
     "metadata": {},
     "output_type": "execute_result"
    }
   ],
   "source": [
    "id1, id2"
   ]
  },
  {
   "cell_type": "code",
   "execution_count": 190,
   "metadata": {},
   "outputs": [
    {
     "data": {
      "text/plain": [
       "0"
      ]
     },
     "execution_count": 190,
     "metadata": {},
     "output_type": "execute_result"
    }
   ],
   "source": [
    "len(df.loc[(df['song_id'] == id1) & (df['sampled_by_song_id'] == id2),:])"
   ]
  },
  {
   "cell_type": "code",
   "execution_count": null,
   "metadata": {},
   "outputs": [],
   "source": [
    "if len(df.loc[(df['song_id'] == id1)\n",
    "            & (df['sampled_by_song_id'] == id2),:]) == 0:\n",
    "    pd."
   ]
  },
  {
   "cell_type": "code",
   "execution_count": 194,
   "metadata": {},
   "outputs": [
    {
     "data": {
      "text/plain": [
       "3967"
      ]
     },
     "execution_count": 194,
     "metadata": {},
     "output_type": "execute_result"
    }
   ],
   "source": [
    "test_predictions.persist().count()"
   ]
  },
  {
   "cell_type": "code",
   "execution_count": 203,
   "metadata": {},
   "outputs": [],
   "source": [
    "song_id_df = test_predictions.select('song_id').toPandas()"
   ]
  },
  {
   "cell_type": "code",
   "execution_count": 205,
   "metadata": {},
   "outputs": [
    {
     "data": {
      "text/plain": [
       "array([  463,   471, 13285, 14570,   392, 11280, 11316, 12367,    31,\n",
       "       13207, 14377, 14420,    85,   451,    65,   458, 12210, 12284,\n",
       "       12322,    53, 12207, 14365,    78, 12238, 12315, 13214, 14437,\n",
       "         375,  9968, 12169, 12182, 12384,    34, 12179,   101,   115,\n",
       "       12362, 14410,    81,   385, 11286, 12287,    28,   183,   436,\n",
       "        9781, 14367, 12269,   406,   412, 12191, 14455,  9687, 13301,\n",
       "          76,  9771, 14644,    26, 12329,   384, 12298, 12337, 12404,\n",
       "       14375, 14391,    44,   159,   192,  9787, 12192, 11326,   460,\n",
       "        9840, 10010, 11308,    12,  9824, 14575,  9825,   388,   417,\n",
       "       12232, 13248,    91,   409, 14351,  9783, 11350, 14364, 13219,\n",
       "          22,   128, 13295, 14415,   122, 12170, 13275, 14436, 14453,\n",
       "         157,  9769, 12165,   246,  9847, 11311, 12193, 14534,   111,\n",
       "         224,    47,   140,   416,   132,  9782,   185, 14354,   386,\n",
       "       11330, 12168,   473, 12316,   146, 12167, 14349, 12190, 14417,\n",
       "           1, 12186, 13251, 14350, 14445,    52, 14347, 14355, 12295,\n",
       "        9152,    13,   218,   440,  9991, 14495,     6,    16,    86,\n",
       "         474,   168,   205,  9801, 14396,     3,   142,   178, 12166,\n",
       "       13213,    20,    40,   164,   429, 12237, 13193, 14475,   139,\n",
       "       14363,   340,  9776,  9827,    94,   250,   377,   432,  9813,\n",
       "       14403,    57, 11291, 11297, 12374, 13215, 14524,  9846,  9816,\n",
       "       14353,    54,   120, 11364, 12230, 12291, 12332, 13216, 14382,\n",
       "          96,   235,  9691,  9779,   452, 12257, 13256,    48, 12175,\n",
       "       12290,     5,   163,   279, 14586, 12353, 13199,    19,   430,\n",
       "        9794,  9822, 11283, 11304, 13221, 14399, 14535, 14551, 14414,\n",
       "          64,   117, 13206, 14385,  9768,    41, 12172,   447,  9839,\n",
       "       11343, 13210,    15,    43,  9790, 12226, 12395, 12161, 13200,\n",
       "       14359, 14578,  9805, 12173,  9780, 12195, 14429, 14452,  9789,\n",
       "        9820, 12420, 14348, 14430,   189,   207,    37,  9784, 11307,\n",
       "          61,   127,   461, 12174, 12265,    88,   462,   202,   374,\n",
       "        9807, 13349,     9,    17, 11356, 12410, 13224, 11296,   398,\n",
       "       12318, 13235, 12245, 12281, 14360,   387, 11363, 12242, 12212,\n",
       "          35, 11301, 12303, 14512,  5331, 11284, 12163, 13186, 13233,\n",
       "       13238,   437,  9812, 14573, 12228, 12418,   307, 11341, 12378,\n",
       "       14395,   173,   220,   278,  9792,     4,    55, 12198, 12478,\n",
       "           8,   449,  9806, 10009, 12197, 14392,    23,    39, 13237,\n",
       "       13244, 14768,    49,   176,   380,  9767,  9836, 12251,   130,\n",
       "         244,   446,    84, 14722,   247, 14471,    87, 14394,   343,\n",
       "         434,   439,   443,    51,   277,   428, 12343,   438, 13187,\n",
       "       13204,    69,   166,   448,    97,  9828, 12225,  9262,  9819,\n",
       "       11281, 11288, 13234, 14661,   389, 12246, 14362, 14443,    63,\n",
       "        7976, 13189, 14442,   403, 11528, 12178,   459,  9778, 14653,\n",
       "          10,    77,   102,  9686,  9821, 12302, 14369,    50,  9793,\n",
       "         404, 12171,    45,  9804, 11279, 13208, 14492,   216, 14438,\n",
       "       14673,    38,   320,   418,    82,  9685, 12224, 14373, 11300,\n",
       "       13222, 11295, 13198, 14441,    25,    73,   245,  9837, 12218,\n",
       "       13223,   113,  9800, 12268,  9829, 12283, 13274,    70, 14397,\n",
       "          62,   121,   396, 12397,   156, 13185, 14371, 14390, 14459,\n",
       "          95,   411,  9774, 14368,    29,   390, 13253, 12208,    21,\n",
       "         214, 13196, 13246, 14366,    98,   195,   256,  3507,  4275,\n",
       "       12217,  9809, 12443, 14352, 14549,    32,    60,  9786, 11290,\n",
       "          75,  9952, 14626,   221,  9802, 13201, 14356, 14400,   141,\n",
       "         151,   414, 11293, 12272, 13211, 13212, 14560,   145,   200,\n",
       "       11313, 12403, 13227, 14358,   109,   254,   378, 11285, 11323,\n",
       "         478, 13209, 14405, 12254, 14664,   298, 12204, 12211,    58,\n",
       "         188, 14487,    11,    33,   204,   421,    83,    68,    71,\n",
       "        9838, 11312, 12220, 12222, 14688, 12202, 13217, 14517,    14,\n",
       "        9770,  9777, 13231, 13324,   454,  9810,   158,  9797,  9849,\n",
       "       13197,   248,  9823, 14456,    42,   119,  9772,  9818,  9826,\n",
       "       14380,     2,    79,   201, 12289, 14481,   131, 14401, 12183,\n",
       "         118,   124, 14622,    30,    99, 11322, 12185, 12233,   302,\n",
       "        9773, 11302, 12181, 13202,    66, 13308, 14466,    46,    67,\n",
       "         282, 13273, 14728, 13277, 14409, 14432,   410, 12188, 14361,\n",
       "         864, 14384, 14418,   252,   399, 14413,  9788, 12164, 12255,\n",
       "       13192, 14693,    18,  9795, 12177, 13232, 14593,    74,   138,\n",
       "       11340, 12206, 13203, 14461,   104,   468,   134,   407, 13262,\n",
       "       14592, 12213,    36,   187,   315, 12205,    89,   401,   422,\n",
       "       11292, 12160])"
      ]
     },
     "execution_count": 205,
     "metadata": {},
     "output_type": "execute_result"
    }
   ],
   "source": [
    "song_id_df['song_id'].unique()"
   ]
  },
  {
   "cell_type": "code",
   "execution_count": 196,
   "metadata": {},
   "outputs": [
    {
     "data": {
      "text/plain": [
       "3613"
      ]
     },
     "execution_count": 196,
     "metadata": {},
     "output_type": "execute_result"
    }
   ],
   "source": [
    "test_predictions.select('sampled_by_song_id').distinct().count()"
   ]
  },
  {
   "cell_type": "code",
   "execution_count": 206,
   "metadata": {},
   "outputs": [],
   "source": [
    "a = [(5,6), (2,3)]"
   ]
  },
  {
   "cell_type": "code",
   "execution_count": 207,
   "metadata": {},
   "outputs": [
    {
     "data": {
      "text/html": [
       "<div>\n",
       "<style scoped>\n",
       "    .dataframe tbody tr th:only-of-type {\n",
       "        vertical-align: middle;\n",
       "    }\n",
       "\n",
       "    .dataframe tbody tr th {\n",
       "        vertical-align: top;\n",
       "    }\n",
       "\n",
       "    .dataframe thead th {\n",
       "        text-align: right;\n",
       "    }\n",
       "</style>\n",
       "<table border=\"1\" class=\"dataframe\">\n",
       "  <thead>\n",
       "    <tr style=\"text-align: right;\">\n",
       "      <th></th>\n",
       "      <th>0</th>\n",
       "      <th>1</th>\n",
       "    </tr>\n",
       "  </thead>\n",
       "  <tbody>\n",
       "    <tr>\n",
       "      <th>0</th>\n",
       "      <td>5</td>\n",
       "      <td>6</td>\n",
       "    </tr>\n",
       "    <tr>\n",
       "      <th>1</th>\n",
       "      <td>2</td>\n",
       "      <td>3</td>\n",
       "    </tr>\n",
       "  </tbody>\n",
       "</table>\n",
       "</div>"
      ],
      "text/plain": [
       "   0  1\n",
       "0  5  6\n",
       "1  2  3"
      ]
     },
     "execution_count": 207,
     "metadata": {},
     "output_type": "execute_result"
    }
   ],
   "source": [
    "pd.DataFrame(a)"
   ]
  },
  {
   "cell_type": "code",
   "execution_count": 213,
   "metadata": {},
   "outputs": [
    {
     "data": {
      "text/plain": [
       "3967"
      ]
     },
     "execution_count": 213,
     "metadata": {},
     "output_type": "execute_result"
    }
   ],
   "source": [
    "test_predictions.persist().count()"
   ]
  },
  {
   "cell_type": "code",
   "execution_count": 214,
   "metadata": {},
   "outputs": [
    {
     "data": {
      "text/plain": [
       "1"
      ]
     },
     "execution_count": 214,
     "metadata": {},
     "output_type": "execute_result"
    }
   ],
   "source": [
    "test_predictions.filter('song_id = 1 and sampled_by_song_id = 496').count()"
   ]
  },
  {
   "cell_type": "code",
   "execution_count": 217,
   "metadata": {},
   "outputs": [
    {
     "name": "stdout",
     "output_type": "stream",
     "text": [
      "/Users/brettashley/galvanize/dsi/00-Capstone/mix-maker/src\n"
     ]
    }
   ],
   "source": [
    "cd /Users/brettashley/galvanize/dsi/00-Capstone/mix-maker/src"
   ]
  },
  {
   "cell_type": "code",
   "execution_count": 219,
   "metadata": {},
   "outputs": [],
   "source": [
    "import model"
   ]
  },
  {
   "cell_type": "code",
   "execution_count": 353,
   "metadata": {},
   "outputs": [],
   "source": [
    "sr = model.SongRecommender()"
   ]
  },
  {
   "cell_type": "code",
   "execution_count": 295,
   "metadata": {},
   "outputs": [],
   "source": [
    "new = _"
   ]
  },
  {
   "cell_type": "code",
   "execution_count": 296,
   "metadata": {},
   "outputs": [
    {
     "data": {
      "text/plain": [
       "[(9767, 2815), (14456, 10660), (14396, 2404), (94, 4005), (83, 9523)]"
      ]
     },
     "execution_count": 296,
     "metadata": {},
     "output_type": "execute_result"
    }
   ],
   "source": [
    "new"
   ]
  },
  {
   "cell_type": "code",
   "execution_count": 298,
   "metadata": {},
   "outputs": [
    {
     "data": {
      "text/plain": [
       "Index(['song_id', 'sampled_by_song_id', 'is_connected', 'prediction'], dtype='object')"
      ]
     },
     "execution_count": 298,
     "metadata": {},
     "output_type": "execute_result"
    }
   ],
   "source": [
    "df.columns"
   ]
  },
  {
   "cell_type": "code",
   "execution_count": 301,
   "metadata": {},
   "outputs": [],
   "source": [
    "new_df = pd.DataFrame(new, columns=df.columns[:2])"
   ]
  },
  {
   "cell_type": "code",
   "execution_count": 302,
   "metadata": {},
   "outputs": [],
   "source": [
    "new_df['is_connected'] = 0"
   ]
  },
  {
   "cell_type": "code",
   "execution_count": 303,
   "metadata": {},
   "outputs": [
    {
     "data": {
      "text/html": [
       "<div>\n",
       "<style scoped>\n",
       "    .dataframe tbody tr th:only-of-type {\n",
       "        vertical-align: middle;\n",
       "    }\n",
       "\n",
       "    .dataframe tbody tr th {\n",
       "        vertical-align: top;\n",
       "    }\n",
       "\n",
       "    .dataframe thead th {\n",
       "        text-align: right;\n",
       "    }\n",
       "</style>\n",
       "<table border=\"1\" class=\"dataframe\">\n",
       "  <thead>\n",
       "    <tr style=\"text-align: right;\">\n",
       "      <th></th>\n",
       "      <th>song_id</th>\n",
       "      <th>sampled_by_song_id</th>\n",
       "      <th>is_connected</th>\n",
       "    </tr>\n",
       "  </thead>\n",
       "  <tbody>\n",
       "    <tr>\n",
       "      <th>0</th>\n",
       "      <td>9767</td>\n",
       "      <td>2815</td>\n",
       "      <td>0</td>\n",
       "    </tr>\n",
       "    <tr>\n",
       "      <th>1</th>\n",
       "      <td>14456</td>\n",
       "      <td>10660</td>\n",
       "      <td>0</td>\n",
       "    </tr>\n",
       "    <tr>\n",
       "      <th>2</th>\n",
       "      <td>14396</td>\n",
       "      <td>2404</td>\n",
       "      <td>0</td>\n",
       "    </tr>\n",
       "    <tr>\n",
       "      <th>3</th>\n",
       "      <td>94</td>\n",
       "      <td>4005</td>\n",
       "      <td>0</td>\n",
       "    </tr>\n",
       "    <tr>\n",
       "      <th>4</th>\n",
       "      <td>83</td>\n",
       "      <td>9523</td>\n",
       "      <td>0</td>\n",
       "    </tr>\n",
       "  </tbody>\n",
       "</table>\n",
       "</div>"
      ],
      "text/plain": [
       "   song_id  sampled_by_song_id  is_connected\n",
       "0     9767                2815             0\n",
       "1    14456               10660             0\n",
       "2    14396                2404             0\n",
       "3       94                4005             0\n",
       "4       83                9523             0"
      ]
     },
     "execution_count": 303,
     "metadata": {},
     "output_type": "execute_result"
    }
   ],
   "source": [
    "new_df.head()"
   ]
  },
  {
   "cell_type": "code",
   "execution_count": 306,
   "metadata": {},
   "outputs": [],
   "source": [
    "test_pd = test.toPandas()"
   ]
  },
  {
   "cell_type": "code",
   "execution_count": 307,
   "metadata": {},
   "outputs": [
    {
     "data": {
      "text/html": [
       "<div>\n",
       "<style scoped>\n",
       "    .dataframe tbody tr th:only-of-type {\n",
       "        vertical-align: middle;\n",
       "    }\n",
       "\n",
       "    .dataframe tbody tr th {\n",
       "        vertical-align: top;\n",
       "    }\n",
       "\n",
       "    .dataframe thead th {\n",
       "        text-align: right;\n",
       "    }\n",
       "</style>\n",
       "<table border=\"1\" class=\"dataframe\">\n",
       "  <thead>\n",
       "    <tr style=\"text-align: right;\">\n",
       "      <th></th>\n",
       "      <th>song_id</th>\n",
       "      <th>sampled_by_song_id</th>\n",
       "      <th>is_connected</th>\n",
       "    </tr>\n",
       "  </thead>\n",
       "  <tbody>\n",
       "    <tr>\n",
       "      <th>0</th>\n",
       "      <td>1</td>\n",
       "      <td>374</td>\n",
       "      <td>1.0</td>\n",
       "    </tr>\n",
       "    <tr>\n",
       "      <th>1</th>\n",
       "      <td>1</td>\n",
       "      <td>376</td>\n",
       "      <td>1.0</td>\n",
       "    </tr>\n",
       "    <tr>\n",
       "      <th>2</th>\n",
       "      <td>1</td>\n",
       "      <td>378</td>\n",
       "      <td>1.0</td>\n",
       "    </tr>\n",
       "    <tr>\n",
       "      <th>3</th>\n",
       "      <td>1</td>\n",
       "      <td>382</td>\n",
       "      <td>1.0</td>\n",
       "    </tr>\n",
       "    <tr>\n",
       "      <th>4</th>\n",
       "      <td>1</td>\n",
       "      <td>383</td>\n",
       "      <td>1.0</td>\n",
       "    </tr>\n",
       "  </tbody>\n",
       "</table>\n",
       "</div>"
      ],
      "text/plain": [
       "   song_id  sampled_by_song_id  is_connected\n",
       "0        1                 374           1.0\n",
       "1        1                 376           1.0\n",
       "2        1                 378           1.0\n",
       "3        1                 382           1.0\n",
       "4        1                 383           1.0"
      ]
     },
     "execution_count": 307,
     "metadata": {},
     "output_type": "execute_result"
    }
   ],
   "source": [
    "test_pd.head()"
   ]
  },
  {
   "cell_type": "code",
   "execution_count": 313,
   "metadata": {},
   "outputs": [],
   "source": [
    "check = pd.concat([test_pd, new_df]).reset_index()"
   ]
  },
  {
   "cell_type": "code",
   "execution_count": 314,
   "metadata": {},
   "outputs": [
    {
     "data": {
      "text/html": [
       "<div>\n",
       "<style scoped>\n",
       "    .dataframe tbody tr th:only-of-type {\n",
       "        vertical-align: middle;\n",
       "    }\n",
       "\n",
       "    .dataframe tbody tr th {\n",
       "        vertical-align: top;\n",
       "    }\n",
       "\n",
       "    .dataframe thead th {\n",
       "        text-align: right;\n",
       "    }\n",
       "</style>\n",
       "<table border=\"1\" class=\"dataframe\">\n",
       "  <thead>\n",
       "    <tr style=\"text-align: right;\">\n",
       "      <th></th>\n",
       "      <th>index</th>\n",
       "      <th>song_id</th>\n",
       "      <th>sampled_by_song_id</th>\n",
       "      <th>is_connected</th>\n",
       "    </tr>\n",
       "  </thead>\n",
       "  <tbody>\n",
       "    <tr>\n",
       "      <th>0</th>\n",
       "      <td>0</td>\n",
       "      <td>1</td>\n",
       "      <td>374</td>\n",
       "      <td>1.0</td>\n",
       "    </tr>\n",
       "    <tr>\n",
       "      <th>1</th>\n",
       "      <td>1</td>\n",
       "      <td>1</td>\n",
       "      <td>376</td>\n",
       "      <td>1.0</td>\n",
       "    </tr>\n",
       "    <tr>\n",
       "      <th>2</th>\n",
       "      <td>2</td>\n",
       "      <td>1</td>\n",
       "      <td>378</td>\n",
       "      <td>1.0</td>\n",
       "    </tr>\n",
       "    <tr>\n",
       "      <th>3</th>\n",
       "      <td>3</td>\n",
       "      <td>1</td>\n",
       "      <td>382</td>\n",
       "      <td>1.0</td>\n",
       "    </tr>\n",
       "    <tr>\n",
       "      <th>4</th>\n",
       "      <td>4</td>\n",
       "      <td>1</td>\n",
       "      <td>383</td>\n",
       "      <td>1.0</td>\n",
       "    </tr>\n",
       "    <tr>\n",
       "      <th>5</th>\n",
       "      <td>5</td>\n",
       "      <td>1</td>\n",
       "      <td>391</td>\n",
       "      <td>1.0</td>\n",
       "    </tr>\n",
       "    <tr>\n",
       "      <th>6</th>\n",
       "      <td>6</td>\n",
       "      <td>1</td>\n",
       "      <td>397</td>\n",
       "      <td>1.0</td>\n",
       "    </tr>\n",
       "    <tr>\n",
       "      <th>7</th>\n",
       "      <td>7</td>\n",
       "      <td>1</td>\n",
       "      <td>403</td>\n",
       "      <td>1.0</td>\n",
       "    </tr>\n",
       "    <tr>\n",
       "      <th>8</th>\n",
       "      <td>8</td>\n",
       "      <td>1</td>\n",
       "      <td>410</td>\n",
       "      <td>1.0</td>\n",
       "    </tr>\n",
       "    <tr>\n",
       "      <th>9</th>\n",
       "      <td>9</td>\n",
       "      <td>1</td>\n",
       "      <td>422</td>\n",
       "      <td>1.0</td>\n",
       "    </tr>\n",
       "    <tr>\n",
       "      <th>10</th>\n",
       "      <td>10</td>\n",
       "      <td>1</td>\n",
       "      <td>424</td>\n",
       "      <td>1.0</td>\n",
       "    </tr>\n",
       "    <tr>\n",
       "      <th>11</th>\n",
       "      <td>11</td>\n",
       "      <td>1</td>\n",
       "      <td>431</td>\n",
       "      <td>1.0</td>\n",
       "    </tr>\n",
       "    <tr>\n",
       "      <th>12</th>\n",
       "      <td>12</td>\n",
       "      <td>1</td>\n",
       "      <td>432</td>\n",
       "      <td>1.0</td>\n",
       "    </tr>\n",
       "    <tr>\n",
       "      <th>13</th>\n",
       "      <td>13</td>\n",
       "      <td>1</td>\n",
       "      <td>439</td>\n",
       "      <td>1.0</td>\n",
       "    </tr>\n",
       "    <tr>\n",
       "      <th>14</th>\n",
       "      <td>14</td>\n",
       "      <td>1</td>\n",
       "      <td>455</td>\n",
       "      <td>1.0</td>\n",
       "    </tr>\n",
       "    <tr>\n",
       "      <th>15</th>\n",
       "      <td>15</td>\n",
       "      <td>1</td>\n",
       "      <td>456</td>\n",
       "      <td>1.0</td>\n",
       "    </tr>\n",
       "    <tr>\n",
       "      <th>16</th>\n",
       "      <td>16</td>\n",
       "      <td>1</td>\n",
       "      <td>468</td>\n",
       "      <td>1.0</td>\n",
       "    </tr>\n",
       "    <tr>\n",
       "      <th>17</th>\n",
       "      <td>17</td>\n",
       "      <td>1</td>\n",
       "      <td>472</td>\n",
       "      <td>1.0</td>\n",
       "    </tr>\n",
       "    <tr>\n",
       "      <th>18</th>\n",
       "      <td>18</td>\n",
       "      <td>1</td>\n",
       "      <td>474</td>\n",
       "      <td>1.0</td>\n",
       "    </tr>\n",
       "    <tr>\n",
       "      <th>19</th>\n",
       "      <td>19</td>\n",
       "      <td>1</td>\n",
       "      <td>490</td>\n",
       "      <td>1.0</td>\n",
       "    </tr>\n",
       "    <tr>\n",
       "      <th>20</th>\n",
       "      <td>20</td>\n",
       "      <td>1</td>\n",
       "      <td>494</td>\n",
       "      <td>1.0</td>\n",
       "    </tr>\n",
       "    <tr>\n",
       "      <th>21</th>\n",
       "      <td>21</td>\n",
       "      <td>1</td>\n",
       "      <td>496</td>\n",
       "      <td>1.0</td>\n",
       "    </tr>\n",
       "    <tr>\n",
       "      <th>22</th>\n",
       "      <td>22</td>\n",
       "      <td>1</td>\n",
       "      <td>503</td>\n",
       "      <td>1.0</td>\n",
       "    </tr>\n",
       "    <tr>\n",
       "      <th>23</th>\n",
       "      <td>23</td>\n",
       "      <td>1</td>\n",
       "      <td>519</td>\n",
       "      <td>1.0</td>\n",
       "    </tr>\n",
       "    <tr>\n",
       "      <th>24</th>\n",
       "      <td>24</td>\n",
       "      <td>1</td>\n",
       "      <td>521</td>\n",
       "      <td>1.0</td>\n",
       "    </tr>\n",
       "    <tr>\n",
       "      <th>25</th>\n",
       "      <td>25</td>\n",
       "      <td>1</td>\n",
       "      <td>525</td>\n",
       "      <td>1.0</td>\n",
       "    </tr>\n",
       "    <tr>\n",
       "      <th>26</th>\n",
       "      <td>26</td>\n",
       "      <td>1</td>\n",
       "      <td>528</td>\n",
       "      <td>1.0</td>\n",
       "    </tr>\n",
       "    <tr>\n",
       "      <th>27</th>\n",
       "      <td>27</td>\n",
       "      <td>1</td>\n",
       "      <td>533</td>\n",
       "      <td>1.0</td>\n",
       "    </tr>\n",
       "    <tr>\n",
       "      <th>28</th>\n",
       "      <td>28</td>\n",
       "      <td>1</td>\n",
       "      <td>539</td>\n",
       "      <td>1.0</td>\n",
       "    </tr>\n",
       "    <tr>\n",
       "      <th>29</th>\n",
       "      <td>29</td>\n",
       "      <td>1</td>\n",
       "      <td>541</td>\n",
       "      <td>1.0</td>\n",
       "    </tr>\n",
       "    <tr>\n",
       "      <th>...</th>\n",
       "      <td>...</td>\n",
       "      <td>...</td>\n",
       "      <td>...</td>\n",
       "      <td>...</td>\n",
       "    </tr>\n",
       "    <tr>\n",
       "      <th>3942</th>\n",
       "      <td>3942</td>\n",
       "      <td>14586</td>\n",
       "      <td>2970</td>\n",
       "      <td>1.0</td>\n",
       "    </tr>\n",
       "    <tr>\n",
       "      <th>3943</th>\n",
       "      <td>3943</td>\n",
       "      <td>14586</td>\n",
       "      <td>9921</td>\n",
       "      <td>1.0</td>\n",
       "    </tr>\n",
       "    <tr>\n",
       "      <th>3944</th>\n",
       "      <td>3944</td>\n",
       "      <td>14586</td>\n",
       "      <td>14834</td>\n",
       "      <td>1.0</td>\n",
       "    </tr>\n",
       "    <tr>\n",
       "      <th>3945</th>\n",
       "      <td>3945</td>\n",
       "      <td>14586</td>\n",
       "      <td>14869</td>\n",
       "      <td>1.0</td>\n",
       "    </tr>\n",
       "    <tr>\n",
       "      <th>3946</th>\n",
       "      <td>3946</td>\n",
       "      <td>14592</td>\n",
       "      <td>15730</td>\n",
       "      <td>1.0</td>\n",
       "    </tr>\n",
       "    <tr>\n",
       "      <th>3947</th>\n",
       "      <td>3947</td>\n",
       "      <td>14593</td>\n",
       "      <td>14813</td>\n",
       "      <td>1.0</td>\n",
       "    </tr>\n",
       "    <tr>\n",
       "      <th>3948</th>\n",
       "      <td>3948</td>\n",
       "      <td>14593</td>\n",
       "      <td>16035</td>\n",
       "      <td>1.0</td>\n",
       "    </tr>\n",
       "    <tr>\n",
       "      <th>3949</th>\n",
       "      <td>3949</td>\n",
       "      <td>14622</td>\n",
       "      <td>16027</td>\n",
       "      <td>1.0</td>\n",
       "    </tr>\n",
       "    <tr>\n",
       "      <th>3950</th>\n",
       "      <td>3950</td>\n",
       "      <td>14626</td>\n",
       "      <td>14823</td>\n",
       "      <td>1.0</td>\n",
       "    </tr>\n",
       "    <tr>\n",
       "      <th>3951</th>\n",
       "      <td>3951</td>\n",
       "      <td>14644</td>\n",
       "      <td>14818</td>\n",
       "      <td>1.0</td>\n",
       "    </tr>\n",
       "    <tr>\n",
       "      <th>3952</th>\n",
       "      <td>3952</td>\n",
       "      <td>14644</td>\n",
       "      <td>15981</td>\n",
       "      <td>1.0</td>\n",
       "    </tr>\n",
       "    <tr>\n",
       "      <th>3953</th>\n",
       "      <td>3953</td>\n",
       "      <td>14653</td>\n",
       "      <td>14831</td>\n",
       "      <td>1.0</td>\n",
       "    </tr>\n",
       "    <tr>\n",
       "      <th>3954</th>\n",
       "      <td>3954</td>\n",
       "      <td>14661</td>\n",
       "      <td>16043</td>\n",
       "      <td>1.0</td>\n",
       "    </tr>\n",
       "    <tr>\n",
       "      <th>3955</th>\n",
       "      <td>3955</td>\n",
       "      <td>14664</td>\n",
       "      <td>9968</td>\n",
       "      <td>1.0</td>\n",
       "    </tr>\n",
       "    <tr>\n",
       "      <th>3956</th>\n",
       "      <td>3956</td>\n",
       "      <td>14664</td>\n",
       "      <td>14814</td>\n",
       "      <td>1.0</td>\n",
       "    </tr>\n",
       "    <tr>\n",
       "      <th>3957</th>\n",
       "      <td>3957</td>\n",
       "      <td>14673</td>\n",
       "      <td>14834</td>\n",
       "      <td>1.0</td>\n",
       "    </tr>\n",
       "    <tr>\n",
       "      <th>3958</th>\n",
       "      <td>3958</td>\n",
       "      <td>14688</td>\n",
       "      <td>14814</td>\n",
       "      <td>1.0</td>\n",
       "    </tr>\n",
       "    <tr>\n",
       "      <th>3959</th>\n",
       "      <td>3959</td>\n",
       "      <td>14688</td>\n",
       "      <td>14816</td>\n",
       "      <td>1.0</td>\n",
       "    </tr>\n",
       "    <tr>\n",
       "      <th>3960</th>\n",
       "      <td>3960</td>\n",
       "      <td>14688</td>\n",
       "      <td>14869</td>\n",
       "      <td>1.0</td>\n",
       "    </tr>\n",
       "    <tr>\n",
       "      <th>3961</th>\n",
       "      <td>3961</td>\n",
       "      <td>14693</td>\n",
       "      <td>14821</td>\n",
       "      <td>1.0</td>\n",
       "    </tr>\n",
       "    <tr>\n",
       "      <th>3962</th>\n",
       "      <td>3962</td>\n",
       "      <td>14722</td>\n",
       "      <td>16008</td>\n",
       "      <td>1.0</td>\n",
       "    </tr>\n",
       "    <tr>\n",
       "      <th>3963</th>\n",
       "      <td>3963</td>\n",
       "      <td>14728</td>\n",
       "      <td>14815</td>\n",
       "      <td>1.0</td>\n",
       "    </tr>\n",
       "    <tr>\n",
       "      <th>3964</th>\n",
       "      <td>3964</td>\n",
       "      <td>14728</td>\n",
       "      <td>16049</td>\n",
       "      <td>1.0</td>\n",
       "    </tr>\n",
       "    <tr>\n",
       "      <th>3965</th>\n",
       "      <td>3965</td>\n",
       "      <td>14768</td>\n",
       "      <td>14823</td>\n",
       "      <td>1.0</td>\n",
       "    </tr>\n",
       "    <tr>\n",
       "      <th>3966</th>\n",
       "      <td>3966</td>\n",
       "      <td>14768</td>\n",
       "      <td>14827</td>\n",
       "      <td>1.0</td>\n",
       "    </tr>\n",
       "    <tr>\n",
       "      <th>3967</th>\n",
       "      <td>0</td>\n",
       "      <td>9767</td>\n",
       "      <td>2815</td>\n",
       "      <td>0.0</td>\n",
       "    </tr>\n",
       "    <tr>\n",
       "      <th>3968</th>\n",
       "      <td>1</td>\n",
       "      <td>14456</td>\n",
       "      <td>10660</td>\n",
       "      <td>0.0</td>\n",
       "    </tr>\n",
       "    <tr>\n",
       "      <th>3969</th>\n",
       "      <td>2</td>\n",
       "      <td>14396</td>\n",
       "      <td>2404</td>\n",
       "      <td>0.0</td>\n",
       "    </tr>\n",
       "    <tr>\n",
       "      <th>3970</th>\n",
       "      <td>3</td>\n",
       "      <td>94</td>\n",
       "      <td>4005</td>\n",
       "      <td>0.0</td>\n",
       "    </tr>\n",
       "    <tr>\n",
       "      <th>3971</th>\n",
       "      <td>4</td>\n",
       "      <td>83</td>\n",
       "      <td>9523</td>\n",
       "      <td>0.0</td>\n",
       "    </tr>\n",
       "  </tbody>\n",
       "</table>\n",
       "<p>3972 rows × 4 columns</p>\n",
       "</div>"
      ],
      "text/plain": [
       "      index  song_id  sampled_by_song_id  is_connected\n",
       "0         0        1                 374           1.0\n",
       "1         1        1                 376           1.0\n",
       "2         2        1                 378           1.0\n",
       "3         3        1                 382           1.0\n",
       "4         4        1                 383           1.0\n",
       "5         5        1                 391           1.0\n",
       "6         6        1                 397           1.0\n",
       "7         7        1                 403           1.0\n",
       "8         8        1                 410           1.0\n",
       "9         9        1                 422           1.0\n",
       "10       10        1                 424           1.0\n",
       "11       11        1                 431           1.0\n",
       "12       12        1                 432           1.0\n",
       "13       13        1                 439           1.0\n",
       "14       14        1                 455           1.0\n",
       "15       15        1                 456           1.0\n",
       "16       16        1                 468           1.0\n",
       "17       17        1                 472           1.0\n",
       "18       18        1                 474           1.0\n",
       "19       19        1                 490           1.0\n",
       "20       20        1                 494           1.0\n",
       "21       21        1                 496           1.0\n",
       "22       22        1                 503           1.0\n",
       "23       23        1                 519           1.0\n",
       "24       24        1                 521           1.0\n",
       "25       25        1                 525           1.0\n",
       "26       26        1                 528           1.0\n",
       "27       27        1                 533           1.0\n",
       "28       28        1                 539           1.0\n",
       "29       29        1                 541           1.0\n",
       "...     ...      ...                 ...           ...\n",
       "3942   3942    14586                2970           1.0\n",
       "3943   3943    14586                9921           1.0\n",
       "3944   3944    14586               14834           1.0\n",
       "3945   3945    14586               14869           1.0\n",
       "3946   3946    14592               15730           1.0\n",
       "3947   3947    14593               14813           1.0\n",
       "3948   3948    14593               16035           1.0\n",
       "3949   3949    14622               16027           1.0\n",
       "3950   3950    14626               14823           1.0\n",
       "3951   3951    14644               14818           1.0\n",
       "3952   3952    14644               15981           1.0\n",
       "3953   3953    14653               14831           1.0\n",
       "3954   3954    14661               16043           1.0\n",
       "3955   3955    14664                9968           1.0\n",
       "3956   3956    14664               14814           1.0\n",
       "3957   3957    14673               14834           1.0\n",
       "3958   3958    14688               14814           1.0\n",
       "3959   3959    14688               14816           1.0\n",
       "3960   3960    14688               14869           1.0\n",
       "3961   3961    14693               14821           1.0\n",
       "3962   3962    14722               16008           1.0\n",
       "3963   3963    14728               14815           1.0\n",
       "3964   3964    14728               16049           1.0\n",
       "3965   3965    14768               14823           1.0\n",
       "3966   3966    14768               14827           1.0\n",
       "3967      0     9767                2815           0.0\n",
       "3968      1    14456               10660           0.0\n",
       "3969      2    14396                2404           0.0\n",
       "3970      3       94                4005           0.0\n",
       "3971      4       83                9523           0.0\n",
       "\n",
       "[3972 rows x 4 columns]"
      ]
     },
     "execution_count": 314,
     "metadata": {},
     "output_type": "execute_result"
    }
   ],
   "source": [
    "check"
   ]
  },
  {
   "cell_type": "code",
   "execution_count": 354,
   "metadata": {},
   "outputs": [
    {
     "data": {
      "text/plain": [
       "DataFrame[index: bigint, is_connected: double, sampled_by_song_id: bigint, song_id: bigint]"
      ]
     },
     "execution_count": 354,
     "metadata": {},
     "output_type": "execute_result"
    }
   ],
   "source": [
    "sr.generate_negative_targets(test,\n",
    "                             'song_id',\n",
    "                             'sampled_by_song_id',\n",
    "                             'is_connected',\n",
    "                             n_new_combos=100)"
   ]
  },
  {
   "cell_type": "code",
   "execution_count": 355,
   "metadata": {},
   "outputs": [],
   "source": [
    "test_with_neg = _"
   ]
  },
  {
   "cell_type": "code",
   "execution_count": 356,
   "metadata": {},
   "outputs": [
    {
     "name": "stdout",
     "output_type": "stream",
     "text": [
      "+-----+------------+------------------+-------+\n",
      "|index|is_connected|sampled_by_song_id|song_id|\n",
      "+-----+------------+------------------+-------+\n",
      "|    0|         1.0|               374|      1|\n",
      "|    1|         1.0|               376|      1|\n",
      "|    2|         1.0|               378|      1|\n",
      "|    3|         1.0|               382|      1|\n",
      "|    4|         1.0|               383|      1|\n",
      "|    5|         1.0|               391|      1|\n",
      "|    6|         1.0|               397|      1|\n",
      "|    7|         1.0|               403|      1|\n",
      "|    8|         1.0|               410|      1|\n",
      "|    9|         1.0|               422|      1|\n",
      "+-----+------------+------------------+-------+\n",
      "\n"
     ]
    }
   ],
   "source": [
    "test_with_neg.limit(10).show()"
   ]
  },
  {
   "cell_type": "code",
   "execution_count": 357,
   "metadata": {},
   "outputs": [
    {
     "data": {
      "text/plain": [
       "7042"
      ]
     },
     "execution_count": 357,
     "metadata": {},
     "output_type": "execute_result"
    }
   ],
   "source": [
    "test_with_neg.count()"
   ]
  },
  {
   "cell_type": "code",
   "execution_count": 358,
   "metadata": {},
   "outputs": [],
   "source": [
    "preds = recommender.transform(test_with_neg)"
   ]
  },
  {
   "cell_type": "code",
   "execution_count": 327,
   "metadata": {},
   "outputs": [
    {
     "name": "stdout",
     "output_type": "stream",
     "text": [
      "+-----+------------+------------------+-------+----------+\n",
      "|index|is_connected|sampled_by_song_id|song_id|prediction|\n",
      "+-----+------------+------------------+-------+----------+\n",
      "| 2440|         1.0|              9170|    463|       NaN|\n",
      "| 2443|         1.0|              9896|    471| 0.6090669|\n",
      "| 2442|         1.0|              9170|    471|0.50599504|\n",
      "| 3625|         1.0|             14299|  13285|       NaN|\n",
      "|   13|         0.0|              7634|  14570|0.60288477|\n",
      "| 3936|         1.0|             14987|  14570| 0.6105124|\n",
      "| 2372|         1.0|              9170|    392| 0.2756293|\n",
      "| 3029|         1.0|             11800|  11280|       NaN|\n",
      "| 3008|         1.0|             11713|  11280|       NaN|\n",
      "| 3040|         1.0|             11835|  11280|0.57141745|\n",
      "| 3031|         1.0|             11808|  11280|       NaN|\n",
      "| 3004|         1.0|             11694|  11280|       NaN|\n",
      "| 3015|         1.0|             11736|  11280|       NaN|\n",
      "| 3009|         1.0|             11717|  11280|       NaN|\n",
      "| 2992|         1.0|              1125|  11280|       NaN|\n",
      "| 3019|         1.0|             11764|  11280|       NaN|\n",
      "| 3030|         1.0|             11805|  11280|       NaN|\n",
      "| 3010|         1.0|             11718|  11280|       NaN|\n",
      "| 2996|         1.0|             11659|  11280|0.39042524|\n",
      "| 3020|         1.0|             11771|  11280|       NaN|\n",
      "+-----+------------+------------------+-------+----------+\n",
      "\n"
     ]
    }
   ],
   "source": [
    "preds.limit(20).show()"
   ]
  },
  {
   "cell_type": "code",
   "execution_count": 359,
   "metadata": {},
   "outputs": [
    {
     "data": {
      "text/plain": [
       "0.23351478827422506"
      ]
     },
     "execution_count": 359,
     "metadata": {},
     "output_type": "execute_result"
    }
   ],
   "source": [
    "sr.RMSE(preds, has_nan_values=True)"
   ]
  },
  {
   "cell_type": "code",
   "execution_count": null,
   "metadata": {},
   "outputs": [],
   "source": []
  }
 ],
 "metadata": {
  "kernelspec": {
   "display_name": "Python 3",
   "language": "python",
   "name": "python3"
  },
  "language_info": {
   "codemirror_mode": {
    "name": "ipython",
    "version": 3
   },
   "file_extension": ".py",
   "mimetype": "text/x-python",
   "name": "python",
   "nbconvert_exporter": "python",
   "pygments_lexer": "ipython3",
   "version": "3.6.4"
  }
 },
 "nbformat": 4,
 "nbformat_minor": 2
}
