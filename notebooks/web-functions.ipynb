{
 "cells": [
  {
   "cell_type": "code",
   "execution_count": 2,
   "metadata": {},
   "outputs": [],
   "source": [
    "import pandas as pd\n",
    "import numpy as np\n"
   ]
  },
  {
   "cell_type": "code",
   "execution_count": 4,
   "metadata": {},
   "outputs": [
    {
     "name": "stdout",
     "output_type": "stream",
     "text": [
      "/Users/brettashley/galvanize/dsi/00-Capstone/ml-mix-lab/mixmaker\n"
     ]
    }
   ],
   "source": [
    "cd /Users/brettashley/galvanize/dsi/00-Capstone/ml-mix-lab/mixmaker/"
   ]
  },
  {
   "cell_type": "code",
   "execution_count": 6,
   "metadata": {},
   "outputs": [],
   "source": [
    "import database_interaction\n",
    "import web_functions"
   ]
  },
  {
   "cell_type": "code",
   "execution_count": 7,
   "metadata": {},
   "outputs": [],
   "source": [
    "wfh = web_functions.WebFunctionHandler()"
   ]
  },
  {
   "cell_type": "code",
   "execution_count": 14,
   "metadata": {},
   "outputs": [],
   "source": [
    "artists = wfh.db.get_artist_names()"
   ]
  },
  {
   "cell_type": "code",
   "execution_count": 15,
   "metadata": {},
   "outputs": [],
   "source": [
    "ids = []\n",
    "elements = []\n",
    "for i, artist in artists.head().iterrows():\n",
    "    artist_id = artist[0]\n",
    "    artist_name = artist[1]\n",
    "    elements.append(f'<option value=\"{artist_id}\">{artist_name}</option>')"
   ]
  },
  {
   "cell_type": "code",
   "execution_count": 16,
   "metadata": {},
   "outputs": [
    {
     "data": {
      "text/plain": [
       "pandas.core.series.Series"
      ]
     },
     "execution_count": 16,
     "metadata": {},
     "output_type": "execute_result"
    }
   ],
   "source": [
    "type(list(artists.head().iterrows())[0][1])"
   ]
  },
  {
   "cell_type": "code",
   "execution_count": 17,
   "metadata": {},
   "outputs": [
    {
     "data": {
      "text/plain": [
       "['<option value=\"20\">Fred Wesley</option>',\n",
       " '<option value=\"21\">The Temptations</option>',\n",
       " '<option value=\"22\">Sly & the Family Stone</option>',\n",
       " '<option value=\"23\">Delegation</option>',\n",
       " '<option value=\"24\">Dalida</option>']"
      ]
     },
     "execution_count": 17,
     "metadata": {},
     "output_type": "execute_result"
    }
   ],
   "source": [
    "elements"
   ]
  },
  {
   "cell_type": "code",
   "execution_count": 18,
   "metadata": {},
   "outputs": [
    {
     "name": "stdout",
     "output_type": "stream",
     "text": [
      "    <option value=\"20\">Fred Wesley</option>\n",
      "    <option value=\"21\">The Temptations</option>\n",
      "    <option value=\"22\">Sly & the Family Stone</option>\n",
      "    <option value=\"23\">Delegation</option>\n",
      "    <option value=\"24\">Dalida</option>\n"
     ]
    }
   ],
   "source": [
    "print('    ' + '\\n    '.join(elements))"
   ]
  },
  {
   "cell_type": "code",
   "execution_count": 19,
   "metadata": {},
   "outputs": [
    {
     "data": {
      "text/plain": [
       "'<option value=\"24\">Dalida</option>'"
      ]
     },
     "execution_count": 19,
     "metadata": {},
     "output_type": "execute_result"
    }
   ],
   "source": [
    "f'<option value=\"{artist_id}\">{artist_name}</option>'"
   ]
  },
  {
   "cell_type": "code",
   "execution_count": 33,
   "metadata": {},
   "outputs": [
    {
     "name": "stdout",
     "output_type": "stream",
     "text": [
      "<table border=\"1\" class=\"dataframe\">\n",
      "  <thead>\n",
      "    <tr style=\"text-align: right;\">\n",
      "      <th></th>\n",
      "      <th>name</th>\n",
      "    </tr>\n",
      "    <tr>\n",
      "      <th>id</th>\n",
      "      <th></th>\n",
      "    </tr>\n",
      "  </thead>\n",
      "  <tbody>\n",
      "    <tr>\n",
      "      <th>1</th>\n",
      "      <td>James Brown</td>\n",
      "    </tr>\n",
      "  </tbody>\n",
      "</table>\n"
     ]
    },
    {
     "name": "stderr",
     "output_type": "stream",
     "text": [
      "[autoreload of web_functions failed: Traceback (most recent call last):\n",
      "  File \"/anaconda3/lib/python3.6/site-packages/IPython/extensions/autoreload.py\", line 246, in check\n",
      "    superreload(m, reload, self.old_objects)\n",
      "  File \"/anaconda3/lib/python3.6/site-packages/IPython/extensions/autoreload.py\", line 369, in superreload\n",
      "    module = reload(module)\n",
      "  File \"/anaconda3/lib/python3.6/imp.py\", line 315, in reload\n",
      "    return importlib.reload(module)\n",
      "  File \"/anaconda3/lib/python3.6/importlib/__init__.py\", line 166, in reload\n",
      "    _bootstrap._exec(spec, module)\n",
      "  File \"<frozen importlib._bootstrap>\", line 618, in _exec\n",
      "  File \"<frozen importlib._bootstrap_external>\", line 674, in exec_module\n",
      "  File \"<frozen importlib._bootstrap_external>\", line 781, in get_code\n",
      "  File \"<frozen importlib._bootstrap_external>\", line 741, in source_to_code\n",
      "  File \"<frozen importlib._bootstrap>\", line 219, in _call_with_frames_removed\n",
      "  File \"/Users/brettashley/galvanize/dsi/00-Capstone/mix-maker/mixmaker/web_functions.py\", line 36\n",
      "    songs_df = self.db.get_song_and_artist_names(artist_id=artist_id))\n",
      "                                                                     ^\n",
      "SyntaxError: invalid syntax\n",
      "]\n"
     ]
    }
   ],
   "source": [
    "print(artists.head(1).to_html())"
   ]
  },
  {
   "cell_type": "code",
   "execution_count": 21,
   "metadata": {},
   "outputs": [
    {
     "name": "stdout",
     "output_type": "stream",
     "text": [
      "<select name=\"artists\" size=\"3\">\n",
      "    <option value=\"20\">Fred Wesley</option>\n",
      "    <option value=\"21\">The Temptations</option>\n",
      "    <option value=\"22\">Sly & the Family Stone</option>\n",
      "    <option value=\"23\">Delegation</option>\n",
      "    <option value=\"24\">Dalida</option>\n",
      "</select>\n"
     ]
    }
   ],
   "source": [
    "print('<select name=\"artists\" size=\"3\">\\n' \n",
    "                + '    '\n",
    "                + '\\n    '.join(elements)\n",
    "                + '\\n</select>')"
   ]
  },
  {
   "cell_type": "code",
   "execution_count": 24,
   "metadata": {},
   "outputs": [
    {
     "name": "stdout",
     "output_type": "stream",
     "text": [
      "<select name=\"artists\" size=\"3\">\n",
      "    <option value=\"20\">Fred Wesley</option>\n",
      "    <option value=\"21\">The Temptations</option>\n",
      "    <option value=\"22\">Sly & the Family Stone</option>\n",
      "    <option value=\"23\">Delegation</option>\n",
      "    <option value=\"24\">Dalida</option>\n",
      "    <option value=\"26\">Apink</option>\n",
      "    <option value=\"27\">Tyler, the Creator</option>\n",
      "    <option value=\"30\">Teyana Taylor</option>\n",
      "    <option value=\"31\">1995</option>\n",
      "    <option value=\"32\">Candy Fresh</option>\n",
      "</select>\n"
     ]
    }
   ],
   "source": [
    "print(wfh.get_artist_selections(10))"
   ]
  },
  {
   "cell_type": "code",
   "execution_count": 30,
   "metadata": {},
   "outputs": [
    {
     "name": "stderr",
     "output_type": "stream",
     "text": [
      "[autoreload of web_functions failed: Traceback (most recent call last):\n",
      "  File \"/anaconda3/lib/python3.6/site-packages/IPython/extensions/autoreload.py\", line 246, in check\n",
      "    superreload(m, reload, self.old_objects)\n",
      "  File \"/anaconda3/lib/python3.6/site-packages/IPython/extensions/autoreload.py\", line 369, in superreload\n",
      "    module = reload(module)\n",
      "  File \"/anaconda3/lib/python3.6/imp.py\", line 315, in reload\n",
      "    return importlib.reload(module)\n",
      "  File \"/anaconda3/lib/python3.6/importlib/__init__.py\", line 166, in reload\n",
      "    _bootstrap._exec(spec, module)\n",
      "  File \"<frozen importlib._bootstrap>\", line 618, in _exec\n",
      "  File \"<frozen importlib._bootstrap_external>\", line 678, in exec_module\n",
      "  File \"<frozen importlib._bootstrap>\", line 219, in _call_with_frames_removed\n",
      "  File \"/Users/brettashley/galvanize/dsi/00-Capstone/mix-maker/mixmaker/web_functions.py\", line 4, in <module>\n",
      "    from .database_interaction import DatabaseInteraction\n",
      "ImportError: attempted relative import with no known parent package\n",
      "]\n"
     ]
    }
   ],
   "source": [
    "artists = artists.sort_values('id').set_index('id')"
   ]
  },
  {
   "cell_type": "code",
   "execution_count": 32,
   "metadata": {},
   "outputs": [
    {
     "name": "stdout",
     "output_type": "stream",
     "text": [
      "James Brown\n",
      "Traditional Folk\n",
      "Kool & the Gang\n",
      "Funkadelic\n",
      "The Beatles\n"
     ]
    }
   ],
   "source": [
    "for i, artist in artists.head().iterrows():\n",
    "    print(artist[0])"
   ]
  },
  {
   "cell_type": "code",
   "execution_count": 51,
   "metadata": {},
   "outputs": [
    {
     "name": "stdout",
     "output_type": "stream",
     "text": [
      "<select name=\"songs\" size=\"5\">\n",
      "    <option value=\"5042\">Funky Drummer (Listen to the Muro Mix)</option>\n",
      "    <option value=\"60\">In the Middle</option>\n",
      "    <option value=\"29276\">Brother Rapp/Ain't It Funky Now (Live)</option>\n",
      "    <option value=\"4\">My Thang</option>\n",
      "    <option value=\"5\">Don't Tell a Lie About Me and I Won't Tell the Truth on You</option>\n",
      "    <option value=\"63\">Just Won't Do Right</option>\n",
      "    <option value=\"109\">Get Up Offa That Thing (Ali Dee Remix)</option>\n",
      "    <option value=\"188\">Georgia on My Mind</option>\n",
      "    <option value=\"190\">Lost Someone - Live at the Apollo Theater/1962</option>\n",
      "    <option value=\"234\">Need Your Love So Bad</option>\n",
      "    <option value=\"240\">Let's Make Christmas Mean Something This Year (Parts 1 & 2)</option>\n",
      "    <option value=\"267\">These Foolish Things</option>\n",
      "    <option value=\"1439\">She's the One (Funky Drummer Remix)</option>\n",
      "    <option value=\"3445\">Hot Pants (She Got to Use What She Got to Get What She Wants) (Live)</option>\n",
      "    <option value=\"5214\">I Got a Good Thing (And I Ain't Gonna Let It Go)</option>\n",
      "    <option value=\"511\">Payback (The Final Mixdown)</option>\n",
      "    <option value=\"2\">Funky President (People It's Bad)</option>\n",
      "    <option value=\"3\">Funky Drummer</option>\n",
      "    <option value=\"61\">Give It Up or Turnit a Loose</option>\n",
      "    <option value=\"115\">There Was a Time</option>\n",
      "    <option value=\"169\">You're Still Out of Sight</option>\n",
      "    <option value=\"5923\">Funky Drummer (Bonus Beat Reprise)</option>\n",
      "    <option value=\"6240\">Give It Up or Turnit a Loose (Remix)</option>\n",
      "    <option value=\"28\">Take Some...Leave Some</option>\n",
      "    <option value=\"30\">Escape-Ism</option>\n",
      "    <option value=\"31\">Think 73'</option>\n",
      "    <option value=\"33\">The Spank</option>\n",
      "    <option value=\"34\">Night Train</option>\n",
      "    <option value=\"35\">Bring It Up (Hipster's Avenue)</option>\n",
      "    <option value=\"37\">Cold Sweat</option>\n",
      "    <option value=\"38\">I Got You (I Feel Good)</option>\n",
      "    <option value=\"39\">Godfather Runnin' the Joint</option>\n",
      "    <option value=\"40\">I Got Ants in My Pants</option>\n",
      "    <option value=\"41\">Super Bad</option>\n",
      "    <option value=\"27\">Get Up, Get Into It, Get Involved</option>\n",
      "    <option value=\"44\">Talkin' Loud & Sayin' Nothing</option>\n",
      "    <option value=\"45\">There It Is</option>\n",
      "    <option value=\"47\">Please, Please, Please</option>\n",
      "    <option value=\"48\">Don't Tell It</option>\n",
      "    <option value=\"50\">Chase</option>\n",
      "    <option value=\"51\">Mother Popcorn</option>\n",
      "    <option value=\"53\">Never Can Say Goodbye</option>\n",
      "    <option value=\"54\">All for One</option>\n",
      "    <option value=\"55\">Tighten Up</option>\n",
      "    <option value=\"58\">White Lightning (I Mean Moonshine)</option>\n",
      "    <option value=\"62\">Down and Out in New York City</option>\n",
      "    <option value=\"66\">It's a New Day</option>\n",
      "    <option value=\"67\">Something</option>\n",
      "    <option value=\"68\">Give It Up or Turnit a Loose (Remix)</option>\n",
      "    <option value=\"69\">Superbad, Superslick</option>\n",
      "    <option value=\"70\">The Popcorn</option>\n",
      "    <option value=\"72\">Baby, Here I Come</option>\n",
      "    <option value=\"74\">Can I Get Some Help</option>\n",
      "    <option value=\"75\">Nose Job</option>\n",
      "    <option value=\"77\">Static</option>\n",
      "    <option value=\"78\">Shout and Shimmy</option>\n",
      "    <option value=\"79\">Sex Machine (Fantastic Sex Machine Mix)</option>\n",
      "    <option value=\"81\">She Looks All Types A' Good</option>\n",
      "    <option value=\"82\">Funky Drummer (Listen to the Muro Mix)</option>\n",
      "    <option value=\"84\">I'm Shook</option>\n",
      "    <option value=\"86\">Popcorn With a Feeling</option>\n",
      "    <option value=\"87\">The Chicken</option>\n",
      "    <option value=\"90\">Introduction</option>\n",
      "    <option value=\"91\">Sho Is Funky Down Here</option>\n",
      "    <option value=\"93\">I've Got Money</option>\n",
      "    <option value=\"94\">Make It Good to Yourself</option>\n",
      "    <option value=\"95\">Lowdown Popcorn</option>\n",
      "    <option value=\"98\">Your Love</option>\n",
      "    <option value=\"99\">Sportin' Life</option>\n",
      "    <option value=\"100\">Sex Machine (Live at Studio 54)</option>\n",
      "    <option value=\"101\">You Got to Have a Mother for Me</option>\n",
      "    <option value=\"103\">That's Life</option>\n",
      "    <option value=\"104\">Slaughter's Theme</option>\n",
      "    <option value=\"105\">Public Enemy No. 1</option>\n",
      "    <option value=\"110\">Love Me Tender</option>\n",
      "    <option value=\"112\">You Mother You</option>\n",
      "    <option value=\"113\">I Got the Feelin'</option>\n",
      "    <option value=\"117\">I Cried</option>\n",
      "    <option value=\"118\">No Static (The 8 Minute Full Force Def Mix)</option>\n",
      "    <option value=\"119\">I Need Help (I Can't Do It Alone)</option>\n",
      "    <option value=\"121\">Payback (The Final Mixdown)</option>\n",
      "    <option value=\"122\">Funky Broadway</option>\n",
      "    <option value=\"123\">Soul Power (Live)</option>\n",
      "    <option value=\"125\">Bodyheat</option>\n",
      "    <option value=\"128\">Goliath</option>\n",
      "    <option value=\"130\">Transmograpfication</option>\n",
      "    <option value=\"131\">Woman</option>\n",
      "    <option value=\"133\">Give It Up or Turnit a Loose (Instrumental Version)</option>\n",
      "    <option value=\"135\">Problems</option>\n",
      "    <option value=\"136\">Any Day Now</option>\n",
      "    <option value=\"137\">Sometime</option>\n",
      "    <option value=\"138\">Living in America</option>\n",
      "    <option value=\"140\">Try Me</option>\n",
      "    <option value=\"141\">I Feel Alright</option>\n",
      "    <option value=\"142\">Why Am I Treated So Bad</option>\n",
      "    <option value=\"143\">Brother Rapp/Ain't It Funky Now (Live)</option>\n",
      "    <option value=\"144\">The Bells</option>\n",
      "    <option value=\"145\">Kiss in 77</option>\n",
      "    <option value=\"146\">Get Up, Get Into It, Get Involved (Live)</option>\n",
      "    <option value=\"149\">Who Can I Turn To</option>\n",
      "    <option value=\"150\">Summertime</option>\n",
      "    <option value=\"151\">Out of Sight</option>\n",
      "    <option value=\"152\">Cold Sweat (Live)</option>\n",
      "    <option value=\"153\">40th Anniversary Mix</option>\n",
      "    <option value=\"154\">Bewildered</option>\n",
      "    <option value=\"155\">Don't Fence Me In</option>\n",
      "    <option value=\"157\">Nature Boy</option>\n",
      "    <option value=\"158\">Shoot Your Shot</option>\n",
      "    <option value=\"160\">The Chase</option>\n",
      "    <option value=\"161\">I Guess I'll Have to Cry, Cry, Cry</option>\n",
      "    <option value=\"162\">I Can't Stand Myself (When You Touch Me)</option>\n",
      "    <option value=\"163\">Get on the Good Foot (Mr. Drunk Remix)</option>\n",
      "    <option value=\"165\">I'm Satisfied</option>\n",
      "    <option value=\"166\">Tell Me That You Love Me</option>\n",
      "    <option value=\"167\">I've Got to Change</option>\n",
      "    <option value=\"174\">Time Is Running Out Fast</option>\n",
      "    <option value=\"175\">Get Up Offa That Thing (Splats & Star Mix)</option>\n",
      "    <option value=\"176\">I'm Real</option>\n",
      "    <option value=\"177\">If I Ruled the World</option>\n",
      "    <option value=\"178\">It's Too Funky in Here</option>\n",
      "    <option value=\"179\">Jimmy Go Boom</option>\n",
      "    <option value=\"185\">She's the One</option>\n",
      "    <option value=\"251\">Funk on Ah Roll (Ruff Driverz Tungsten Tip Mix)</option>\n",
      "    <option value=\"252\">It Had to Be You</option>\n",
      "    <option value=\"253\">I Wanna Be Around</option>\n",
      "    <option value=\"254\">Waiting in Vain</option>\n",
      "    <option value=\"256\">Our Day Will Come</option>\n",
      "    <option value=\"257\">For Once in My Life</option>\n",
      "    <option value=\"258\">By the Time I Get to Phoenix</option>\n",
      "    <option value=\"259\">James Brown's Boo-Ga-Loo</option>\n",
      "    <option value=\"260\">James Brown & His Fans at the Boston Garden (Live)</option>\n",
      "    <option value=\"261\">Kansas City</option>\n",
      "    <option value=\"262\">Have Mercy Baby</option>\n",
      "    <option value=\"264\">Funk on Ah Roll (Rhythm Masters Mix)</option>\n",
      "    <option value=\"265\">Funk on Ah Roll (Olav Basoski Mix)</option>\n",
      "    <option value=\"266\">For You My Love</option>\n",
      "    <option value=\"268\">Let It Be Me</option>\n",
      "    <option value=\"269\">Somebody Changed the Lock on My Door</option>\n",
      "    <option value=\"271\">Can't Get Any Harder (C&C / Leaders of the New School Mix)</option>\n",
      "    <option value=\"5103\">No Static (The 8 Minute Full Force Def Mix)</option>\n",
      "    <option value=\"5169\">Superbad, Superslick</option>\n",
      "    <option value=\"6106\">Soul Power (Live)</option>\n",
      "    <option value=\"6139\">Static (Full Force Remix)</option>\n",
      "    <option value=\"6202\">Talkin' Loud & Sayin' Nothing (Pt 1 & 2)</option>\n",
      "    <option value=\"6204\">Mother Popcorn (Live)</option>\n",
      "    <option value=\"6213\">Get Up (I Feel Like Being A) Sex Machine</option>\n",
      "    <option value=\"2878\">Unchained (The Payback/Untouchable)</option>\n",
      "    <option value=\"6241\">I Don't Want Nobody to Give Me Nothing (Open Up the Door I'll Get It Myself)</option>\n",
      "    <option value=\"5139\">(Get Up I Feel LIke Being Like A) Sex Machine (Live)</option>\n",
      "    <option value=\"85\">Oh Baby Don't You Weep (Part 1)</option>\n",
      "    <option value=\"111\">James Brown Interview</option>\n",
      "    <option value=\"120\">Sex Machine (Readymade Jazz Defector)</option>\n",
      "    <option value=\"124\">Make It Funky (Live)</option>\n",
      "    <option value=\"134\">The Payback Mix (Keep on Doing What You're Doing but Make It Funky)</option>\n",
      "    <option value=\"148\">Hot Pants (She Got to Use What She Got to Get What She Wants) (Live)</option>\n",
      "    <option value=\"159\">Papa's Got a Brand New Bag (1975 Version)</option>\n",
      "    <option value=\"164\">Sunny (Funk Master J.B vs. Funk Master J.S Hardboiled Remix)</option>\n",
      "    <option value=\"180\">The Night Time Is the Right Time</option>\n",
      "    <option value=\"255\">Can't Get Any Harder (Universal Hip Hop Mix)</option>\n",
      "    <option value=\"263\">Good Rockin' Tonight</option>\n",
      "    <option value=\"270\">Can't Get Any Harder (Clivilles & Cole House of Soul Mix)</option>\n",
      "    <option value=\"96\">Turn on the Heat and Build Some Fire</option>\n",
      "    <option value=\"102\">Talkin' Loud & Sayin' Nothing (Pt 1 & 2)</option>\n",
      "    <option value=\"6\">The Payback</option>\n",
      "    <option value=\"8\">Licking Stick - Licking Stick</option>\n",
      "    <option value=\"9\">Introduction to Star Time!</option>\n",
      "    <option value=\"10\">Funky Drummer (Bonus Beat Reprise)</option>\n",
      "    <option value=\"11\">Blind Man Can See It</option>\n",
      "    <option value=\"12\">The Boss</option>\n",
      "    <option value=\"13\">I'm a Greedy Man</option>\n",
      "    <option value=\"14\">Coldblooded</option>\n",
      "    <option value=\"15\">Blues and Pants</option>\n",
      "    <option value=\"16\">Mind Power</option>\n",
      "    <option value=\"17\">Sunny</option>\n",
      "    <option value=\"19\">Make It Funky</option>\n",
      "    <option value=\"20\">Just Enough Room for Storage</option>\n",
      "    <option value=\"21\">King Heroin</option>\n",
      "    <option value=\"22\">It's a Man's Man's Man's World</option>\n",
      "    <option value=\"25\">Soul Pride</option>\n",
      "    <option value=\"52\">Soul Power</option>\n",
      "    <option value=\"2569\">The Payback Mix (Keep on Doing What You're Doing but Make It Funky)</option>\n",
      "    <option value=\"5385\">Say It Loud, I'm Black and I'm Proud</option>\n",
      "    <option value=\"114\">Introduction to Say It Loud - I'm Black and I'm Proud (Live)</option>\n",
      "    <option value=\"5944\">I Got You (I Feel Good)</option>\n",
      "    <option value=\"6004\">Get Up, Get Into It, Get Involved</option>\n",
      "    <option value=\"6122\">Funky President (People It's Bad)</option>\n",
      "    <option value=\"126\">Ain't That a Groove (Part 1)</option>\n",
      "    <option value=\"18040\">Introduction to Star Time!</option>\n",
      "    <option value=\"57\">Papa's Got a Brand New Bag</option>\n",
      "    <option value=\"65\">Untitled Instrumental</option>\n",
      "    <option value=\"71\">People Get Up and Drive Your Funky Soul</option>\n",
      "    <option value=\"18\">People Get Up and Drive Your Funky Soul (Remix)</option>\n",
      "    <option value=\"26\">Can Mind</option>\n",
      "    <option value=\"36\">Hot (I Need to Be Loved, Loved, Loved, Loved)</option>\n",
      "    <option value=\"64\">Mama's Dead</option>\n",
      "    <option value=\"7\">Say It Loud, I'm Black and I'm Proud</option>\n",
      "    <option value=\"29\">It's a New Day So Let a Man Come in and Do the Popcorn</option>\n",
      "    <option value=\"1\">Get Up Offa That Thing</option>\n",
      "    <option value=\"23\">Papa Don't Take No Mess</option>\n",
      "    <option value=\"24\">Get on the Good Foot</option>\n",
      "    <option value=\"32\">Get Up (I Feel Like Being A) Sex Machine</option>\n",
      "    <option value=\"42\">Stone to the Bone</option>\n",
      "    <option value=\"43\">Ain't It Funky Now</option>\n",
      "    <option value=\"49\">Unchained (The Payback/Untouchable)</option>\n",
      "    <option value=\"56\">Hot Pants Pt. 1 (She Got to Use What She Got to Get What She Wants)</option>\n",
      "    <option value=\"59\">I Got to Move</option>\n",
      "    <option value=\"73\">I Don't Want Nobody to Give Me Nothing (Open Up the Door I'll Get It Myself)</option>\n",
      "    <option value=\"76\">She's the One (Funky Drummer Remix)</option>\n",
      "    <option value=\"80\">(Get Up I Feel LIke Being Like A) Sex Machine (Live)</option>\n",
      "    <option value=\"97\">When a Man Loves a Woman</option>\n",
      "    <option value=\"107\">For Goodness Sake, Look at Those Cakes</option>\n",
      "    <option value=\"108\">I'm Broken Hearted</option>\n",
      "    <option value=\"116\">I Don't Care</option>\n",
      "    <option value=\"127\">Hot Pants (She Got to Use What She Got to Get What She Wants)</option>\n",
      "    <option value=\"129\">I Can't Stand It</option>\n",
      "    <option value=\"132\">A Man Has to Go Back to the Cross Road Before He Finds Himself</option>\n",
      "    <option value=\"147\">Turn Me Loose, I'm Dr. Feelgood</option>\n",
      "    <option value=\"156\">It's a Man's, Man's, Man's World (Live)</option>\n",
      "    <option value=\"168\">Let Yourself Go</option>\n",
      "    <option value=\"170\">Sex Machine Part I and Part II</option>\n",
      "    <option value=\"171\">Brother Rapp</option>\n",
      "    <option value=\"172\">Get It Together (Part 1)</option>\n",
      "    <option value=\"173\">Can't Get Any Harder</option>\n",
      "    <option value=\"181\">Soul Power (Jungle Funk Mix)</option>\n",
      "    <option value=\"182\">The Soul of J.B.</option>\n",
      "    <option value=\"184\">Call Me Super Bad (Cornelius Re-Work)</option>\n",
      "    <option value=\"186\">Money Won't Change You</option>\n",
      "    <option value=\"187\">Song for My Father</option>\n",
      "    <option value=\"189\">Think</option>\n",
      "    <option value=\"191\">You're My Only Love</option>\n",
      "    <option value=\"192\">World (Part 1 & 2)</option>\n",
      "    <option value=\"193\">The Drunk</option>\n",
      "    <option value=\"194\">Hustle!!! (Dead on It)</option>\n",
      "    <option value=\"195\">Give It Up or Turnit a Loose (Fantasista Re-Formation)</option>\n",
      "    <option value=\"196\">I Got a Good Thing (And I Ain't Gonna Let It Go)</option>\n",
      "    <option value=\"197\">Prisoner of Love</option>\n",
      "    <option value=\"198\">I Don't Mind</option>\n",
      "    <option value=\"199\">There It Is (Live)</option>\n",
      "    <option value=\"200\">I Never Loved a Man the Way I Love You</option>\n",
      "    <option value=\"201\">Make It Funky 2000</option>\n",
      "    <option value=\"202\">Mashed Potato Popcorn</option>\n",
      "    <option value=\"203\">Spinning Wheel</option>\n",
      "    <option value=\"204\">Escape-Ism (Live)</option>\n",
      "    <option value=\"205\">There Was a Time (Kenny Dope Remix)</option>\n",
      "    <option value=\"206\">Vonshelia</option>\n",
      "    <option value=\"207\">How Do You Stop</option>\n",
      "    <option value=\"208\">Can't Git Enuf</option>\n",
      "    <option value=\"209\">Dead on It</option>\n",
      "    <option value=\"210\">Superbad, Superslick Part I</option>\n",
      "    <option value=\"211\">It's Magic</option>\n",
      "    <option value=\"212\">Lost Someone</option>\n",
      "    <option value=\"213\">Sayin' It and Doin' It</option>\n",
      "    <option value=\"214\">Christmas Is Coming</option>\n",
      "    <option value=\"215\">Love Don't Love Nobody</option>\n",
      "    <option value=\"216\">Deep in It</option>\n",
      "    <option value=\"217\">Deep in It (Lost and Found, at Last Mix)</option>\n",
      "    <option value=\"219\">September Song</option>\n",
      "    <option value=\"220\">There</option>\n",
      "    <option value=\"221\">Living in America (R & B Dance Version)</option>\n",
      "    <option value=\"223\">Rapp Payback (Where Iz Moses)</option>\n",
      "    <option value=\"224\">Eyesight</option>\n",
      "    <option value=\"225\">You Can't Keep a Good Man Down</option>\n",
      "    <option value=\"226\">I Feel Good</option>\n",
      "    <option value=\"227\">Strangers in the Night</option>\n",
      "    <option value=\"228\">I'll Go Crazy</option>\n",
      "    <option value=\"229\">Sleigh Ride</option>\n",
      "    <option value=\"230\">All the Way</option>\n",
      "    <option value=\"231\">Funk on Ah Roll</option>\n",
      "    <option value=\"232\">Funk on Ah Roll (Bump & Flex Mix)</option>\n",
      "    <option value=\"233\">Don't Be a Drop Out</option>\n",
      "    <option value=\"235\">Papa's Got a Brand New Bag</option>\n",
      "    <option value=\"236\">Let's Go Get Stoned</option>\n",
      "    <option value=\"237\">The Man in the Glass (Part 1)</option>\n",
      "    <option value=\"238\">Mother Popcorn (Live)</option>\n",
      "    <option value=\"239\">There Was a Time (Panic Bomber Remix)</option>\n",
      "    <option value=\"241\">Its a Man's Man's Man's World</option>\n",
      "    <option value=\"242\">Good Good Lovin'</option>\n",
      "    <option value=\"243\">Time After Time</option>\n",
      "    <option value=\"244\">Every Beat of My Heart</option>\n",
      "    <option value=\"245\">Santa Claus Go Straight to the Ghetto</option>\n",
      "    <option value=\"246\">Three Hearts in a Tangle</option>\n",
      "    <option value=\"247\">Static (Full Force Remix)</option>\n",
      "    <option value=\"249\">Hold On, I'm Comin'</option>\n",
      "    <option value=\"250\">When the Saints Go Marching In</option>\n",
      "</select>\n"
     ]
    }
   ],
   "source": [
    "print(wfh.get_selector_for_songs(1))"
   ]
  },
  {
   "cell_type": "code",
   "execution_count": 40,
   "metadata": {},
   "outputs": [],
   "source": [
    "db = database_interaction.DatabaseInteraction()"
   ]
  },
  {
   "cell_type": "code",
   "execution_count": 48,
   "metadata": {},
   "outputs": [
    {
     "data": {
      "text/plain": [
       "'James Brown'"
      ]
     },
     "execution_count": 48,
     "metadata": {},
     "output_type": "execute_result"
    }
   ],
   "source": [
    "list(db.get_song_and_artist_names(artist_id=1).head().iterrows())[0][1][1]"
   ]
  },
  {
   "cell_type": "code",
   "execution_count": 10,
   "metadata": {},
   "outputs": [
    {
     "name": "stdout",
     "output_type": "stream",
     "text": [
      "<table border=\"1\" class=\"dataframe\">\n",
      "  <thead>\n",
      "    <tr style=\"text-align: right;\">\n",
      "      <th></th>\n",
      "      <th>artist</th>\n",
      "      <th>song</th>\n",
      "    </tr>\n",
      "  </thead>\n",
      "  <tbody>\n",
      "    <tr>\n",
      "      <th>0</th>\n",
      "      <td>James Brown</td>\n",
      "      <td>Don't Tell a Lie About Me and I Won't Tell the...</td>\n",
      "    </tr>\n",
      "    <tr>\n",
      "      <th>1</th>\n",
      "      <td>James Brown</td>\n",
      "      <td>Don't Tell a Lie About Me and I Won't Tell the...</td>\n",
      "    </tr>\n",
      "  </tbody>\n",
      "</table>\n"
     ]
    }
   ],
   "source": [
    "print(wfh.get_predictions(1))"
   ]
  },
  {
   "cell_type": "code",
   "execution_count": null,
   "metadata": {},
   "outputs": [],
   "source": []
  }
 ],
 "metadata": {
  "kernelspec": {
   "display_name": "Python 3",
   "language": "python",
   "name": "python3"
  },
  "language_info": {
   "codemirror_mode": {
    "name": "ipython",
    "version": 3
   },
   "file_extension": ".py",
   "mimetype": "text/x-python",
   "name": "python",
   "nbconvert_exporter": "python",
   "pygments_lexer": "ipython3",
   "version": "3.6.4"
  }
 },
 "nbformat": 4,
 "nbformat_minor": 2
}
